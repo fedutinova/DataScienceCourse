{
 "cells": [
  {
   "cell_type": "markdown",
   "metadata": {
    "pycharm": {
     "name": "#%% md\n"
    }
   },
   "source": [
    "# Исследование объявлений о продаже квартир"
   ]
  },
  {
   "cell_type": "markdown",
   "metadata": {
    "pycharm": {
     "name": "#%% md\n"
    }
   },
   "source": [
    "## Описание проекта\n",
    "\n",
    "В вашем распоряжении данные сервиса Яндекс.Недвижимость — архив объявлений о продаже квартир в Санкт-Петербурге и соседних населённых пунктов за несколько лет. Нужно научиться определять рыночную стоимость объектов недвижимости. Ваша задача — установить параметры. Это позволит построить автоматизированную систему: она отследит аномалии и мошенническую деятельность. \n",
    "\n",
    "По каждой квартире на продажу доступны два вида данных. Первые вписаны пользователем, вторые — получены автоматически на основе картографических данных. Например, расстояние до центра, аэропорта, ближайшего парка и водоёма. "
   ]
  },
  {
   "cell_type": "markdown",
   "metadata": {
    "pycharm": {
     "name": "#%% md\n"
    }
   },
   "source": [
    "## План\n",
    "\n",
    "#### 1. Открытие файла с данными и изучение общей информации\n",
    "\n",
    "#### 2. Предобработка данных\n",
    "* Найду и изучу пропущенные значения в столбцах\n",
    "* Определю, в каких столбцах есть пропуски\n",
    "* Заполню пропущенные значения там\n",
    "* Преобразую тип данных в столбцах\n",
    "* Изучу уникальные значения в столбце с названиями и устраним неявные дубликаты.\n",
    "* Изучу аномалии и избавимся от них\n",
    "\n",
    "#### 3. Добавление  новых столбцов в таблицу\n",
    "\n",
    "#### 4. Исследовательский анализ данных:\n",
    "* Построю гистограммы\n",
    "* Изучу, как быстро продавались квартиры (посчитаем среднее и медиану)\n",
    "* Изучу, какие факторы больше всего влияют на общую (полную) стоимость объекта\n",
    "* Построю графики корреляции цены от выявленных параметров\n",
    "* Посчитаю среднюю цену одного квадратного метра в 10 населённых пунктах с наибольшим числом объявлений. Выделю населённые пункты с самой высокой и низкой стоимостью квадратного метра\n",
    "\n",
    "#### 5. Вывод"
   ]
  },
  {
   "cell_type": "markdown",
   "metadata": {
    "pycharm": {
     "name": "#%% md\n"
    }
   },
   "source": [
    "## Откройте файл с данными и изучите общую информацию. "
   ]
  },
  {
   "cell_type": "code",
   "execution_count": 1,
   "metadata": {
    "pycharm": {
     "name": "#%%\n"
    }
   },
   "outputs": [],
   "source": [
    "import pandas as pd\n",
    "import matplotlib.pyplot as plt\n",
    "import seaborn as sns"
   ]
  },
  {
   "cell_type": "code",
   "execution_count": 2,
   "metadata": {
    "pycharm": {
     "name": "#%%\n"
    }
   },
   "outputs": [],
   "source": [
    "try:\n",
    "    data = pd.read_csv('/datasets/real_estate_data.csv', sep = '\\t')\n",
    "except:\n",
    "    data = pd.read_csv('./datasets/real_estate_data.csv', sep = '\\t')"
   ]
  },
  {
   "cell_type": "code",
   "execution_count": 3,
   "metadata": {
    "pycharm": {
     "name": "#%%\n"
    }
   },
   "outputs": [],
   "source": [
    "pd.set_option('display.max_columns', 50) "
   ]
  },
  {
   "cell_type": "code",
   "execution_count": 4,
   "metadata": {
    "pycharm": {
     "name": "#%%\n"
    }
   },
   "outputs": [
    {
     "name": "stdout",
     "output_type": "stream",
     "text": [
      "<class 'pandas.core.frame.DataFrame'>\n",
      "RangeIndex: 23699 entries, 0 to 23698\n",
      "Data columns (total 22 columns):\n",
      " #   Column                Non-Null Count  Dtype  \n",
      "---  ------                --------------  -----  \n",
      " 0   total_images          23699 non-null  int64  \n",
      " 1   last_price            23699 non-null  float64\n",
      " 2   total_area            23699 non-null  float64\n",
      " 3   first_day_exposition  23699 non-null  object \n",
      " 4   rooms                 23699 non-null  int64  \n",
      " 5   ceiling_height        14504 non-null  float64\n",
      " 6   floors_total          23613 non-null  float64\n",
      " 7   living_area           21796 non-null  float64\n",
      " 8   floor                 23699 non-null  int64  \n",
      " 9   is_apartment          2775 non-null   object \n",
      " 10  studio                23699 non-null  bool   \n",
      " 11  open_plan             23699 non-null  bool   \n",
      " 12  kitchen_area          21421 non-null  float64\n",
      " 13  balcony               12180 non-null  float64\n",
      " 14  locality_name         23650 non-null  object \n",
      " 15  airports_nearest      18157 non-null  float64\n",
      " 16  cityCenters_nearest   18180 non-null  float64\n",
      " 17  parks_around3000      18181 non-null  float64\n",
      " 18  parks_nearest         8079 non-null   float64\n",
      " 19  ponds_around3000      18181 non-null  float64\n",
      " 20  ponds_nearest         9110 non-null   float64\n",
      " 21  days_exposition       20518 non-null  float64\n",
      "dtypes: bool(2), float64(14), int64(3), object(3)\n",
      "memory usage: 3.7+ MB\n"
     ]
    }
   ],
   "source": [
    "data.info()"
   ]
  },
  {
   "cell_type": "code",
   "execution_count": 5,
   "metadata": {
    "pycharm": {
     "name": "#%%\n"
    }
   },
   "outputs": [
    {
     "data": {
      "text/html": [
       "<div>\n",
       "<style scoped>\n",
       "    .dataframe tbody tr th:only-of-type {\n",
       "        vertical-align: middle;\n",
       "    }\n",
       "\n",
       "    .dataframe tbody tr th {\n",
       "        vertical-align: top;\n",
       "    }\n",
       "\n",
       "    .dataframe thead th {\n",
       "        text-align: right;\n",
       "    }\n",
       "</style>\n",
       "<table border=\"1\" class=\"dataframe\">\n",
       "  <thead>\n",
       "    <tr style=\"text-align: right;\">\n",
       "      <th></th>\n",
       "      <th>total_images</th>\n",
       "      <th>last_price</th>\n",
       "      <th>total_area</th>\n",
       "      <th>rooms</th>\n",
       "      <th>ceiling_height</th>\n",
       "      <th>floors_total</th>\n",
       "      <th>living_area</th>\n",
       "      <th>floor</th>\n",
       "      <th>kitchen_area</th>\n",
       "      <th>balcony</th>\n",
       "      <th>airports_nearest</th>\n",
       "      <th>cityCenters_nearest</th>\n",
       "      <th>parks_around3000</th>\n",
       "      <th>parks_nearest</th>\n",
       "      <th>ponds_around3000</th>\n",
       "      <th>ponds_nearest</th>\n",
       "      <th>days_exposition</th>\n",
       "    </tr>\n",
       "  </thead>\n",
       "  <tbody>\n",
       "    <tr>\n",
       "      <th>count</th>\n",
       "      <td>23699.000000</td>\n",
       "      <td>2.369900e+04</td>\n",
       "      <td>23699.000000</td>\n",
       "      <td>23699.000000</td>\n",
       "      <td>14504.000000</td>\n",
       "      <td>23613.000000</td>\n",
       "      <td>21796.000000</td>\n",
       "      <td>23699.000000</td>\n",
       "      <td>21421.000000</td>\n",
       "      <td>12180.000000</td>\n",
       "      <td>18157.000000</td>\n",
       "      <td>18180.000000</td>\n",
       "      <td>18181.000000</td>\n",
       "      <td>8079.000000</td>\n",
       "      <td>18181.000000</td>\n",
       "      <td>9110.000000</td>\n",
       "      <td>20518.000000</td>\n",
       "    </tr>\n",
       "    <tr>\n",
       "      <th>mean</th>\n",
       "      <td>9.858475</td>\n",
       "      <td>6.541549e+06</td>\n",
       "      <td>60.348651</td>\n",
       "      <td>2.070636</td>\n",
       "      <td>2.771499</td>\n",
       "      <td>10.673824</td>\n",
       "      <td>34.457852</td>\n",
       "      <td>5.892358</td>\n",
       "      <td>10.569807</td>\n",
       "      <td>1.150082</td>\n",
       "      <td>28793.672193</td>\n",
       "      <td>14191.277833</td>\n",
       "      <td>0.611408</td>\n",
       "      <td>490.804555</td>\n",
       "      <td>0.770255</td>\n",
       "      <td>517.980900</td>\n",
       "      <td>180.888634</td>\n",
       "    </tr>\n",
       "    <tr>\n",
       "      <th>std</th>\n",
       "      <td>5.682529</td>\n",
       "      <td>1.088701e+07</td>\n",
       "      <td>35.654083</td>\n",
       "      <td>1.078405</td>\n",
       "      <td>1.261056</td>\n",
       "      <td>6.597173</td>\n",
       "      <td>22.030445</td>\n",
       "      <td>4.885249</td>\n",
       "      <td>5.905438</td>\n",
       "      <td>1.071300</td>\n",
       "      <td>12630.880622</td>\n",
       "      <td>8608.386210</td>\n",
       "      <td>0.802074</td>\n",
       "      <td>342.317995</td>\n",
       "      <td>0.938346</td>\n",
       "      <td>277.720643</td>\n",
       "      <td>219.727988</td>\n",
       "    </tr>\n",
       "    <tr>\n",
       "      <th>min</th>\n",
       "      <td>0.000000</td>\n",
       "      <td>1.219000e+04</td>\n",
       "      <td>12.000000</td>\n",
       "      <td>0.000000</td>\n",
       "      <td>1.000000</td>\n",
       "      <td>1.000000</td>\n",
       "      <td>2.000000</td>\n",
       "      <td>1.000000</td>\n",
       "      <td>1.300000</td>\n",
       "      <td>0.000000</td>\n",
       "      <td>0.000000</td>\n",
       "      <td>181.000000</td>\n",
       "      <td>0.000000</td>\n",
       "      <td>1.000000</td>\n",
       "      <td>0.000000</td>\n",
       "      <td>13.000000</td>\n",
       "      <td>1.000000</td>\n",
       "    </tr>\n",
       "    <tr>\n",
       "      <th>25%</th>\n",
       "      <td>6.000000</td>\n",
       "      <td>3.400000e+06</td>\n",
       "      <td>40.000000</td>\n",
       "      <td>1.000000</td>\n",
       "      <td>2.520000</td>\n",
       "      <td>5.000000</td>\n",
       "      <td>18.600000</td>\n",
       "      <td>2.000000</td>\n",
       "      <td>7.000000</td>\n",
       "      <td>0.000000</td>\n",
       "      <td>18585.000000</td>\n",
       "      <td>9238.000000</td>\n",
       "      <td>0.000000</td>\n",
       "      <td>288.000000</td>\n",
       "      <td>0.000000</td>\n",
       "      <td>294.000000</td>\n",
       "      <td>45.000000</td>\n",
       "    </tr>\n",
       "    <tr>\n",
       "      <th>50%</th>\n",
       "      <td>9.000000</td>\n",
       "      <td>4.650000e+06</td>\n",
       "      <td>52.000000</td>\n",
       "      <td>2.000000</td>\n",
       "      <td>2.650000</td>\n",
       "      <td>9.000000</td>\n",
       "      <td>30.000000</td>\n",
       "      <td>4.000000</td>\n",
       "      <td>9.100000</td>\n",
       "      <td>1.000000</td>\n",
       "      <td>26726.000000</td>\n",
       "      <td>13098.500000</td>\n",
       "      <td>0.000000</td>\n",
       "      <td>455.000000</td>\n",
       "      <td>1.000000</td>\n",
       "      <td>502.000000</td>\n",
       "      <td>95.000000</td>\n",
       "    </tr>\n",
       "    <tr>\n",
       "      <th>75%</th>\n",
       "      <td>14.000000</td>\n",
       "      <td>6.800000e+06</td>\n",
       "      <td>69.900000</td>\n",
       "      <td>3.000000</td>\n",
       "      <td>2.800000</td>\n",
       "      <td>16.000000</td>\n",
       "      <td>42.300000</td>\n",
       "      <td>8.000000</td>\n",
       "      <td>12.000000</td>\n",
       "      <td>2.000000</td>\n",
       "      <td>37273.000000</td>\n",
       "      <td>16293.000000</td>\n",
       "      <td>1.000000</td>\n",
       "      <td>612.000000</td>\n",
       "      <td>1.000000</td>\n",
       "      <td>729.000000</td>\n",
       "      <td>232.000000</td>\n",
       "    </tr>\n",
       "    <tr>\n",
       "      <th>max</th>\n",
       "      <td>50.000000</td>\n",
       "      <td>7.630000e+08</td>\n",
       "      <td>900.000000</td>\n",
       "      <td>19.000000</td>\n",
       "      <td>100.000000</td>\n",
       "      <td>60.000000</td>\n",
       "      <td>409.700000</td>\n",
       "      <td>33.000000</td>\n",
       "      <td>112.000000</td>\n",
       "      <td>5.000000</td>\n",
       "      <td>84869.000000</td>\n",
       "      <td>65968.000000</td>\n",
       "      <td>3.000000</td>\n",
       "      <td>3190.000000</td>\n",
       "      <td>3.000000</td>\n",
       "      <td>1344.000000</td>\n",
       "      <td>1580.000000</td>\n",
       "    </tr>\n",
       "  </tbody>\n",
       "</table>\n",
       "</div>"
      ],
      "text/plain": [
       "       total_images    last_price    total_area         rooms  ceiling_height  \\\n",
       "count  23699.000000  2.369900e+04  23699.000000  23699.000000    14504.000000   \n",
       "mean       9.858475  6.541549e+06     60.348651      2.070636        2.771499   \n",
       "std        5.682529  1.088701e+07     35.654083      1.078405        1.261056   \n",
       "min        0.000000  1.219000e+04     12.000000      0.000000        1.000000   \n",
       "25%        6.000000  3.400000e+06     40.000000      1.000000        2.520000   \n",
       "50%        9.000000  4.650000e+06     52.000000      2.000000        2.650000   \n",
       "75%       14.000000  6.800000e+06     69.900000      3.000000        2.800000   \n",
       "max       50.000000  7.630000e+08    900.000000     19.000000      100.000000   \n",
       "\n",
       "       floors_total   living_area         floor  kitchen_area       balcony  \\\n",
       "count  23613.000000  21796.000000  23699.000000  21421.000000  12180.000000   \n",
       "mean      10.673824     34.457852      5.892358     10.569807      1.150082   \n",
       "std        6.597173     22.030445      4.885249      5.905438      1.071300   \n",
       "min        1.000000      2.000000      1.000000      1.300000      0.000000   \n",
       "25%        5.000000     18.600000      2.000000      7.000000      0.000000   \n",
       "50%        9.000000     30.000000      4.000000      9.100000      1.000000   \n",
       "75%       16.000000     42.300000      8.000000     12.000000      2.000000   \n",
       "max       60.000000    409.700000     33.000000    112.000000      5.000000   \n",
       "\n",
       "       airports_nearest  cityCenters_nearest  parks_around3000  parks_nearest  \\\n",
       "count      18157.000000         18180.000000      18181.000000    8079.000000   \n",
       "mean       28793.672193         14191.277833          0.611408     490.804555   \n",
       "std        12630.880622          8608.386210          0.802074     342.317995   \n",
       "min            0.000000           181.000000          0.000000       1.000000   \n",
       "25%        18585.000000          9238.000000          0.000000     288.000000   \n",
       "50%        26726.000000         13098.500000          0.000000     455.000000   \n",
       "75%        37273.000000         16293.000000          1.000000     612.000000   \n",
       "max        84869.000000         65968.000000          3.000000    3190.000000   \n",
       "\n",
       "       ponds_around3000  ponds_nearest  days_exposition  \n",
       "count      18181.000000    9110.000000     20518.000000  \n",
       "mean           0.770255     517.980900       180.888634  \n",
       "std            0.938346     277.720643       219.727988  \n",
       "min            0.000000      13.000000         1.000000  \n",
       "25%            0.000000     294.000000        45.000000  \n",
       "50%            1.000000     502.000000        95.000000  \n",
       "75%            1.000000     729.000000       232.000000  \n",
       "max            3.000000    1344.000000      1580.000000  "
      ]
     },
     "execution_count": 5,
     "metadata": {},
     "output_type": "execute_result"
    }
   ],
   "source": [
    "data.describe()"
   ]
  },
  {
   "cell_type": "code",
   "execution_count": 6,
   "metadata": {
    "pycharm": {
     "name": "#%%\n"
    }
   },
   "outputs": [
    {
     "data": {
      "text/plain": [
       "0"
      ]
     },
     "execution_count": 6,
     "metadata": {},
     "output_type": "execute_result"
    }
   ],
   "source": [
    "data.duplicated().sum() #проверим наличие дубликатов"
   ]
  },
  {
   "cell_type": "markdown",
   "metadata": {
    "pycharm": {
     "name": "#%% md\n"
    }
   },
   "source": [
    "В данных присутствуют многочисленные пропуски, их будем заполнять на следующем этапе. Дубликатов нет. Есть аномалии в данных по количеству комнат: где то стоит 0, и стоит проверить квартиру с максимальным количеством-19. Также, есть аномалии в данных, отражающих высоту потолков(100 м). Тип данных необходимо поменять на int"
   ]
  },
  {
   "cell_type": "markdown",
   "metadata": {
    "pycharm": {
     "name": "#%% md\n"
    }
   },
   "source": [
    "## Предобработка данных"
   ]
  },
  {
   "cell_type": "code",
   "execution_count": 7,
   "metadata": {
    "pycharm": {
     "name": "#%%\n"
    }
   },
   "outputs": [
    {
     "data": {
      "text/plain": [
       "total_images                0\n",
       "last_price                  0\n",
       "total_area                  0\n",
       "first_day_exposition        0\n",
       "rooms                       0\n",
       "ceiling_height           9195\n",
       "floors_total               86\n",
       "living_area              1903\n",
       "floor                       0\n",
       "is_apartment            20924\n",
       "studio                      0\n",
       "open_plan                   0\n",
       "kitchen_area             2278\n",
       "balcony                 11519\n",
       "locality_name              49\n",
       "airports_nearest         5542\n",
       "cityCenters_nearest      5519\n",
       "parks_around3000         5518\n",
       "parks_nearest           15620\n",
       "ponds_around3000         5518\n",
       "ponds_nearest           14589\n",
       "days_exposition          3181\n",
       "dtype: int64"
      ]
     },
     "execution_count": 7,
     "metadata": {},
     "output_type": "execute_result"
    }
   ],
   "source": [
    "data.isna().sum() #посчитаем кол-во пропусков"
   ]
  },
  {
   "cell_type": "code",
   "execution_count": 8,
   "metadata": {
    "pycharm": {
     "name": "#%%\n"
    }
   },
   "outputs": [],
   "source": [
    "#переименуем столбец \n",
    "data.rename(columns = {'cityCenters_nearest':'citycenters_nearest'}, inplace=True)"
   ]
  },
  {
   "cell_type": "code",
   "execution_count": 9,
   "metadata": {
    "pycharm": {
     "name": "#%%\n"
    }
   },
   "outputs": [
    {
     "data": {
      "text/plain": [
       "count     23699.000000\n",
       "mean       6541.548772\n",
       "std       10887.013268\n",
       "min          12.190000\n",
       "25%        3400.000000\n",
       "50%        4650.000000\n",
       "75%        6800.000000\n",
       "max      763000.000000\n",
       "Name: last_price, dtype: float64"
      ]
     },
     "execution_count": 9,
     "metadata": {},
     "output_type": "execute_result"
    }
   ],
   "source": [
    "#для удобства дальнейшего вычисления переведем цену в тыс. руб.\n",
    "data['last_price'] = data['last_price']/1000\n",
    "data['last_price'].describe()"
   ]
  },
  {
   "cell_type": "code",
   "execution_count": 10,
   "metadata": {
    "pycharm": {
     "name": "#%%\n"
    }
   },
   "outputs": [
    {
     "data": {
      "text/html": [
       "<div>\n",
       "<style scoped>\n",
       "    .dataframe tbody tr th:only-of-type {\n",
       "        vertical-align: middle;\n",
       "    }\n",
       "\n",
       "    .dataframe tbody tr th {\n",
       "        vertical-align: top;\n",
       "    }\n",
       "\n",
       "    .dataframe thead th {\n",
       "        text-align: right;\n",
       "    }\n",
       "</style>\n",
       "<table border=\"1\" class=\"dataframe\">\n",
       "  <thead>\n",
       "    <tr style=\"text-align: right;\">\n",
       "      <th></th>\n",
       "      <th>total_images</th>\n",
       "      <th>last_price</th>\n",
       "      <th>total_area</th>\n",
       "      <th>first_day_exposition</th>\n",
       "      <th>rooms</th>\n",
       "      <th>ceiling_height</th>\n",
       "      <th>floors_total</th>\n",
       "      <th>living_area</th>\n",
       "      <th>floor</th>\n",
       "      <th>is_apartment</th>\n",
       "      <th>studio</th>\n",
       "      <th>open_plan</th>\n",
       "      <th>kitchen_area</th>\n",
       "      <th>balcony</th>\n",
       "      <th>locality_name</th>\n",
       "      <th>airports_nearest</th>\n",
       "      <th>citycenters_nearest</th>\n",
       "      <th>parks_around3000</th>\n",
       "      <th>parks_nearest</th>\n",
       "      <th>ponds_around3000</th>\n",
       "      <th>ponds_nearest</th>\n",
       "      <th>days_exposition</th>\n",
       "    </tr>\n",
       "  </thead>\n",
       "  <tbody>\n",
       "    <tr>\n",
       "      <th>793</th>\n",
       "      <td>20</td>\n",
       "      <td>135000.00</td>\n",
       "      <td>310.0</td>\n",
       "      <td>2018-05-22T00:00:00</td>\n",
       "      <td>4</td>\n",
       "      <td>3.30</td>\n",
       "      <td>5.0</td>\n",
       "      <td>250.00</td>\n",
       "      <td>2</td>\n",
       "      <td>NaN</td>\n",
       "      <td>False</td>\n",
       "      <td>False</td>\n",
       "      <td>50.00</td>\n",
       "      <td>NaN</td>\n",
       "      <td>Санкт-Петербург</td>\n",
       "      <td>34159.0</td>\n",
       "      <td>7251.0</td>\n",
       "      <td>2.0</td>\n",
       "      <td>295.0</td>\n",
       "      <td>3.0</td>\n",
       "      <td>190.0</td>\n",
       "      <td>342.0</td>\n",
       "    </tr>\n",
       "    <tr>\n",
       "      <th>1026</th>\n",
       "      <td>20</td>\n",
       "      <td>155000.00</td>\n",
       "      <td>310.0</td>\n",
       "      <td>2018-10-12T00:00:00</td>\n",
       "      <td>5</td>\n",
       "      <td>5.30</td>\n",
       "      <td>3.0</td>\n",
       "      <td>190.00</td>\n",
       "      <td>3</td>\n",
       "      <td>NaN</td>\n",
       "      <td>False</td>\n",
       "      <td>False</td>\n",
       "      <td>63.00</td>\n",
       "      <td>2.0</td>\n",
       "      <td>Санкт-Петербург</td>\n",
       "      <td>24899.0</td>\n",
       "      <td>4785.0</td>\n",
       "      <td>0.0</td>\n",
       "      <td>NaN</td>\n",
       "      <td>1.0</td>\n",
       "      <td>603.0</td>\n",
       "      <td>NaN</td>\n",
       "    </tr>\n",
       "    <tr>\n",
       "      <th>1188</th>\n",
       "      <td>20</td>\n",
       "      <td>118000.00</td>\n",
       "      <td>290.6</td>\n",
       "      <td>2018-06-01T00:00:00</td>\n",
       "      <td>6</td>\n",
       "      <td>3.82</td>\n",
       "      <td>6.0</td>\n",
       "      <td>188.70</td>\n",
       "      <td>3</td>\n",
       "      <td>NaN</td>\n",
       "      <td>False</td>\n",
       "      <td>False</td>\n",
       "      <td>22.00</td>\n",
       "      <td>1.0</td>\n",
       "      <td>Санкт-Петербург</td>\n",
       "      <td>25309.0</td>\n",
       "      <td>6224.0</td>\n",
       "      <td>1.0</td>\n",
       "      <td>217.0</td>\n",
       "      <td>0.0</td>\n",
       "      <td>NaN</td>\n",
       "      <td>316.0</td>\n",
       "    </tr>\n",
       "    <tr>\n",
       "      <th>1300</th>\n",
       "      <td>14</td>\n",
       "      <td>120000.00</td>\n",
       "      <td>280.0</td>\n",
       "      <td>2018-07-12T00:00:00</td>\n",
       "      <td>5</td>\n",
       "      <td>4.70</td>\n",
       "      <td>4.0</td>\n",
       "      <td>162.00</td>\n",
       "      <td>3</td>\n",
       "      <td>NaN</td>\n",
       "      <td>False</td>\n",
       "      <td>False</td>\n",
       "      <td>30.00</td>\n",
       "      <td>NaN</td>\n",
       "      <td>Санкт-Петербург</td>\n",
       "      <td>24680.0</td>\n",
       "      <td>4247.0</td>\n",
       "      <td>1.0</td>\n",
       "      <td>464.0</td>\n",
       "      <td>3.0</td>\n",
       "      <td>339.0</td>\n",
       "      <td>225.0</td>\n",
       "    </tr>\n",
       "    <tr>\n",
       "      <th>1436</th>\n",
       "      <td>19</td>\n",
       "      <td>330000.00</td>\n",
       "      <td>190.0</td>\n",
       "      <td>2018-04-04T00:00:00</td>\n",
       "      <td>3</td>\n",
       "      <td>3.50</td>\n",
       "      <td>7.0</td>\n",
       "      <td>95.00</td>\n",
       "      <td>5</td>\n",
       "      <td>NaN</td>\n",
       "      <td>False</td>\n",
       "      <td>False</td>\n",
       "      <td>40.00</td>\n",
       "      <td>NaN</td>\n",
       "      <td>Санкт-Петербург</td>\n",
       "      <td>23011.0</td>\n",
       "      <td>1197.0</td>\n",
       "      <td>3.0</td>\n",
       "      <td>519.0</td>\n",
       "      <td>3.0</td>\n",
       "      <td>285.0</td>\n",
       "      <td>233.0</td>\n",
       "    </tr>\n",
       "    <tr>\n",
       "      <th>1928</th>\n",
       "      <td>11</td>\n",
       "      <td>125000.00</td>\n",
       "      <td>224.5</td>\n",
       "      <td>2017-01-24T00:00:00</td>\n",
       "      <td>4</td>\n",
       "      <td>NaN</td>\n",
       "      <td>4.0</td>\n",
       "      <td>163.50</td>\n",
       "      <td>3</td>\n",
       "      <td>False</td>\n",
       "      <td>False</td>\n",
       "      <td>False</td>\n",
       "      <td>30.00</td>\n",
       "      <td>1.0</td>\n",
       "      <td>Санкт-Петербург</td>\n",
       "      <td>22805.0</td>\n",
       "      <td>2335.0</td>\n",
       "      <td>0.0</td>\n",
       "      <td>NaN</td>\n",
       "      <td>2.0</td>\n",
       "      <td>497.0</td>\n",
       "      <td>174.0</td>\n",
       "    </tr>\n",
       "    <tr>\n",
       "      <th>2243</th>\n",
       "      <td>9</td>\n",
       "      <td>130278.28</td>\n",
       "      <td>304.0</td>\n",
       "      <td>2015-07-24T00:00:00</td>\n",
       "      <td>5</td>\n",
       "      <td>3.11</td>\n",
       "      <td>9.0</td>\n",
       "      <td>NaN</td>\n",
       "      <td>7</td>\n",
       "      <td>NaN</td>\n",
       "      <td>False</td>\n",
       "      <td>False</td>\n",
       "      <td>NaN</td>\n",
       "      <td>0.0</td>\n",
       "      <td>Санкт-Петербург</td>\n",
       "      <td>25593.0</td>\n",
       "      <td>5913.0</td>\n",
       "      <td>2.0</td>\n",
       "      <td>164.0</td>\n",
       "      <td>0.0</td>\n",
       "      <td>NaN</td>\n",
       "      <td>599.0</td>\n",
       "    </tr>\n",
       "    <tr>\n",
       "      <th>2536</th>\n",
       "      <td>16</td>\n",
       "      <td>159984.00</td>\n",
       "      <td>242.4</td>\n",
       "      <td>2015-08-27T00:00:00</td>\n",
       "      <td>4</td>\n",
       "      <td>3.85</td>\n",
       "      <td>9.0</td>\n",
       "      <td>131.00</td>\n",
       "      <td>7</td>\n",
       "      <td>NaN</td>\n",
       "      <td>False</td>\n",
       "      <td>False</td>\n",
       "      <td>20.00</td>\n",
       "      <td>0.0</td>\n",
       "      <td>Санкт-Петербург</td>\n",
       "      <td>21946.0</td>\n",
       "      <td>2242.0</td>\n",
       "      <td>1.0</td>\n",
       "      <td>679.0</td>\n",
       "      <td>1.0</td>\n",
       "      <td>227.0</td>\n",
       "      <td>501.0</td>\n",
       "    </tr>\n",
       "    <tr>\n",
       "      <th>3117</th>\n",
       "      <td>19</td>\n",
       "      <td>140000.00</td>\n",
       "      <td>631.0</td>\n",
       "      <td>2019-03-30T00:00:00</td>\n",
       "      <td>7</td>\n",
       "      <td>NaN</td>\n",
       "      <td>5.0</td>\n",
       "      <td>NaN</td>\n",
       "      <td>5</td>\n",
       "      <td>NaN</td>\n",
       "      <td>False</td>\n",
       "      <td>False</td>\n",
       "      <td>60.00</td>\n",
       "      <td>NaN</td>\n",
       "      <td>Санкт-Петербург</td>\n",
       "      <td>25707.0</td>\n",
       "      <td>4972.0</td>\n",
       "      <td>0.0</td>\n",
       "      <td>NaN</td>\n",
       "      <td>2.0</td>\n",
       "      <td>210.0</td>\n",
       "      <td>NaN</td>\n",
       "    </tr>\n",
       "    <tr>\n",
       "      <th>4996</th>\n",
       "      <td>20</td>\n",
       "      <td>124000.00</td>\n",
       "      <td>124.5</td>\n",
       "      <td>2017-10-12T00:00:00</td>\n",
       "      <td>4</td>\n",
       "      <td>3.00</td>\n",
       "      <td>4.0</td>\n",
       "      <td>67.20</td>\n",
       "      <td>2</td>\n",
       "      <td>False</td>\n",
       "      <td>False</td>\n",
       "      <td>False</td>\n",
       "      <td>20.00</td>\n",
       "      <td>NaN</td>\n",
       "      <td>Санкт-Петербург</td>\n",
       "      <td>20399.0</td>\n",
       "      <td>1722.0</td>\n",
       "      <td>3.0</td>\n",
       "      <td>302.0</td>\n",
       "      <td>3.0</td>\n",
       "      <td>172.0</td>\n",
       "      <td>45.0</td>\n",
       "    </tr>\n",
       "    <tr>\n",
       "      <th>5893</th>\n",
       "      <td>3</td>\n",
       "      <td>230000.00</td>\n",
       "      <td>500.0</td>\n",
       "      <td>2017-05-31T00:00:00</td>\n",
       "      <td>6</td>\n",
       "      <td>NaN</td>\n",
       "      <td>7.0</td>\n",
       "      <td>NaN</td>\n",
       "      <td>7</td>\n",
       "      <td>NaN</td>\n",
       "      <td>False</td>\n",
       "      <td>False</td>\n",
       "      <td>40.00</td>\n",
       "      <td>0.0</td>\n",
       "      <td>Санкт-Петербург</td>\n",
       "      <td>32440.0</td>\n",
       "      <td>5297.0</td>\n",
       "      <td>0.0</td>\n",
       "      <td>NaN</td>\n",
       "      <td>2.0</td>\n",
       "      <td>198.0</td>\n",
       "      <td>50.0</td>\n",
       "    </tr>\n",
       "    <tr>\n",
       "      <th>7543</th>\n",
       "      <td>20</td>\n",
       "      <td>130000.00</td>\n",
       "      <td>307.8</td>\n",
       "      <td>2016-04-24T00:00:00</td>\n",
       "      <td>5</td>\n",
       "      <td>NaN</td>\n",
       "      <td>4.0</td>\n",
       "      <td>187.90</td>\n",
       "      <td>3</td>\n",
       "      <td>NaN</td>\n",
       "      <td>False</td>\n",
       "      <td>False</td>\n",
       "      <td>63.40</td>\n",
       "      <td>NaN</td>\n",
       "      <td>Санкт-Петербург</td>\n",
       "      <td>24899.0</td>\n",
       "      <td>4785.0</td>\n",
       "      <td>0.0</td>\n",
       "      <td>NaN</td>\n",
       "      <td>1.0</td>\n",
       "      <td>603.0</td>\n",
       "      <td>1094.0</td>\n",
       "    </tr>\n",
       "    <tr>\n",
       "      <th>7674</th>\n",
       "      <td>20</td>\n",
       "      <td>131000.00</td>\n",
       "      <td>380.0</td>\n",
       "      <td>2016-09-23T00:00:00</td>\n",
       "      <td>5</td>\n",
       "      <td>3.90</td>\n",
       "      <td>6.0</td>\n",
       "      <td>150.00</td>\n",
       "      <td>4</td>\n",
       "      <td>False</td>\n",
       "      <td>False</td>\n",
       "      <td>False</td>\n",
       "      <td>NaN</td>\n",
       "      <td>1.0</td>\n",
       "      <td>Санкт-Петербург</td>\n",
       "      <td>25801.0</td>\n",
       "      <td>4504.0</td>\n",
       "      <td>2.0</td>\n",
       "      <td>161.0</td>\n",
       "      <td>1.0</td>\n",
       "      <td>635.0</td>\n",
       "      <td>901.0</td>\n",
       "    </tr>\n",
       "    <tr>\n",
       "      <th>7857</th>\n",
       "      <td>11</td>\n",
       "      <td>150000.00</td>\n",
       "      <td>230.0</td>\n",
       "      <td>2017-10-25T00:00:00</td>\n",
       "      <td>8</td>\n",
       "      <td>NaN</td>\n",
       "      <td>8.0</td>\n",
       "      <td>220.00</td>\n",
       "      <td>8</td>\n",
       "      <td>NaN</td>\n",
       "      <td>False</td>\n",
       "      <td>False</td>\n",
       "      <td>NaN</td>\n",
       "      <td>NaN</td>\n",
       "      <td>Санкт-Петербург</td>\n",
       "      <td>25525.0</td>\n",
       "      <td>5845.0</td>\n",
       "      <td>2.0</td>\n",
       "      <td>116.0</td>\n",
       "      <td>0.0</td>\n",
       "      <td>NaN</td>\n",
       "      <td>135.0</td>\n",
       "    </tr>\n",
       "    <tr>\n",
       "      <th>8900</th>\n",
       "      <td>13</td>\n",
       "      <td>190870.00</td>\n",
       "      <td>268.0</td>\n",
       "      <td>2016-03-25T00:00:00</td>\n",
       "      <td>3</td>\n",
       "      <td>NaN</td>\n",
       "      <td>8.0</td>\n",
       "      <td>132.00</td>\n",
       "      <td>7</td>\n",
       "      <td>NaN</td>\n",
       "      <td>False</td>\n",
       "      <td>False</td>\n",
       "      <td>40.00</td>\n",
       "      <td>NaN</td>\n",
       "      <td>Санкт-Петербург</td>\n",
       "      <td>32440.0</td>\n",
       "      <td>5297.0</td>\n",
       "      <td>0.0</td>\n",
       "      <td>NaN</td>\n",
       "      <td>2.0</td>\n",
       "      <td>198.0</td>\n",
       "      <td>901.0</td>\n",
       "    </tr>\n",
       "    <tr>\n",
       "      <th>12674</th>\n",
       "      <td>16</td>\n",
       "      <td>140000.00</td>\n",
       "      <td>241.0</td>\n",
       "      <td>2015-07-24T00:00:00</td>\n",
       "      <td>5</td>\n",
       "      <td>3.00</td>\n",
       "      <td>5.0</td>\n",
       "      <td>NaN</td>\n",
       "      <td>4</td>\n",
       "      <td>NaN</td>\n",
       "      <td>False</td>\n",
       "      <td>False</td>\n",
       "      <td>NaN</td>\n",
       "      <td>0.0</td>\n",
       "      <td>Санкт-Петербург</td>\n",
       "      <td>23512.0</td>\n",
       "      <td>3503.0</td>\n",
       "      <td>3.0</td>\n",
       "      <td>413.0</td>\n",
       "      <td>3.0</td>\n",
       "      <td>83.0</td>\n",
       "      <td>399.0</td>\n",
       "    </tr>\n",
       "    <tr>\n",
       "      <th>12859</th>\n",
       "      <td>20</td>\n",
       "      <td>140000.00</td>\n",
       "      <td>631.2</td>\n",
       "      <td>2019-04-09T00:00:00</td>\n",
       "      <td>7</td>\n",
       "      <td>3.90</td>\n",
       "      <td>4.0</td>\n",
       "      <td>322.30</td>\n",
       "      <td>4</td>\n",
       "      <td>NaN</td>\n",
       "      <td>False</td>\n",
       "      <td>False</td>\n",
       "      <td>19.50</td>\n",
       "      <td>1.0</td>\n",
       "      <td>Санкт-Петербург</td>\n",
       "      <td>25707.0</td>\n",
       "      <td>4972.0</td>\n",
       "      <td>0.0</td>\n",
       "      <td>NaN</td>\n",
       "      <td>2.0</td>\n",
       "      <td>210.0</td>\n",
       "      <td>NaN</td>\n",
       "    </tr>\n",
       "    <tr>\n",
       "      <th>12971</th>\n",
       "      <td>19</td>\n",
       "      <td>763000.00</td>\n",
       "      <td>400.0</td>\n",
       "      <td>2017-09-30T00:00:00</td>\n",
       "      <td>7</td>\n",
       "      <td>NaN</td>\n",
       "      <td>10.0</td>\n",
       "      <td>250.00</td>\n",
       "      <td>10</td>\n",
       "      <td>NaN</td>\n",
       "      <td>False</td>\n",
       "      <td>False</td>\n",
       "      <td>NaN</td>\n",
       "      <td>2.0</td>\n",
       "      <td>Санкт-Петербург</td>\n",
       "      <td>25108.0</td>\n",
       "      <td>3956.0</td>\n",
       "      <td>1.0</td>\n",
       "      <td>530.0</td>\n",
       "      <td>3.0</td>\n",
       "      <td>756.0</td>\n",
       "      <td>33.0</td>\n",
       "    </tr>\n",
       "    <tr>\n",
       "      <th>13749</th>\n",
       "      <td>7</td>\n",
       "      <td>240000.00</td>\n",
       "      <td>410.0</td>\n",
       "      <td>2017-04-01T00:00:00</td>\n",
       "      <td>6</td>\n",
       "      <td>3.40</td>\n",
       "      <td>7.0</td>\n",
       "      <td>218.00</td>\n",
       "      <td>7</td>\n",
       "      <td>NaN</td>\n",
       "      <td>False</td>\n",
       "      <td>False</td>\n",
       "      <td>40.00</td>\n",
       "      <td>0.0</td>\n",
       "      <td>Санкт-Петербург</td>\n",
       "      <td>32440.0</td>\n",
       "      <td>5297.0</td>\n",
       "      <td>0.0</td>\n",
       "      <td>NaN</td>\n",
       "      <td>2.0</td>\n",
       "      <td>198.0</td>\n",
       "      <td>199.0</td>\n",
       "    </tr>\n",
       "    <tr>\n",
       "      <th>13864</th>\n",
       "      <td>20</td>\n",
       "      <td>130000.00</td>\n",
       "      <td>231.0</td>\n",
       "      <td>2015-08-13T00:00:00</td>\n",
       "      <td>6</td>\n",
       "      <td>3.60</td>\n",
       "      <td>6.0</td>\n",
       "      <td>148.00</td>\n",
       "      <td>4</td>\n",
       "      <td>NaN</td>\n",
       "      <td>False</td>\n",
       "      <td>False</td>\n",
       "      <td>12.00</td>\n",
       "      <td>0.0</td>\n",
       "      <td>Санкт-Петербург</td>\n",
       "      <td>22992.0</td>\n",
       "      <td>1280.0</td>\n",
       "      <td>3.0</td>\n",
       "      <td>395.0</td>\n",
       "      <td>3.0</td>\n",
       "      <td>170.0</td>\n",
       "      <td>467.0</td>\n",
       "    </tr>\n",
       "    <tr>\n",
       "      <th>14706</th>\n",
       "      <td>15</td>\n",
       "      <td>401300.00</td>\n",
       "      <td>401.0</td>\n",
       "      <td>2016-02-20T00:00:00</td>\n",
       "      <td>5</td>\n",
       "      <td>NaN</td>\n",
       "      <td>9.0</td>\n",
       "      <td>204.00</td>\n",
       "      <td>9</td>\n",
       "      <td>False</td>\n",
       "      <td>False</td>\n",
       "      <td>False</td>\n",
       "      <td>24.00</td>\n",
       "      <td>3.0</td>\n",
       "      <td>Санкт-Петербург</td>\n",
       "      <td>21912.0</td>\n",
       "      <td>2389.0</td>\n",
       "      <td>1.0</td>\n",
       "      <td>545.0</td>\n",
       "      <td>1.0</td>\n",
       "      <td>478.0</td>\n",
       "      <td>393.0</td>\n",
       "    </tr>\n",
       "    <tr>\n",
       "      <th>15016</th>\n",
       "      <td>8</td>\n",
       "      <td>150000.00</td>\n",
       "      <td>500.0</td>\n",
       "      <td>2016-01-13T00:00:00</td>\n",
       "      <td>4</td>\n",
       "      <td>3.20</td>\n",
       "      <td>7.0</td>\n",
       "      <td>NaN</td>\n",
       "      <td>7</td>\n",
       "      <td>NaN</td>\n",
       "      <td>False</td>\n",
       "      <td>False</td>\n",
       "      <td>NaN</td>\n",
       "      <td>0.0</td>\n",
       "      <td>Санкт-Петербург</td>\n",
       "      <td>33058.0</td>\n",
       "      <td>6150.0</td>\n",
       "      <td>3.0</td>\n",
       "      <td>209.0</td>\n",
       "      <td>3.0</td>\n",
       "      <td>531.0</td>\n",
       "      <td>303.0</td>\n",
       "    </tr>\n",
       "    <tr>\n",
       "      <th>15651</th>\n",
       "      <td>20</td>\n",
       "      <td>300000.00</td>\n",
       "      <td>618.0</td>\n",
       "      <td>2017-12-18T00:00:00</td>\n",
       "      <td>7</td>\n",
       "      <td>3.40</td>\n",
       "      <td>7.0</td>\n",
       "      <td>258.00</td>\n",
       "      <td>5</td>\n",
       "      <td>NaN</td>\n",
       "      <td>False</td>\n",
       "      <td>False</td>\n",
       "      <td>70.00</td>\n",
       "      <td>NaN</td>\n",
       "      <td>Санкт-Петербург</td>\n",
       "      <td>32440.0</td>\n",
       "      <td>5297.0</td>\n",
       "      <td>0.0</td>\n",
       "      <td>NaN</td>\n",
       "      <td>2.0</td>\n",
       "      <td>198.0</td>\n",
       "      <td>111.0</td>\n",
       "    </tr>\n",
       "    <tr>\n",
       "      <th>16461</th>\n",
       "      <td>17</td>\n",
       "      <td>245000.00</td>\n",
       "      <td>285.7</td>\n",
       "      <td>2017-04-10T00:00:00</td>\n",
       "      <td>6</td>\n",
       "      <td>3.35</td>\n",
       "      <td>7.0</td>\n",
       "      <td>182.80</td>\n",
       "      <td>4</td>\n",
       "      <td>NaN</td>\n",
       "      <td>False</td>\n",
       "      <td>False</td>\n",
       "      <td>29.80</td>\n",
       "      <td>NaN</td>\n",
       "      <td>Санкт-Петербург</td>\n",
       "      <td>33143.0</td>\n",
       "      <td>6235.0</td>\n",
       "      <td>3.0</td>\n",
       "      <td>400.0</td>\n",
       "      <td>3.0</td>\n",
       "      <td>140.0</td>\n",
       "      <td>249.0</td>\n",
       "    </tr>\n",
       "    <tr>\n",
       "      <th>16495</th>\n",
       "      <td>12</td>\n",
       "      <td>159000.00</td>\n",
       "      <td>260.0</td>\n",
       "      <td>2017-04-04T00:00:00</td>\n",
       "      <td>4</td>\n",
       "      <td>NaN</td>\n",
       "      <td>5.0</td>\n",
       "      <td>180.00</td>\n",
       "      <td>4</td>\n",
       "      <td>NaN</td>\n",
       "      <td>False</td>\n",
       "      <td>False</td>\n",
       "      <td>30.00</td>\n",
       "      <td>2.0</td>\n",
       "      <td>Санкт-Петербург</td>\n",
       "      <td>21740.0</td>\n",
       "      <td>436.0</td>\n",
       "      <td>2.0</td>\n",
       "      <td>138.0</td>\n",
       "      <td>3.0</td>\n",
       "      <td>620.0</td>\n",
       "      <td>178.0</td>\n",
       "    </tr>\n",
       "    <tr>\n",
       "      <th>16647</th>\n",
       "      <td>15</td>\n",
       "      <td>122000.00</td>\n",
       "      <td>145.0</td>\n",
       "      <td>2017-04-25T00:00:00</td>\n",
       "      <td>3</td>\n",
       "      <td>3.30</td>\n",
       "      <td>6.0</td>\n",
       "      <td>36.00</td>\n",
       "      <td>2</td>\n",
       "      <td>NaN</td>\n",
       "      <td>False</td>\n",
       "      <td>False</td>\n",
       "      <td>72.00</td>\n",
       "      <td>NaN</td>\n",
       "      <td>Санкт-Петербург</td>\n",
       "      <td>33931.0</td>\n",
       "      <td>7023.0</td>\n",
       "      <td>2.0</td>\n",
       "      <td>478.0</td>\n",
       "      <td>3.0</td>\n",
       "      <td>250.0</td>\n",
       "      <td>335.0</td>\n",
       "    </tr>\n",
       "    <tr>\n",
       "      <th>17912</th>\n",
       "      <td>17</td>\n",
       "      <td>135000.00</td>\n",
       "      <td>166.0</td>\n",
       "      <td>2019-02-07T00:00:00</td>\n",
       "      <td>3</td>\n",
       "      <td>3.30</td>\n",
       "      <td>7.0</td>\n",
       "      <td>52.00</td>\n",
       "      <td>1</td>\n",
       "      <td>NaN</td>\n",
       "      <td>False</td>\n",
       "      <td>False</td>\n",
       "      <td>64.00</td>\n",
       "      <td>NaN</td>\n",
       "      <td>Санкт-Петербург</td>\n",
       "      <td>32863.0</td>\n",
       "      <td>5955.0</td>\n",
       "      <td>2.0</td>\n",
       "      <td>230.0</td>\n",
       "      <td>3.0</td>\n",
       "      <td>215.0</td>\n",
       "      <td>NaN</td>\n",
       "    </tr>\n",
       "    <tr>\n",
       "      <th>19155</th>\n",
       "      <td>20</td>\n",
       "      <td>160000.00</td>\n",
       "      <td>243.0</td>\n",
       "      <td>2018-11-12T00:00:00</td>\n",
       "      <td>5</td>\n",
       "      <td>NaN</td>\n",
       "      <td>5.0</td>\n",
       "      <td>145.00</td>\n",
       "      <td>4</td>\n",
       "      <td>NaN</td>\n",
       "      <td>False</td>\n",
       "      <td>False</td>\n",
       "      <td>33.00</td>\n",
       "      <td>NaN</td>\n",
       "      <td>Санкт-Петербург</td>\n",
       "      <td>22640.0</td>\n",
       "      <td>555.0</td>\n",
       "      <td>3.0</td>\n",
       "      <td>285.0</td>\n",
       "      <td>1.0</td>\n",
       "      <td>200.0</td>\n",
       "      <td>18.0</td>\n",
       "    </tr>\n",
       "    <tr>\n",
       "      <th>19540</th>\n",
       "      <td>8</td>\n",
       "      <td>420000.00</td>\n",
       "      <td>900.0</td>\n",
       "      <td>2017-12-06T00:00:00</td>\n",
       "      <td>12</td>\n",
       "      <td>2.80</td>\n",
       "      <td>25.0</td>\n",
       "      <td>409.70</td>\n",
       "      <td>25</td>\n",
       "      <td>NaN</td>\n",
       "      <td>False</td>\n",
       "      <td>False</td>\n",
       "      <td>112.00</td>\n",
       "      <td>NaN</td>\n",
       "      <td>Санкт-Петербург</td>\n",
       "      <td>30706.0</td>\n",
       "      <td>7877.0</td>\n",
       "      <td>0.0</td>\n",
       "      <td>NaN</td>\n",
       "      <td>2.0</td>\n",
       "      <td>318.0</td>\n",
       "      <td>106.0</td>\n",
       "    </tr>\n",
       "    <tr>\n",
       "      <th>19865</th>\n",
       "      <td>20</td>\n",
       "      <td>180000.00</td>\n",
       "      <td>347.0</td>\n",
       "      <td>2015-01-21T00:00:00</td>\n",
       "      <td>8</td>\n",
       "      <td>3.90</td>\n",
       "      <td>6.0</td>\n",
       "      <td>260.00</td>\n",
       "      <td>3</td>\n",
       "      <td>NaN</td>\n",
       "      <td>False</td>\n",
       "      <td>False</td>\n",
       "      <td>45.00</td>\n",
       "      <td>0.0</td>\n",
       "      <td>Санкт-Петербург</td>\n",
       "      <td>23962.0</td>\n",
       "      <td>3794.0</td>\n",
       "      <td>2.0</td>\n",
       "      <td>537.0</td>\n",
       "      <td>3.0</td>\n",
       "      <td>501.0</td>\n",
       "      <td>834.0</td>\n",
       "    </tr>\n",
       "    <tr>\n",
       "      <th>20264</th>\n",
       "      <td>17</td>\n",
       "      <td>119000.00</td>\n",
       "      <td>187.6</td>\n",
       "      <td>2017-07-10T00:00:00</td>\n",
       "      <td>4</td>\n",
       "      <td>6.00</td>\n",
       "      <td>7.0</td>\n",
       "      <td>147.00</td>\n",
       "      <td>7</td>\n",
       "      <td>NaN</td>\n",
       "      <td>False</td>\n",
       "      <td>False</td>\n",
       "      <td>15.60</td>\n",
       "      <td>NaN</td>\n",
       "      <td>Санкт-Петербург</td>\n",
       "      <td>26902.0</td>\n",
       "      <td>5605.0</td>\n",
       "      <td>3.0</td>\n",
       "      <td>484.0</td>\n",
       "      <td>1.0</td>\n",
       "      <td>305.0</td>\n",
       "      <td>259.0</td>\n",
       "    </tr>\n",
       "    <tr>\n",
       "      <th>20349</th>\n",
       "      <td>17</td>\n",
       "      <td>124480.00</td>\n",
       "      <td>267.7</td>\n",
       "      <td>2016-06-18T00:00:00</td>\n",
       "      <td>4</td>\n",
       "      <td>NaN</td>\n",
       "      <td>8.0</td>\n",
       "      <td>107.03</td>\n",
       "      <td>8</td>\n",
       "      <td>NaN</td>\n",
       "      <td>False</td>\n",
       "      <td>False</td>\n",
       "      <td>29.86</td>\n",
       "      <td>0.0</td>\n",
       "      <td>Санкт-Петербург</td>\n",
       "      <td>27102.0</td>\n",
       "      <td>7442.0</td>\n",
       "      <td>2.0</td>\n",
       "      <td>164.0</td>\n",
       "      <td>2.0</td>\n",
       "      <td>473.0</td>\n",
       "      <td>205.0</td>\n",
       "    </tr>\n",
       "    <tr>\n",
       "      <th>21023</th>\n",
       "      <td>17</td>\n",
       "      <td>124350.00</td>\n",
       "      <td>248.7</td>\n",
       "      <td>2015-08-27T00:00:00</td>\n",
       "      <td>4</td>\n",
       "      <td>3.40</td>\n",
       "      <td>9.0</td>\n",
       "      <td>131.00</td>\n",
       "      <td>4</td>\n",
       "      <td>NaN</td>\n",
       "      <td>False</td>\n",
       "      <td>False</td>\n",
       "      <td>23.00</td>\n",
       "      <td>0.0</td>\n",
       "      <td>Санкт-Петербург</td>\n",
       "      <td>21946.0</td>\n",
       "      <td>2242.0</td>\n",
       "      <td>1.0</td>\n",
       "      <td>679.0</td>\n",
       "      <td>1.0</td>\n",
       "      <td>227.0</td>\n",
       "      <td>501.0</td>\n",
       "    </tr>\n",
       "    <tr>\n",
       "      <th>21923</th>\n",
       "      <td>10</td>\n",
       "      <td>115490.00</td>\n",
       "      <td>235.0</td>\n",
       "      <td>2017-04-09T00:00:00</td>\n",
       "      <td>5</td>\n",
       "      <td>4.90</td>\n",
       "      <td>5.0</td>\n",
       "      <td>140.00</td>\n",
       "      <td>5</td>\n",
       "      <td>NaN</td>\n",
       "      <td>False</td>\n",
       "      <td>False</td>\n",
       "      <td>50.00</td>\n",
       "      <td>NaN</td>\n",
       "      <td>Санкт-Петербург</td>\n",
       "      <td>22777.0</td>\n",
       "      <td>1328.0</td>\n",
       "      <td>3.0</td>\n",
       "      <td>652.0</td>\n",
       "      <td>3.0</td>\n",
       "      <td>253.0</td>\n",
       "      <td>351.0</td>\n",
       "    </tr>\n",
       "    <tr>\n",
       "      <th>21955</th>\n",
       "      <td>19</td>\n",
       "      <td>130000.00</td>\n",
       "      <td>431.0</td>\n",
       "      <td>2017-10-02T00:00:00</td>\n",
       "      <td>7</td>\n",
       "      <td>3.70</td>\n",
       "      <td>8.0</td>\n",
       "      <td>220.00</td>\n",
       "      <td>5</td>\n",
       "      <td>NaN</td>\n",
       "      <td>False</td>\n",
       "      <td>False</td>\n",
       "      <td>20.00</td>\n",
       "      <td>5.0</td>\n",
       "      <td>Санкт-Петербург</td>\n",
       "      <td>NaN</td>\n",
       "      <td>NaN</td>\n",
       "      <td>NaN</td>\n",
       "      <td>NaN</td>\n",
       "      <td>NaN</td>\n",
       "      <td>NaN</td>\n",
       "      <td>161.0</td>\n",
       "    </tr>\n",
       "    <tr>\n",
       "      <th>22229</th>\n",
       "      <td>16</td>\n",
       "      <td>148000.00</td>\n",
       "      <td>256.0</td>\n",
       "      <td>2016-03-16T00:00:00</td>\n",
       "      <td>5</td>\n",
       "      <td>NaN</td>\n",
       "      <td>6.0</td>\n",
       "      <td>179.00</td>\n",
       "      <td>5</td>\n",
       "      <td>NaN</td>\n",
       "      <td>False</td>\n",
       "      <td>False</td>\n",
       "      <td>36.00</td>\n",
       "      <td>0.0</td>\n",
       "      <td>Санкт-Петербург</td>\n",
       "      <td>24072.0</td>\n",
       "      <td>3639.0</td>\n",
       "      <td>2.0</td>\n",
       "      <td>727.0</td>\n",
       "      <td>3.0</td>\n",
       "      <td>462.0</td>\n",
       "      <td>233.0</td>\n",
       "    </tr>\n",
       "    <tr>\n",
       "      <th>22831</th>\n",
       "      <td>18</td>\n",
       "      <td>289238.40</td>\n",
       "      <td>187.5</td>\n",
       "      <td>2019-03-19T00:00:00</td>\n",
       "      <td>2</td>\n",
       "      <td>3.37</td>\n",
       "      <td>6.0</td>\n",
       "      <td>63.70</td>\n",
       "      <td>6</td>\n",
       "      <td>NaN</td>\n",
       "      <td>False</td>\n",
       "      <td>False</td>\n",
       "      <td>30.20</td>\n",
       "      <td>NaN</td>\n",
       "      <td>Санкт-Петербург</td>\n",
       "      <td>22494.0</td>\n",
       "      <td>1073.0</td>\n",
       "      <td>3.0</td>\n",
       "      <td>386.0</td>\n",
       "      <td>3.0</td>\n",
       "      <td>188.0</td>\n",
       "      <td>NaN</td>\n",
       "    </tr>\n",
       "  </tbody>\n",
       "</table>\n",
       "</div>"
      ],
      "text/plain": [
       "       total_images  last_price  total_area first_day_exposition  rooms  \\\n",
       "793              20   135000.00       310.0  2018-05-22T00:00:00      4   \n",
       "1026             20   155000.00       310.0  2018-10-12T00:00:00      5   \n",
       "1188             20   118000.00       290.6  2018-06-01T00:00:00      6   \n",
       "1300             14   120000.00       280.0  2018-07-12T00:00:00      5   \n",
       "1436             19   330000.00       190.0  2018-04-04T00:00:00      3   \n",
       "1928             11   125000.00       224.5  2017-01-24T00:00:00      4   \n",
       "2243              9   130278.28       304.0  2015-07-24T00:00:00      5   \n",
       "2536             16   159984.00       242.4  2015-08-27T00:00:00      4   \n",
       "3117             19   140000.00       631.0  2019-03-30T00:00:00      7   \n",
       "4996             20   124000.00       124.5  2017-10-12T00:00:00      4   \n",
       "5893              3   230000.00       500.0  2017-05-31T00:00:00      6   \n",
       "7543             20   130000.00       307.8  2016-04-24T00:00:00      5   \n",
       "7674             20   131000.00       380.0  2016-09-23T00:00:00      5   \n",
       "7857             11   150000.00       230.0  2017-10-25T00:00:00      8   \n",
       "8900             13   190870.00       268.0  2016-03-25T00:00:00      3   \n",
       "12674            16   140000.00       241.0  2015-07-24T00:00:00      5   \n",
       "12859            20   140000.00       631.2  2019-04-09T00:00:00      7   \n",
       "12971            19   763000.00       400.0  2017-09-30T00:00:00      7   \n",
       "13749             7   240000.00       410.0  2017-04-01T00:00:00      6   \n",
       "13864            20   130000.00       231.0  2015-08-13T00:00:00      6   \n",
       "14706            15   401300.00       401.0  2016-02-20T00:00:00      5   \n",
       "15016             8   150000.00       500.0  2016-01-13T00:00:00      4   \n",
       "15651            20   300000.00       618.0  2017-12-18T00:00:00      7   \n",
       "16461            17   245000.00       285.7  2017-04-10T00:00:00      6   \n",
       "16495            12   159000.00       260.0  2017-04-04T00:00:00      4   \n",
       "16647            15   122000.00       145.0  2017-04-25T00:00:00      3   \n",
       "17912            17   135000.00       166.0  2019-02-07T00:00:00      3   \n",
       "19155            20   160000.00       243.0  2018-11-12T00:00:00      5   \n",
       "19540             8   420000.00       900.0  2017-12-06T00:00:00     12   \n",
       "19865            20   180000.00       347.0  2015-01-21T00:00:00      8   \n",
       "20264            17   119000.00       187.6  2017-07-10T00:00:00      4   \n",
       "20349            17   124480.00       267.7  2016-06-18T00:00:00      4   \n",
       "21023            17   124350.00       248.7  2015-08-27T00:00:00      4   \n",
       "21923            10   115490.00       235.0  2017-04-09T00:00:00      5   \n",
       "21955            19   130000.00       431.0  2017-10-02T00:00:00      7   \n",
       "22229            16   148000.00       256.0  2016-03-16T00:00:00      5   \n",
       "22831            18   289238.40       187.5  2019-03-19T00:00:00      2   \n",
       "\n",
       "       ceiling_height  floors_total  living_area  floor is_apartment  studio  \\\n",
       "793              3.30           5.0       250.00      2          NaN   False   \n",
       "1026             5.30           3.0       190.00      3          NaN   False   \n",
       "1188             3.82           6.0       188.70      3          NaN   False   \n",
       "1300             4.70           4.0       162.00      3          NaN   False   \n",
       "1436             3.50           7.0        95.00      5          NaN   False   \n",
       "1928              NaN           4.0       163.50      3        False   False   \n",
       "2243             3.11           9.0          NaN      7          NaN   False   \n",
       "2536             3.85           9.0       131.00      7          NaN   False   \n",
       "3117              NaN           5.0          NaN      5          NaN   False   \n",
       "4996             3.00           4.0        67.20      2        False   False   \n",
       "5893              NaN           7.0          NaN      7          NaN   False   \n",
       "7543              NaN           4.0       187.90      3          NaN   False   \n",
       "7674             3.90           6.0       150.00      4        False   False   \n",
       "7857              NaN           8.0       220.00      8          NaN   False   \n",
       "8900              NaN           8.0       132.00      7          NaN   False   \n",
       "12674            3.00           5.0          NaN      4          NaN   False   \n",
       "12859            3.90           4.0       322.30      4          NaN   False   \n",
       "12971             NaN          10.0       250.00     10          NaN   False   \n",
       "13749            3.40           7.0       218.00      7          NaN   False   \n",
       "13864            3.60           6.0       148.00      4          NaN   False   \n",
       "14706             NaN           9.0       204.00      9        False   False   \n",
       "15016            3.20           7.0          NaN      7          NaN   False   \n",
       "15651            3.40           7.0       258.00      5          NaN   False   \n",
       "16461            3.35           7.0       182.80      4          NaN   False   \n",
       "16495             NaN           5.0       180.00      4          NaN   False   \n",
       "16647            3.30           6.0        36.00      2          NaN   False   \n",
       "17912            3.30           7.0        52.00      1          NaN   False   \n",
       "19155             NaN           5.0       145.00      4          NaN   False   \n",
       "19540            2.80          25.0       409.70     25          NaN   False   \n",
       "19865            3.90           6.0       260.00      3          NaN   False   \n",
       "20264            6.00           7.0       147.00      7          NaN   False   \n",
       "20349             NaN           8.0       107.03      8          NaN   False   \n",
       "21023            3.40           9.0       131.00      4          NaN   False   \n",
       "21923            4.90           5.0       140.00      5          NaN   False   \n",
       "21955            3.70           8.0       220.00      5          NaN   False   \n",
       "22229             NaN           6.0       179.00      5          NaN   False   \n",
       "22831            3.37           6.0        63.70      6          NaN   False   \n",
       "\n",
       "       open_plan  kitchen_area  balcony    locality_name  airports_nearest  \\\n",
       "793        False         50.00      NaN  Санкт-Петербург           34159.0   \n",
       "1026       False         63.00      2.0  Санкт-Петербург           24899.0   \n",
       "1188       False         22.00      1.0  Санкт-Петербург           25309.0   \n",
       "1300       False         30.00      NaN  Санкт-Петербург           24680.0   \n",
       "1436       False         40.00      NaN  Санкт-Петербург           23011.0   \n",
       "1928       False         30.00      1.0  Санкт-Петербург           22805.0   \n",
       "2243       False           NaN      0.0  Санкт-Петербург           25593.0   \n",
       "2536       False         20.00      0.0  Санкт-Петербург           21946.0   \n",
       "3117       False         60.00      NaN  Санкт-Петербург           25707.0   \n",
       "4996       False         20.00      NaN  Санкт-Петербург           20399.0   \n",
       "5893       False         40.00      0.0  Санкт-Петербург           32440.0   \n",
       "7543       False         63.40      NaN  Санкт-Петербург           24899.0   \n",
       "7674       False           NaN      1.0  Санкт-Петербург           25801.0   \n",
       "7857       False           NaN      NaN  Санкт-Петербург           25525.0   \n",
       "8900       False         40.00      NaN  Санкт-Петербург           32440.0   \n",
       "12674      False           NaN      0.0  Санкт-Петербург           23512.0   \n",
       "12859      False         19.50      1.0  Санкт-Петербург           25707.0   \n",
       "12971      False           NaN      2.0  Санкт-Петербург           25108.0   \n",
       "13749      False         40.00      0.0  Санкт-Петербург           32440.0   \n",
       "13864      False         12.00      0.0  Санкт-Петербург           22992.0   \n",
       "14706      False         24.00      3.0  Санкт-Петербург           21912.0   \n",
       "15016      False           NaN      0.0  Санкт-Петербург           33058.0   \n",
       "15651      False         70.00      NaN  Санкт-Петербург           32440.0   \n",
       "16461      False         29.80      NaN  Санкт-Петербург           33143.0   \n",
       "16495      False         30.00      2.0  Санкт-Петербург           21740.0   \n",
       "16647      False         72.00      NaN  Санкт-Петербург           33931.0   \n",
       "17912      False         64.00      NaN  Санкт-Петербург           32863.0   \n",
       "19155      False         33.00      NaN  Санкт-Петербург           22640.0   \n",
       "19540      False        112.00      NaN  Санкт-Петербург           30706.0   \n",
       "19865      False         45.00      0.0  Санкт-Петербург           23962.0   \n",
       "20264      False         15.60      NaN  Санкт-Петербург           26902.0   \n",
       "20349      False         29.86      0.0  Санкт-Петербург           27102.0   \n",
       "21023      False         23.00      0.0  Санкт-Петербург           21946.0   \n",
       "21923      False         50.00      NaN  Санкт-Петербург           22777.0   \n",
       "21955      False         20.00      5.0  Санкт-Петербург               NaN   \n",
       "22229      False         36.00      0.0  Санкт-Петербург           24072.0   \n",
       "22831      False         30.20      NaN  Санкт-Петербург           22494.0   \n",
       "\n",
       "       citycenters_nearest  parks_around3000  parks_nearest  ponds_around3000  \\\n",
       "793                 7251.0               2.0          295.0               3.0   \n",
       "1026                4785.0               0.0            NaN               1.0   \n",
       "1188                6224.0               1.0          217.0               0.0   \n",
       "1300                4247.0               1.0          464.0               3.0   \n",
       "1436                1197.0               3.0          519.0               3.0   \n",
       "1928                2335.0               0.0            NaN               2.0   \n",
       "2243                5913.0               2.0          164.0               0.0   \n",
       "2536                2242.0               1.0          679.0               1.0   \n",
       "3117                4972.0               0.0            NaN               2.0   \n",
       "4996                1722.0               3.0          302.0               3.0   \n",
       "5893                5297.0               0.0            NaN               2.0   \n",
       "7543                4785.0               0.0            NaN               1.0   \n",
       "7674                4504.0               2.0          161.0               1.0   \n",
       "7857                5845.0               2.0          116.0               0.0   \n",
       "8900                5297.0               0.0            NaN               2.0   \n",
       "12674               3503.0               3.0          413.0               3.0   \n",
       "12859               4972.0               0.0            NaN               2.0   \n",
       "12971               3956.0               1.0          530.0               3.0   \n",
       "13749               5297.0               0.0            NaN               2.0   \n",
       "13864               1280.0               3.0          395.0               3.0   \n",
       "14706               2389.0               1.0          545.0               1.0   \n",
       "15016               6150.0               3.0          209.0               3.0   \n",
       "15651               5297.0               0.0            NaN               2.0   \n",
       "16461               6235.0               3.0          400.0               3.0   \n",
       "16495                436.0               2.0          138.0               3.0   \n",
       "16647               7023.0               2.0          478.0               3.0   \n",
       "17912               5955.0               2.0          230.0               3.0   \n",
       "19155                555.0               3.0          285.0               1.0   \n",
       "19540               7877.0               0.0            NaN               2.0   \n",
       "19865               3794.0               2.0          537.0               3.0   \n",
       "20264               5605.0               3.0          484.0               1.0   \n",
       "20349               7442.0               2.0          164.0               2.0   \n",
       "21023               2242.0               1.0          679.0               1.0   \n",
       "21923               1328.0               3.0          652.0               3.0   \n",
       "21955                  NaN               NaN            NaN               NaN   \n",
       "22229               3639.0               2.0          727.0               3.0   \n",
       "22831               1073.0               3.0          386.0               3.0   \n",
       "\n",
       "       ponds_nearest  days_exposition  \n",
       "793            190.0            342.0  \n",
       "1026           603.0              NaN  \n",
       "1188             NaN            316.0  \n",
       "1300           339.0            225.0  \n",
       "1436           285.0            233.0  \n",
       "1928           497.0            174.0  \n",
       "2243             NaN            599.0  \n",
       "2536           227.0            501.0  \n",
       "3117           210.0              NaN  \n",
       "4996           172.0             45.0  \n",
       "5893           198.0             50.0  \n",
       "7543           603.0           1094.0  \n",
       "7674           635.0            901.0  \n",
       "7857             NaN            135.0  \n",
       "8900           198.0            901.0  \n",
       "12674           83.0            399.0  \n",
       "12859          210.0              NaN  \n",
       "12971          756.0             33.0  \n",
       "13749          198.0            199.0  \n",
       "13864          170.0            467.0  \n",
       "14706          478.0            393.0  \n",
       "15016          531.0            303.0  \n",
       "15651          198.0            111.0  \n",
       "16461          140.0            249.0  \n",
       "16495          620.0            178.0  \n",
       "16647          250.0            335.0  \n",
       "17912          215.0              NaN  \n",
       "19155          200.0             18.0  \n",
       "19540          318.0            106.0  \n",
       "19865          501.0            834.0  \n",
       "20264          305.0            259.0  \n",
       "20349          473.0            205.0  \n",
       "21023          227.0            501.0  \n",
       "21923          253.0            351.0  \n",
       "21955            NaN            161.0  \n",
       "22229          462.0            233.0  \n",
       "22831          188.0              NaN  "
      ]
     },
     "execution_count": 10,
     "metadata": {},
     "output_type": "execute_result"
    }
   ],
   "source": [
    "data.query('last_price > 100000')"
   ]
  },
  {
   "cell_type": "code",
   "execution_count": 11,
   "metadata": {
    "pycharm": {
     "name": "#%%\n"
    }
   },
   "outputs": [],
   "source": [
    "#Отбросим данные с незначительным кол-вом пропусков: locality_name, floors_total, а также данные с данными по жилой площади, т.к. мы не можем достоверно указать корректные данные:\n",
    "data.dropna(subset=['locality_name', 'floors_total', 'living_area'], inplace=True)"
   ]
  },
  {
   "cell_type": "code",
   "execution_count": 12,
   "metadata": {
    "pycharm": {
     "name": "#%%\n"
    }
   },
   "outputs": [],
   "source": [
    "#заполним высоту потолков медианным значением\n",
    "data['ceiling_height'] = data['ceiling_height'].fillna(data['ceiling_height'].median())"
   ]
  },
  {
   "cell_type": "code",
   "execution_count": 13,
   "metadata": {
    "pycharm": {
     "name": "#%%\n"
    }
   },
   "outputs": [
    {
     "data": {
      "text/html": [
       "<div>\n",
       "<style scoped>\n",
       "    .dataframe tbody tr th:only-of-type {\n",
       "        vertical-align: middle;\n",
       "    }\n",
       "\n",
       "    .dataframe tbody tr th {\n",
       "        vertical-align: top;\n",
       "    }\n",
       "\n",
       "    .dataframe thead th {\n",
       "        text-align: right;\n",
       "    }\n",
       "</style>\n",
       "<table border=\"1\" class=\"dataframe\">\n",
       "  <thead>\n",
       "    <tr style=\"text-align: right;\">\n",
       "      <th></th>\n",
       "      <th>total_images</th>\n",
       "      <th>last_price</th>\n",
       "      <th>total_area</th>\n",
       "      <th>first_day_exposition</th>\n",
       "      <th>rooms</th>\n",
       "      <th>ceiling_height</th>\n",
       "      <th>floors_total</th>\n",
       "      <th>living_area</th>\n",
       "      <th>floor</th>\n",
       "      <th>is_apartment</th>\n",
       "      <th>studio</th>\n",
       "      <th>open_plan</th>\n",
       "      <th>kitchen_area</th>\n",
       "      <th>balcony</th>\n",
       "      <th>locality_name</th>\n",
       "      <th>airports_nearest</th>\n",
       "      <th>citycenters_nearest</th>\n",
       "      <th>parks_around3000</th>\n",
       "      <th>parks_nearest</th>\n",
       "      <th>ponds_around3000</th>\n",
       "      <th>ponds_nearest</th>\n",
       "      <th>days_exposition</th>\n",
       "    </tr>\n",
       "  </thead>\n",
       "  <tbody>\n",
       "    <tr>\n",
       "      <th>648</th>\n",
       "      <td>3</td>\n",
       "      <td>17500.0</td>\n",
       "      <td>183.7</td>\n",
       "      <td>2018-07-01T00:00:00</td>\n",
       "      <td>11</td>\n",
       "      <td>3.40</td>\n",
       "      <td>7.0</td>\n",
       "      <td>138.8</td>\n",
       "      <td>7</td>\n",
       "      <td>NaN</td>\n",
       "      <td>False</td>\n",
       "      <td>False</td>\n",
       "      <td>13.3</td>\n",
       "      <td>NaN</td>\n",
       "      <td>Санкт-Петербург</td>\n",
       "      <td>23606.0</td>\n",
       "      <td>3148.0</td>\n",
       "      <td>0.0</td>\n",
       "      <td>NaN</td>\n",
       "      <td>0.0</td>\n",
       "      <td>NaN</td>\n",
       "      <td>NaN</td>\n",
       "    </tr>\n",
       "    <tr>\n",
       "      <th>866</th>\n",
       "      <td>5</td>\n",
       "      <td>25000.0</td>\n",
       "      <td>363.0</td>\n",
       "      <td>2017-12-23T00:00:00</td>\n",
       "      <td>14</td>\n",
       "      <td>3.16</td>\n",
       "      <td>5.0</td>\n",
       "      <td>222.0</td>\n",
       "      <td>4</td>\n",
       "      <td>NaN</td>\n",
       "      <td>False</td>\n",
       "      <td>False</td>\n",
       "      <td>16.6</td>\n",
       "      <td>NaN</td>\n",
       "      <td>Санкт-Петербург</td>\n",
       "      <td>38076.0</td>\n",
       "      <td>7950.0</td>\n",
       "      <td>0.0</td>\n",
       "      <td>NaN</td>\n",
       "      <td>2.0</td>\n",
       "      <td>435.0</td>\n",
       "      <td>418.0</td>\n",
       "    </tr>\n",
       "    <tr>\n",
       "      <th>4149</th>\n",
       "      <td>6</td>\n",
       "      <td>23000.0</td>\n",
       "      <td>272.6</td>\n",
       "      <td>2018-01-11T00:00:00</td>\n",
       "      <td>10</td>\n",
       "      <td>3.14</td>\n",
       "      <td>7.0</td>\n",
       "      <td>145.9</td>\n",
       "      <td>7</td>\n",
       "      <td>NaN</td>\n",
       "      <td>False</td>\n",
       "      <td>False</td>\n",
       "      <td>18.8</td>\n",
       "      <td>1.0</td>\n",
       "      <td>Санкт-Петербург</td>\n",
       "      <td>10726.0</td>\n",
       "      <td>12169.0</td>\n",
       "      <td>1.0</td>\n",
       "      <td>191.0</td>\n",
       "      <td>1.0</td>\n",
       "      <td>531.0</td>\n",
       "      <td>NaN</td>\n",
       "    </tr>\n",
       "    <tr>\n",
       "      <th>5358</th>\n",
       "      <td>20</td>\n",
       "      <td>65000.0</td>\n",
       "      <td>590.0</td>\n",
       "      <td>2019-02-14T00:00:00</td>\n",
       "      <td>15</td>\n",
       "      <td>3.50</td>\n",
       "      <td>6.0</td>\n",
       "      <td>409.0</td>\n",
       "      <td>3</td>\n",
       "      <td>NaN</td>\n",
       "      <td>False</td>\n",
       "      <td>False</td>\n",
       "      <td>100.0</td>\n",
       "      <td>NaN</td>\n",
       "      <td>Санкт-Петербург</td>\n",
       "      <td>24447.0</td>\n",
       "      <td>4666.0</td>\n",
       "      <td>1.0</td>\n",
       "      <td>767.0</td>\n",
       "      <td>0.0</td>\n",
       "      <td>NaN</td>\n",
       "      <td>14.0</td>\n",
       "    </tr>\n",
       "    <tr>\n",
       "      <th>8822</th>\n",
       "      <td>14</td>\n",
       "      <td>49968.9</td>\n",
       "      <td>398.0</td>\n",
       "      <td>2017-07-12T00:00:00</td>\n",
       "      <td>9</td>\n",
       "      <td>3.00</td>\n",
       "      <td>2.0</td>\n",
       "      <td>160.1</td>\n",
       "      <td>1</td>\n",
       "      <td>False</td>\n",
       "      <td>False</td>\n",
       "      <td>False</td>\n",
       "      <td>41.0</td>\n",
       "      <td>NaN</td>\n",
       "      <td>Санкт-Петербург</td>\n",
       "      <td>17720.0</td>\n",
       "      <td>16722.0</td>\n",
       "      <td>3.0</td>\n",
       "      <td>471.0</td>\n",
       "      <td>2.0</td>\n",
       "      <td>440.0</td>\n",
       "      <td>471.0</td>\n",
       "    </tr>\n",
       "    <tr>\n",
       "      <th>9550</th>\n",
       "      <td>10</td>\n",
       "      <td>23500.0</td>\n",
       "      <td>313.0</td>\n",
       "      <td>2017-02-13T00:00:00</td>\n",
       "      <td>9</td>\n",
       "      <td>3.20</td>\n",
       "      <td>6.0</td>\n",
       "      <td>179.2</td>\n",
       "      <td>5</td>\n",
       "      <td>NaN</td>\n",
       "      <td>False</td>\n",
       "      <td>False</td>\n",
       "      <td>13.2</td>\n",
       "      <td>NaN</td>\n",
       "      <td>Санкт-Петербург</td>\n",
       "      <td>38435.0</td>\n",
       "      <td>10138.0</td>\n",
       "      <td>1.0</td>\n",
       "      <td>146.0</td>\n",
       "      <td>0.0</td>\n",
       "      <td>NaN</td>\n",
       "      <td>NaN</td>\n",
       "    </tr>\n",
       "    <tr>\n",
       "      <th>9688</th>\n",
       "      <td>8</td>\n",
       "      <td>33000.0</td>\n",
       "      <td>194.1</td>\n",
       "      <td>2017-02-07T00:00:00</td>\n",
       "      <td>11</td>\n",
       "      <td>3.43</td>\n",
       "      <td>5.0</td>\n",
       "      <td>129.0</td>\n",
       "      <td>2</td>\n",
       "      <td>NaN</td>\n",
       "      <td>False</td>\n",
       "      <td>False</td>\n",
       "      <td>11.9</td>\n",
       "      <td>NaN</td>\n",
       "      <td>Санкт-Петербург</td>\n",
       "      <td>21469.0</td>\n",
       "      <td>1015.0</td>\n",
       "      <td>1.0</td>\n",
       "      <td>686.0</td>\n",
       "      <td>2.0</td>\n",
       "      <td>66.0</td>\n",
       "      <td>813.0</td>\n",
       "    </tr>\n",
       "    <tr>\n",
       "      <th>13019</th>\n",
       "      <td>0</td>\n",
       "      <td>22250.0</td>\n",
       "      <td>249.9</td>\n",
       "      <td>2019-04-23T00:00:00</td>\n",
       "      <td>9</td>\n",
       "      <td>3.20</td>\n",
       "      <td>5.0</td>\n",
       "      <td>157.0</td>\n",
       "      <td>5</td>\n",
       "      <td>NaN</td>\n",
       "      <td>False</td>\n",
       "      <td>False</td>\n",
       "      <td>12.4</td>\n",
       "      <td>NaN</td>\n",
       "      <td>Санкт-Петербург</td>\n",
       "      <td>10328.0</td>\n",
       "      <td>9987.0</td>\n",
       "      <td>2.0</td>\n",
       "      <td>352.0</td>\n",
       "      <td>0.0</td>\n",
       "      <td>NaN</td>\n",
       "      <td>NaN</td>\n",
       "    </tr>\n",
       "    <tr>\n",
       "      <th>13397</th>\n",
       "      <td>14</td>\n",
       "      <td>19500.0</td>\n",
       "      <td>309.7</td>\n",
       "      <td>2016-02-03T00:00:00</td>\n",
       "      <td>9</td>\n",
       "      <td>2.65</td>\n",
       "      <td>5.0</td>\n",
       "      <td>199.0</td>\n",
       "      <td>5</td>\n",
       "      <td>NaN</td>\n",
       "      <td>False</td>\n",
       "      <td>False</td>\n",
       "      <td>14.3</td>\n",
       "      <td>0.0</td>\n",
       "      <td>Санкт-Петербург</td>\n",
       "      <td>10328.0</td>\n",
       "      <td>9987.0</td>\n",
       "      <td>2.0</td>\n",
       "      <td>352.0</td>\n",
       "      <td>0.0</td>\n",
       "      <td>NaN</td>\n",
       "      <td>468.0</td>\n",
       "    </tr>\n",
       "    <tr>\n",
       "      <th>14498</th>\n",
       "      <td>6</td>\n",
       "      <td>32250.0</td>\n",
       "      <td>374.6</td>\n",
       "      <td>2018-06-09T00:00:00</td>\n",
       "      <td>19</td>\n",
       "      <td>2.65</td>\n",
       "      <td>5.0</td>\n",
       "      <td>264.5</td>\n",
       "      <td>2</td>\n",
       "      <td>NaN</td>\n",
       "      <td>False</td>\n",
       "      <td>False</td>\n",
       "      <td>27.6</td>\n",
       "      <td>NaN</td>\n",
       "      <td>Санкт-Петербург</td>\n",
       "      <td>19497.0</td>\n",
       "      <td>3574.0</td>\n",
       "      <td>0.0</td>\n",
       "      <td>NaN</td>\n",
       "      <td>2.0</td>\n",
       "      <td>548.0</td>\n",
       "      <td>114.0</td>\n",
       "    </tr>\n",
       "    <tr>\n",
       "      <th>15151</th>\n",
       "      <td>15</td>\n",
       "      <td>88000.0</td>\n",
       "      <td>400.0</td>\n",
       "      <td>2019-03-27T00:00:00</td>\n",
       "      <td>9</td>\n",
       "      <td>2.50</td>\n",
       "      <td>2.0</td>\n",
       "      <td>250.0</td>\n",
       "      <td>1</td>\n",
       "      <td>NaN</td>\n",
       "      <td>False</td>\n",
       "      <td>False</td>\n",
       "      <td>50.0</td>\n",
       "      <td>NaN</td>\n",
       "      <td>Санкт-Петербург</td>\n",
       "      <td>24395.0</td>\n",
       "      <td>2725.0</td>\n",
       "      <td>2.0</td>\n",
       "      <td>315.0</td>\n",
       "      <td>1.0</td>\n",
       "      <td>578.0</td>\n",
       "      <td>NaN</td>\n",
       "    </tr>\n",
       "    <tr>\n",
       "      <th>16915</th>\n",
       "      <td>14</td>\n",
       "      <td>29000.0</td>\n",
       "      <td>292.2</td>\n",
       "      <td>2017-01-12T00:00:00</td>\n",
       "      <td>9</td>\n",
       "      <td>3.35</td>\n",
       "      <td>5.0</td>\n",
       "      <td>225.9</td>\n",
       "      <td>4</td>\n",
       "      <td>NaN</td>\n",
       "      <td>False</td>\n",
       "      <td>False</td>\n",
       "      <td>32.9</td>\n",
       "      <td>1.0</td>\n",
       "      <td>Санкт-Петербург</td>\n",
       "      <td>24892.0</td>\n",
       "      <td>5162.0</td>\n",
       "      <td>2.0</td>\n",
       "      <td>263.0</td>\n",
       "      <td>0.0</td>\n",
       "      <td>NaN</td>\n",
       "      <td>825.0</td>\n",
       "    </tr>\n",
       "    <tr>\n",
       "      <th>18119</th>\n",
       "      <td>4</td>\n",
       "      <td>15500.0</td>\n",
       "      <td>216.1</td>\n",
       "      <td>2016-07-04T00:00:00</td>\n",
       "      <td>10</td>\n",
       "      <td>3.15</td>\n",
       "      <td>5.0</td>\n",
       "      <td>161.4</td>\n",
       "      <td>2</td>\n",
       "      <td>NaN</td>\n",
       "      <td>False</td>\n",
       "      <td>False</td>\n",
       "      <td>19.8</td>\n",
       "      <td>0.0</td>\n",
       "      <td>Санкт-Петербург</td>\n",
       "      <td>24353.0</td>\n",
       "      <td>4921.0</td>\n",
       "      <td>1.0</td>\n",
       "      <td>368.0</td>\n",
       "      <td>0.0</td>\n",
       "      <td>NaN</td>\n",
       "      <td>11.0</td>\n",
       "    </tr>\n",
       "    <tr>\n",
       "      <th>18848</th>\n",
       "      <td>6</td>\n",
       "      <td>28500.0</td>\n",
       "      <td>270.0</td>\n",
       "      <td>2015-03-02T00:00:00</td>\n",
       "      <td>16</td>\n",
       "      <td>3.00</td>\n",
       "      <td>4.0</td>\n",
       "      <td>180.0</td>\n",
       "      <td>4</td>\n",
       "      <td>NaN</td>\n",
       "      <td>False</td>\n",
       "      <td>False</td>\n",
       "      <td>13.0</td>\n",
       "      <td>1.0</td>\n",
       "      <td>Санкт-Петербург</td>\n",
       "      <td>23575.0</td>\n",
       "      <td>4142.0</td>\n",
       "      <td>1.0</td>\n",
       "      <td>516.0</td>\n",
       "      <td>0.0</td>\n",
       "      <td>NaN</td>\n",
       "      <td>1365.0</td>\n",
       "    </tr>\n",
       "    <tr>\n",
       "      <th>18891</th>\n",
       "      <td>11</td>\n",
       "      <td>40000.0</td>\n",
       "      <td>290.0</td>\n",
       "      <td>2016-06-21T00:00:00</td>\n",
       "      <td>10</td>\n",
       "      <td>3.50</td>\n",
       "      <td>6.0</td>\n",
       "      <td>189.4</td>\n",
       "      <td>6</td>\n",
       "      <td>NaN</td>\n",
       "      <td>False</td>\n",
       "      <td>False</td>\n",
       "      <td>30.0</td>\n",
       "      <td>1.0</td>\n",
       "      <td>Санкт-Петербург</td>\n",
       "      <td>26229.0</td>\n",
       "      <td>4932.0</td>\n",
       "      <td>3.0</td>\n",
       "      <td>316.0</td>\n",
       "      <td>1.0</td>\n",
       "      <td>227.0</td>\n",
       "      <td>77.0</td>\n",
       "    </tr>\n",
       "    <tr>\n",
       "      <th>19540</th>\n",
       "      <td>8</td>\n",
       "      <td>420000.0</td>\n",
       "      <td>900.0</td>\n",
       "      <td>2017-12-06T00:00:00</td>\n",
       "      <td>12</td>\n",
       "      <td>2.80</td>\n",
       "      <td>25.0</td>\n",
       "      <td>409.7</td>\n",
       "      <td>25</td>\n",
       "      <td>NaN</td>\n",
       "      <td>False</td>\n",
       "      <td>False</td>\n",
       "      <td>112.0</td>\n",
       "      <td>NaN</td>\n",
       "      <td>Санкт-Петербург</td>\n",
       "      <td>30706.0</td>\n",
       "      <td>7877.0</td>\n",
       "      <td>0.0</td>\n",
       "      <td>NaN</td>\n",
       "      <td>2.0</td>\n",
       "      <td>318.0</td>\n",
       "      <td>106.0</td>\n",
       "    </tr>\n",
       "    <tr>\n",
       "      <th>20791</th>\n",
       "      <td>0</td>\n",
       "      <td>24000.0</td>\n",
       "      <td>250.0</td>\n",
       "      <td>2019-04-23T00:00:00</td>\n",
       "      <td>9</td>\n",
       "      <td>3.20</td>\n",
       "      <td>5.0</td>\n",
       "      <td>160.6</td>\n",
       "      <td>3</td>\n",
       "      <td>NaN</td>\n",
       "      <td>False</td>\n",
       "      <td>False</td>\n",
       "      <td>11.7</td>\n",
       "      <td>NaN</td>\n",
       "      <td>Санкт-Петербург</td>\n",
       "      <td>10328.0</td>\n",
       "      <td>9987.0</td>\n",
       "      <td>2.0</td>\n",
       "      <td>352.0</td>\n",
       "      <td>0.0</td>\n",
       "      <td>NaN</td>\n",
       "      <td>NaN</td>\n",
       "    </tr>\n",
       "    <tr>\n",
       "      <th>20829</th>\n",
       "      <td>6</td>\n",
       "      <td>28659.0</td>\n",
       "      <td>245.4</td>\n",
       "      <td>2016-03-31T00:00:00</td>\n",
       "      <td>14</td>\n",
       "      <td>2.65</td>\n",
       "      <td>4.0</td>\n",
       "      <td>168.3</td>\n",
       "      <td>2</td>\n",
       "      <td>NaN</td>\n",
       "      <td>False</td>\n",
       "      <td>False</td>\n",
       "      <td>25.9</td>\n",
       "      <td>0.0</td>\n",
       "      <td>Санкт-Петербург</td>\n",
       "      <td>21104.0</td>\n",
       "      <td>2054.0</td>\n",
       "      <td>3.0</td>\n",
       "      <td>541.0</td>\n",
       "      <td>2.0</td>\n",
       "      <td>118.0</td>\n",
       "      <td>95.0</td>\n",
       "    </tr>\n",
       "  </tbody>\n",
       "</table>\n",
       "</div>"
      ],
      "text/plain": [
       "       total_images  last_price  total_area first_day_exposition  rooms  \\\n",
       "648               3     17500.0       183.7  2018-07-01T00:00:00     11   \n",
       "866               5     25000.0       363.0  2017-12-23T00:00:00     14   \n",
       "4149              6     23000.0       272.6  2018-01-11T00:00:00     10   \n",
       "5358             20     65000.0       590.0  2019-02-14T00:00:00     15   \n",
       "8822             14     49968.9       398.0  2017-07-12T00:00:00      9   \n",
       "9550             10     23500.0       313.0  2017-02-13T00:00:00      9   \n",
       "9688              8     33000.0       194.1  2017-02-07T00:00:00     11   \n",
       "13019             0     22250.0       249.9  2019-04-23T00:00:00      9   \n",
       "13397            14     19500.0       309.7  2016-02-03T00:00:00      9   \n",
       "14498             6     32250.0       374.6  2018-06-09T00:00:00     19   \n",
       "15151            15     88000.0       400.0  2019-03-27T00:00:00      9   \n",
       "16915            14     29000.0       292.2  2017-01-12T00:00:00      9   \n",
       "18119             4     15500.0       216.1  2016-07-04T00:00:00     10   \n",
       "18848             6     28500.0       270.0  2015-03-02T00:00:00     16   \n",
       "18891            11     40000.0       290.0  2016-06-21T00:00:00     10   \n",
       "19540             8    420000.0       900.0  2017-12-06T00:00:00     12   \n",
       "20791             0     24000.0       250.0  2019-04-23T00:00:00      9   \n",
       "20829             6     28659.0       245.4  2016-03-31T00:00:00     14   \n",
       "\n",
       "       ceiling_height  floors_total  living_area  floor is_apartment  studio  \\\n",
       "648              3.40           7.0        138.8      7          NaN   False   \n",
       "866              3.16           5.0        222.0      4          NaN   False   \n",
       "4149             3.14           7.0        145.9      7          NaN   False   \n",
       "5358             3.50           6.0        409.0      3          NaN   False   \n",
       "8822             3.00           2.0        160.1      1        False   False   \n",
       "9550             3.20           6.0        179.2      5          NaN   False   \n",
       "9688             3.43           5.0        129.0      2          NaN   False   \n",
       "13019            3.20           5.0        157.0      5          NaN   False   \n",
       "13397            2.65           5.0        199.0      5          NaN   False   \n",
       "14498            2.65           5.0        264.5      2          NaN   False   \n",
       "15151            2.50           2.0        250.0      1          NaN   False   \n",
       "16915            3.35           5.0        225.9      4          NaN   False   \n",
       "18119            3.15           5.0        161.4      2          NaN   False   \n",
       "18848            3.00           4.0        180.0      4          NaN   False   \n",
       "18891            3.50           6.0        189.4      6          NaN   False   \n",
       "19540            2.80          25.0        409.7     25          NaN   False   \n",
       "20791            3.20           5.0        160.6      3          NaN   False   \n",
       "20829            2.65           4.0        168.3      2          NaN   False   \n",
       "\n",
       "       open_plan  kitchen_area  balcony    locality_name  airports_nearest  \\\n",
       "648        False          13.3      NaN  Санкт-Петербург           23606.0   \n",
       "866        False          16.6      NaN  Санкт-Петербург           38076.0   \n",
       "4149       False          18.8      1.0  Санкт-Петербург           10726.0   \n",
       "5358       False         100.0      NaN  Санкт-Петербург           24447.0   \n",
       "8822       False          41.0      NaN  Санкт-Петербург           17720.0   \n",
       "9550       False          13.2      NaN  Санкт-Петербург           38435.0   \n",
       "9688       False          11.9      NaN  Санкт-Петербург           21469.0   \n",
       "13019      False          12.4      NaN  Санкт-Петербург           10328.0   \n",
       "13397      False          14.3      0.0  Санкт-Петербург           10328.0   \n",
       "14498      False          27.6      NaN  Санкт-Петербург           19497.0   \n",
       "15151      False          50.0      NaN  Санкт-Петербург           24395.0   \n",
       "16915      False          32.9      1.0  Санкт-Петербург           24892.0   \n",
       "18119      False          19.8      0.0  Санкт-Петербург           24353.0   \n",
       "18848      False          13.0      1.0  Санкт-Петербург           23575.0   \n",
       "18891      False          30.0      1.0  Санкт-Петербург           26229.0   \n",
       "19540      False         112.0      NaN  Санкт-Петербург           30706.0   \n",
       "20791      False          11.7      NaN  Санкт-Петербург           10328.0   \n",
       "20829      False          25.9      0.0  Санкт-Петербург           21104.0   \n",
       "\n",
       "       citycenters_nearest  parks_around3000  parks_nearest  ponds_around3000  \\\n",
       "648                 3148.0               0.0            NaN               0.0   \n",
       "866                 7950.0               0.0            NaN               2.0   \n",
       "4149               12169.0               1.0          191.0               1.0   \n",
       "5358                4666.0               1.0          767.0               0.0   \n",
       "8822               16722.0               3.0          471.0               2.0   \n",
       "9550               10138.0               1.0          146.0               0.0   \n",
       "9688                1015.0               1.0          686.0               2.0   \n",
       "13019               9987.0               2.0          352.0               0.0   \n",
       "13397               9987.0               2.0          352.0               0.0   \n",
       "14498               3574.0               0.0            NaN               2.0   \n",
       "15151               2725.0               2.0          315.0               1.0   \n",
       "16915               5162.0               2.0          263.0               0.0   \n",
       "18119               4921.0               1.0          368.0               0.0   \n",
       "18848               4142.0               1.0          516.0               0.0   \n",
       "18891               4932.0               3.0          316.0               1.0   \n",
       "19540               7877.0               0.0            NaN               2.0   \n",
       "20791               9987.0               2.0          352.0               0.0   \n",
       "20829               2054.0               3.0          541.0               2.0   \n",
       "\n",
       "       ponds_nearest  days_exposition  \n",
       "648              NaN              NaN  \n",
       "866            435.0            418.0  \n",
       "4149           531.0              NaN  \n",
       "5358             NaN             14.0  \n",
       "8822           440.0            471.0  \n",
       "9550             NaN              NaN  \n",
       "9688            66.0            813.0  \n",
       "13019            NaN              NaN  \n",
       "13397            NaN            468.0  \n",
       "14498          548.0            114.0  \n",
       "15151          578.0              NaN  \n",
       "16915            NaN            825.0  \n",
       "18119            NaN             11.0  \n",
       "18848            NaN           1365.0  \n",
       "18891          227.0             77.0  \n",
       "19540          318.0            106.0  \n",
       "20791            NaN              NaN  \n",
       "20829          118.0             95.0  "
      ]
     },
     "execution_count": 13,
     "metadata": {},
     "output_type": "execute_result"
    }
   ],
   "source": [
    "#проверим данные квартир с большим количеством комнат\n",
    "data.query('rooms > 8') #очевидных аномалий не выявлено. У квартир с большим кол-вом комнат достоточно большая площадь"
   ]
  },
  {
   "cell_type": "code",
   "execution_count": 14,
   "metadata": {
    "pycharm": {
     "name": "#%%\n"
    }
   },
   "outputs": [],
   "source": [
    "#меняем значения комнат с 0 до 1\n",
    "data.loc[(data['rooms'] == 0), 'rooms'] = 1"
   ]
  },
  {
   "cell_type": "code",
   "execution_count": 15,
   "metadata": {
    "pycharm": {
     "name": "#%%\n"
    }
   },
   "outputs": [],
   "source": [
    "#примем пропущенные значения в колонке с балконами за отсутсвие балкона\n",
    "data['balcony'] = data['balcony'].fillna(0)"
   ]
  },
  {
   "cell_type": "code",
   "execution_count": 16,
   "metadata": {
    "pycharm": {
     "name": "#%%\n"
    }
   },
   "outputs": [],
   "source": [
    "#примем допущение, что при необходимости тип \"апартаменты\" был указан, пропущенные значения заполним False\n",
    "data['is_apartment'] = data['is_apartment'].fillna(False)"
   ]
  },
  {
   "cell_type": "code",
   "execution_count": 17,
   "metadata": {
    "pycharm": {
     "name": "#%%\n"
    }
   },
   "outputs": [
    {
     "data": {
      "text/plain": [
       "array(['Санкт-Петербург', 'посёлок Шушары', 'городской посёлок Янино-1',\n",
       "       'посёлок Парголово', 'посёлок Мурино', 'Ломоносов', 'Сертолово',\n",
       "       'Петергоф', 'Пушкин', 'деревня Кудрово', 'Колпино', 'Гатчина',\n",
       "       'поселок Мурино', 'деревня Фёдоровское', 'Выборг', 'Кронштадт',\n",
       "       'Кировск', 'деревня Новое Девяткино', 'посёлок Металлострой',\n",
       "       'посёлок городского типа Лебяжье',\n",
       "       'посёлок городского типа Сиверский', 'поселок Молодцово',\n",
       "       'поселок городского типа Кузьмоловский',\n",
       "       'садовое товарищество Новая Ропша', 'Павловск',\n",
       "       'деревня Пикколово', 'Всеволожск', 'Волхов', 'Кингисепп',\n",
       "       'Приозерск', 'Сестрорецк', 'деревня Куттузи', 'посёлок Аннино',\n",
       "       'деревня Заклинье', 'поселок Торковичи', 'поселок Первомайское',\n",
       "       'Красное Село', 'посёлок Понтонный', 'деревня Старая',\n",
       "       'деревня Лесколово', 'село Путилово', 'Ивангород', 'Мурино',\n",
       "       'Сланцы', 'Шлиссельбург', 'Сясьстрой', 'Никольское', 'Зеленогорск',\n",
       "       'Сосновый Бор', 'поселок Новый Свет', 'деревня Оржицы',\n",
       "       'деревня Кальтино', 'Кудрово', 'поселок Романовка',\n",
       "       'посёлок Бугры', 'поселок Бугры', 'поселок городского типа Рощино',\n",
       "       'Кириши', 'Луга', 'Волосово', 'Отрадное', 'село Павлово',\n",
       "       'поселок Оредеж', 'посёлок городского типа Красный Бор',\n",
       "       'Коммунар', 'посёлок Молодёжное', 'деревня Нурма',\n",
       "       'поселок городского типа Синявино', 'Тосно', 'посёлок Новый Свет',\n",
       "       'посёлок городского типа Кузьмоловский', 'посёлок Стрельна',\n",
       "       'Бокситогорск', 'посёлок Александровская', 'деревня Лопухинка',\n",
       "       'поселок Терволово', 'поселок городского типа Советский',\n",
       "       'Подпорожье', 'посёлок Петровское',\n",
       "       'посёлок городского типа Токсово', 'поселок Сельцо',\n",
       "       'посёлок городского типа Вырица', 'деревня Кипень',\n",
       "       'деревня Келози', 'деревня Вартемяги', 'посёлок Тельмана',\n",
       "       'городской поселок Большая Ижора', 'Тихвин', 'деревня Агалатово',\n",
       "       'посёлок Новогорелово', 'городской посёлок Лесогорский',\n",
       "       'деревня Лаголово', 'поселок Цвелодубово',\n",
       "       'поселок городского типа Рахья', 'поселок городского типа Вырица',\n",
       "       'деревня Белогорка', 'поселок Заводской',\n",
       "       'городской посёлок Новоселье', 'деревня Большие Колпаны',\n",
       "       'деревня Горбунки', 'деревня Заневка', 'Приморск',\n",
       "       'городской посёлок Фёдоровское', 'деревня Мистолово',\n",
       "       'Новая Ладога', 'поселок Зимитицы', 'поселок Барышево',\n",
       "       'деревня Разметелево', 'поселок городского типа имени Свердлова',\n",
       "       'деревня Пеники', 'поселок Рябово', 'деревня Пудомяги',\n",
       "       'поселок станции Корнево', 'деревня Низино', 'деревня Бегуницы',\n",
       "       'посёлок Поляны', 'городской посёлок Мга', 'поселок Елизаветино',\n",
       "       'посёлок городского типа Кузнечное', 'деревня Колтуши',\n",
       "       'поселок Запорожское', 'посёлок городского типа Рощино',\n",
       "       'деревня Гостилицы', 'деревня Малое Карлино',\n",
       "       'посёлок Мичуринское', 'посёлок городского типа имени Морозова',\n",
       "       'посёлок Песочный', 'посёлок Сосново', 'деревня Аро',\n",
       "       'поселок Ильичёво', 'посёлок городского типа Тайцы',\n",
       "       'деревня Малое Верево', 'поселок станции Вещево',\n",
       "       'деревня Калитино', 'посёлок городского типа Ульяновка',\n",
       "       'деревня Чудской Бор', 'поселок городского типа Дубровка',\n",
       "       'деревня Мины', 'поселок Войсковицы',\n",
       "       'посёлок городского типа имени Свердлова', 'деревня Коркино',\n",
       "       'посёлок Ропша', 'поселок городского типа Приладожский',\n",
       "       'посёлок Щеглово', 'посёлок Гаврилово', 'Лодейное Поле',\n",
       "       'Пикалёво', 'деревня Рабитицы', 'деревня Кузьмолово',\n",
       "       'деревня Малые Колпаны', 'поселок Тельмана',\n",
       "       'городской посёлок Назия', 'посёлок Репино',\n",
       "       'городской посёлок Павлово', 'посёлок Ильичёво', 'поселок Углово',\n",
       "       'поселок Старая Малукса', 'садовое товарищество Рахья',\n",
       "       'поселок Аннино', 'поселок Победа', 'деревня Меньково',\n",
       "       'деревня Старые Бегуницы', 'посёлок Сапёрный', 'поселок Семрино',\n",
       "       'поселок Гаврилово', 'поселок Глажево', 'поселок Кобринское',\n",
       "       'деревня Гарболово', 'деревня Юкки',\n",
       "       'поселок станции Приветнинское', 'деревня Мануйлово',\n",
       "       'поселок Поляны', 'поселок Цвылёво', 'поселок Мельниково',\n",
       "       'посёлок Плодовое', 'посёлок Пудость', 'посёлок Усть-Луга',\n",
       "       'Светогорск', 'посёлок Победа', 'Любань', 'поселок Селезнёво',\n",
       "       'поселок городского типа Рябово', 'Каменногорск', 'деревня Кривко',\n",
       "       'деревня Парицы', 'поселок Жилпосёлок',\n",
       "       'посёлок городского типа Мга', 'городской поселок Янино-1',\n",
       "       'посёлок Войскорово', 'село Никольское', 'посёлок Терволово',\n",
       "       'поселок Стеклянный', 'посёлок Мыза-Ивановка',\n",
       "       'село Русско-Высоцкое', 'поселок городского типа Лебяжье',\n",
       "       'поселок городского типа Форносово', 'поселок Житково',\n",
       "       'поселок городского типа Красный Бор', 'городской посёлок Виллози',\n",
       "       'деревня Шпаньково', 'посёлок Сумино', 'посёлок Возрождение',\n",
       "       'деревня Старосиверская', 'посёлок Кикерино',\n",
       "       'поселок Возрождение', 'деревня Старое Хинколово',\n",
       "       'посёлок Пригородный', 'посёлок Торфяное',\n",
       "       'городской посёлок Будогощь', 'поселок Суходолье',\n",
       "       'поселок Красная Долина', 'деревня Хапо-Ое',\n",
       "       'поселок городского типа Дружная Горка', 'деревня Извара',\n",
       "       'поселок Лисий Нос', 'деревня Яльгелево', 'посёлок Стеклянный',\n",
       "       'село Рождествено', 'деревня Сяськелево', 'деревня Камышовка',\n",
       "       'садоводческое некоммерческое товарищество Лесная Поляна',\n",
       "       'поселок Жилгородок', 'посёлок городского типа Павлово',\n",
       "       'деревня Ялгино', 'деревня Батово', 'поселок Новый Учхоз',\n",
       "       'поселок Гончарово', 'поселок Почап', 'посёлок Сапёрное',\n",
       "       'посёлок Платформа 69-й километр', 'поселок Каложицы',\n",
       "       'деревня Фалилеево', 'деревня Пельгора',\n",
       "       'поселок городского типа Лесогорский', 'деревня Торошковичи',\n",
       "       'посёлок Белоостров', 'посёлок Алексеевка',\n",
       "       'посёлок городского типа Важины', 'поселок Глебычево',\n",
       "       'поселок Лукаши', 'поселок Петровское', 'деревня Щеглово',\n",
       "       'поселок Мичуринское', 'городской посёлок Рощино',\n",
       "       'поселок городского типа Никольский', 'поселок Кингисеппский',\n",
       "       'посёлок при железнодорожной станции Вещево', 'поселок Ушаки',\n",
       "       'деревня Старополье', 'деревня Котлы', 'деревня Сижно',\n",
       "       'деревня Лампово', 'деревня Торосово',\n",
       "       'посёлок Форт Красная Горка', 'деревня Новолисино',\n",
       "       'посёлок станции Громово', 'поселок городского типа Ефимовский',\n",
       "       'деревня Глинка', 'посёлок Мельниково',\n",
       "       'поселок городского типа Назия', 'деревня Старая Пустошь',\n",
       "       'поселок Коммунары', 'поселок Починок',\n",
       "       'посёлок городского типа Вознесенье', 'деревня Разбегаево',\n",
       "       'посёлок городского типа Рябово', 'поселок Гладкое',\n",
       "       'посёлок при железнодорожной станции Приветнинское',\n",
       "       'поселок Тёсово-4', 'посёлок Жилгородок', 'деревня Бор',\n",
       "       'посёлок Коробицыно', 'деревня Большая Вруда', 'деревня Курковицы',\n",
       "       'посёлок Лисий Нос', 'поселок Серебрянский',\n",
       "       'городской посёлок Советский', 'посёлок Кобралово',\n",
       "       'поселок Кобралово', 'поселок городского типа Кондратьево',\n",
       "       'село Копорье', 'коттеджный поселок Счастье', 'поселок Любань',\n",
       "       'деревня Реброво', 'деревня Зимитицы', 'деревня Тойворово',\n",
       "       'поселок Семиозерье', 'поселок Лесное', 'поселок Совхозный',\n",
       "       'поселок Усть-Луга', 'посёлок Суйда',\n",
       "       'посёлок городского типа Форносово', 'деревня Нижние Осельки',\n",
       "       'поселок Перово', 'Высоцк', 'поселок Гарболово', 'село Шум',\n",
       "       'поселок Котельский', 'посёлок Ленинское',\n",
       "       'деревня Большая Пустомержа', 'деревня Пижма',\n",
       "       'коттеджный поселок Кивеннапа Север', 'поселок Коробицыно',\n",
       "       'поселок Ромашки', 'деревня Каськово', 'деревня Куровицы',\n",
       "       'поселок Сумино', 'поселок городского типа Большая Ижора',\n",
       "       'поселок Кирпичное', 'деревня Ям-Тесово', 'деревня Терпилицы',\n",
       "       'поселок городского типа Токсово', 'посёлок Шугозеро',\n",
       "       'деревня Ваганово', 'поселок Пушное', 'садовое товарищество Садко',\n",
       "       'деревня Выскатка', 'поселок Громово', 'посёлок станции Свирь',\n",
       "       'деревня Кисельня', 'село Старая Ладога', 'посёлок Старая Малукса',\n",
       "       'деревня Трубников Бор', 'поселок Калитино',\n",
       "       'посёлок Высокоключевой', 'садовое товарищество Приладожский',\n",
       "       'посёлок Пансионат Зелёный Бор', 'посёлок Перово',\n",
       "       'деревня Ненимяки', 'поселок Пансионат Зелёный Бор',\n",
       "       'деревня Снегирёвка', 'деревня Рапполово', 'деревня Пустынка',\n",
       "       'поселок Рабитицы', 'деревня Большой Сабск', 'посёлок Усть-Ижора',\n",
       "       'деревня Лупполово', 'деревня Большое Рейзино',\n",
       "       'деревня Малая Романовка', 'деревня Суоранда',\n",
       "       'поселок Дружноселье', 'село Паша', 'поселок Володарское',\n",
       "       'деревня Нижняя', 'коттеджный посёлок Лесное', 'деревня Тихковицы',\n",
       "       'деревня Борисова Грива', 'посёлок Дзержинского'], dtype=object)"
      ]
     },
     "execution_count": 17,
     "metadata": {},
     "output_type": "execute_result"
    }
   ],
   "source": [
    "#рассмотрим подробнее значения населенных пунктов. Есть неявные дубликаты в названиях\n",
    "data['locality_name'].unique()"
   ]
  },
  {
   "cell_type": "code",
   "execution_count": 18,
   "metadata": {
    "pycharm": {
     "name": "#%%\n"
    }
   },
   "outputs": [],
   "source": [
    "#приводим все значения к нижнему регистру\n",
    "data['locality_name'] = data['locality_name'].str.lower()"
   ]
  },
  {
   "cell_type": "code",
   "execution_count": 19,
   "metadata": {
    "pycharm": {
     "name": "#%%\n"
    }
   },
   "outputs": [
    {
     "data": {
      "text/plain": [
       "348"
      ]
     },
     "execution_count": 19,
     "metadata": {},
     "output_type": "execute_result"
    }
   ],
   "source": [
    "# узнаем кол-во уникальных значений в названиях населенных пунктов\n",
    "data['locality_name'].nunique()"
   ]
  },
  {
   "cell_type": "code",
   "execution_count": 20,
   "metadata": {
    "pycharm": {
     "name": "#%%\n"
    }
   },
   "outputs": [],
   "source": [
    "#функция для замены неявных дубликатов\n",
    "def replace_dup(name):\n",
    "    if name.split()[0] in ['поселок', 'посёлок', 'село']:\n",
    "        return 'поселок ' + name.split()[-1]\n",
    "    return name"
   ]
  },
  {
   "cell_type": "code",
   "execution_count": 21,
   "metadata": {
    "pycharm": {
     "name": "#%%\n"
    }
   },
   "outputs": [],
   "source": [
    "data['locality_name'] = data['locality_name'].apply(replace_dup)"
   ]
  },
  {
   "cell_type": "code",
   "execution_count": 22,
   "metadata": {
    "pycharm": {
     "name": "#%%\n"
    }
   },
   "outputs": [
    {
     "data": {
      "text/plain": [
       "308"
      ]
     },
     "execution_count": 22,
     "metadata": {},
     "output_type": "execute_result"
    }
   ],
   "source": [
    "data['locality_name'].nunique() #заменили дубикаты, нас. пунктов стало меньше"
   ]
  },
  {
   "cell_type": "code",
   "execution_count": 23,
   "metadata": {
    "pycharm": {
     "name": "#%%\n"
    }
   },
   "outputs": [],
   "source": [
    "#функция для заполенения пропусков исходя из медианы по населенному пункту \n",
    "def func_fill (data,name):\n",
    "    data[name] = data[name].fillna(data.groupby('locality_name')[name].transform(\"median\"))\n",
    "    return data"
   ]
  },
  {
   "cell_type": "code",
   "execution_count": 24,
   "metadata": {
    "pycharm": {
     "name": "#%%\n"
    }
   },
   "outputs": [],
   "source": [
    "#заполним медианным значением наличие и расстояние до ближайших инфраструктурных объектов исходя из нас пункта.\n",
    "columns_to_fill=['airports_nearest','citycenters_nearest','parks_around3000','parks_nearest','ponds_nearest','ponds_around3000']\n",
    "for row in columns_to_fill:\n",
    "    data = func_fill(data,row)"
   ]
  },
  {
   "cell_type": "code",
   "execution_count": 25,
   "metadata": {
    "pycharm": {
     "name": "#%%\n"
    }
   },
   "outputs": [
    {
     "data": {
      "text/plain": [
       "total_images               0\n",
       "last_price                 0\n",
       "total_area                 0\n",
       "first_day_exposition       0\n",
       "rooms                      0\n",
       "ceiling_height             0\n",
       "floors_total               0\n",
       "living_area                0\n",
       "floor                      0\n",
       "is_apartment               0\n",
       "studio                     0\n",
       "open_plan                  0\n",
       "kitchen_area             795\n",
       "balcony                    0\n",
       "locality_name              0\n",
       "airports_nearest        4832\n",
       "citycenters_nearest     4832\n",
       "parks_around3000        4832\n",
       "parks_nearest           5337\n",
       "ponds_around3000        4832\n",
       "ponds_nearest           4908\n",
       "days_exposition         2976\n",
       "dtype: int64"
      ]
     },
     "execution_count": 25,
     "metadata": {},
     "output_type": "execute_result"
    }
   ],
   "source": [
    "data.isna().sum() #Проверяем пропуски. Пропуски в значениях по объектам инфраструктуры остались, но достоверно мы их не можем заполнить"
   ]
  },
  {
   "cell_type": "code",
   "execution_count": 26,
   "metadata": {
    "pycharm": {
     "name": "#%%\n"
    }
   },
   "outputs": [
    {
     "data": {
      "text/plain": [
       "0.42890931447034364"
      ]
     },
     "execution_count": 26,
     "metadata": {},
     "output_type": "execute_result"
    }
   ],
   "source": [
    "#осталось немного пропущенных значений площади кухни. Их необходимо либо удалить, либо указать в зависимости от площади квартиры. Посмотрим корреляцтю этих факторов\n",
    "data['kitchen_area'].corr(data['living_area'])"
   ]
  },
  {
   "cell_type": "code",
   "execution_count": 27,
   "metadata": {
    "pycharm": {
     "name": "#%%\n"
    }
   },
   "outputs": [],
   "source": [
    "#корреляция низкая, было принято решение удалить строки с пропущенным значением площади кухни \n",
    "data.dropna(subset=['kitchen_area'], inplace=True)"
   ]
  },
  {
   "cell_type": "code",
   "execution_count": 28,
   "metadata": {
    "pycharm": {
     "name": "#%%\n"
    }
   },
   "outputs": [
    {
     "data": {
      "text/plain": [
       "count    20905.000000\n",
       "mean         2.095288\n",
       "std          1.064783\n",
       "min          1.000000\n",
       "25%          1.000000\n",
       "50%          2.000000\n",
       "75%          3.000000\n",
       "max         19.000000\n",
       "Name: rooms, dtype: float64"
      ]
     },
     "execution_count": 28,
     "metadata": {},
     "output_type": "execute_result"
    }
   ],
   "source": [
    "data['rooms'].describe()"
   ]
  },
  {
   "cell_type": "markdown",
   "metadata": {
    "pycharm": {
     "name": "#%% md\n"
    }
   },
   "source": [
    "Присутсвуют аномалии в значениях комнат. Есть квартиры с 0 комнат и с 19 "
   ]
  },
  {
   "cell_type": "code",
   "execution_count": 29,
   "metadata": {
    "pycharm": {
     "name": "#%%\n"
    }
   },
   "outputs": [],
   "source": [
    "#переведем столбец с датой в формат даты\n",
    "data['first_day_exposition'] = pd.to_datetime(data['first_day_exposition'], format = '%Y-%m-%d')"
   ]
  },
  {
   "cell_type": "code",
   "execution_count": 30,
   "metadata": {
    "pycharm": {
     "name": "#%%\n"
    }
   },
   "outputs": [
    {
     "data": {
      "text/html": [
       "<div>\n",
       "<style scoped>\n",
       "    .dataframe tbody tr th:only-of-type {\n",
       "        vertical-align: middle;\n",
       "    }\n",
       "\n",
       "    .dataframe tbody tr th {\n",
       "        vertical-align: top;\n",
       "    }\n",
       "\n",
       "    .dataframe thead th {\n",
       "        text-align: right;\n",
       "    }\n",
       "</style>\n",
       "<table border=\"1\" class=\"dataframe\">\n",
       "  <thead>\n",
       "    <tr style=\"text-align: right;\">\n",
       "      <th></th>\n",
       "      <th>total_images</th>\n",
       "      <th>last_price</th>\n",
       "      <th>total_area</th>\n",
       "      <th>first_day_exposition</th>\n",
       "      <th>rooms</th>\n",
       "      <th>ceiling_height</th>\n",
       "      <th>floors_total</th>\n",
       "      <th>living_area</th>\n",
       "      <th>floor</th>\n",
       "      <th>is_apartment</th>\n",
       "      <th>studio</th>\n",
       "      <th>open_plan</th>\n",
       "      <th>kitchen_area</th>\n",
       "      <th>balcony</th>\n",
       "      <th>locality_name</th>\n",
       "      <th>airports_nearest</th>\n",
       "      <th>citycenters_nearest</th>\n",
       "      <th>parks_around3000</th>\n",
       "      <th>parks_nearest</th>\n",
       "      <th>ponds_around3000</th>\n",
       "      <th>ponds_nearest</th>\n",
       "      <th>days_exposition</th>\n",
       "    </tr>\n",
       "  </thead>\n",
       "  <tbody>\n",
       "    <tr>\n",
       "      <th>0</th>\n",
       "      <td>20</td>\n",
       "      <td>13000.0</td>\n",
       "      <td>108.0</td>\n",
       "      <td>2019-03-07</td>\n",
       "      <td>3</td>\n",
       "      <td>2.70</td>\n",
       "      <td>16</td>\n",
       "      <td>51.0</td>\n",
       "      <td>8</td>\n",
       "      <td>False</td>\n",
       "      <td>False</td>\n",
       "      <td>False</td>\n",
       "      <td>25.0</td>\n",
       "      <td>0</td>\n",
       "      <td>санкт-петербург</td>\n",
       "      <td>18863</td>\n",
       "      <td>16028</td>\n",
       "      <td>1</td>\n",
       "      <td>482.0</td>\n",
       "      <td>2</td>\n",
       "      <td>755.0</td>\n",
       "      <td>NaN</td>\n",
       "    </tr>\n",
       "    <tr>\n",
       "      <th>1</th>\n",
       "      <td>7</td>\n",
       "      <td>3350.0</td>\n",
       "      <td>40.4</td>\n",
       "      <td>2018-12-04</td>\n",
       "      <td>1</td>\n",
       "      <td>2.65</td>\n",
       "      <td>11</td>\n",
       "      <td>18.6</td>\n",
       "      <td>1</td>\n",
       "      <td>False</td>\n",
       "      <td>False</td>\n",
       "      <td>False</td>\n",
       "      <td>11.0</td>\n",
       "      <td>2</td>\n",
       "      <td>поселок шушары</td>\n",
       "      <td>12817</td>\n",
       "      <td>18603</td>\n",
       "      <td>0</td>\n",
       "      <td>NaN</td>\n",
       "      <td>0</td>\n",
       "      <td>587.0</td>\n",
       "      <td>81.0</td>\n",
       "    </tr>\n",
       "    <tr>\n",
       "      <th>2</th>\n",
       "      <td>10</td>\n",
       "      <td>5196.0</td>\n",
       "      <td>56.0</td>\n",
       "      <td>2015-08-20</td>\n",
       "      <td>2</td>\n",
       "      <td>2.65</td>\n",
       "      <td>5</td>\n",
       "      <td>34.3</td>\n",
       "      <td>4</td>\n",
       "      <td>False</td>\n",
       "      <td>False</td>\n",
       "      <td>False</td>\n",
       "      <td>8.3</td>\n",
       "      <td>0</td>\n",
       "      <td>санкт-петербург</td>\n",
       "      <td>21741</td>\n",
       "      <td>13933</td>\n",
       "      <td>1</td>\n",
       "      <td>90.0</td>\n",
       "      <td>2</td>\n",
       "      <td>574.0</td>\n",
       "      <td>558.0</td>\n",
       "    </tr>\n",
       "    <tr>\n",
       "      <th>4</th>\n",
       "      <td>2</td>\n",
       "      <td>10000.0</td>\n",
       "      <td>100.0</td>\n",
       "      <td>2018-06-19</td>\n",
       "      <td>2</td>\n",
       "      <td>3.03</td>\n",
       "      <td>14</td>\n",
       "      <td>32.0</td>\n",
       "      <td>13</td>\n",
       "      <td>False</td>\n",
       "      <td>False</td>\n",
       "      <td>False</td>\n",
       "      <td>41.0</td>\n",
       "      <td>0</td>\n",
       "      <td>санкт-петербург</td>\n",
       "      <td>31856</td>\n",
       "      <td>8098</td>\n",
       "      <td>2</td>\n",
       "      <td>112.0</td>\n",
       "      <td>1</td>\n",
       "      <td>48.0</td>\n",
       "      <td>121.0</td>\n",
       "    </tr>\n",
       "    <tr>\n",
       "      <th>5</th>\n",
       "      <td>10</td>\n",
       "      <td>2890.0</td>\n",
       "      <td>30.4</td>\n",
       "      <td>2018-09-10</td>\n",
       "      <td>1</td>\n",
       "      <td>2.65</td>\n",
       "      <td>12</td>\n",
       "      <td>14.4</td>\n",
       "      <td>5</td>\n",
       "      <td>False</td>\n",
       "      <td>False</td>\n",
       "      <td>False</td>\n",
       "      <td>9.1</td>\n",
       "      <td>0</td>\n",
       "      <td>городской посёлок янино-1</td>\n",
       "      <td>&lt;NA&gt;</td>\n",
       "      <td>&lt;NA&gt;</td>\n",
       "      <td>&lt;NA&gt;</td>\n",
       "      <td>NaN</td>\n",
       "      <td>&lt;NA&gt;</td>\n",
       "      <td>NaN</td>\n",
       "      <td>55.0</td>\n",
       "    </tr>\n",
       "  </tbody>\n",
       "</table>\n",
       "</div>"
      ],
      "text/plain": [
       "   total_images  last_price  total_area first_day_exposition  rooms  \\\n",
       "0            20     13000.0       108.0           2019-03-07      3   \n",
       "1             7      3350.0        40.4           2018-12-04      1   \n",
       "2            10      5196.0        56.0           2015-08-20      2   \n",
       "4             2     10000.0       100.0           2018-06-19      2   \n",
       "5            10      2890.0        30.4           2018-09-10      1   \n",
       "\n",
       "   ceiling_height  floors_total  living_area  floor  is_apartment  studio  \\\n",
       "0            2.70            16         51.0      8         False   False   \n",
       "1            2.65            11         18.6      1         False   False   \n",
       "2            2.65             5         34.3      4         False   False   \n",
       "4            3.03            14         32.0     13         False   False   \n",
       "5            2.65            12         14.4      5         False   False   \n",
       "\n",
       "   open_plan  kitchen_area  balcony              locality_name  \\\n",
       "0      False          25.0        0            санкт-петербург   \n",
       "1      False          11.0        2             поселок шушары   \n",
       "2      False           8.3        0            санкт-петербург   \n",
       "4      False          41.0        0            санкт-петербург   \n",
       "5      False           9.1        0  городской посёлок янино-1   \n",
       "\n",
       "   airports_nearest  citycenters_nearest  parks_around3000  parks_nearest  \\\n",
       "0             18863                16028                 1          482.0   \n",
       "1             12817                18603                 0            NaN   \n",
       "2             21741                13933                 1           90.0   \n",
       "4             31856                 8098                 2          112.0   \n",
       "5              <NA>                 <NA>              <NA>            NaN   \n",
       "\n",
       "   ponds_around3000  ponds_nearest  days_exposition  \n",
       "0                 2          755.0              NaN  \n",
       "1                 0          587.0             81.0  \n",
       "2                 2          574.0            558.0  \n",
       "4                 1           48.0            121.0  \n",
       "5              <NA>            NaN             55.0  "
      ]
     },
     "execution_count": 30,
     "metadata": {},
     "output_type": "execute_result"
    }
   ],
   "source": [
    "#меняет типы данных на int32\n",
    "columns_name=['balcony','last_price','floors_total','days_exposition','ponds_nearest','ponds_around3000',\n",
    "             'parks_nearest','parks_around3000','citycenters_nearest','airports_nearest']\n",
    "def func_to_int(data,name):\n",
    "    data[name] = data.loc[data[name].notna(),name].astype('Int32',errors='ignore')\n",
    "    return data\n",
    "for row in columns_name:\n",
    "    data = func_to_int(data,row)\n",
    "data.head()"
   ]
  },
  {
   "cell_type": "markdown",
   "metadata": {
    "pycharm": {
     "name": "#%% md\n"
    }
   },
   "source": [
    "Остались пропуски в значениях, которые не можем указать достоверно, однако, значения важны для достоверности выборки. "
   ]
  },
  {
   "cell_type": "markdown",
   "metadata": {
    "pycharm": {
     "name": "#%% md\n"
    }
   },
   "source": [
    "## Посчитайте и добавьте в таблицу новые столбцы"
   ]
  },
  {
   "cell_type": "code",
   "execution_count": 31,
   "metadata": {
    "pycharm": {
     "name": "#%%\n"
    }
   },
   "outputs": [],
   "source": [
    "#Добавим столбец с ценой за квадратный метр\n",
    "data['price_per_meter'] = (data['last_price']/data['total_area'])"
   ]
  },
  {
   "cell_type": "code",
   "execution_count": 32,
   "metadata": {
    "pycharm": {
     "name": "#%%\n"
    }
   },
   "outputs": [],
   "source": [
    "#функция для классификации этажей расположения квартир\n",
    "def floor_typing(floor,floors_total):\n",
    "    if floor == 1:\n",
    "        return 'первый'\n",
    "    if floor == floors_total:\n",
    "        return 'последний'\n",
    "    else:\n",
    "        return 'другой'"
   ]
  },
  {
   "cell_type": "code",
   "execution_count": 33,
   "metadata": {
    "pycharm": {
     "name": "#%%\n"
    }
   },
   "outputs": [],
   "source": [
    "#методом apply передадим данные столбцов в нашу функцию floor_table\n",
    "data['floor_type'] = data.apply(lambda x: floor_typing(x.floor, x.floors_total), axis=1)"
   ]
  },
  {
   "cell_type": "code",
   "execution_count": 34,
   "metadata": {
    "pycharm": {
     "name": "#%%\n"
    }
   },
   "outputs": [],
   "source": [
    "#Создадим столбцы соотношения жилой площади к общей площади и площади кухни к общей площади\n",
    "data['ratio_area'] = data['living_area']/data['total_area']\n",
    "data['ratio_kitchen'] = data['kitchen_area']/data['total_area']"
   ]
  },
  {
   "cell_type": "code",
   "execution_count": 35,
   "metadata": {
    "pycharm": {
     "name": "#%%\n"
    }
   },
   "outputs": [],
   "source": [
    "#день недели, месяц и год публикаци\n",
    "data['weekday'] = data['first_day_exposition'].dt.weekday\n",
    "data['published_month'] = pd.DatetimeIndex(data['first_day_exposition']).month\n",
    "data['published_year'] = pd.DatetimeIndex(data['first_day_exposition']).year"
   ]
  },
  {
   "cell_type": "code",
   "execution_count": 36,
   "metadata": {
    "pycharm": {
     "name": "#%%\n"
    }
   },
   "outputs": [
    {
     "data": {
      "text/html": [
       "<div>\n",
       "<style scoped>\n",
       "    .dataframe tbody tr th:only-of-type {\n",
       "        vertical-align: middle;\n",
       "    }\n",
       "\n",
       "    .dataframe tbody tr th {\n",
       "        vertical-align: top;\n",
       "    }\n",
       "\n",
       "    .dataframe thead th {\n",
       "        text-align: right;\n",
       "    }\n",
       "</style>\n",
       "<table border=\"1\" class=\"dataframe\">\n",
       "  <thead>\n",
       "    <tr style=\"text-align: right;\">\n",
       "      <th></th>\n",
       "      <th>total_images</th>\n",
       "      <th>last_price</th>\n",
       "      <th>total_area</th>\n",
       "      <th>first_day_exposition</th>\n",
       "      <th>rooms</th>\n",
       "      <th>ceiling_height</th>\n",
       "      <th>floors_total</th>\n",
       "      <th>living_area</th>\n",
       "      <th>floor</th>\n",
       "      <th>is_apartment</th>\n",
       "      <th>studio</th>\n",
       "      <th>open_plan</th>\n",
       "      <th>kitchen_area</th>\n",
       "      <th>balcony</th>\n",
       "      <th>locality_name</th>\n",
       "      <th>airports_nearest</th>\n",
       "      <th>citycenters_nearest</th>\n",
       "      <th>parks_around3000</th>\n",
       "      <th>parks_nearest</th>\n",
       "      <th>ponds_around3000</th>\n",
       "      <th>ponds_nearest</th>\n",
       "      <th>days_exposition</th>\n",
       "      <th>price_per_meter</th>\n",
       "      <th>floor_type</th>\n",
       "      <th>ratio_area</th>\n",
       "      <th>ratio_kitchen</th>\n",
       "      <th>weekday</th>\n",
       "      <th>published_month</th>\n",
       "      <th>published_year</th>\n",
       "    </tr>\n",
       "  </thead>\n",
       "  <tbody>\n",
       "    <tr>\n",
       "      <th>0</th>\n",
       "      <td>20</td>\n",
       "      <td>13000.0</td>\n",
       "      <td>108.0</td>\n",
       "      <td>2019-03-07</td>\n",
       "      <td>3</td>\n",
       "      <td>2.70</td>\n",
       "      <td>16</td>\n",
       "      <td>51.0</td>\n",
       "      <td>8</td>\n",
       "      <td>False</td>\n",
       "      <td>False</td>\n",
       "      <td>False</td>\n",
       "      <td>25.0</td>\n",
       "      <td>0</td>\n",
       "      <td>санкт-петербург</td>\n",
       "      <td>18863</td>\n",
       "      <td>16028</td>\n",
       "      <td>1</td>\n",
       "      <td>482.0</td>\n",
       "      <td>2</td>\n",
       "      <td>755.0</td>\n",
       "      <td>NaN</td>\n",
       "      <td>120.370370</td>\n",
       "      <td>другой</td>\n",
       "      <td>0.472222</td>\n",
       "      <td>0.231481</td>\n",
       "      <td>3</td>\n",
       "      <td>3</td>\n",
       "      <td>2019</td>\n",
       "    </tr>\n",
       "    <tr>\n",
       "      <th>1</th>\n",
       "      <td>7</td>\n",
       "      <td>3350.0</td>\n",
       "      <td>40.4</td>\n",
       "      <td>2018-12-04</td>\n",
       "      <td>1</td>\n",
       "      <td>2.65</td>\n",
       "      <td>11</td>\n",
       "      <td>18.6</td>\n",
       "      <td>1</td>\n",
       "      <td>False</td>\n",
       "      <td>False</td>\n",
       "      <td>False</td>\n",
       "      <td>11.0</td>\n",
       "      <td>2</td>\n",
       "      <td>поселок шушары</td>\n",
       "      <td>12817</td>\n",
       "      <td>18603</td>\n",
       "      <td>0</td>\n",
       "      <td>NaN</td>\n",
       "      <td>0</td>\n",
       "      <td>587.0</td>\n",
       "      <td>81.0</td>\n",
       "      <td>82.920792</td>\n",
       "      <td>первый</td>\n",
       "      <td>0.460396</td>\n",
       "      <td>0.272277</td>\n",
       "      <td>1</td>\n",
       "      <td>12</td>\n",
       "      <td>2018</td>\n",
       "    </tr>\n",
       "    <tr>\n",
       "      <th>2</th>\n",
       "      <td>10</td>\n",
       "      <td>5196.0</td>\n",
       "      <td>56.0</td>\n",
       "      <td>2015-08-20</td>\n",
       "      <td>2</td>\n",
       "      <td>2.65</td>\n",
       "      <td>5</td>\n",
       "      <td>34.3</td>\n",
       "      <td>4</td>\n",
       "      <td>False</td>\n",
       "      <td>False</td>\n",
       "      <td>False</td>\n",
       "      <td>8.3</td>\n",
       "      <td>0</td>\n",
       "      <td>санкт-петербург</td>\n",
       "      <td>21741</td>\n",
       "      <td>13933</td>\n",
       "      <td>1</td>\n",
       "      <td>90.0</td>\n",
       "      <td>2</td>\n",
       "      <td>574.0</td>\n",
       "      <td>558.0</td>\n",
       "      <td>92.785714</td>\n",
       "      <td>другой</td>\n",
       "      <td>0.612500</td>\n",
       "      <td>0.148214</td>\n",
       "      <td>3</td>\n",
       "      <td>8</td>\n",
       "      <td>2015</td>\n",
       "    </tr>\n",
       "    <tr>\n",
       "      <th>4</th>\n",
       "      <td>2</td>\n",
       "      <td>10000.0</td>\n",
       "      <td>100.0</td>\n",
       "      <td>2018-06-19</td>\n",
       "      <td>2</td>\n",
       "      <td>3.03</td>\n",
       "      <td>14</td>\n",
       "      <td>32.0</td>\n",
       "      <td>13</td>\n",
       "      <td>False</td>\n",
       "      <td>False</td>\n",
       "      <td>False</td>\n",
       "      <td>41.0</td>\n",
       "      <td>0</td>\n",
       "      <td>санкт-петербург</td>\n",
       "      <td>31856</td>\n",
       "      <td>8098</td>\n",
       "      <td>2</td>\n",
       "      <td>112.0</td>\n",
       "      <td>1</td>\n",
       "      <td>48.0</td>\n",
       "      <td>121.0</td>\n",
       "      <td>100.000000</td>\n",
       "      <td>другой</td>\n",
       "      <td>0.320000</td>\n",
       "      <td>0.410000</td>\n",
       "      <td>1</td>\n",
       "      <td>6</td>\n",
       "      <td>2018</td>\n",
       "    </tr>\n",
       "    <tr>\n",
       "      <th>5</th>\n",
       "      <td>10</td>\n",
       "      <td>2890.0</td>\n",
       "      <td>30.4</td>\n",
       "      <td>2018-09-10</td>\n",
       "      <td>1</td>\n",
       "      <td>2.65</td>\n",
       "      <td>12</td>\n",
       "      <td>14.4</td>\n",
       "      <td>5</td>\n",
       "      <td>False</td>\n",
       "      <td>False</td>\n",
       "      <td>False</td>\n",
       "      <td>9.1</td>\n",
       "      <td>0</td>\n",
       "      <td>городской посёлок янино-1</td>\n",
       "      <td>&lt;NA&gt;</td>\n",
       "      <td>&lt;NA&gt;</td>\n",
       "      <td>&lt;NA&gt;</td>\n",
       "      <td>NaN</td>\n",
       "      <td>&lt;NA&gt;</td>\n",
       "      <td>NaN</td>\n",
       "      <td>55.0</td>\n",
       "      <td>95.065789</td>\n",
       "      <td>другой</td>\n",
       "      <td>0.473684</td>\n",
       "      <td>0.299342</td>\n",
       "      <td>0</td>\n",
       "      <td>9</td>\n",
       "      <td>2018</td>\n",
       "    </tr>\n",
       "  </tbody>\n",
       "</table>\n",
       "</div>"
      ],
      "text/plain": [
       "   total_images  last_price  total_area first_day_exposition  rooms  \\\n",
       "0            20     13000.0       108.0           2019-03-07      3   \n",
       "1             7      3350.0        40.4           2018-12-04      1   \n",
       "2            10      5196.0        56.0           2015-08-20      2   \n",
       "4             2     10000.0       100.0           2018-06-19      2   \n",
       "5            10      2890.0        30.4           2018-09-10      1   \n",
       "\n",
       "   ceiling_height  floors_total  living_area  floor  is_apartment  studio  \\\n",
       "0            2.70            16         51.0      8         False   False   \n",
       "1            2.65            11         18.6      1         False   False   \n",
       "2            2.65             5         34.3      4         False   False   \n",
       "4            3.03            14         32.0     13         False   False   \n",
       "5            2.65            12         14.4      5         False   False   \n",
       "\n",
       "   open_plan  kitchen_area  balcony              locality_name  \\\n",
       "0      False          25.0        0            санкт-петербург   \n",
       "1      False          11.0        2             поселок шушары   \n",
       "2      False           8.3        0            санкт-петербург   \n",
       "4      False          41.0        0            санкт-петербург   \n",
       "5      False           9.1        0  городской посёлок янино-1   \n",
       "\n",
       "   airports_nearest  citycenters_nearest  parks_around3000  parks_nearest  \\\n",
       "0             18863                16028                 1          482.0   \n",
       "1             12817                18603                 0            NaN   \n",
       "2             21741                13933                 1           90.0   \n",
       "4             31856                 8098                 2          112.0   \n",
       "5              <NA>                 <NA>              <NA>            NaN   \n",
       "\n",
       "   ponds_around3000  ponds_nearest  days_exposition  price_per_meter  \\\n",
       "0                 2          755.0              NaN       120.370370   \n",
       "1                 0          587.0             81.0        82.920792   \n",
       "2                 2          574.0            558.0        92.785714   \n",
       "4                 1           48.0            121.0       100.000000   \n",
       "5              <NA>            NaN             55.0        95.065789   \n",
       "\n",
       "  floor_type  ratio_area  ratio_kitchen  weekday  published_month  \\\n",
       "0     другой    0.472222       0.231481        3                3   \n",
       "1     первый    0.460396       0.272277        1               12   \n",
       "2     другой    0.612500       0.148214        3                8   \n",
       "4     другой    0.320000       0.410000        1                6   \n",
       "5     другой    0.473684       0.299342        0                9   \n",
       "\n",
       "   published_year  \n",
       "0            2019  \n",
       "1            2018  \n",
       "2            2015  \n",
       "4            2018  \n",
       "5            2018  "
      ]
     },
     "execution_count": 36,
     "metadata": {},
     "output_type": "execute_result"
    }
   ],
   "source": [
    "data.head()"
   ]
  },
  {
   "cell_type": "code",
   "execution_count": 37,
   "metadata": {
    "pycharm": {
     "name": "#%%\n"
    }
   },
   "outputs": [
    {
     "name": "stdout",
     "output_type": "stream",
     "text": [
      "Площадь\n",
      "count    20905.000000\n",
      "mean        60.509551\n",
      "std         34.490375\n",
      "min         14.000000\n",
      "25%         40.500000\n",
      "50%         52.100000\n",
      "75%         70.000000\n",
      "max        900.000000\n",
      "Name: total_area, dtype: float64\n"
     ]
    },
    {
     "data": {
      "image/png": "[encoded data removed]",
      "text/plain": [
       "<Figure size 432x288 with 1 Axes>"
      ]
     },
     "metadata": {
      "needs_background": "light"
     },
     "output_type": "display_data"
    },
    {
     "name": "stdout",
     "output_type": "stream",
     "text": [
      "Цена\n",
      "count     20905.000000\n",
      "mean       6503.257674\n",
      "std        9603.551162\n",
      "min          12.190000\n",
      "25%        3500.000000\n",
      "50%        4700.000000\n",
      "75%        6800.000000\n",
      "max      420000.000000\n",
      "Name: last_price, dtype: float64\n"
     ]
    },
    {
     "data": {
      "image/png": "[encoded data removed]",
      "text/plain": [
       "<Figure size 432x288 with 1 Axes>"
      ]
     },
     "metadata": {
      "needs_background": "light"
     },
     "output_type": "display_data"
    },
    {
     "name": "stdout",
     "output_type": "stream",
     "text": [
      "Комнаты\n",
      "count    20905.000000\n",
      "mean         2.095288\n",
      "std          1.064783\n",
      "min          1.000000\n",
      "25%          1.000000\n",
      "50%          2.000000\n",
      "75%          3.000000\n",
      "max         19.000000\n",
      "Name: rooms, dtype: float64\n"
     ]
    },
    {
     "data": {
      "image/png": "[encoded data removed]",
      "text/plain": [
       "<Figure size 432x288 with 1 Axes>"
      ]
     },
     "metadata": {
      "needs_background": "light"
     },
     "output_type": "display_data"
    },
    {
     "name": "stdout",
     "output_type": "stream",
     "text": [
      "Высота потолков\n",
      "count    20905.000000\n",
      "mean         2.723180\n",
      "std          0.996672\n",
      "min          1.000000\n",
      "25%          2.600000\n",
      "50%          2.650000\n",
      "75%          2.700000\n",
      "max        100.000000\n",
      "Name: ceiling_height, dtype: float64\n"
     ]
    },
    {
     "data": {
      "image/png": "[encoded data removed]",
      "text/plain": [
       "<Figure size 432x288 with 1 Axes>"
      ]
     },
     "metadata": {
      "needs_background": "light"
     },
     "output_type": "display_data"
    }
   ],
   "source": [
    "#Построим гистограммы с помощью цикла, для гистограмм возьмем столбцы цену, площадь, кол-во комнат, высоту потолков и время продажи\n",
    "data_names=['total_area','last_price','rooms','ceiling_height']\n",
    "data_bins=[100,100,8,15]\n",
    "data_ranges=[(0,300),(0,40000),(1,8),(2.5,4)]\n",
    "data_xlabel=['Площадь','Цена','Комнаты','Высота потолков']\n",
    "i=0\n",
    "for row in data_names:\n",
    "    print(data_xlabel[i])\n",
    "    total_area_data=data[row].hist(bins=data_bins[i],range=data_ranges[i]);\n",
    "    print(data[row].describe())\n",
    "    plt.xlabel(data_xlabel[i],fontsize='x-large')\n",
    "    plt.show()\n",
    "    i+=1"
   ]
  },
  {
   "cell_type": "code",
   "execution_count": 38,
   "metadata": {
    "pycharm": {
     "name": "#%%\n"
    }
   },
   "outputs": [
    {
     "data": {
      "text/plain": [
       "count    18020.000000\n",
       "mean       185.511099\n",
       "std        222.037847\n",
       "min          1.000000\n",
       "25%         45.000000\n",
       "50%        102.000000\n",
       "75%        239.000000\n",
       "max       1580.000000\n",
       "Name: days_exposition, dtype: float64"
      ]
     },
     "execution_count": 38,
     "metadata": {},
     "output_type": "execute_result"
    }
   ],
   "source": [
    "data['days_exposition'].describe() \n",
    "#Среднее время продажи почти в два раза больше медианы"
   ]
  },
  {
   "cell_type": "code",
   "execution_count": 39,
   "metadata": {
    "pycharm": {
     "name": "#%%\n"
    }
   },
   "outputs": [
    {
     "data": {
      "image/png": "[encoded data removed]",
      "text/plain": [
       "<Figure size 1440x720 with 1 Axes>"
      ]
     },
     "metadata": {
      "needs_background": "light"
     },
     "output_type": "display_data"
    },
    {
     "data": {
      "text/plain": [
       "(0.0, 600.0)"
      ]
     },
     "execution_count": 39,
     "metadata": {},
     "output_type": "execute_result"
    },
    {
     "data": {
      "image/png": "[encoded data removed]",
      "text/plain": [
       "<Figure size 432x288 with 1 Axes>"
      ]
     },
     "metadata": {
      "needs_background": "light"
     },
     "output_type": "display_data"
    }
   ],
   "source": [
    "#Построим гистограмму и диаграмму размаха\n",
    "data['days_exposition'].hist(bins=500, figsize=(20, 10))\n",
    "plt.show()\n",
    "data.boxplot(column='days_exposition')\n",
    "plt.ylim(0,600)"
   ]
  },
  {
   "cell_type": "markdown",
   "metadata": {
    "pycharm": {
     "name": "#%% md\n"
    }
   },
   "source": [
    "Из графика видим, что медиана тяготеет к низким значениям и составляет 102, т.е. в основном квартиры продаются за 3,5 месяца. Среднее значение значительно выше медианы, что говорит о сильном влиянии выбросов. Верхний ус межквартильного размаха ограничен значением примерно в 550 дней, следовательно квартиры за этой отметкой можно назвать продающимися необычайно долго."
   ]
  },
  {
   "cell_type": "markdown",
   "metadata": {
    "pycharm": {
     "name": "#%% md\n"
    }
   },
   "source": [
    "### Проведите исследовательский анализ данных"
   ]
  },
  {
   "cell_type": "code",
   "execution_count": 40,
   "metadata": {
    "pycharm": {
     "name": "#%%\n"
    }
   },
   "outputs": [
    {
     "data": {
      "text/html": [
       "<div>\n",
       "<style scoped>\n",
       "    .dataframe tbody tr th:only-of-type {\n",
       "        vertical-align: middle;\n",
       "    }\n",
       "\n",
       "    .dataframe tbody tr th {\n",
       "        vertical-align: top;\n",
       "    }\n",
       "\n",
       "    .dataframe thead th {\n",
       "        text-align: right;\n",
       "    }\n",
       "</style>\n",
       "<table border=\"1\" class=\"dataframe\">\n",
       "  <thead>\n",
       "    <tr style=\"text-align: right;\">\n",
       "      <th></th>\n",
       "      <th>total_images</th>\n",
       "      <th>last_price</th>\n",
       "      <th>total_area</th>\n",
       "      <th>first_day_exposition</th>\n",
       "      <th>rooms</th>\n",
       "      <th>ceiling_height</th>\n",
       "      <th>floors_total</th>\n",
       "      <th>living_area</th>\n",
       "      <th>floor</th>\n",
       "      <th>is_apartment</th>\n",
       "      <th>studio</th>\n",
       "      <th>open_plan</th>\n",
       "      <th>kitchen_area</th>\n",
       "      <th>balcony</th>\n",
       "      <th>locality_name</th>\n",
       "      <th>airports_nearest</th>\n",
       "      <th>citycenters_nearest</th>\n",
       "      <th>parks_around3000</th>\n",
       "      <th>parks_nearest</th>\n",
       "      <th>ponds_around3000</th>\n",
       "      <th>ponds_nearest</th>\n",
       "      <th>days_exposition</th>\n",
       "      <th>price_per_meter</th>\n",
       "      <th>floor_type</th>\n",
       "      <th>ratio_area</th>\n",
       "      <th>ratio_kitchen</th>\n",
       "      <th>weekday</th>\n",
       "      <th>published_month</th>\n",
       "      <th>published_year</th>\n",
       "    </tr>\n",
       "  </thead>\n",
       "  <tbody>\n",
       "    <tr>\n",
       "      <th>1</th>\n",
       "      <td>7</td>\n",
       "      <td>3350.0</td>\n",
       "      <td>40.40</td>\n",
       "      <td>2018-12-04</td>\n",
       "      <td>1</td>\n",
       "      <td>2.65</td>\n",
       "      <td>11</td>\n",
       "      <td>18.60</td>\n",
       "      <td>1</td>\n",
       "      <td>False</td>\n",
       "      <td>False</td>\n",
       "      <td>False</td>\n",
       "      <td>11.00</td>\n",
       "      <td>2</td>\n",
       "      <td>поселок шушары</td>\n",
       "      <td>12817</td>\n",
       "      <td>18603</td>\n",
       "      <td>0</td>\n",
       "      <td>NaN</td>\n",
       "      <td>0</td>\n",
       "      <td>587.0</td>\n",
       "      <td>81.0</td>\n",
       "      <td>82.920792</td>\n",
       "      <td>первый</td>\n",
       "      <td>0.460396</td>\n",
       "      <td>0.272277</td>\n",
       "      <td>1</td>\n",
       "      <td>12</td>\n",
       "      <td>2018</td>\n",
       "    </tr>\n",
       "    <tr>\n",
       "      <th>4</th>\n",
       "      <td>2</td>\n",
       "      <td>10000.0</td>\n",
       "      <td>100.00</td>\n",
       "      <td>2018-06-19</td>\n",
       "      <td>2</td>\n",
       "      <td>3.03</td>\n",
       "      <td>14</td>\n",
       "      <td>32.00</td>\n",
       "      <td>13</td>\n",
       "      <td>False</td>\n",
       "      <td>False</td>\n",
       "      <td>False</td>\n",
       "      <td>41.00</td>\n",
       "      <td>0</td>\n",
       "      <td>санкт-петербург</td>\n",
       "      <td>31856</td>\n",
       "      <td>8098</td>\n",
       "      <td>2</td>\n",
       "      <td>112.0</td>\n",
       "      <td>1</td>\n",
       "      <td>48.0</td>\n",
       "      <td>121.0</td>\n",
       "      <td>100.000000</td>\n",
       "      <td>другой</td>\n",
       "      <td>0.320000</td>\n",
       "      <td>0.410000</td>\n",
       "      <td>1</td>\n",
       "      <td>6</td>\n",
       "      <td>2018</td>\n",
       "    </tr>\n",
       "    <tr>\n",
       "      <th>5</th>\n",
       "      <td>10</td>\n",
       "      <td>2890.0</td>\n",
       "      <td>30.40</td>\n",
       "      <td>2018-09-10</td>\n",
       "      <td>1</td>\n",
       "      <td>2.65</td>\n",
       "      <td>12</td>\n",
       "      <td>14.40</td>\n",
       "      <td>5</td>\n",
       "      <td>False</td>\n",
       "      <td>False</td>\n",
       "      <td>False</td>\n",
       "      <td>9.10</td>\n",
       "      <td>0</td>\n",
       "      <td>городской посёлок янино-1</td>\n",
       "      <td>&lt;NA&gt;</td>\n",
       "      <td>&lt;NA&gt;</td>\n",
       "      <td>&lt;NA&gt;</td>\n",
       "      <td>NaN</td>\n",
       "      <td>&lt;NA&gt;</td>\n",
       "      <td>NaN</td>\n",
       "      <td>55.0</td>\n",
       "      <td>95.065789</td>\n",
       "      <td>другой</td>\n",
       "      <td>0.473684</td>\n",
       "      <td>0.299342</td>\n",
       "      <td>0</td>\n",
       "      <td>9</td>\n",
       "      <td>2018</td>\n",
       "    </tr>\n",
       "    <tr>\n",
       "      <th>6</th>\n",
       "      <td>6</td>\n",
       "      <td>3700.0</td>\n",
       "      <td>37.30</td>\n",
       "      <td>2017-11-02</td>\n",
       "      <td>1</td>\n",
       "      <td>2.65</td>\n",
       "      <td>26</td>\n",
       "      <td>10.60</td>\n",
       "      <td>6</td>\n",
       "      <td>False</td>\n",
       "      <td>False</td>\n",
       "      <td>False</td>\n",
       "      <td>14.40</td>\n",
       "      <td>1</td>\n",
       "      <td>поселок парголово</td>\n",
       "      <td>52996</td>\n",
       "      <td>19143</td>\n",
       "      <td>0</td>\n",
       "      <td>733.0</td>\n",
       "      <td>0</td>\n",
       "      <td>593.0</td>\n",
       "      <td>155.0</td>\n",
       "      <td>99.195710</td>\n",
       "      <td>другой</td>\n",
       "      <td>0.284182</td>\n",
       "      <td>0.386059</td>\n",
       "      <td>3</td>\n",
       "      <td>11</td>\n",
       "      <td>2017</td>\n",
       "    </tr>\n",
       "    <tr>\n",
       "      <th>8</th>\n",
       "      <td>20</td>\n",
       "      <td>2900.0</td>\n",
       "      <td>33.16</td>\n",
       "      <td>2018-05-23</td>\n",
       "      <td>1</td>\n",
       "      <td>2.65</td>\n",
       "      <td>27</td>\n",
       "      <td>15.43</td>\n",
       "      <td>26</td>\n",
       "      <td>False</td>\n",
       "      <td>False</td>\n",
       "      <td>False</td>\n",
       "      <td>8.81</td>\n",
       "      <td>0</td>\n",
       "      <td>поселок мурино</td>\n",
       "      <td>&lt;NA&gt;</td>\n",
       "      <td>&lt;NA&gt;</td>\n",
       "      <td>&lt;NA&gt;</td>\n",
       "      <td>NaN</td>\n",
       "      <td>&lt;NA&gt;</td>\n",
       "      <td>NaN</td>\n",
       "      <td>189.0</td>\n",
       "      <td>87.454765</td>\n",
       "      <td>другой</td>\n",
       "      <td>0.465320</td>\n",
       "      <td>0.265682</td>\n",
       "      <td>2</td>\n",
       "      <td>5</td>\n",
       "      <td>2018</td>\n",
       "    </tr>\n",
       "  </tbody>\n",
       "</table>\n",
       "</div>"
      ],
      "text/plain": [
       "   total_images  last_price  total_area first_day_exposition  rooms  \\\n",
       "1             7      3350.0       40.40           2018-12-04      1   \n",
       "4             2     10000.0      100.00           2018-06-19      2   \n",
       "5            10      2890.0       30.40           2018-09-10      1   \n",
       "6             6      3700.0       37.30           2017-11-02      1   \n",
       "8            20      2900.0       33.16           2018-05-23      1   \n",
       "\n",
       "   ceiling_height  floors_total  living_area  floor  is_apartment  studio  \\\n",
       "1            2.65            11        18.60      1         False   False   \n",
       "4            3.03            14        32.00     13         False   False   \n",
       "5            2.65            12        14.40      5         False   False   \n",
       "6            2.65            26        10.60      6         False   False   \n",
       "8            2.65            27        15.43     26         False   False   \n",
       "\n",
       "   open_plan  kitchen_area  balcony              locality_name  \\\n",
       "1      False         11.00        2             поселок шушары   \n",
       "4      False         41.00        0            санкт-петербург   \n",
       "5      False          9.10        0  городской посёлок янино-1   \n",
       "6      False         14.40        1          поселок парголово   \n",
       "8      False          8.81        0             поселок мурино   \n",
       "\n",
       "   airports_nearest  citycenters_nearest  parks_around3000  parks_nearest  \\\n",
       "1             12817                18603                 0            NaN   \n",
       "4             31856                 8098                 2          112.0   \n",
       "5              <NA>                 <NA>              <NA>            NaN   \n",
       "6             52996                19143                 0          733.0   \n",
       "8              <NA>                 <NA>              <NA>            NaN   \n",
       "\n",
       "   ponds_around3000  ponds_nearest  days_exposition  price_per_meter  \\\n",
       "1                 0          587.0             81.0        82.920792   \n",
       "4                 1           48.0            121.0       100.000000   \n",
       "5              <NA>            NaN             55.0        95.065789   \n",
       "6                 0          593.0            155.0        99.195710   \n",
       "8              <NA>            NaN            189.0        87.454765   \n",
       "\n",
       "  floor_type  ratio_area  ratio_kitchen  weekday  published_month  \\\n",
       "1     первый    0.460396       0.272277        1               12   \n",
       "4     другой    0.320000       0.410000        1                6   \n",
       "5     другой    0.473684       0.299342        0                9   \n",
       "6     другой    0.284182       0.386059        3               11   \n",
       "8     другой    0.465320       0.265682        2                5   \n",
       "\n",
       "   published_year  \n",
       "1            2018  \n",
       "4            2018  \n",
       "5            2018  \n",
       "6            2017  \n",
       "8            2018  "
      ]
     },
     "execution_count": 40,
     "metadata": {},
     "output_type": "execute_result"
    }
   ],
   "source": [
    "#создадим новый датафрейм, не учитывающий выбросы и аномалии\n",
    "data_new = data.query('days_exposition<550 and ceiling_height>2.1 and ceiling_height<4 and rooms<8\\\n",
    "and total_area>25 and total_area<130 and last_price > 300 and last_price < 15000')\n",
    "data_new.head()"
   ]
  },
  {
   "cell_type": "code",
   "execution_count": 41,
   "metadata": {
    "pycharm": {
     "name": "#%%\n"
    }
   },
   "outputs": [
    {
     "name": "stdout",
     "output_type": "stream",
     "text": [
      "Площадь\n",
      "count    15829.000000\n",
      "mean        53.730152\n",
      "std         18.838863\n",
      "min         25.200000\n",
      "25%         39.200000\n",
      "50%         49.300000\n",
      "75%         64.000000\n",
      "max        129.800000\n",
      "Name: total_area, dtype: float64\n"
     ]
    },
    {
     "data": {
      "image/png": "[encoded data removed]",
      "text/plain": [
       "<Figure size 432x288 with 1 Axes>"
      ]
     },
     "metadata": {
      "needs_background": "light"
     },
     "output_type": "display_data"
    },
    {
     "name": "stdout",
     "output_type": "stream",
     "text": [
      "Цена\n",
      "count    15829.000000\n",
      "mean      5002.704400\n",
      "std       2449.276794\n",
      "min        450.000000\n",
      "25%       3400.000000\n",
      "50%       4450.000000\n",
      "75%       6000.000000\n",
      "max      14998.000000\n",
      "Name: last_price, dtype: float64\n"
     ]
    },
    {
     "data": {
      "image/png": "[encoded data removed]",
      "text/plain": [
       "<Figure size 432x288 with 1 Axes>"
      ]
     },
     "metadata": {
      "needs_background": "light"
     },
     "output_type": "display_data"
    },
    {
     "name": "stdout",
     "output_type": "stream",
     "text": [
      "Комнаты\n",
      "count    15829.000000\n",
      "mean         1.937520\n",
      "std          0.882509\n",
      "min          1.000000\n",
      "25%          1.000000\n",
      "50%          2.000000\n",
      "75%          3.000000\n",
      "max          7.000000\n",
      "Name: rooms, dtype: float64\n"
     ]
    },
    {
     "data": {
      "image/png": "[encoded data removed]",
      "text/plain": [
       "<Figure size 432x288 with 1 Axes>"
      ]
     },
     "metadata": {
      "needs_background": "light"
     },
     "output_type": "display_data"
    },
    {
     "name": "stdout",
     "output_type": "stream",
     "text": [
      "Высота потолков\n",
      "count    15829.000000\n",
      "mean         2.670779\n",
      "std          0.168554\n",
      "min          2.250000\n",
      "25%          2.600000\n",
      "50%          2.650000\n",
      "75%          2.700000\n",
      "max          3.980000\n",
      "Name: ceiling_height, dtype: float64\n"
     ]
    },
    {
     "data": {
      "image/png": "[encoded data removed]",
      "text/plain": [
       "<Figure size 432x288 with 1 Axes>"
      ]
     },
     "metadata": {
      "needs_background": "light"
     },
     "output_type": "display_data"
    }
   ],
   "source": [
    "data_bins=[100,100,8,15]\n",
    "data_ranges_new=[(25,130),(300,15000),(1,8),(2.5,4)]\n",
    "i=0\n",
    "for row in data_names:\n",
    "    print(data_xlabel[i])\n",
    "    total_area_data=data_new[row].hist(bins=data_bins[i],range=data_ranges_new[i]);\n",
    "    print(data_new[row].describe())\n",
    "    plt.xlabel(data_xlabel[i],fontsize='x-large')\n",
    "    plt.show()\n",
    "    i+=1"
   ]
  },
  {
   "cell_type": "code",
   "execution_count": 42,
   "metadata": {
    "pycharm": {
     "name": "#%%\n"
    }
   },
   "outputs": [
    {
     "name": "stdout",
     "output_type": "stream",
     "text": [
      "count    15829.000000\n",
      "mean        53.730152\n",
      "std         18.838863\n",
      "min         25.200000\n",
      "25%         39.200000\n",
      "50%         49.300000\n",
      "75%         64.000000\n",
      "max        129.800000\n",
      "Name: total_area, dtype: float64\n"
     ]
    },
    {
     "data": {
      "image/png": "[encoded data removed]",
      "text/plain": [
       "<Figure size 432x288 with 1 Axes>"
      ]
     },
     "metadata": {
      "needs_background": "light"
     },
     "output_type": "display_data"
    },
    {
     "name": "stdout",
     "output_type": "stream",
     "text": [
      "count    15829.000000\n",
      "mean         1.937520\n",
      "std          0.882509\n",
      "min          1.000000\n",
      "25%          1.000000\n",
      "50%          2.000000\n",
      "75%          3.000000\n",
      "max          7.000000\n",
      "Name: rooms, dtype: float64\n"
     ]
    },
    {
     "data": {
      "image/png": "[encoded data removed]",
      "text/plain": [
       "<Figure size 432x288 with 1 Axes>"
      ]
     },
     "metadata": {
      "needs_background": "light"
     },
     "output_type": "display_data"
    },
    {
     "name": "stdout",
     "output_type": "stream",
     "text": [
      "count    12305.000000\n",
      "mean     14932.010321\n",
      "std       8451.807423\n",
      "min        208.000000\n",
      "25%      10651.000000\n",
      "50%      13552.000000\n",
      "75%      16596.000000\n",
      "max      64857.000000\n",
      "Name: citycenters_nearest, dtype: float64\n"
     ]
    },
    {
     "data": {
      "image/png": "[encoded data removed]",
      "text/plain": [
       "<Figure size 432x288 with 1 Axes>"
      ]
     },
     "metadata": {
      "needs_background": "light"
     },
     "output_type": "display_data"
    }
   ],
   "source": [
    "#Построим графики зависимости цены от площади квартиры, количества комнат, удаленности от центра\n",
    "data_new_names=['total_area','rooms','citycenters_nearest']\n",
    "data_new_titles=['Цена от площади','Цена от комнат','Цена от расстояния до центра']\n",
    "data_new_xlabel=[\"Площадь\",\"Комнаты\",\"Расстояние до центра\"]\n",
    "data_new_end=[]\n",
    "i=0\n",
    "for row in data_new_names:   \n",
    "    k=data_new.plot(x = row, y = 'last_price',style='o',grid=True, alpha = 0.1)\n",
    "    if row=='rooms':\n",
    "        plt.xlim(0,10)\n",
    "    plt.xlabel(data_new_xlabel[i],fontsize='x-large')\n",
    "    plt.ylabel('Цена',fontsize='x-large')\n",
    "    plt.title(data_new_titles[i],fontsize='xx-large')\n",
    "    data_new_end.append(k)\n",
    "    print(data_new[row].describe())\n",
    "    plt.show()\n",
    "    i+=1"
   ]
  },
  {
   "cell_type": "code",
   "execution_count": 43,
   "metadata": {
    "pycharm": {
     "name": "#%%\n"
    }
   },
   "outputs": [
    {
     "data": {
      "text/html": [
       "<div>\n",
       "<style scoped>\n",
       "    .dataframe tbody tr th:only-of-type {\n",
       "        vertical-align: middle;\n",
       "    }\n",
       "\n",
       "    .dataframe tbody tr th {\n",
       "        vertical-align: top;\n",
       "    }\n",
       "\n",
       "    .dataframe thead th {\n",
       "        text-align: right;\n",
       "    }\n",
       "</style>\n",
       "<table border=\"1\" class=\"dataframe\">\n",
       "  <thead>\n",
       "    <tr style=\"text-align: right;\">\n",
       "      <th></th>\n",
       "      <th>last_price</th>\n",
       "      <th>total_area</th>\n",
       "      <th>rooms</th>\n",
       "      <th>citycenters_nearest</th>\n",
       "    </tr>\n",
       "  </thead>\n",
       "  <tbody>\n",
       "    <tr>\n",
       "      <th>last_price</th>\n",
       "      <td>1.000000</td>\n",
       "      <td>0.739083</td>\n",
       "      <td>0.465605</td>\n",
       "      <td>-0.355924</td>\n",
       "    </tr>\n",
       "    <tr>\n",
       "      <th>total_area</th>\n",
       "      <td>0.739083</td>\n",
       "      <td>1.000000</td>\n",
       "      <td>0.800776</td>\n",
       "      <td>-0.164885</td>\n",
       "    </tr>\n",
       "    <tr>\n",
       "      <th>rooms</th>\n",
       "      <td>0.465605</td>\n",
       "      <td>0.800776</td>\n",
       "      <td>1.000000</td>\n",
       "      <td>-0.109620</td>\n",
       "    </tr>\n",
       "    <tr>\n",
       "      <th>citycenters_nearest</th>\n",
       "      <td>-0.355924</td>\n",
       "      <td>-0.164885</td>\n",
       "      <td>-0.109620</td>\n",
       "      <td>1.000000</td>\n",
       "    </tr>\n",
       "  </tbody>\n",
       "</table>\n",
       "</div>"
      ],
      "text/plain": [
       "                     last_price  total_area     rooms  citycenters_nearest\n",
       "last_price             1.000000    0.739083  0.465605            -0.355924\n",
       "total_area             0.739083    1.000000  0.800776            -0.164885\n",
       "rooms                  0.465605    0.800776  1.000000            -0.109620\n",
       "citycenters_nearest   -0.355924   -0.164885 -0.109620             1.000000"
      ]
     },
     "execution_count": 43,
     "metadata": {},
     "output_type": "execute_result"
    }
   ],
   "source": [
    "#Рассчитаем коэффициент корреляции\n",
    "data_corr=data_new.loc[:,['last_price','total_area','rooms','citycenters_nearest']].corr()\n",
    "data_corr"
   ]
  },
  {
   "cell_type": "code",
   "execution_count": 44,
   "metadata": {
    "pycharm": {
     "name": "#%%\n"
    }
   },
   "outputs": [
    {
     "data": {
      "image/png": "[encoded data removed]",
      "text/plain": [
       "<Figure size 720x360 with 1 Axes>"
      ]
     },
     "metadata": {
      "needs_background": "light"
     },
     "output_type": "display_data"
    },
    {
     "data": {
      "image/png": "[encoded data removed]",
      "text/plain": [
       "<Figure size 720x360 with 1 Axes>"
      ]
     },
     "metadata": {
      "needs_background": "light"
     },
     "output_type": "display_data"
    },
    {
     "data": {
      "image/png": "[encoded data removed]",
      "text/plain": [
       "<Figure size 720x360 with 1 Axes>"
      ]
     },
     "metadata": {
      "needs_background": "light"
     },
     "output_type": "display_data"
    },
    {
     "data": {
      "image/png": "[encoded data removed]",
      "text/plain": [
       "<Figure size 720x360 with 1 Axes>"
      ]
     },
     "metadata": {
      "needs_background": "light"
     },
     "output_type": "display_data"
    }
   ],
   "source": [
    "data_list_of_columns = ['floor_type', 'weekday', 'published_month', 'published_year']\n",
    "\n",
    "for name in data_list_of_columns:\n",
    "    (data\n",
    " .pivot_table(index=name, values='last_price', aggfunc='median')\n",
    " .sort_values(by='last_price')\n",
    " .plot(y='last_price', kind='bar', figsize=(10, 5))\n",
    ")"
   ]
  },
  {
   "cell_type": "markdown",
   "metadata": {
    "pycharm": {
     "name": "#%% md\n"
    }
   },
   "source": [
    "Наименьшая стоимость у квартир на первом этаже. На последнем этаже, также стоимость квартир меньше, чем на других этажах\n",
    "Какой-либо значимой зависимости цены от дня недели и месяца размещения объявления не наблюдается.\n",
    "Рассматривая объявления в 2014-2019гг., необходимо отметить пик купли-продажи недвижимости в 2014 году, который,вероятно, был связан с кризисом."
   ]
  },
  {
   "cell_type": "code",
   "execution_count": 45,
   "metadata": {
    "pycharm": {
     "name": "#%%\n"
    }
   },
   "outputs": [
    {
     "data": {
      "text/plain": [
       "<AxesSubplot:xlabel='locality_name'>"
      ]
     },
     "execution_count": 45,
     "metadata": {},
     "output_type": "execute_result"
    },
    {
     "data": {
      "image/png": "[encoded data removed]",
      "text/plain": [
       "<Figure size 720x360 with 1 Axes>"
      ]
     },
     "metadata": {
      "needs_background": "light"
     },
     "output_type": "display_data"
    }
   ],
   "source": [
    "#Выберем 10 населённых пунктов с наибольшим числом объявлений:\n",
    "(data_new\n",
    " # считаем среднюю цену за квадратный метр среди топ-10 населенных пунктов\n",
    " .pivot_table(index='locality_name', aggfunc={'last_price':'count', 'price_per_meter':'mean'})\n",
    " .sort_values(by='last_price', ascending=False)\n",
    " .head(10)\n",
    " # отсортируем таблицу еще раз по средним значениям, чтобы выделить минимум и максимум\n",
    " .sort_values(by='price_per_meter', ascending=False)\n",
    " .plot(y='price_per_meter', kind='bar', figsize=(10, 5))\n",
    ")"
   ]
  },
  {
   "cell_type": "markdown",
   "metadata": {
    "pycharm": {
     "name": "#%% md\n"
    }
   },
   "source": [
    "Самая высокая цена за квадратный метр в Санкт-Петербурге, самая низкая (из топ 10)- во Всеволожске."
   ]
  },
  {
   "cell_type": "code",
   "execution_count": 46,
   "metadata": {
    "pycharm": {
     "name": "#%%\n"
    }
   },
   "outputs": [
    {
     "data": {
      "text/html": [
       "<div>\n",
       "<style scoped>\n",
       "    .dataframe tbody tr th:only-of-type {\n",
       "        vertical-align: middle;\n",
       "    }\n",
       "\n",
       "    .dataframe tbody tr th {\n",
       "        vertical-align: top;\n",
       "    }\n",
       "\n",
       "    .dataframe thead th {\n",
       "        text-align: right;\n",
       "    }\n",
       "</style>\n",
       "<table border=\"1\" class=\"dataframe\">\n",
       "  <thead>\n",
       "    <tr style=\"text-align: right;\">\n",
       "      <th></th>\n",
       "      <th>price_per_meter</th>\n",
       "    </tr>\n",
       "    <tr>\n",
       "      <th>distance_to_center</th>\n",
       "      <th></th>\n",
       "    </tr>\n",
       "  </thead>\n",
       "  <tbody>\n",
       "    <tr>\n",
       "      <th>0</th>\n",
       "      <td>189.999466</td>\n",
       "    </tr>\n",
       "    <tr>\n",
       "      <th>1</th>\n",
       "      <td>160.719780</td>\n",
       "    </tr>\n",
       "    <tr>\n",
       "      <th>2</th>\n",
       "      <td>149.307330</td>\n",
       "    </tr>\n",
       "    <tr>\n",
       "      <th>3</th>\n",
       "      <td>124.329484</td>\n",
       "    </tr>\n",
       "    <tr>\n",
       "      <th>4</th>\n",
       "      <td>134.862606</td>\n",
       "    </tr>\n",
       "    <tr>\n",
       "      <th>5</th>\n",
       "      <td>145.381181</td>\n",
       "    </tr>\n",
       "    <tr>\n",
       "      <th>6</th>\n",
       "      <td>149.832976</td>\n",
       "    </tr>\n",
       "    <tr>\n",
       "      <th>7</th>\n",
       "      <td>142.516309</td>\n",
       "    </tr>\n",
       "    <tr>\n",
       "      <th>8</th>\n",
       "      <td>120.007399</td>\n",
       "    </tr>\n",
       "    <tr>\n",
       "      <th>9</th>\n",
       "      <td>109.363656</td>\n",
       "    </tr>\n",
       "    <tr>\n",
       "      <th>10</th>\n",
       "      <td>110.786818</td>\n",
       "    </tr>\n",
       "    <tr>\n",
       "      <th>11</th>\n",
       "      <td>106.041285</td>\n",
       "    </tr>\n",
       "    <tr>\n",
       "      <th>12</th>\n",
       "      <td>109.272520</td>\n",
       "    </tr>\n",
       "    <tr>\n",
       "      <th>13</th>\n",
       "      <td>106.684256</td>\n",
       "    </tr>\n",
       "    <tr>\n",
       "      <th>14</th>\n",
       "      <td>104.285768</td>\n",
       "    </tr>\n",
       "    <tr>\n",
       "      <th>15</th>\n",
       "      <td>101.972894</td>\n",
       "    </tr>\n",
       "    <tr>\n",
       "      <th>16</th>\n",
       "      <td>99.661219</td>\n",
       "    </tr>\n",
       "    <tr>\n",
       "      <th>17</th>\n",
       "      <td>94.570397</td>\n",
       "    </tr>\n",
       "    <tr>\n",
       "      <th>18</th>\n",
       "      <td>95.294006</td>\n",
       "    </tr>\n",
       "    <tr>\n",
       "      <th>19</th>\n",
       "      <td>95.084333</td>\n",
       "    </tr>\n",
       "    <tr>\n",
       "      <th>20</th>\n",
       "      <td>103.199921</td>\n",
       "    </tr>\n",
       "    <tr>\n",
       "      <th>21</th>\n",
       "      <td>89.605389</td>\n",
       "    </tr>\n",
       "    <tr>\n",
       "      <th>22</th>\n",
       "      <td>88.504617</td>\n",
       "    </tr>\n",
       "    <tr>\n",
       "      <th>23</th>\n",
       "      <td>93.562536</td>\n",
       "    </tr>\n",
       "    <tr>\n",
       "      <th>24</th>\n",
       "      <td>81.567463</td>\n",
       "    </tr>\n",
       "    <tr>\n",
       "      <th>25</th>\n",
       "      <td>86.867969</td>\n",
       "    </tr>\n",
       "    <tr>\n",
       "      <th>26</th>\n",
       "      <td>75.171911</td>\n",
       "    </tr>\n",
       "    <tr>\n",
       "      <th>27</th>\n",
       "      <td>132.115709</td>\n",
       "    </tr>\n",
       "    <tr>\n",
       "      <th>28</th>\n",
       "      <td>81.840639</td>\n",
       "    </tr>\n",
       "    <tr>\n",
       "      <th>29</th>\n",
       "      <td>65.235234</td>\n",
       "    </tr>\n",
       "  </tbody>\n",
       "</table>\n",
       "</div>"
      ],
      "text/plain": [
       "                    price_per_meter\n",
       "distance_to_center                 \n",
       "0                        189.999466\n",
       "1                        160.719780\n",
       "2                        149.307330\n",
       "3                        124.329484\n",
       "4                        134.862606\n",
       "5                        145.381181\n",
       "6                        149.832976\n",
       "7                        142.516309\n",
       "8                        120.007399\n",
       "9                        109.363656\n",
       "10                       110.786818\n",
       "11                       106.041285\n",
       "12                       109.272520\n",
       "13                       106.684256\n",
       "14                       104.285768\n",
       "15                       101.972894\n",
       "16                        99.661219\n",
       "17                        94.570397\n",
       "18                        95.294006\n",
       "19                        95.084333\n",
       "20                       103.199921\n",
       "21                        89.605389\n",
       "22                        88.504617\n",
       "23                        93.562536\n",
       "24                        81.567463\n",
       "25                        86.867969\n",
       "26                        75.171911\n",
       "27                       132.115709\n",
       "28                        81.840639\n",
       "29                        65.235234"
      ]
     },
     "execution_count": 46,
     "metadata": {},
     "output_type": "execute_result"
    },
    {
     "data": {
      "image/png": "[encoded data removed]",
      "text/plain": [
       "<Figure size 432x288 with 1 Axes>"
      ]
     },
     "metadata": {
      "needs_background": "light"
     },
     "output_type": "display_data"
    }
   ],
   "source": [
    "data['citycenters_nearest'] = data['citycenters_nearest'].fillna(0)\n",
    "data['distance_to_center'] = (data['citycenters_nearest']/1000).astype(int).round(0)\n",
    "data_spb = data.query('locality_name == \"санкт-петербург\" and distance_to_center !=999').pivot_table(index = 'distance_to_center', values = 'price_per_meter', aggfunc = 'mean')\n",
    "data_spb.plot()\n",
    "data_spb"
   ]
  },
  {
   "cell_type": "markdown",
   "metadata": {
    "pycharm": {
     "name": "#%% md\n"
    }
   },
   "source": [
    "## Общий вывод"
   ]
  },
  {
   "cell_type": "markdown",
   "metadata": {},
   "source": [
    "Я проанализировала данные сервиса Яндекс Недвижимость — архив объявлений 2014 - 2019гг о продаже квартир в Санкт-Петербурге и соседних населённых пунктах.\n",
    "\n",
    "Стоит отметить большое количество пропусков как в данных, добавленных пользователем, так и в картографических. Высота потолков была заполнена медианным значением. Исходя из предположения, что пользователи не указали данные в виду отсутствия этого признака были заполнены значения в столбцах балкона и апартаментов. Были выявлены и исправлены неявные дубликаты в значениях населенных пунктов. Частично были заполнены пропуски в картографических данных исходя из медианного значения по населенному пункту. В некоторых населенных пунктах данная информация не была указана ни в одном объявлении. Стоит проверить корректность первоначальной базы, возможно данные были утеряны.\n",
    "\n",
    "Также в таблице были неверно выставлены типы данных, которые, после удаления пропусков, я привела в корректный формат.\n",
    "\n",
    "Удалила данные с незначительным кол-вом пропусков: в названиях нас. пунктов, кол-ва этажей в доме, а также незаолненные данные жилой площади, т.к. мы не можем достоверно их заменить. \n",
    "\n",
    "Добавила необходимые столбцы такие как price_per_meter(цена за квадратный метр), ratio_area(соотношение жилой площади к общей площади), ratio_kitchen(соотношение кухни на общую площадь) и добавила столбцы с днем недели, месяцем и годом публикации. \n",
    "\n",
    "Оценив параметры объявлений с помощью гистограмм, я создала сводную таблицу со значения без выбросов и аномалий. Выяснила, что средняя стоимость квартиры составляет 4,5 млн рублей. Средняя площадь квартир составляет 49 квадратных метров, с 2мя комнатами и высотой потолков в 2.65 метра. В среднем объявление были опубликовано на сайте 102 дня.\n",
    "\n",
    "Оценив таблицу коэффициентов корреляции, можно сделать вывод о высокой зависимости между общей площадью квартиры и её стоимостью (0,74) . Количество комнат и расстояние до центра слабо влияет на окончательную стоимость недвижимости. Наибольшая зависимость прослеживается между количеством комнат и общей площадью квартиры.\n",
    "\n",
    "Наименьшая стоимость у квартир на первом этаже. На последнем этаже, также стоимость квартир меньше, чем на других этажах Какой-либо значимой зависимости цены от дня недели и месяца размещения объявления не наблюдается. Рассматривая объявления в 2014-2019гг., необходимо отметить пик купли-продажи недвижимости в 2014 году, который, вероятно, был связан с кризисом.\n",
    "\n",
    "Самая высокая цена за квадратный метр в Санкт-Петербурге, самая низкая (из топ 10)- во Всеволожске."
   ]
  }
 ],
 "metadata": {
  "ExecuteTimeLog": [
   {
    "duration": 387,
    "start_time": "2022-07-31T13:43:17.130Z"
   },
   {
    "duration": 167,
    "start_time": "2022-07-31T13:43:32.942Z"
   },
   {
    "duration": 21,
    "start_time": "2022-07-31T13:43:42.740Z"
   },
   {
    "duration": 25,
    "start_time": "2022-07-31T13:43:53.887Z"
   },
   {
    "duration": 9,
    "start_time": "2022-07-31T13:44:10.227Z"
   },
   {
    "duration": 3,
    "start_time": "2022-07-31T13:44:37.630Z"
   },
   {
    "duration": 11,
    "start_time": "2022-07-31T13:44:51.819Z"
   },
   {
    "duration": 3,
    "start_time": "2022-07-31T13:45:23.518Z"
   },
   {
    "duration": 11,
    "start_time": "2022-07-31T13:45:32.274Z"
   },
   {
    "duration": 6,
    "start_time": "2022-07-31T13:45:43.370Z"
   },
   {
    "duration": 7,
    "start_time": "2022-07-31T13:45:55.832Z"
   },
   {
    "duration": 5,
    "start_time": "2022-07-31T13:46:06.541Z"
   },
   {
    "duration": 3,
    "start_time": "2022-07-31T13:46:18.077Z"
   },
   {
    "duration": 6,
    "start_time": "2022-07-31T13:46:44.622Z"
   },
   {
    "duration": 7,
    "start_time": "2022-07-31T13:46:47.175Z"
   },
   {
    "duration": 3,
    "start_time": "2022-07-31T13:46:57.493Z"
   },
   {
    "duration": 10,
    "start_time": "2022-07-31T13:47:05.693Z"
   },
   {
    "duration": 12,
    "start_time": "2022-07-31T13:47:26.660Z"
   },
   {
    "duration": 7,
    "start_time": "2022-07-31T13:47:34.679Z"
   },
   {
    "duration": 8,
    "start_time": "2022-07-31T13:47:44.970Z"
   },
   {
    "duration": 8,
    "start_time": "2022-07-31T13:48:02.975Z"
   },
   {
    "duration": 13,
    "start_time": "2022-07-31T13:48:19.218Z"
   },
   {
    "duration": 404,
    "start_time": "2022-07-31T13:48:26.876Z"
   },
   {
    "duration": 98,
    "start_time": "2022-07-31T13:48:27.282Z"
   },
   {
    "duration": 15,
    "start_time": "2022-07-31T13:48:27.381Z"
   },
   {
    "duration": 26,
    "start_time": "2022-07-31T13:48:27.397Z"
   },
   {
    "duration": 9,
    "start_time": "2022-07-31T13:48:27.425Z"
   },
   {
    "duration": 22,
    "start_time": "2022-07-31T13:48:27.435Z"
   },
   {
    "duration": 15,
    "start_time": "2022-07-31T13:48:27.459Z"
   },
   {
    "duration": 11,
    "start_time": "2022-07-31T13:48:27.478Z"
   },
   {
    "duration": 10,
    "start_time": "2022-07-31T13:48:27.491Z"
   },
   {
    "duration": 7,
    "start_time": "2022-07-31T13:48:27.502Z"
   },
   {
    "duration": 4,
    "start_time": "2022-07-31T13:48:27.510Z"
   },
   {
    "duration": 7,
    "start_time": "2022-07-31T13:48:27.515Z"
   },
   {
    "duration": 15,
    "start_time": "2022-07-31T13:48:27.523Z"
   },
   {
    "duration": 18,
    "start_time": "2022-07-31T13:48:27.540Z"
   },
   {
    "duration": 18,
    "start_time": "2022-07-31T13:48:27.560Z"
   },
   {
    "duration": 3,
    "start_time": "2022-07-31T13:48:27.580Z"
   },
   {
    "duration": 14,
    "start_time": "2022-07-31T13:48:27.585Z"
   },
   {
    "duration": 8,
    "start_time": "2022-07-31T13:48:27.600Z"
   },
   {
    "duration": 8,
    "start_time": "2022-07-31T13:48:27.610Z"
   },
   {
    "duration": 14,
    "start_time": "2022-07-31T13:48:51.314Z"
   },
   {
    "duration": 11,
    "start_time": "2022-07-31T13:49:08.493Z"
   },
   {
    "duration": 9,
    "start_time": "2022-07-31T13:50:40.913Z"
   },
   {
    "duration": 5,
    "start_time": "2022-07-31T13:52:13.770Z"
   },
   {
    "duration": 4,
    "start_time": "2022-07-31T13:52:57.014Z"
   },
   {
    "duration": 2,
    "start_time": "2022-07-31T13:53:07.941Z"
   },
   {
    "duration": 405,
    "start_time": "2022-07-31T13:53:21.477Z"
   },
   {
    "duration": 5,
    "start_time": "2022-07-31T13:53:35.436Z"
   },
   {
    "duration": 11,
    "start_time": "2022-07-31T13:53:46.879Z"
   },
   {
    "duration": 23,
    "start_time": "2022-07-31T13:53:57.289Z"
   },
   {
    "duration": 543,
    "start_time": "2022-07-31T14:06:13.156Z"
   },
   {
    "duration": 484,
    "start_time": "2022-07-31T14:06:35.078Z"
   },
   {
    "duration": 806,
    "start_time": "2022-07-31T14:06:41.929Z"
   },
   {
    "duration": 735,
    "start_time": "2022-07-31T14:07:00.830Z"
   },
   {
    "duration": 719,
    "start_time": "2022-07-31T14:07:13.711Z"
   },
   {
    "duration": 1455,
    "start_time": "2022-07-31T15:32:49.440Z"
   },
   {
    "duration": 174,
    "start_time": "2022-07-31T15:32:50.897Z"
   },
   {
    "duration": 18,
    "start_time": "2022-07-31T15:32:51.073Z"
   },
   {
    "duration": 28,
    "start_time": "2022-07-31T15:32:51.093Z"
   },
   {
    "duration": 13,
    "start_time": "2022-07-31T15:32:51.123Z"
   },
   {
    "duration": 4,
    "start_time": "2022-07-31T15:32:51.138Z"
   },
   {
    "duration": 15,
    "start_time": "2022-07-31T15:32:51.144Z"
   },
   {
    "duration": 11,
    "start_time": "2022-07-31T15:32:51.161Z"
   },
   {
    "duration": 12,
    "start_time": "2022-07-31T15:32:51.174Z"
   },
   {
    "duration": 29,
    "start_time": "2022-07-31T15:32:51.189Z"
   },
   {
    "duration": 4,
    "start_time": "2022-07-31T15:32:51.220Z"
   },
   {
    "duration": 9,
    "start_time": "2022-07-31T15:32:51.225Z"
   },
   {
    "duration": 10,
    "start_time": "2022-07-31T15:32:51.236Z"
   },
   {
    "duration": 15,
    "start_time": "2022-07-31T15:32:51.248Z"
   },
   {
    "duration": 15,
    "start_time": "2022-07-31T15:32:51.266Z"
   },
   {
    "duration": 29,
    "start_time": "2022-07-31T15:32:51.283Z"
   },
   {
    "duration": 19,
    "start_time": "2022-07-31T15:32:51.314Z"
   },
   {
    "duration": 15,
    "start_time": "2022-07-31T15:32:51.335Z"
   },
   {
    "duration": 12,
    "start_time": "2022-07-31T15:32:51.352Z"
   },
   {
    "duration": 5,
    "start_time": "2022-07-31T15:32:51.366Z"
   },
   {
    "duration": 6,
    "start_time": "2022-07-31T15:32:51.373Z"
   },
   {
    "duration": 449,
    "start_time": "2022-07-31T15:32:51.381Z"
   },
   {
    "duration": 7,
    "start_time": "2022-07-31T15:32:51.833Z"
   },
   {
    "duration": 22,
    "start_time": "2022-07-31T15:32:51.841Z"
   },
   {
    "duration": 52,
    "start_time": "2022-07-31T15:32:51.865Z"
   },
   {
    "duration": 1015,
    "start_time": "2022-07-31T15:32:51.919Z"
   },
   {
    "duration": 50,
    "start_time": "2022-07-31T15:34:20.799Z"
   },
   {
    "duration": 16,
    "start_time": "2022-07-31T15:34:30.477Z"
   },
   {
    "duration": 22,
    "start_time": "2022-07-31T15:34:40.007Z"
   },
   {
    "duration": 1410,
    "start_time": "2022-07-31T15:35:50.082Z"
   },
   {
    "duration": 109,
    "start_time": "2022-07-31T15:35:51.494Z"
   },
   {
    "duration": 17,
    "start_time": "2022-07-31T15:35:51.605Z"
   },
   {
    "duration": 27,
    "start_time": "2022-07-31T15:35:51.623Z"
   },
   {
    "duration": 10,
    "start_time": "2022-07-31T15:35:51.653Z"
   },
   {
    "duration": 4,
    "start_time": "2022-07-31T15:35:51.665Z"
   },
   {
    "duration": 48,
    "start_time": "2022-07-31T15:35:51.671Z"
   },
   {
    "duration": 6,
    "start_time": "2022-07-31T15:35:51.721Z"
   },
   {
    "duration": 19,
    "start_time": "2022-07-31T15:35:51.729Z"
   },
   {
    "duration": 25,
    "start_time": "2022-07-31T15:35:51.750Z"
   },
   {
    "duration": 70,
    "start_time": "2022-07-31T15:35:51.779Z"
   },
   {
    "duration": 33,
    "start_time": "2022-07-31T15:35:51.852Z"
   },
   {
    "duration": 28,
    "start_time": "2022-07-31T15:35:51.888Z"
   },
   {
    "duration": 26,
    "start_time": "2022-07-31T15:35:51.920Z"
   },
   {
    "duration": 19,
    "start_time": "2022-07-31T15:35:51.949Z"
   },
   {
    "duration": 18,
    "start_time": "2022-07-31T15:35:51.971Z"
   },
   {
    "duration": 31,
    "start_time": "2022-07-31T15:35:51.992Z"
   },
   {
    "duration": 19,
    "start_time": "2022-07-31T15:35:52.025Z"
   },
   {
    "duration": 23,
    "start_time": "2022-07-31T15:35:52.046Z"
   },
   {
    "duration": 17,
    "start_time": "2022-07-31T15:35:52.071Z"
   },
   {
    "duration": 22,
    "start_time": "2022-07-31T15:35:52.091Z"
   },
   {
    "duration": 17,
    "start_time": "2022-07-31T15:35:52.115Z"
   },
   {
    "duration": 428,
    "start_time": "2022-07-31T15:35:52.134Z"
   },
   {
    "duration": 7,
    "start_time": "2022-07-31T15:35:52.564Z"
   },
   {
    "duration": 19,
    "start_time": "2022-07-31T15:35:52.573Z"
   },
   {
    "duration": 45,
    "start_time": "2022-07-31T15:35:52.593Z"
   },
   {
    "duration": 1039,
    "start_time": "2022-07-31T15:35:52.640Z"
   },
   {
    "duration": 114,
    "start_time": "2022-07-31T15:42:13.647Z"
   },
   {
    "duration": 1039,
    "start_time": "2022-07-31T15:42:22.402Z"
   },
   {
    "duration": 10,
    "start_time": "2022-07-31T15:46:02.914Z"
   },
   {
    "duration": 7,
    "start_time": "2022-07-31T15:46:12.190Z"
   },
   {
    "duration": 12,
    "start_time": "2022-07-31T15:46:26.573Z"
   },
   {
    "duration": 12,
    "start_time": "2022-07-31T15:46:31.322Z"
   },
   {
    "duration": 1265,
    "start_time": "2022-08-03T08:29:59.796Z"
   },
   {
    "duration": 151,
    "start_time": "2022-08-03T08:30:01.063Z"
   },
   {
    "duration": 16,
    "start_time": "2022-08-03T08:30:01.215Z"
   },
   {
    "duration": 21,
    "start_time": "2022-08-03T08:30:01.233Z"
   },
   {
    "duration": 8,
    "start_time": "2022-08-03T08:30:01.256Z"
   },
   {
    "duration": 10,
    "start_time": "2022-08-03T08:30:01.265Z"
   },
   {
    "duration": 14,
    "start_time": "2022-08-03T08:30:01.277Z"
   },
   {
    "duration": 8,
    "start_time": "2022-08-03T08:30:01.292Z"
   },
   {
    "duration": 28,
    "start_time": "2022-08-03T08:30:01.301Z"
   },
   {
    "duration": 9,
    "start_time": "2022-08-03T08:30:01.331Z"
   },
   {
    "duration": 10,
    "start_time": "2022-08-03T08:30:01.341Z"
   },
   {
    "duration": 10,
    "start_time": "2022-08-03T08:30:01.352Z"
   },
   {
    "duration": 13,
    "start_time": "2022-08-03T08:30:01.364Z"
   },
   {
    "duration": 15,
    "start_time": "2022-08-03T08:30:01.379Z"
   },
   {
    "duration": 19,
    "start_time": "2022-08-03T08:30:01.395Z"
   },
   {
    "duration": 4,
    "start_time": "2022-08-03T08:30:01.416Z"
   },
   {
    "duration": 16,
    "start_time": "2022-08-03T08:30:01.421Z"
   },
   {
    "duration": 7,
    "start_time": "2022-08-03T08:30:01.439Z"
   },
   {
    "duration": 19,
    "start_time": "2022-08-03T08:30:01.447Z"
   },
   {
    "duration": 13,
    "start_time": "2022-08-03T08:30:01.467Z"
   },
   {
    "duration": 5,
    "start_time": "2022-08-03T08:30:01.481Z"
   },
   {
    "duration": 5,
    "start_time": "2022-08-03T08:30:01.488Z"
   },
   {
    "duration": 354,
    "start_time": "2022-08-03T08:30:01.501Z"
   },
   {
    "duration": 5,
    "start_time": "2022-08-03T08:30:01.856Z"
   },
   {
    "duration": 49,
    "start_time": "2022-08-03T08:30:01.862Z"
   },
   {
    "duration": 23,
    "start_time": "2022-08-03T08:30:01.914Z"
   },
   {
    "duration": 807,
    "start_time": "2022-08-03T08:30:01.939Z"
   },
   {
    "duration": 848,
    "start_time": "2022-08-03T08:30:02.747Z"
   },
   {
    "duration": 8,
    "start_time": "2022-08-03T08:30:03.597Z"
   },
   {
    "duration": 20,
    "start_time": "2022-08-03T08:30:03.606Z"
   },
   {
    "duration": 7,
    "start_time": "2022-08-03T08:40:07.255Z"
   },
   {
    "duration": 20,
    "start_time": "2022-08-03T08:43:03.553Z"
   },
   {
    "duration": 17,
    "start_time": "2022-08-03T08:44:44.799Z"
   },
   {
    "duration": 9,
    "start_time": "2022-08-03T08:46:18.290Z"
   },
   {
    "duration": 9,
    "start_time": "2022-08-03T08:46:30.090Z"
   },
   {
    "duration": 6,
    "start_time": "2022-08-03T08:47:53.691Z"
   },
   {
    "duration": 9,
    "start_time": "2022-08-03T08:47:59.188Z"
   },
   {
    "duration": 1088,
    "start_time": "2022-08-03T08:49:50.221Z"
   },
   {
    "duration": 85,
    "start_time": "2022-08-03T08:49:51.312Z"
   },
   {
    "duration": 22,
    "start_time": "2022-08-03T08:49:51.399Z"
   },
   {
    "duration": 25,
    "start_time": "2022-08-03T08:49:51.422Z"
   },
   {
    "duration": 9,
    "start_time": "2022-08-03T08:49:51.449Z"
   },
   {
    "duration": 4,
    "start_time": "2022-08-03T08:49:51.459Z"
   },
   {
    "duration": 19,
    "start_time": "2022-08-03T08:49:51.465Z"
   },
   {
    "duration": 21,
    "start_time": "2022-08-03T08:49:51.486Z"
   },
   {
    "duration": 26,
    "start_time": "2022-08-03T08:49:51.509Z"
   },
   {
    "duration": 7,
    "start_time": "2022-08-03T08:49:51.537Z"
   },
   {
    "duration": 7,
    "start_time": "2022-08-03T08:49:51.545Z"
   },
   {
    "duration": 9,
    "start_time": "2022-08-03T08:49:51.553Z"
   },
   {
    "duration": 14,
    "start_time": "2022-08-03T08:49:51.563Z"
   },
   {
    "duration": 12,
    "start_time": "2022-08-03T08:49:51.580Z"
   },
   {
    "duration": 24,
    "start_time": "2022-08-03T08:49:51.593Z"
   },
   {
    "duration": 5,
    "start_time": "2022-08-03T08:49:51.619Z"
   },
   {
    "duration": 13,
    "start_time": "2022-08-03T08:49:51.626Z"
   },
   {
    "duration": 8,
    "start_time": "2022-08-03T08:49:51.640Z"
   },
   {
    "duration": 10,
    "start_time": "2022-08-03T08:49:51.650Z"
   },
   {
    "duration": 1036,
    "start_time": "2022-08-03T08:49:51.661Z"
   },
   {
    "duration": 0,
    "start_time": "2022-08-03T08:49:52.699Z"
   },
   {
    "duration": 0,
    "start_time": "2022-08-03T08:49:52.700Z"
   },
   {
    "duration": 0,
    "start_time": "2022-08-03T08:49:52.702Z"
   },
   {
    "duration": 0,
    "start_time": "2022-08-03T08:49:52.704Z"
   },
   {
    "duration": 0,
    "start_time": "2022-08-03T08:49:52.705Z"
   },
   {
    "duration": 0,
    "start_time": "2022-08-03T08:49:52.706Z"
   },
   {
    "duration": 0,
    "start_time": "2022-08-03T08:49:52.707Z"
   },
   {
    "duration": 0,
    "start_time": "2022-08-03T08:49:52.708Z"
   },
   {
    "duration": 0,
    "start_time": "2022-08-03T08:49:52.708Z"
   },
   {
    "duration": 0,
    "start_time": "2022-08-03T08:49:52.709Z"
   },
   {
    "duration": 0,
    "start_time": "2022-08-03T08:49:52.710Z"
   },
   {
    "duration": 0,
    "start_time": "2022-08-03T08:49:52.711Z"
   },
   {
    "duration": 6,
    "start_time": "2022-08-03T08:50:08.148Z"
   },
   {
    "duration": 9,
    "start_time": "2022-08-03T08:56:30.834Z"
   },
   {
    "duration": 16,
    "start_time": "2022-08-03T08:56:41.739Z"
   },
   {
    "duration": 9,
    "start_time": "2022-08-03T08:57:27.492Z"
   },
   {
    "duration": 8,
    "start_time": "2022-08-03T08:57:48.358Z"
   },
   {
    "duration": 125,
    "start_time": "2022-08-03T09:00:25.093Z"
   },
   {
    "duration": 19,
    "start_time": "2022-08-03T09:02:06.450Z"
   },
   {
    "duration": 4,
    "start_time": "2022-08-03T09:02:15.303Z"
   },
   {
    "duration": 112,
    "start_time": "2022-08-03T09:02:27.982Z"
   },
   {
    "duration": 12,
    "start_time": "2022-08-03T09:02:38.938Z"
   },
   {
    "duration": 15,
    "start_time": "2022-08-03T09:02:54.112Z"
   },
   {
    "duration": 17,
    "start_time": "2022-08-03T09:02:59.754Z"
   },
   {
    "duration": 16,
    "start_time": "2022-08-03T09:03:20.546Z"
   },
   {
    "duration": 8,
    "start_time": "2022-08-03T09:03:23.914Z"
   },
   {
    "duration": 12,
    "start_time": "2022-08-03T09:03:52.246Z"
   },
   {
    "duration": 1112,
    "start_time": "2022-08-03T09:04:10.546Z"
   },
   {
    "duration": 103,
    "start_time": "2022-08-03T09:04:11.664Z"
   },
   {
    "duration": 19,
    "start_time": "2022-08-03T09:04:11.770Z"
   },
   {
    "duration": 24,
    "start_time": "2022-08-03T09:04:11.791Z"
   },
   {
    "duration": 10,
    "start_time": "2022-08-03T09:04:11.817Z"
   },
   {
    "duration": 3,
    "start_time": "2022-08-03T09:04:11.829Z"
   },
   {
    "duration": 33,
    "start_time": "2022-08-03T09:04:11.834Z"
   },
   {
    "duration": 15,
    "start_time": "2022-08-03T09:04:11.869Z"
   },
   {
    "duration": 10,
    "start_time": "2022-08-03T09:04:11.885Z"
   },
   {
    "duration": 5,
    "start_time": "2022-08-03T09:04:11.897Z"
   },
   {
    "duration": 5,
    "start_time": "2022-08-03T09:04:11.904Z"
   },
   {
    "duration": 10,
    "start_time": "2022-08-03T09:04:11.910Z"
   },
   {
    "duration": 11,
    "start_time": "2022-08-03T09:04:11.921Z"
   },
   {
    "duration": 12,
    "start_time": "2022-08-03T09:04:11.934Z"
   },
   {
    "duration": 16,
    "start_time": "2022-08-03T09:04:11.949Z"
   },
   {
    "duration": 13,
    "start_time": "2022-08-03T09:04:11.973Z"
   },
   {
    "duration": 14,
    "start_time": "2022-08-03T09:04:11.988Z"
   },
   {
    "duration": 14,
    "start_time": "2022-08-03T09:04:12.004Z"
   },
   {
    "duration": 13,
    "start_time": "2022-08-03T09:04:12.020Z"
   },
   {
    "duration": 12,
    "start_time": "2022-08-03T09:04:12.035Z"
   },
   {
    "duration": 32,
    "start_time": "2022-08-03T09:04:12.048Z"
   },
   {
    "duration": 15,
    "start_time": "2022-08-03T09:04:12.081Z"
   },
   {
    "duration": 10,
    "start_time": "2022-08-03T09:04:12.098Z"
   },
   {
    "duration": 17,
    "start_time": "2022-08-03T09:04:12.110Z"
   },
   {
    "duration": 4,
    "start_time": "2022-08-03T09:04:12.129Z"
   },
   {
    "duration": 9,
    "start_time": "2022-08-03T09:04:12.135Z"
   },
   {
    "duration": 381,
    "start_time": "2022-08-03T09:04:12.146Z"
   },
   {
    "duration": 6,
    "start_time": "2022-08-03T09:04:12.531Z"
   },
   {
    "duration": 33,
    "start_time": "2022-08-03T09:04:12.539Z"
   },
   {
    "duration": 34,
    "start_time": "2022-08-03T09:04:12.574Z"
   },
   {
    "duration": 884,
    "start_time": "2022-08-03T09:04:12.610Z"
   },
   {
    "duration": 947,
    "start_time": "2022-08-03T09:04:13.496Z"
   },
   {
    "duration": 15,
    "start_time": "2022-08-03T09:04:14.445Z"
   },
   {
    "duration": 18,
    "start_time": "2022-08-03T09:04:14.464Z"
   },
   {
    "duration": 9,
    "start_time": "2022-08-03T09:04:28.620Z"
   },
   {
    "duration": 14,
    "start_time": "2022-08-03T09:04:35.253Z"
   },
   {
    "duration": 105,
    "start_time": "2022-08-03T09:05:31.110Z"
   },
   {
    "duration": 15,
    "start_time": "2022-08-03T09:07:02.445Z"
   },
   {
    "duration": 14,
    "start_time": "2022-08-03T09:07:12.670Z"
   },
   {
    "duration": 14,
    "start_time": "2022-08-03T09:07:17.637Z"
   },
   {
    "duration": 14,
    "start_time": "2022-08-03T09:07:37.544Z"
   },
   {
    "duration": 81,
    "start_time": "2022-08-03T09:16:11.350Z"
   },
   {
    "duration": 13,
    "start_time": "2022-08-03T09:16:50.080Z"
   },
   {
    "duration": 36,
    "start_time": "2022-08-03T09:17:00.249Z"
   },
   {
    "duration": 10,
    "start_time": "2022-08-03T09:17:09.232Z"
   },
   {
    "duration": 38,
    "start_time": "2022-08-03T09:20:41.388Z"
   },
   {
    "duration": 9,
    "start_time": "2022-08-03T09:21:28.247Z"
   },
   {
    "duration": 12,
    "start_time": "2022-08-03T09:21:36.106Z"
   },
   {
    "duration": 11,
    "start_time": "2022-08-03T09:21:46.906Z"
   },
   {
    "duration": 12,
    "start_time": "2022-08-03T09:21:52.179Z"
   },
   {
    "duration": 85,
    "start_time": "2022-08-03T09:23:58.486Z"
   },
   {
    "duration": 79,
    "start_time": "2022-08-03T09:24:11.582Z"
   },
   {
    "duration": 84,
    "start_time": "2022-08-03T09:24:20.729Z"
   },
   {
    "duration": 9,
    "start_time": "2022-08-03T09:24:36.469Z"
   },
   {
    "duration": 9,
    "start_time": "2022-08-03T09:25:20.075Z"
   },
   {
    "duration": 9,
    "start_time": "2022-08-03T09:25:28.136Z"
   },
   {
    "duration": 27,
    "start_time": "2022-08-03T09:25:32.574Z"
   },
   {
    "duration": 16,
    "start_time": "2022-08-03T09:26:02.640Z"
   },
   {
    "duration": 23,
    "start_time": "2022-08-03T09:26:08.819Z"
   },
   {
    "duration": 17,
    "start_time": "2022-08-03T09:26:40.233Z"
   },
   {
    "duration": 6,
    "start_time": "2022-08-03T09:26:56.682Z"
   },
   {
    "duration": 12,
    "start_time": "2022-08-03T09:29:50.096Z"
   },
   {
    "duration": 13,
    "start_time": "2022-08-03T09:29:55.423Z"
   },
   {
    "duration": 18,
    "start_time": "2022-08-03T09:30:09.852Z"
   },
   {
    "duration": 15,
    "start_time": "2022-08-03T09:30:27.329Z"
   },
   {
    "duration": 7,
    "start_time": "2022-08-03T09:30:42.030Z"
   },
   {
    "duration": 8,
    "start_time": "2022-08-03T09:30:44.418Z"
   },
   {
    "duration": 1091,
    "start_time": "2022-08-03T09:30:59.095Z"
   },
   {
    "duration": 93,
    "start_time": "2022-08-03T09:31:00.188Z"
   },
   {
    "duration": 15,
    "start_time": "2022-08-03T09:31:00.283Z"
   },
   {
    "duration": 24,
    "start_time": "2022-08-03T09:31:00.301Z"
   },
   {
    "duration": 31,
    "start_time": "2022-08-03T09:31:00.326Z"
   },
   {
    "duration": 4,
    "start_time": "2022-08-03T09:31:00.364Z"
   },
   {
    "duration": 21,
    "start_time": "2022-08-03T09:31:00.370Z"
   },
   {
    "duration": 6,
    "start_time": "2022-08-03T09:31:00.393Z"
   },
   {
    "duration": 16,
    "start_time": "2022-08-03T09:31:00.401Z"
   },
   {
    "duration": 15,
    "start_time": "2022-08-03T09:31:00.420Z"
   },
   {
    "duration": 14,
    "start_time": "2022-08-03T09:31:00.437Z"
   },
   {
    "duration": 41,
    "start_time": "2022-08-03T09:31:00.452Z"
   },
   {
    "duration": 23,
    "start_time": "2022-08-03T09:31:00.495Z"
   },
   {
    "duration": 37,
    "start_time": "2022-08-03T09:31:00.520Z"
   },
   {
    "duration": 36,
    "start_time": "2022-08-03T09:31:00.562Z"
   },
   {
    "duration": 8,
    "start_time": "2022-08-03T09:31:00.599Z"
   },
   {
    "duration": 35,
    "start_time": "2022-08-03T09:31:00.608Z"
   },
   {
    "duration": 38,
    "start_time": "2022-08-03T09:31:00.645Z"
   },
   {
    "duration": 29,
    "start_time": "2022-08-03T09:31:00.685Z"
   },
   {
    "duration": 13,
    "start_time": "2022-08-03T09:31:00.716Z"
   },
   {
    "duration": 34,
    "start_time": "2022-08-03T09:31:00.731Z"
   },
   {
    "duration": 29,
    "start_time": "2022-08-03T09:31:00.769Z"
   },
   {
    "duration": 27,
    "start_time": "2022-08-03T09:31:00.800Z"
   },
   {
    "duration": 47,
    "start_time": "2022-08-03T09:31:00.829Z"
   },
   {
    "duration": 22,
    "start_time": "2022-08-03T09:31:00.878Z"
   },
   {
    "duration": 21,
    "start_time": "2022-08-03T09:31:00.902Z"
   },
   {
    "duration": 26,
    "start_time": "2022-08-03T09:31:00.926Z"
   },
   {
    "duration": 420,
    "start_time": "2022-08-03T09:31:00.955Z"
   },
   {
    "duration": 5,
    "start_time": "2022-08-03T09:31:01.376Z"
   },
   {
    "duration": 16,
    "start_time": "2022-08-03T09:31:01.383Z"
   },
   {
    "duration": 25,
    "start_time": "2022-08-03T09:31:01.400Z"
   },
   {
    "duration": 854,
    "start_time": "2022-08-03T09:31:01.427Z"
   },
   {
    "duration": 852,
    "start_time": "2022-08-03T09:31:02.282Z"
   },
   {
    "duration": 4,
    "start_time": "2022-08-03T09:31:03.136Z"
   },
   {
    "duration": 22,
    "start_time": "2022-08-03T09:31:03.157Z"
   },
   {
    "duration": 98,
    "start_time": "2022-08-03T09:32:18.183Z"
   },
   {
    "duration": 17,
    "start_time": "2022-08-03T09:32:25.443Z"
   },
   {
    "duration": 9,
    "start_time": "2022-08-03T09:32:42.102Z"
   },
   {
    "duration": 8,
    "start_time": "2022-08-03T09:32:55.587Z"
   },
   {
    "duration": 1086,
    "start_time": "2022-08-03T09:33:31.772Z"
   },
   {
    "duration": 98,
    "start_time": "2022-08-03T09:33:32.870Z"
   },
   {
    "duration": 16,
    "start_time": "2022-08-03T09:33:32.970Z"
   },
   {
    "duration": 23,
    "start_time": "2022-08-03T09:33:32.987Z"
   },
   {
    "duration": 8,
    "start_time": "2022-08-03T09:33:33.013Z"
   },
   {
    "duration": 3,
    "start_time": "2022-08-03T09:33:33.022Z"
   },
   {
    "duration": 10,
    "start_time": "2022-08-03T09:33:33.027Z"
   },
   {
    "duration": 24,
    "start_time": "2022-08-03T09:33:33.038Z"
   },
   {
    "duration": 18,
    "start_time": "2022-08-03T09:33:33.064Z"
   },
   {
    "duration": 8,
    "start_time": "2022-08-03T09:33:33.084Z"
   },
   {
    "duration": 3,
    "start_time": "2022-08-03T09:33:33.094Z"
   },
   {
    "duration": 9,
    "start_time": "2022-08-03T09:33:33.099Z"
   },
   {
    "duration": 11,
    "start_time": "2022-08-03T09:33:33.110Z"
   },
   {
    "duration": 11,
    "start_time": "2022-08-03T09:33:33.124Z"
   },
   {
    "duration": 22,
    "start_time": "2022-08-03T09:33:33.136Z"
   },
   {
    "duration": 2,
    "start_time": "2022-08-03T09:33:33.169Z"
   },
   {
    "duration": 16,
    "start_time": "2022-08-03T09:33:33.172Z"
   },
   {
    "duration": 12,
    "start_time": "2022-08-03T09:33:33.189Z"
   },
   {
    "duration": 10,
    "start_time": "2022-08-03T09:33:33.203Z"
   },
   {
    "duration": 15,
    "start_time": "2022-08-03T09:33:33.214Z"
   },
   {
    "duration": 6,
    "start_time": "2022-08-03T09:33:33.230Z"
   },
   {
    "duration": 9,
    "start_time": "2022-08-03T09:33:33.237Z"
   },
   {
    "duration": 15,
    "start_time": "2022-08-03T09:33:33.248Z"
   },
   {
    "duration": 15,
    "start_time": "2022-08-03T09:33:33.264Z"
   },
   {
    "duration": 7,
    "start_time": "2022-08-03T09:33:33.281Z"
   },
   {
    "duration": 13,
    "start_time": "2022-08-03T09:33:33.289Z"
   },
   {
    "duration": 5,
    "start_time": "2022-08-03T09:33:33.303Z"
   },
   {
    "duration": 5,
    "start_time": "2022-08-03T09:33:33.309Z"
   },
   {
    "duration": 373,
    "start_time": "2022-08-03T09:33:33.315Z"
   },
   {
    "duration": 5,
    "start_time": "2022-08-03T09:33:33.689Z"
   },
   {
    "duration": 13,
    "start_time": "2022-08-03T09:33:33.695Z"
   },
   {
    "duration": 23,
    "start_time": "2022-08-03T09:33:33.710Z"
   },
   {
    "duration": 832,
    "start_time": "2022-08-03T09:33:33.735Z"
   },
   {
    "duration": 868,
    "start_time": "2022-08-03T09:33:34.570Z"
   },
   {
    "duration": 16,
    "start_time": "2022-08-03T09:33:35.439Z"
   },
   {
    "duration": 13,
    "start_time": "2022-08-03T09:33:35.458Z"
   },
   {
    "duration": 0,
    "start_time": "2022-08-03T09:43:05.122Z"
   },
   {
    "duration": 1206,
    "start_time": "2022-08-03T09:43:08.275Z"
   },
   {
    "duration": 1045,
    "start_time": "2022-08-03T09:43:20.870Z"
   },
   {
    "duration": 88,
    "start_time": "2022-08-03T09:43:21.917Z"
   },
   {
    "duration": 13,
    "start_time": "2022-08-03T09:43:22.006Z"
   },
   {
    "duration": 22,
    "start_time": "2022-08-03T09:43:22.020Z"
   },
   {
    "duration": 25,
    "start_time": "2022-08-03T09:43:22.044Z"
   },
   {
    "duration": 16,
    "start_time": "2022-08-03T09:43:22.071Z"
   },
   {
    "duration": 18,
    "start_time": "2022-08-03T09:43:22.088Z"
   },
   {
    "duration": 7,
    "start_time": "2022-08-03T09:43:22.107Z"
   },
   {
    "duration": 14,
    "start_time": "2022-08-03T09:43:22.116Z"
   },
   {
    "duration": 8,
    "start_time": "2022-08-03T09:43:22.131Z"
   },
   {
    "duration": 11,
    "start_time": "2022-08-03T09:43:22.141Z"
   },
   {
    "duration": 14,
    "start_time": "2022-08-03T09:43:22.154Z"
   },
   {
    "duration": 23,
    "start_time": "2022-08-03T09:43:22.169Z"
   },
   {
    "duration": 15,
    "start_time": "2022-08-03T09:43:22.194Z"
   },
   {
    "duration": 15,
    "start_time": "2022-08-03T09:43:22.211Z"
   },
   {
    "duration": 13,
    "start_time": "2022-08-03T09:43:22.228Z"
   },
   {
    "duration": 22,
    "start_time": "2022-08-03T09:43:22.242Z"
   },
   {
    "duration": 12,
    "start_time": "2022-08-03T09:43:22.265Z"
   },
   {
    "duration": 20,
    "start_time": "2022-08-03T09:43:22.278Z"
   },
   {
    "duration": 8,
    "start_time": "2022-08-03T09:43:22.300Z"
   },
   {
    "duration": 5,
    "start_time": "2022-08-03T09:43:22.309Z"
   },
   {
    "duration": 9,
    "start_time": "2022-08-03T09:43:22.315Z"
   },
   {
    "duration": 1316,
    "start_time": "2022-08-03T09:43:22.325Z"
   },
   {
    "duration": 0,
    "start_time": "2022-08-03T09:43:23.642Z"
   },
   {
    "duration": 0,
    "start_time": "2022-08-03T09:43:23.643Z"
   },
   {
    "duration": 0,
    "start_time": "2022-08-03T09:43:23.644Z"
   },
   {
    "duration": 0,
    "start_time": "2022-08-03T09:43:23.645Z"
   },
   {
    "duration": 0,
    "start_time": "2022-08-03T09:43:23.646Z"
   },
   {
    "duration": 0,
    "start_time": "2022-08-03T09:43:23.647Z"
   },
   {
    "duration": 0,
    "start_time": "2022-08-03T09:43:23.648Z"
   },
   {
    "duration": 0,
    "start_time": "2022-08-03T09:43:23.649Z"
   },
   {
    "duration": 0,
    "start_time": "2022-08-03T09:43:23.651Z"
   },
   {
    "duration": 0,
    "start_time": "2022-08-03T09:43:23.652Z"
   },
   {
    "duration": 0,
    "start_time": "2022-08-03T09:43:23.652Z"
   },
   {
    "duration": 0,
    "start_time": "2022-08-03T09:43:23.653Z"
   },
   {
    "duration": 0,
    "start_time": "2022-08-03T09:43:23.655Z"
   },
   {
    "duration": 0,
    "start_time": "2022-08-03T09:43:23.655Z"
   },
   {
    "duration": 4,
    "start_time": "2022-08-03T09:46:17.345Z"
   },
   {
    "duration": 1153,
    "start_time": "2022-08-03T09:46:21.369Z"
   },
   {
    "duration": 92,
    "start_time": "2022-08-03T09:46:22.523Z"
   },
   {
    "duration": 14,
    "start_time": "2022-08-03T09:46:22.617Z"
   },
   {
    "duration": 42,
    "start_time": "2022-08-03T09:46:22.633Z"
   },
   {
    "duration": 13,
    "start_time": "2022-08-03T09:46:22.678Z"
   },
   {
    "duration": 3,
    "start_time": "2022-08-03T09:46:22.693Z"
   },
   {
    "duration": 18,
    "start_time": "2022-08-03T09:46:22.698Z"
   },
   {
    "duration": 6,
    "start_time": "2022-08-03T09:46:22.718Z"
   },
   {
    "duration": 29,
    "start_time": "2022-08-03T09:46:22.726Z"
   },
   {
    "duration": 9,
    "start_time": "2022-08-03T09:46:22.756Z"
   },
   {
    "duration": 11,
    "start_time": "2022-08-03T09:46:22.769Z"
   },
   {
    "duration": 6,
    "start_time": "2022-08-03T09:46:22.782Z"
   },
   {
    "duration": 9,
    "start_time": "2022-08-03T09:46:22.790Z"
   },
   {
    "duration": 13,
    "start_time": "2022-08-03T09:46:22.803Z"
   },
   {
    "duration": 10,
    "start_time": "2022-08-03T09:46:22.817Z"
   },
   {
    "duration": 4,
    "start_time": "2022-08-03T09:46:22.829Z"
   },
   {
    "duration": 35,
    "start_time": "2022-08-03T09:46:22.835Z"
   },
   {
    "duration": 9,
    "start_time": "2022-08-03T09:46:22.871Z"
   },
   {
    "duration": 7,
    "start_time": "2022-08-03T09:46:22.881Z"
   },
   {
    "duration": 9,
    "start_time": "2022-08-03T09:46:22.889Z"
   },
   {
    "duration": 5,
    "start_time": "2022-08-03T09:46:22.900Z"
   },
   {
    "duration": 49,
    "start_time": "2022-08-03T09:46:22.906Z"
   },
   {
    "duration": 9,
    "start_time": "2022-08-03T09:46:22.959Z"
   },
   {
    "duration": 14,
    "start_time": "2022-08-03T09:46:22.973Z"
   },
   {
    "duration": 17,
    "start_time": "2022-08-03T09:46:22.989Z"
   },
   {
    "duration": 8,
    "start_time": "2022-08-03T09:46:23.008Z"
   },
   {
    "duration": 18,
    "start_time": "2022-08-03T09:46:23.017Z"
   },
   {
    "duration": 22,
    "start_time": "2022-08-03T09:46:23.037Z"
   },
   {
    "duration": 23,
    "start_time": "2022-08-03T09:46:23.060Z"
   },
   {
    "duration": 382,
    "start_time": "2022-08-03T09:46:23.085Z"
   },
   {
    "duration": 5,
    "start_time": "2022-08-03T09:46:23.468Z"
   },
   {
    "duration": 15,
    "start_time": "2022-08-03T09:46:23.474Z"
   },
   {
    "duration": 24,
    "start_time": "2022-08-03T09:46:23.490Z"
   },
   {
    "duration": 852,
    "start_time": "2022-08-03T09:46:23.515Z"
   },
   {
    "duration": 891,
    "start_time": "2022-08-03T09:46:24.368Z"
   },
   {
    "duration": 5,
    "start_time": "2022-08-03T09:46:25.261Z"
   },
   {
    "duration": 16,
    "start_time": "2022-08-03T09:46:25.268Z"
   },
   {
    "duration": 1125,
    "start_time": "2022-08-03T09:48:20.110Z"
   },
   {
    "duration": 91,
    "start_time": "2022-08-03T09:48:21.237Z"
   },
   {
    "duration": 14,
    "start_time": "2022-08-03T09:48:21.330Z"
   },
   {
    "duration": 28,
    "start_time": "2022-08-03T09:48:21.346Z"
   },
   {
    "duration": 8,
    "start_time": "2022-08-03T09:48:21.376Z"
   },
   {
    "duration": 3,
    "start_time": "2022-08-03T09:48:21.386Z"
   },
   {
    "duration": 13,
    "start_time": "2022-08-03T09:48:21.390Z"
   },
   {
    "duration": 6,
    "start_time": "2022-08-03T09:48:21.404Z"
   },
   {
    "duration": 11,
    "start_time": "2022-08-03T09:48:21.412Z"
   },
   {
    "duration": 6,
    "start_time": "2022-08-03T09:48:21.426Z"
   },
   {
    "duration": 4,
    "start_time": "2022-08-03T09:48:21.434Z"
   },
   {
    "duration": 16,
    "start_time": "2022-08-03T09:48:21.456Z"
   },
   {
    "duration": 10,
    "start_time": "2022-08-03T09:48:21.473Z"
   },
   {
    "duration": 12,
    "start_time": "2022-08-03T09:48:21.485Z"
   },
   {
    "duration": 10,
    "start_time": "2022-08-03T09:48:21.498Z"
   },
   {
    "duration": 5,
    "start_time": "2022-08-03T09:48:21.509Z"
   },
   {
    "duration": 14,
    "start_time": "2022-08-03T09:48:21.515Z"
   },
   {
    "duration": 29,
    "start_time": "2022-08-03T09:48:21.531Z"
   },
   {
    "duration": 17,
    "start_time": "2022-08-03T09:48:21.561Z"
   },
   {
    "duration": 9,
    "start_time": "2022-08-03T09:48:21.580Z"
   },
   {
    "duration": 5,
    "start_time": "2022-08-03T09:48:21.591Z"
   },
   {
    "duration": 10,
    "start_time": "2022-08-03T09:48:21.598Z"
   },
   {
    "duration": 8,
    "start_time": "2022-08-03T09:48:21.609Z"
   },
   {
    "duration": 78,
    "start_time": "2022-08-03T09:48:21.619Z"
   },
   {
    "duration": 0,
    "start_time": "2022-08-03T09:48:21.700Z"
   },
   {
    "duration": 0,
    "start_time": "2022-08-03T09:48:21.701Z"
   },
   {
    "duration": 0,
    "start_time": "2022-08-03T09:48:21.703Z"
   },
   {
    "duration": 0,
    "start_time": "2022-08-03T09:48:21.704Z"
   },
   {
    "duration": 0,
    "start_time": "2022-08-03T09:48:21.705Z"
   },
   {
    "duration": 0,
    "start_time": "2022-08-03T09:48:21.706Z"
   },
   {
    "duration": 0,
    "start_time": "2022-08-03T09:48:21.707Z"
   },
   {
    "duration": 0,
    "start_time": "2022-08-03T09:48:21.709Z"
   },
   {
    "duration": 0,
    "start_time": "2022-08-03T09:48:21.710Z"
   },
   {
    "duration": 0,
    "start_time": "2022-08-03T09:48:21.711Z"
   },
   {
    "duration": 0,
    "start_time": "2022-08-03T09:48:21.713Z"
   },
   {
    "duration": 0,
    "start_time": "2022-08-03T09:48:21.714Z"
   },
   {
    "duration": 0,
    "start_time": "2022-08-03T09:48:21.716Z"
   },
   {
    "duration": 0,
    "start_time": "2022-08-03T09:48:21.717Z"
   },
   {
    "duration": 0,
    "start_time": "2022-08-03T09:48:21.718Z"
   },
   {
    "duration": 0,
    "start_time": "2022-08-03T09:48:21.719Z"
   },
   {
    "duration": 0,
    "start_time": "2022-08-03T09:48:21.721Z"
   },
   {
    "duration": 0,
    "start_time": "2022-08-03T09:48:21.722Z"
   },
   {
    "duration": 10,
    "start_time": "2022-08-03T09:48:29.437Z"
   },
   {
    "duration": 7,
    "start_time": "2022-08-03T09:48:31.135Z"
   },
   {
    "duration": 7,
    "start_time": "2022-08-03T09:48:31.291Z"
   },
   {
    "duration": 7,
    "start_time": "2022-08-03T09:48:31.439Z"
   },
   {
    "duration": 9,
    "start_time": "2022-08-03T09:48:31.629Z"
   },
   {
    "duration": 7,
    "start_time": "2022-08-03T09:48:31.770Z"
   },
   {
    "duration": 8,
    "start_time": "2022-08-03T09:48:31.930Z"
   },
   {
    "duration": 13,
    "start_time": "2022-08-03T09:48:32.068Z"
   },
   {
    "duration": 5,
    "start_time": "2022-08-03T09:48:32.389Z"
   },
   {
    "duration": 3,
    "start_time": "2022-08-03T09:48:32.546Z"
   },
   {
    "duration": 368,
    "start_time": "2022-08-03T09:48:32.725Z"
   },
   {
    "duration": 6,
    "start_time": "2022-08-03T09:48:33.095Z"
   },
   {
    "duration": 12,
    "start_time": "2022-08-03T09:48:33.103Z"
   },
   {
    "duration": 25,
    "start_time": "2022-08-03T09:48:33.181Z"
   },
   {
    "duration": 865,
    "start_time": "2022-08-03T09:48:33.530Z"
   },
   {
    "duration": 858,
    "start_time": "2022-08-03T09:48:34.397Z"
   },
   {
    "duration": 15,
    "start_time": "2022-08-03T09:48:35.256Z"
   },
   {
    "duration": 8,
    "start_time": "2022-08-03T09:48:36.382Z"
   },
   {
    "duration": 1054,
    "start_time": "2022-08-03T09:49:57.401Z"
   },
   {
    "duration": 98,
    "start_time": "2022-08-03T09:49:58.464Z"
   },
   {
    "duration": 21,
    "start_time": "2022-08-03T09:49:58.563Z"
   },
   {
    "duration": 25,
    "start_time": "2022-08-03T09:49:58.587Z"
   },
   {
    "duration": 9,
    "start_time": "2022-08-03T09:49:58.613Z"
   },
   {
    "duration": 2,
    "start_time": "2022-08-03T09:49:58.624Z"
   },
   {
    "duration": 18,
    "start_time": "2022-08-03T09:49:58.654Z"
   },
   {
    "duration": 8,
    "start_time": "2022-08-03T09:49:58.673Z"
   },
   {
    "duration": 14,
    "start_time": "2022-08-03T09:49:58.683Z"
   },
   {
    "duration": 5,
    "start_time": "2022-08-03T09:49:58.699Z"
   },
   {
    "duration": 6,
    "start_time": "2022-08-03T09:49:58.706Z"
   },
   {
    "duration": 6,
    "start_time": "2022-08-03T09:49:58.714Z"
   },
   {
    "duration": 9,
    "start_time": "2022-08-03T09:49:58.721Z"
   },
   {
    "duration": 32,
    "start_time": "2022-08-03T09:49:58.731Z"
   },
   {
    "duration": 12,
    "start_time": "2022-08-03T09:49:58.765Z"
   },
   {
    "duration": 5,
    "start_time": "2022-08-03T09:49:58.779Z"
   },
   {
    "duration": 16,
    "start_time": "2022-08-03T09:49:58.786Z"
   },
   {
    "duration": 10,
    "start_time": "2022-08-03T09:49:58.803Z"
   },
   {
    "duration": 13,
    "start_time": "2022-08-03T09:49:58.815Z"
   },
   {
    "duration": 12,
    "start_time": "2022-08-03T09:49:58.829Z"
   },
   {
    "duration": 20,
    "start_time": "2022-08-03T09:49:58.842Z"
   },
   {
    "duration": 19,
    "start_time": "2022-08-03T09:49:58.863Z"
   },
   {
    "duration": 6,
    "start_time": "2022-08-03T09:49:58.884Z"
   },
   {
    "duration": 9,
    "start_time": "2022-08-03T09:49:58.892Z"
   },
   {
    "duration": 10,
    "start_time": "2022-08-03T09:49:58.902Z"
   },
   {
    "duration": 11,
    "start_time": "2022-08-03T09:49:58.914Z"
   },
   {
    "duration": 8,
    "start_time": "2022-08-03T09:49:58.926Z"
   },
   {
    "duration": 20,
    "start_time": "2022-08-03T09:49:58.937Z"
   },
   {
    "duration": 12,
    "start_time": "2022-08-03T09:49:58.964Z"
   },
   {
    "duration": 11,
    "start_time": "2022-08-03T09:49:58.978Z"
   },
   {
    "duration": 5,
    "start_time": "2022-08-03T09:49:58.991Z"
   },
   {
    "duration": 6,
    "start_time": "2022-08-03T09:49:58.998Z"
   },
   {
    "duration": 362,
    "start_time": "2022-08-03T09:49:59.006Z"
   },
   {
    "duration": 8,
    "start_time": "2022-08-03T09:49:59.369Z"
   },
   {
    "duration": 32,
    "start_time": "2022-08-03T09:49:59.378Z"
   },
   {
    "duration": 35,
    "start_time": "2022-08-03T09:49:59.412Z"
   },
   {
    "duration": 847,
    "start_time": "2022-08-03T09:49:59.449Z"
   },
   {
    "duration": 894,
    "start_time": "2022-08-03T09:50:00.297Z"
   },
   {
    "duration": 5,
    "start_time": "2022-08-03T09:50:01.193Z"
   },
   {
    "duration": 13,
    "start_time": "2022-08-03T09:50:01.199Z"
   },
   {
    "duration": 9,
    "start_time": "2022-08-03T09:50:19.095Z"
   },
   {
    "duration": 1018,
    "start_time": "2022-08-03T09:54:07.906Z"
   },
   {
    "duration": 98,
    "start_time": "2022-08-03T09:54:08.926Z"
   },
   {
    "duration": 15,
    "start_time": "2022-08-03T09:54:09.025Z"
   },
   {
    "duration": 34,
    "start_time": "2022-08-03T09:54:09.042Z"
   },
   {
    "duration": 8,
    "start_time": "2022-08-03T09:54:09.079Z"
   },
   {
    "duration": 3,
    "start_time": "2022-08-03T09:54:09.089Z"
   },
   {
    "duration": 11,
    "start_time": "2022-08-03T09:54:09.094Z"
   },
   {
    "duration": 6,
    "start_time": "2022-08-03T09:54:09.107Z"
   },
   {
    "duration": 47,
    "start_time": "2022-08-03T09:54:09.114Z"
   },
   {
    "duration": 7,
    "start_time": "2022-08-03T09:54:09.163Z"
   },
   {
    "duration": 7,
    "start_time": "2022-08-03T09:54:09.172Z"
   },
   {
    "duration": 6,
    "start_time": "2022-08-03T09:54:09.180Z"
   },
   {
    "duration": 9,
    "start_time": "2022-08-03T09:54:09.187Z"
   },
   {
    "duration": 12,
    "start_time": "2022-08-03T09:54:09.199Z"
   },
   {
    "duration": 10,
    "start_time": "2022-08-03T09:54:09.213Z"
   },
   {
    "duration": 3,
    "start_time": "2022-08-03T09:54:09.225Z"
   },
   {
    "duration": 42,
    "start_time": "2022-08-03T09:54:09.230Z"
   },
   {
    "duration": 9,
    "start_time": "2022-08-03T09:54:09.274Z"
   },
   {
    "duration": 7,
    "start_time": "2022-08-03T09:54:09.285Z"
   },
   {
    "duration": 10,
    "start_time": "2022-08-03T09:54:09.294Z"
   },
   {
    "duration": 6,
    "start_time": "2022-08-03T09:54:09.306Z"
   },
   {
    "duration": 10,
    "start_time": "2022-08-03T09:54:09.314Z"
   },
   {
    "duration": 40,
    "start_time": "2022-08-03T09:54:09.326Z"
   },
   {
    "duration": 17,
    "start_time": "2022-08-03T09:54:09.368Z"
   },
   {
    "duration": 9,
    "start_time": "2022-08-03T09:54:09.386Z"
   },
   {
    "duration": 7,
    "start_time": "2022-08-03T09:54:09.396Z"
   },
   {
    "duration": 10,
    "start_time": "2022-08-03T09:54:09.404Z"
   },
   {
    "duration": 8,
    "start_time": "2022-08-03T09:54:09.415Z"
   },
   {
    "duration": 8,
    "start_time": "2022-08-03T09:54:09.424Z"
   },
   {
    "duration": 23,
    "start_time": "2022-08-03T09:54:09.434Z"
   },
   {
    "duration": 9,
    "start_time": "2022-08-03T09:54:09.469Z"
   },
   {
    "duration": 355,
    "start_time": "2022-08-03T09:54:09.479Z"
   },
   {
    "duration": 5,
    "start_time": "2022-08-03T09:54:09.836Z"
   },
   {
    "duration": 35,
    "start_time": "2022-08-03T09:54:09.843Z"
   },
   {
    "duration": 25,
    "start_time": "2022-08-03T09:54:09.880Z"
   },
   {
    "duration": 850,
    "start_time": "2022-08-03T09:54:09.906Z"
   },
   {
    "duration": 867,
    "start_time": "2022-08-03T09:54:10.765Z"
   },
   {
    "duration": 5,
    "start_time": "2022-08-03T09:54:11.634Z"
   },
   {
    "duration": 38,
    "start_time": "2022-08-03T09:54:11.641Z"
   },
   {
    "duration": 18,
    "start_time": "2022-08-03T09:55:41.660Z"
   },
   {
    "duration": 7,
    "start_time": "2022-08-03T10:00:37.505Z"
   },
   {
    "duration": 11,
    "start_time": "2022-08-03T10:01:57.536Z"
   },
   {
    "duration": 17,
    "start_time": "2022-08-03T10:02:21.770Z"
   },
   {
    "duration": 6,
    "start_time": "2022-08-03T10:03:29.636Z"
   },
   {
    "duration": 5,
    "start_time": "2022-08-03T10:03:52.339Z"
   },
   {
    "duration": 95,
    "start_time": "2022-08-03T11:12:22.085Z"
   },
   {
    "duration": 356,
    "start_time": "2022-08-03T11:12:32.742Z"
   },
   {
    "duration": 453,
    "start_time": "2022-08-03T11:12:48.707Z"
   },
   {
    "duration": 359,
    "start_time": "2022-08-03T11:13:00.134Z"
   },
   {
    "duration": 0,
    "start_time": "2022-08-03T11:14:11.886Z"
   },
   {
    "duration": 0,
    "start_time": "2022-08-03T11:14:11.887Z"
   },
   {
    "duration": 0,
    "start_time": "2022-08-03T11:14:11.887Z"
   },
   {
    "duration": 0,
    "start_time": "2022-08-03T11:14:11.890Z"
   },
   {
    "duration": 0,
    "start_time": "2022-08-03T11:14:11.891Z"
   },
   {
    "duration": 0,
    "start_time": "2022-08-03T11:14:11.891Z"
   },
   {
    "duration": 0,
    "start_time": "2022-08-03T11:14:11.892Z"
   },
   {
    "duration": 0,
    "start_time": "2022-08-03T11:14:11.893Z"
   },
   {
    "duration": 0,
    "start_time": "2022-08-03T11:14:11.899Z"
   },
   {
    "duration": 0,
    "start_time": "2022-08-03T11:14:11.901Z"
   },
   {
    "duration": 1,
    "start_time": "2022-08-03T11:14:11.903Z"
   },
   {
    "duration": 0,
    "start_time": "2022-08-03T11:14:11.905Z"
   },
   {
    "duration": 0,
    "start_time": "2022-08-03T11:14:11.906Z"
   },
   {
    "duration": 0,
    "start_time": "2022-08-03T11:14:11.908Z"
   },
   {
    "duration": 0,
    "start_time": "2022-08-03T11:14:11.910Z"
   },
   {
    "duration": 0,
    "start_time": "2022-08-03T11:14:11.911Z"
   },
   {
    "duration": 0,
    "start_time": "2022-08-03T11:14:11.960Z"
   },
   {
    "duration": 0,
    "start_time": "2022-08-03T11:14:11.962Z"
   },
   {
    "duration": 0,
    "start_time": "2022-08-03T11:14:11.964Z"
   },
   {
    "duration": 0,
    "start_time": "2022-08-03T11:14:11.965Z"
   },
   {
    "duration": 0,
    "start_time": "2022-08-03T11:14:11.966Z"
   },
   {
    "duration": 0,
    "start_time": "2022-08-03T11:14:11.968Z"
   },
   {
    "duration": 0,
    "start_time": "2022-08-03T11:14:11.973Z"
   },
   {
    "duration": 0,
    "start_time": "2022-08-03T11:14:11.974Z"
   },
   {
    "duration": 0,
    "start_time": "2022-08-03T11:14:11.975Z"
   },
   {
    "duration": 0,
    "start_time": "2022-08-03T11:14:11.980Z"
   },
   {
    "duration": 0,
    "start_time": "2022-08-03T11:14:11.983Z"
   },
   {
    "duration": 0,
    "start_time": "2022-08-03T11:14:11.985Z"
   },
   {
    "duration": 0,
    "start_time": "2022-08-03T11:14:11.986Z"
   },
   {
    "duration": 0,
    "start_time": "2022-08-03T11:14:11.987Z"
   },
   {
    "duration": 0,
    "start_time": "2022-08-03T11:14:11.988Z"
   },
   {
    "duration": 0,
    "start_time": "2022-08-03T11:14:11.990Z"
   },
   {
    "duration": 0,
    "start_time": "2022-08-03T11:14:11.991Z"
   },
   {
    "duration": 0,
    "start_time": "2022-08-03T11:14:11.993Z"
   },
   {
    "duration": 0,
    "start_time": "2022-08-03T11:14:11.994Z"
   },
   {
    "duration": 0,
    "start_time": "2022-08-03T11:14:11.996Z"
   },
   {
    "duration": 0,
    "start_time": "2022-08-03T11:14:11.997Z"
   },
   {
    "duration": 0,
    "start_time": "2022-08-03T11:14:11.999Z"
   },
   {
    "duration": 0,
    "start_time": "2022-08-03T11:14:12.001Z"
   },
   {
    "duration": 0,
    "start_time": "2022-08-03T11:14:12.002Z"
   },
   {
    "duration": 0,
    "start_time": "2022-08-03T11:14:12.003Z"
   },
   {
    "duration": 0,
    "start_time": "2022-08-03T11:14:12.005Z"
   },
   {
    "duration": 0,
    "start_time": "2022-08-03T11:14:12.006Z"
   },
   {
    "duration": 0,
    "start_time": "2022-08-03T11:14:12.007Z"
   },
   {
    "duration": 1176,
    "start_time": "2022-08-03T11:14:23.082Z"
   },
   {
    "duration": 109,
    "start_time": "2022-08-03T11:14:24.260Z"
   },
   {
    "duration": 20,
    "start_time": "2022-08-03T11:14:24.370Z"
   },
   {
    "duration": 23,
    "start_time": "2022-08-03T11:14:24.392Z"
   },
   {
    "duration": 8,
    "start_time": "2022-08-03T11:14:24.417Z"
   },
   {
    "duration": 4,
    "start_time": "2022-08-03T11:14:24.427Z"
   },
   {
    "duration": 29,
    "start_time": "2022-08-03T11:14:24.432Z"
   },
   {
    "duration": 6,
    "start_time": "2022-08-03T11:14:24.463Z"
   },
   {
    "duration": 29,
    "start_time": "2022-08-03T11:14:24.470Z"
   },
   {
    "duration": 113,
    "start_time": "2022-08-03T11:14:24.501Z"
   },
   {
    "duration": 0,
    "start_time": "2022-08-03T11:14:24.617Z"
   },
   {
    "duration": 0,
    "start_time": "2022-08-03T11:14:24.619Z"
   },
   {
    "duration": 0,
    "start_time": "2022-08-03T11:14:24.621Z"
   },
   {
    "duration": 0,
    "start_time": "2022-08-03T11:14:24.622Z"
   },
   {
    "duration": 0,
    "start_time": "2022-08-03T11:14:24.623Z"
   },
   {
    "duration": 0,
    "start_time": "2022-08-03T11:14:24.625Z"
   },
   {
    "duration": 0,
    "start_time": "2022-08-03T11:14:24.626Z"
   },
   {
    "duration": 0,
    "start_time": "2022-08-03T11:14:24.627Z"
   },
   {
    "duration": 0,
    "start_time": "2022-08-03T11:14:24.628Z"
   },
   {
    "duration": 0,
    "start_time": "2022-08-03T11:14:24.629Z"
   },
   {
    "duration": 0,
    "start_time": "2022-08-03T11:14:24.631Z"
   },
   {
    "duration": 0,
    "start_time": "2022-08-03T11:14:24.632Z"
   },
   {
    "duration": 0,
    "start_time": "2022-08-03T11:14:24.633Z"
   },
   {
    "duration": 0,
    "start_time": "2022-08-03T11:14:24.635Z"
   },
   {
    "duration": 0,
    "start_time": "2022-08-03T11:14:24.636Z"
   },
   {
    "duration": 0,
    "start_time": "2022-08-03T11:14:24.656Z"
   },
   {
    "duration": 0,
    "start_time": "2022-08-03T11:14:24.658Z"
   },
   {
    "duration": 0,
    "start_time": "2022-08-03T11:14:24.659Z"
   },
   {
    "duration": 0,
    "start_time": "2022-08-03T11:14:24.660Z"
   },
   {
    "duration": 0,
    "start_time": "2022-08-03T11:14:24.662Z"
   },
   {
    "duration": 0,
    "start_time": "2022-08-03T11:14:24.663Z"
   },
   {
    "duration": 0,
    "start_time": "2022-08-03T11:14:24.665Z"
   },
   {
    "duration": 0,
    "start_time": "2022-08-03T11:14:24.667Z"
   },
   {
    "duration": 0,
    "start_time": "2022-08-03T11:14:24.668Z"
   },
   {
    "duration": 0,
    "start_time": "2022-08-03T11:14:24.669Z"
   },
   {
    "duration": 0,
    "start_time": "2022-08-03T11:14:24.670Z"
   },
   {
    "duration": 0,
    "start_time": "2022-08-03T11:14:24.671Z"
   },
   {
    "duration": 0,
    "start_time": "2022-08-03T11:14:24.673Z"
   },
   {
    "duration": 0,
    "start_time": "2022-08-03T11:14:24.674Z"
   },
   {
    "duration": 0,
    "start_time": "2022-08-03T11:14:24.676Z"
   },
   {
    "duration": 0,
    "start_time": "2022-08-03T11:14:24.677Z"
   },
   {
    "duration": 0,
    "start_time": "2022-08-03T11:14:24.678Z"
   },
   {
    "duration": 0,
    "start_time": "2022-08-03T11:14:24.684Z"
   },
   {
    "duration": 0,
    "start_time": "2022-08-03T11:14:24.685Z"
   },
   {
    "duration": 1197,
    "start_time": "2022-08-03T11:14:49.246Z"
   },
   {
    "duration": 128,
    "start_time": "2022-08-03T11:14:50.445Z"
   },
   {
    "duration": 15,
    "start_time": "2022-08-03T11:14:50.584Z"
   },
   {
    "duration": 26,
    "start_time": "2022-08-03T11:14:50.602Z"
   },
   {
    "duration": 8,
    "start_time": "2022-08-03T11:14:50.629Z"
   },
   {
    "duration": 16,
    "start_time": "2022-08-03T11:14:50.639Z"
   },
   {
    "duration": 50,
    "start_time": "2022-08-03T11:14:50.659Z"
   },
   {
    "duration": 5,
    "start_time": "2022-08-03T11:14:50.711Z"
   },
   {
    "duration": 8,
    "start_time": "2022-08-03T11:14:50.717Z"
   },
   {
    "duration": 6,
    "start_time": "2022-08-03T11:14:50.727Z"
   },
   {
    "duration": 9,
    "start_time": "2022-08-03T11:14:50.734Z"
   },
   {
    "duration": 8,
    "start_time": "2022-08-03T11:14:50.745Z"
   },
   {
    "duration": 37,
    "start_time": "2022-08-03T11:14:50.760Z"
   },
   {
    "duration": 10,
    "start_time": "2022-08-03T11:14:50.798Z"
   },
   {
    "duration": 4,
    "start_time": "2022-08-03T11:14:50.809Z"
   },
   {
    "duration": 18,
    "start_time": "2022-08-03T11:14:50.815Z"
   },
   {
    "duration": 7,
    "start_time": "2022-08-03T11:14:50.835Z"
   },
   {
    "duration": 10,
    "start_time": "2022-08-03T11:14:50.843Z"
   },
   {
    "duration": 38,
    "start_time": "2022-08-03T11:14:50.854Z"
   },
   {
    "duration": 6,
    "start_time": "2022-08-03T11:14:50.893Z"
   },
   {
    "duration": 9,
    "start_time": "2022-08-03T11:14:50.900Z"
   },
   {
    "duration": 12,
    "start_time": "2022-08-03T11:14:50.910Z"
   },
   {
    "duration": 8,
    "start_time": "2022-08-03T11:14:50.924Z"
   },
   {
    "duration": 7,
    "start_time": "2022-08-03T11:14:50.934Z"
   },
   {
    "duration": 7,
    "start_time": "2022-08-03T11:14:50.943Z"
   },
   {
    "duration": 13,
    "start_time": "2022-08-03T11:14:50.951Z"
   },
   {
    "duration": 24,
    "start_time": "2022-08-03T11:14:50.966Z"
   },
   {
    "duration": 11,
    "start_time": "2022-08-03T11:14:50.992Z"
   },
   {
    "duration": 7,
    "start_time": "2022-08-03T11:14:51.005Z"
   },
   {
    "duration": 23,
    "start_time": "2022-08-03T11:14:51.016Z"
   },
   {
    "duration": 18,
    "start_time": "2022-08-03T11:14:51.041Z"
   },
   {
    "duration": 2,
    "start_time": "2022-08-03T11:14:51.064Z"
   },
   {
    "duration": 24,
    "start_time": "2022-08-03T11:14:51.068Z"
   },
   {
    "duration": 10,
    "start_time": "2022-08-03T11:14:51.093Z"
   },
   {
    "duration": 357,
    "start_time": "2022-08-03T11:14:51.104Z"
   },
   {
    "duration": 9,
    "start_time": "2022-08-03T11:14:51.463Z"
   },
   {
    "duration": 27,
    "start_time": "2022-08-03T11:14:51.474Z"
   },
   {
    "duration": 25,
    "start_time": "2022-08-03T11:14:51.503Z"
   },
   {
    "duration": 915,
    "start_time": "2022-08-03T11:14:51.529Z"
   },
   {
    "duration": 971,
    "start_time": "2022-08-03T11:14:52.454Z"
   },
   {
    "duration": 7,
    "start_time": "2022-08-03T11:14:53.427Z"
   },
   {
    "duration": 20,
    "start_time": "2022-08-03T11:14:53.436Z"
   },
   {
    "duration": 425,
    "start_time": "2022-08-03T11:14:53.458Z"
   },
   {
    "duration": 50,
    "start_time": "2022-08-04T11:42:28.663Z"
   },
   {
    "duration": 1310,
    "start_time": "2022-08-04T11:42:40.977Z"
   },
   {
    "duration": 311,
    "start_time": "2022-08-04T11:42:42.289Z"
   },
   {
    "duration": 20,
    "start_time": "2022-08-04T11:42:42.603Z"
   },
   {
    "duration": 95,
    "start_time": "2022-08-04T11:42:42.626Z"
   },
   {
    "duration": 24,
    "start_time": "2022-08-04T11:42:42.723Z"
   },
   {
    "duration": 10,
    "start_time": "2022-08-04T11:42:42.748Z"
   },
   {
    "duration": 4,
    "start_time": "2022-08-04T11:42:42.762Z"
   },
   {
    "duration": 22,
    "start_time": "2022-08-04T11:42:42.768Z"
   },
   {
    "duration": 6,
    "start_time": "2022-08-04T11:42:42.810Z"
   },
   {
    "duration": 10,
    "start_time": "2022-08-04T11:42:42.820Z"
   },
   {
    "duration": 5,
    "start_time": "2022-08-04T11:42:42.832Z"
   },
   {
    "duration": 6,
    "start_time": "2022-08-04T11:42:42.839Z"
   },
   {
    "duration": 15,
    "start_time": "2022-08-04T11:42:42.848Z"
   },
   {
    "duration": 12,
    "start_time": "2022-08-04T11:42:42.865Z"
   },
   {
    "duration": 38,
    "start_time": "2022-08-04T11:42:42.878Z"
   },
   {
    "duration": 5,
    "start_time": "2022-08-04T11:42:42.918Z"
   },
   {
    "duration": 14,
    "start_time": "2022-08-04T11:42:42.924Z"
   },
   {
    "duration": 9,
    "start_time": "2022-08-04T11:42:42.940Z"
   },
   {
    "duration": 12,
    "start_time": "2022-08-04T11:42:42.950Z"
   },
   {
    "duration": 7,
    "start_time": "2022-08-04T11:42:42.964Z"
   },
   {
    "duration": 7,
    "start_time": "2022-08-04T11:42:42.972Z"
   },
   {
    "duration": 34,
    "start_time": "2022-08-04T11:42:42.981Z"
   },
   {
    "duration": 10,
    "start_time": "2022-08-04T11:42:43.017Z"
   },
   {
    "duration": 9,
    "start_time": "2022-08-04T11:42:43.028Z"
   },
   {
    "duration": 13,
    "start_time": "2022-08-04T11:42:43.038Z"
   },
   {
    "duration": 8,
    "start_time": "2022-08-04T11:42:43.052Z"
   },
   {
    "duration": 12,
    "start_time": "2022-08-04T11:42:43.061Z"
   },
   {
    "duration": 4,
    "start_time": "2022-08-04T11:42:43.076Z"
   },
   {
    "duration": 32,
    "start_time": "2022-08-04T11:42:43.082Z"
   },
   {
    "duration": 14,
    "start_time": "2022-08-04T11:42:43.115Z"
   },
   {
    "duration": 3,
    "start_time": "2022-08-04T11:42:43.130Z"
   },
   {
    "duration": 7,
    "start_time": "2022-08-04T11:42:43.135Z"
   },
   {
    "duration": 6,
    "start_time": "2022-08-04T11:42:43.144Z"
   },
   {
    "duration": 391,
    "start_time": "2022-08-04T11:42:43.152Z"
   },
   {
    "duration": 5,
    "start_time": "2022-08-04T11:42:43.544Z"
   },
   {
    "duration": 14,
    "start_time": "2022-08-04T11:42:43.550Z"
   },
   {
    "duration": 22,
    "start_time": "2022-08-04T11:42:43.565Z"
   },
   {
    "duration": 804,
    "start_time": "2022-08-04T11:42:43.589Z"
   },
   {
    "duration": 863,
    "start_time": "2022-08-04T11:42:44.395Z"
   },
   {
    "duration": 4,
    "start_time": "2022-08-04T11:42:45.260Z"
   },
   {
    "duration": 10,
    "start_time": "2022-08-04T11:42:45.266Z"
   },
   {
    "duration": 320,
    "start_time": "2022-08-04T11:42:45.278Z"
   },
   {
    "duration": 54,
    "start_time": "2022-08-04T11:55:30.661Z"
   },
   {
    "duration": 118,
    "start_time": "2022-08-04T11:55:42.882Z"
   },
   {
    "duration": 46,
    "start_time": "2022-08-04T11:56:25.453Z"
   },
   {
    "duration": 105,
    "start_time": "2022-08-04T12:05:08.428Z"
   },
   {
    "duration": 1175,
    "start_time": "2022-08-04T12:05:18.628Z"
   },
   {
    "duration": 37,
    "start_time": "2022-08-04T12:05:29.035Z"
   },
   {
    "duration": 1238,
    "start_time": "2022-08-04T12:05:42.556Z"
   },
   {
    "duration": 93,
    "start_time": "2022-08-04T12:05:43.796Z"
   },
   {
    "duration": 15,
    "start_time": "2022-08-04T12:05:43.891Z"
   },
   {
    "duration": 71,
    "start_time": "2022-08-04T12:05:43.908Z"
   },
   {
    "duration": 29,
    "start_time": "2022-08-04T12:05:43.991Z"
   },
   {
    "duration": 10,
    "start_time": "2022-08-04T12:05:44.022Z"
   },
   {
    "duration": 4,
    "start_time": "2022-08-04T12:05:44.035Z"
   },
   {
    "duration": 14,
    "start_time": "2022-08-04T12:05:44.041Z"
   },
   {
    "duration": 8,
    "start_time": "2022-08-04T12:05:44.057Z"
   },
   {
    "duration": 15,
    "start_time": "2022-08-04T12:05:44.068Z"
   },
   {
    "duration": 9,
    "start_time": "2022-08-04T12:05:44.084Z"
   },
   {
    "duration": 20,
    "start_time": "2022-08-04T12:05:44.094Z"
   },
   {
    "duration": 11,
    "start_time": "2022-08-04T12:05:44.116Z"
   },
   {
    "duration": 17,
    "start_time": "2022-08-04T12:05:44.128Z"
   },
   {
    "duration": 10,
    "start_time": "2022-08-04T12:05:44.146Z"
   },
   {
    "duration": 5,
    "start_time": "2022-08-04T12:05:44.157Z"
   },
   {
    "duration": 15,
    "start_time": "2022-08-04T12:05:44.163Z"
   },
   {
    "duration": 36,
    "start_time": "2022-08-04T12:05:44.180Z"
   },
   {
    "duration": 10,
    "start_time": "2022-08-04T12:05:44.219Z"
   },
   {
    "duration": 131,
    "start_time": "2022-08-04T12:05:44.231Z"
   },
   {
    "duration": 0,
    "start_time": "2022-08-04T12:05:44.364Z"
   },
   {
    "duration": 0,
    "start_time": "2022-08-04T12:05:44.365Z"
   },
   {
    "duration": 0,
    "start_time": "2022-08-04T12:05:44.366Z"
   },
   {
    "duration": 0,
    "start_time": "2022-08-04T12:05:44.367Z"
   },
   {
    "duration": 0,
    "start_time": "2022-08-04T12:05:44.368Z"
   },
   {
    "duration": 0,
    "start_time": "2022-08-04T12:05:44.368Z"
   },
   {
    "duration": 0,
    "start_time": "2022-08-04T12:05:44.369Z"
   },
   {
    "duration": 0,
    "start_time": "2022-08-04T12:05:44.370Z"
   },
   {
    "duration": 0,
    "start_time": "2022-08-04T12:05:44.371Z"
   },
   {
    "duration": 0,
    "start_time": "2022-08-04T12:05:44.372Z"
   },
   {
    "duration": 0,
    "start_time": "2022-08-04T12:05:44.373Z"
   },
   {
    "duration": 0,
    "start_time": "2022-08-04T12:05:44.374Z"
   },
   {
    "duration": 0,
    "start_time": "2022-08-04T12:05:44.375Z"
   },
   {
    "duration": 0,
    "start_time": "2022-08-04T12:05:44.376Z"
   },
   {
    "duration": 1,
    "start_time": "2022-08-04T12:05:44.377Z"
   },
   {
    "duration": 0,
    "start_time": "2022-08-04T12:05:44.379Z"
   },
   {
    "duration": 0,
    "start_time": "2022-08-04T12:05:44.380Z"
   },
   {
    "duration": 0,
    "start_time": "2022-08-04T12:05:44.380Z"
   },
   {
    "duration": 0,
    "start_time": "2022-08-04T12:05:44.411Z"
   },
   {
    "duration": 0,
    "start_time": "2022-08-04T12:05:44.412Z"
   },
   {
    "duration": 0,
    "start_time": "2022-08-04T12:05:44.413Z"
   },
   {
    "duration": 0,
    "start_time": "2022-08-04T12:05:44.414Z"
   },
   {
    "duration": 0,
    "start_time": "2022-08-04T12:05:44.415Z"
   },
   {
    "duration": 29,
    "start_time": "2022-08-04T12:07:30.666Z"
   },
   {
    "duration": 47,
    "start_time": "2022-08-04T12:10:19.873Z"
   },
   {
    "duration": 4,
    "start_time": "2022-08-04T12:10:48.724Z"
   },
   {
    "duration": 38,
    "start_time": "2022-08-04T12:10:49.869Z"
   },
   {
    "duration": 8,
    "start_time": "2022-08-04T12:10:57.754Z"
   },
   {
    "duration": 8,
    "start_time": "2022-08-04T12:11:19.470Z"
   },
   {
    "duration": 1080,
    "start_time": "2022-08-04T12:11:32.885Z"
   },
   {
    "duration": 90,
    "start_time": "2022-08-04T12:11:33.967Z"
   },
   {
    "duration": 15,
    "start_time": "2022-08-04T12:11:34.058Z"
   },
   {
    "duration": 78,
    "start_time": "2022-08-04T12:11:34.074Z"
   },
   {
    "duration": 22,
    "start_time": "2022-08-04T12:11:34.155Z"
   },
   {
    "duration": 9,
    "start_time": "2022-08-04T12:11:34.179Z"
   },
   {
    "duration": 21,
    "start_time": "2022-08-04T12:11:34.190Z"
   },
   {
    "duration": 12,
    "start_time": "2022-08-04T12:11:34.213Z"
   },
   {
    "duration": 6,
    "start_time": "2022-08-04T12:11:34.226Z"
   },
   {
    "duration": 13,
    "start_time": "2022-08-04T12:11:34.234Z"
   },
   {
    "duration": 5,
    "start_time": "2022-08-04T12:11:34.249Z"
   },
   {
    "duration": 8,
    "start_time": "2022-08-04T12:11:34.256Z"
   },
   {
    "duration": 26,
    "start_time": "2022-08-04T12:11:34.265Z"
   },
   {
    "duration": 20,
    "start_time": "2022-08-04T12:11:34.293Z"
   },
   {
    "duration": 17,
    "start_time": "2022-08-04T12:11:34.315Z"
   },
   {
    "duration": 7,
    "start_time": "2022-08-04T12:11:34.334Z"
   },
   {
    "duration": 20,
    "start_time": "2022-08-04T12:11:34.343Z"
   },
   {
    "duration": 21,
    "start_time": "2022-08-04T12:11:34.364Z"
   },
   {
    "duration": 14,
    "start_time": "2022-08-04T12:11:34.387Z"
   },
   {
    "duration": 5,
    "start_time": "2022-08-04T12:11:34.402Z"
   },
   {
    "duration": 115,
    "start_time": "2022-08-04T12:11:34.408Z"
   },
   {
    "duration": 0,
    "start_time": "2022-08-04T12:11:34.525Z"
   },
   {
    "duration": 0,
    "start_time": "2022-08-04T12:11:34.527Z"
   },
   {
    "duration": 0,
    "start_time": "2022-08-04T12:11:34.528Z"
   },
   {
    "duration": 0,
    "start_time": "2022-08-04T12:11:34.529Z"
   },
   {
    "duration": 0,
    "start_time": "2022-08-04T12:11:34.530Z"
   },
   {
    "duration": 0,
    "start_time": "2022-08-04T12:11:34.532Z"
   },
   {
    "duration": 0,
    "start_time": "2022-08-04T12:11:34.533Z"
   },
   {
    "duration": 0,
    "start_time": "2022-08-04T12:11:34.534Z"
   },
   {
    "duration": 0,
    "start_time": "2022-08-04T12:11:34.535Z"
   },
   {
    "duration": 0,
    "start_time": "2022-08-04T12:11:34.537Z"
   },
   {
    "duration": 0,
    "start_time": "2022-08-04T12:11:34.538Z"
   },
   {
    "duration": 0,
    "start_time": "2022-08-04T12:11:34.539Z"
   },
   {
    "duration": 0,
    "start_time": "2022-08-04T12:11:34.540Z"
   },
   {
    "duration": 0,
    "start_time": "2022-08-04T12:11:34.541Z"
   },
   {
    "duration": 0,
    "start_time": "2022-08-04T12:11:34.542Z"
   },
   {
    "duration": 0,
    "start_time": "2022-08-04T12:11:34.544Z"
   },
   {
    "duration": 26,
    "start_time": "2022-08-04T12:12:12.046Z"
   },
   {
    "duration": 7,
    "start_time": "2022-08-04T12:12:14.491Z"
   },
   {
    "duration": 3,
    "start_time": "2022-08-04T12:12:48.263Z"
   },
   {
    "duration": 26,
    "start_time": "2022-08-04T12:12:50.545Z"
   },
   {
    "duration": 9,
    "start_time": "2022-08-04T12:12:52.869Z"
   },
   {
    "duration": 1055,
    "start_time": "2022-08-04T12:12:57.668Z"
   },
   {
    "duration": 99,
    "start_time": "2022-08-04T12:12:58.725Z"
   },
   {
    "duration": 16,
    "start_time": "2022-08-04T12:12:58.826Z"
   },
   {
    "duration": 84,
    "start_time": "2022-08-04T12:12:58.844Z"
   },
   {
    "duration": 33,
    "start_time": "2022-08-04T12:12:58.931Z"
   },
   {
    "duration": 12,
    "start_time": "2022-08-04T12:12:58.966Z"
   },
   {
    "duration": 4,
    "start_time": "2022-08-04T12:12:58.979Z"
   },
   {
    "duration": 32,
    "start_time": "2022-08-04T12:12:58.985Z"
   },
   {
    "duration": 7,
    "start_time": "2022-08-04T12:12:59.018Z"
   },
   {
    "duration": 9,
    "start_time": "2022-08-04T12:12:59.027Z"
   },
   {
    "duration": 5,
    "start_time": "2022-08-04T12:12:59.037Z"
   },
   {
    "duration": 7,
    "start_time": "2022-08-04T12:12:59.044Z"
   },
   {
    "duration": 10,
    "start_time": "2022-08-04T12:12:59.053Z"
   },
   {
    "duration": 12,
    "start_time": "2022-08-04T12:12:59.065Z"
   },
   {
    "duration": 32,
    "start_time": "2022-08-04T12:12:59.079Z"
   },
   {
    "duration": 4,
    "start_time": "2022-08-04T12:12:59.113Z"
   },
   {
    "duration": 14,
    "start_time": "2022-08-04T12:12:59.118Z"
   },
   {
    "duration": 11,
    "start_time": "2022-08-04T12:12:59.135Z"
   },
   {
    "duration": 10,
    "start_time": "2022-08-04T12:12:59.147Z"
   },
   {
    "duration": 3,
    "start_time": "2022-08-04T12:12:59.159Z"
   },
   {
    "duration": 49,
    "start_time": "2022-08-04T12:12:59.163Z"
   },
   {
    "duration": 8,
    "start_time": "2022-08-04T12:12:59.214Z"
   },
   {
    "duration": 5,
    "start_time": "2022-08-04T12:12:59.223Z"
   },
   {
    "duration": 9,
    "start_time": "2022-08-04T12:12:59.230Z"
   },
   {
    "duration": 13,
    "start_time": "2022-08-04T12:12:59.241Z"
   },
   {
    "duration": 2,
    "start_time": "2022-08-04T12:12:59.255Z"
   },
   {
    "duration": 6,
    "start_time": "2022-08-04T12:12:59.259Z"
   },
   {
    "duration": 3,
    "start_time": "2022-08-04T12:12:59.268Z"
   },
   {
    "duration": 383,
    "start_time": "2022-08-04T12:12:59.272Z"
   },
   {
    "duration": 5,
    "start_time": "2022-08-04T12:12:59.656Z"
   },
   {
    "duration": 13,
    "start_time": "2022-08-04T12:12:59.662Z"
   },
   {
    "duration": 48,
    "start_time": "2022-08-04T12:12:59.676Z"
   },
   {
    "duration": 845,
    "start_time": "2022-08-04T12:12:59.725Z"
   },
   {
    "duration": 862,
    "start_time": "2022-08-04T12:13:00.572Z"
   },
   {
    "duration": 6,
    "start_time": "2022-08-04T12:13:01.436Z"
   },
   {
    "duration": 14,
    "start_time": "2022-08-04T12:13:01.444Z"
   },
   {
    "duration": 335,
    "start_time": "2022-08-04T12:13:01.461Z"
   },
   {
    "duration": 36,
    "start_time": "2022-08-04T12:14:21.569Z"
   },
   {
    "duration": 1126,
    "start_time": "2022-08-04T12:14:32.068Z"
   },
   {
    "duration": 102,
    "start_time": "2022-08-04T12:14:33.196Z"
   },
   {
    "duration": 15,
    "start_time": "2022-08-04T12:14:33.300Z"
   },
   {
    "duration": 82,
    "start_time": "2022-08-04T12:14:33.317Z"
   },
   {
    "duration": 33,
    "start_time": "2022-08-04T12:14:33.401Z"
   },
   {
    "duration": 9,
    "start_time": "2022-08-04T12:14:33.436Z"
   },
   {
    "duration": 4,
    "start_time": "2022-08-04T12:14:33.447Z"
   },
   {
    "duration": 15,
    "start_time": "2022-08-04T12:14:33.453Z"
   },
   {
    "duration": 9,
    "start_time": "2022-08-04T12:14:33.470Z"
   },
   {
    "duration": 28,
    "start_time": "2022-08-04T12:14:33.483Z"
   },
   {
    "duration": 49,
    "start_time": "2022-08-04T12:14:33.513Z"
   },
   {
    "duration": 4,
    "start_time": "2022-08-04T12:14:33.563Z"
   },
   {
    "duration": 7,
    "start_time": "2022-08-04T12:14:33.568Z"
   },
   {
    "duration": 10,
    "start_time": "2022-08-04T12:14:33.577Z"
   },
   {
    "duration": 31,
    "start_time": "2022-08-04T12:14:33.588Z"
   },
   {
    "duration": 8,
    "start_time": "2022-08-04T12:14:33.620Z"
   },
   {
    "duration": 4,
    "start_time": "2022-08-04T12:14:33.629Z"
   },
   {
    "duration": 13,
    "start_time": "2022-08-04T12:14:33.634Z"
   },
   {
    "duration": 7,
    "start_time": "2022-08-04T12:14:33.649Z"
   },
   {
    "duration": 8,
    "start_time": "2022-08-04T12:14:33.657Z"
   },
   {
    "duration": 3,
    "start_time": "2022-08-04T12:14:33.666Z"
   },
   {
    "duration": 179,
    "start_time": "2022-08-04T12:14:33.671Z"
   },
   {
    "duration": 0,
    "start_time": "2022-08-04T12:14:33.852Z"
   },
   {
    "duration": 0,
    "start_time": "2022-08-04T12:14:33.852Z"
   },
   {
    "duration": 1,
    "start_time": "2022-08-04T12:14:33.853Z"
   },
   {
    "duration": 0,
    "start_time": "2022-08-04T12:14:33.855Z"
   },
   {
    "duration": 0,
    "start_time": "2022-08-04T12:14:33.856Z"
   },
   {
    "duration": 0,
    "start_time": "2022-08-04T12:14:33.857Z"
   },
   {
    "duration": 0,
    "start_time": "2022-08-04T12:14:33.858Z"
   },
   {
    "duration": 0,
    "start_time": "2022-08-04T12:14:33.859Z"
   },
   {
    "duration": 0,
    "start_time": "2022-08-04T12:14:33.860Z"
   },
   {
    "duration": 0,
    "start_time": "2022-08-04T12:14:33.861Z"
   },
   {
    "duration": 0,
    "start_time": "2022-08-04T12:14:33.862Z"
   },
   {
    "duration": 0,
    "start_time": "2022-08-04T12:14:33.863Z"
   },
   {
    "duration": 0,
    "start_time": "2022-08-04T12:14:33.864Z"
   },
   {
    "duration": 0,
    "start_time": "2022-08-04T12:14:33.865Z"
   },
   {
    "duration": 0,
    "start_time": "2022-08-04T12:14:33.865Z"
   },
   {
    "duration": 1023,
    "start_time": "2022-08-04T12:16:40.462Z"
   },
   {
    "duration": 89,
    "start_time": "2022-08-04T12:16:41.487Z"
   },
   {
    "duration": 15,
    "start_time": "2022-08-04T12:16:41.578Z"
   },
   {
    "duration": 73,
    "start_time": "2022-08-04T12:16:41.594Z"
   },
   {
    "duration": 21,
    "start_time": "2022-08-04T12:16:41.669Z"
   },
   {
    "duration": 21,
    "start_time": "2022-08-04T12:16:41.691Z"
   },
   {
    "duration": 3,
    "start_time": "2022-08-04T12:16:41.713Z"
   },
   {
    "duration": 11,
    "start_time": "2022-08-04T12:16:41.717Z"
   },
   {
    "duration": 4,
    "start_time": "2022-08-04T12:16:41.729Z"
   },
   {
    "duration": 7,
    "start_time": "2022-08-04T12:16:41.735Z"
   },
   {
    "duration": 4,
    "start_time": "2022-08-04T12:16:41.743Z"
   },
   {
    "duration": 5,
    "start_time": "2022-08-04T12:16:41.749Z"
   },
   {
    "duration": 11,
    "start_time": "2022-08-04T12:16:41.755Z"
   },
   {
    "duration": 11,
    "start_time": "2022-08-04T12:16:41.767Z"
   },
   {
    "duration": 34,
    "start_time": "2022-08-04T12:16:41.779Z"
   },
   {
    "duration": 2,
    "start_time": "2022-08-04T12:16:41.815Z"
   },
   {
    "duration": 13,
    "start_time": "2022-08-04T12:16:41.818Z"
   },
   {
    "duration": 6,
    "start_time": "2022-08-04T12:16:41.833Z"
   },
   {
    "duration": 8,
    "start_time": "2022-08-04T12:16:41.841Z"
   },
   {
    "duration": 9,
    "start_time": "2022-08-04T12:16:41.851Z"
   },
   {
    "duration": 56,
    "start_time": "2022-08-04T12:16:41.861Z"
   },
   {
    "duration": 7,
    "start_time": "2022-08-04T12:16:41.918Z"
   },
   {
    "duration": 5,
    "start_time": "2022-08-04T12:16:41.926Z"
   },
   {
    "duration": 11,
    "start_time": "2022-08-04T12:16:41.932Z"
   },
   {
    "duration": 40,
    "start_time": "2022-08-04T12:16:41.944Z"
   },
   {
    "duration": 34,
    "start_time": "2022-08-04T12:16:41.985Z"
   },
   {
    "duration": 4,
    "start_time": "2022-08-04T12:16:42.020Z"
   },
   {
    "duration": 4,
    "start_time": "2022-08-04T12:16:42.027Z"
   },
   {
    "duration": 347,
    "start_time": "2022-08-04T12:16:42.032Z"
   },
   {
    "duration": 5,
    "start_time": "2022-08-04T12:16:42.381Z"
   },
   {
    "duration": 16,
    "start_time": "2022-08-04T12:16:42.387Z"
   },
   {
    "duration": 857,
    "start_time": "2022-08-04T12:16:42.410Z"
   },
   {
    "duration": 842,
    "start_time": "2022-08-04T12:16:43.269Z"
   },
   {
    "duration": 5,
    "start_time": "2022-08-04T12:16:44.112Z"
   },
   {
    "duration": 13,
    "start_time": "2022-08-04T12:16:44.118Z"
   },
   {
    "duration": 324,
    "start_time": "2022-08-04T12:16:44.132Z"
   },
   {
    "duration": 38,
    "start_time": "2022-08-04T12:18:37.038Z"
   },
   {
    "duration": 111,
    "start_time": "2022-08-04T13:09:03.381Z"
   },
   {
    "duration": 9,
    "start_time": "2022-08-04T13:09:10.157Z"
   },
   {
    "duration": 9,
    "start_time": "2022-08-04T13:09:21.980Z"
   },
   {
    "duration": 1063,
    "start_time": "2022-08-04T13:09:27.953Z"
   },
   {
    "duration": 91,
    "start_time": "2022-08-04T13:09:29.019Z"
   },
   {
    "duration": 13,
    "start_time": "2022-08-04T13:09:29.112Z"
   },
   {
    "duration": 66,
    "start_time": "2022-08-04T13:09:29.128Z"
   },
   {
    "duration": 22,
    "start_time": "2022-08-04T13:09:29.210Z"
   },
   {
    "duration": 8,
    "start_time": "2022-08-04T13:09:29.233Z"
   },
   {
    "duration": 5,
    "start_time": "2022-08-04T13:09:29.243Z"
   },
   {
    "duration": 10,
    "start_time": "2022-08-04T13:09:29.249Z"
   },
   {
    "duration": 5,
    "start_time": "2022-08-04T13:09:29.260Z"
   },
   {
    "duration": 7,
    "start_time": "2022-08-04T13:09:29.268Z"
   },
   {
    "duration": 131,
    "start_time": "2022-08-04T13:09:29.276Z"
   },
   {
    "duration": 0,
    "start_time": "2022-08-04T13:09:29.410Z"
   },
   {
    "duration": 0,
    "start_time": "2022-08-04T13:09:29.412Z"
   },
   {
    "duration": 0,
    "start_time": "2022-08-04T13:09:29.413Z"
   },
   {
    "duration": 0,
    "start_time": "2022-08-04T13:09:29.413Z"
   },
   {
    "duration": 0,
    "start_time": "2022-08-04T13:09:29.414Z"
   },
   {
    "duration": 0,
    "start_time": "2022-08-04T13:09:29.415Z"
   },
   {
    "duration": 0,
    "start_time": "2022-08-04T13:09:29.416Z"
   },
   {
    "duration": 0,
    "start_time": "2022-08-04T13:09:29.417Z"
   },
   {
    "duration": 0,
    "start_time": "2022-08-04T13:09:29.418Z"
   },
   {
    "duration": 0,
    "start_time": "2022-08-04T13:09:29.419Z"
   },
   {
    "duration": 0,
    "start_time": "2022-08-04T13:09:29.420Z"
   },
   {
    "duration": 0,
    "start_time": "2022-08-04T13:09:29.421Z"
   },
   {
    "duration": 0,
    "start_time": "2022-08-04T13:09:29.423Z"
   },
   {
    "duration": 0,
    "start_time": "2022-08-04T13:09:29.424Z"
   },
   {
    "duration": 0,
    "start_time": "2022-08-04T13:09:29.425Z"
   },
   {
    "duration": 0,
    "start_time": "2022-08-04T13:09:29.426Z"
   },
   {
    "duration": 0,
    "start_time": "2022-08-04T13:09:29.427Z"
   },
   {
    "duration": 0,
    "start_time": "2022-08-04T13:09:29.429Z"
   },
   {
    "duration": 0,
    "start_time": "2022-08-04T13:09:29.430Z"
   },
   {
    "duration": 0,
    "start_time": "2022-08-04T13:09:29.431Z"
   },
   {
    "duration": 0,
    "start_time": "2022-08-04T13:09:29.432Z"
   },
   {
    "duration": 0,
    "start_time": "2022-08-04T13:09:29.433Z"
   },
   {
    "duration": 0,
    "start_time": "2022-08-04T13:09:29.434Z"
   },
   {
    "duration": 0,
    "start_time": "2022-08-04T13:09:29.435Z"
   },
   {
    "duration": 0,
    "start_time": "2022-08-04T13:09:29.436Z"
   },
   {
    "duration": 0,
    "start_time": "2022-08-04T13:09:29.438Z"
   },
   {
    "duration": 34,
    "start_time": "2022-08-04T13:09:53.368Z"
   },
   {
    "duration": 42,
    "start_time": "2022-08-04T13:10:09.434Z"
   },
   {
    "duration": 1120,
    "start_time": "2022-08-04T13:11:29.345Z"
   },
   {
    "duration": 90,
    "start_time": "2022-08-04T13:11:30.467Z"
   },
   {
    "duration": 15,
    "start_time": "2022-08-04T13:11:30.558Z"
   },
   {
    "duration": 79,
    "start_time": "2022-08-04T13:11:30.575Z"
   },
   {
    "duration": 22,
    "start_time": "2022-08-04T13:11:30.657Z"
   },
   {
    "duration": 9,
    "start_time": "2022-08-04T13:11:30.681Z"
   },
   {
    "duration": 20,
    "start_time": "2022-08-04T13:11:30.691Z"
   },
   {
    "duration": 14,
    "start_time": "2022-08-04T13:11:30.713Z"
   },
   {
    "duration": 4,
    "start_time": "2022-08-04T13:11:30.729Z"
   },
   {
    "duration": 12,
    "start_time": "2022-08-04T13:11:30.735Z"
   },
   {
    "duration": 49,
    "start_time": "2022-08-04T13:11:30.749Z"
   },
   {
    "duration": 3,
    "start_time": "2022-08-04T13:11:30.799Z"
   },
   {
    "duration": 19,
    "start_time": "2022-08-04T13:11:30.811Z"
   },
   {
    "duration": 12,
    "start_time": "2022-08-04T13:11:30.834Z"
   },
   {
    "duration": 20,
    "start_time": "2022-08-04T13:11:30.848Z"
   },
   {
    "duration": 31,
    "start_time": "2022-08-04T13:11:30.870Z"
   },
   {
    "duration": 4,
    "start_time": "2022-08-04T13:11:30.903Z"
   },
   {
    "duration": 17,
    "start_time": "2022-08-04T13:11:30.909Z"
   },
   {
    "duration": 15,
    "start_time": "2022-08-04T13:11:30.928Z"
   },
   {
    "duration": 12,
    "start_time": "2022-08-04T13:11:30.945Z"
   },
   {
    "duration": 6,
    "start_time": "2022-08-04T13:11:30.958Z"
   },
   {
    "duration": 38,
    "start_time": "2022-08-04T13:11:30.965Z"
   },
   {
    "duration": 8,
    "start_time": "2022-08-04T13:11:31.005Z"
   },
   {
    "duration": 5,
    "start_time": "2022-08-04T13:11:31.015Z"
   },
   {
    "duration": 14,
    "start_time": "2022-08-04T13:11:31.022Z"
   },
   {
    "duration": 46,
    "start_time": "2022-08-04T13:11:31.037Z"
   },
   {
    "duration": 12,
    "start_time": "2022-08-04T13:11:31.085Z"
   },
   {
    "duration": 13,
    "start_time": "2022-08-04T13:11:31.098Z"
   },
   {
    "duration": 11,
    "start_time": "2022-08-04T13:11:31.113Z"
   },
   {
    "duration": 344,
    "start_time": "2022-08-04T13:11:31.125Z"
   },
   {
    "duration": 6,
    "start_time": "2022-08-04T13:11:31.471Z"
   },
   {
    "duration": 15,
    "start_time": "2022-08-04T13:11:31.478Z"
   },
   {
    "duration": 790,
    "start_time": "2022-08-04T13:11:31.495Z"
   },
   {
    "duration": 923,
    "start_time": "2022-08-04T13:11:32.287Z"
   },
   {
    "duration": 6,
    "start_time": "2022-08-04T13:11:33.211Z"
   },
   {
    "duration": 8,
    "start_time": "2022-08-04T13:11:33.219Z"
   },
   {
    "duration": 331,
    "start_time": "2022-08-04T13:11:33.228Z"
   },
   {
    "duration": 4,
    "start_time": "2022-08-04T13:23:34.503Z"
   },
   {
    "duration": 1083,
    "start_time": "2022-08-04T13:23:39.140Z"
   },
   {
    "duration": 95,
    "start_time": "2022-08-04T13:23:40.226Z"
   },
   {
    "duration": 17,
    "start_time": "2022-08-04T13:23:40.323Z"
   },
   {
    "duration": 86,
    "start_time": "2022-08-04T13:23:40.341Z"
   },
   {
    "duration": 23,
    "start_time": "2022-08-04T13:23:40.429Z"
   },
   {
    "duration": 12,
    "start_time": "2022-08-04T13:23:40.453Z"
   },
   {
    "duration": 3,
    "start_time": "2022-08-04T13:23:40.467Z"
   },
   {
    "duration": 13,
    "start_time": "2022-08-04T13:23:40.471Z"
   },
   {
    "duration": 27,
    "start_time": "2022-08-04T13:23:40.485Z"
   },
   {
    "duration": 13,
    "start_time": "2022-08-04T13:23:40.514Z"
   },
   {
    "duration": 37,
    "start_time": "2022-08-04T13:23:40.528Z"
   },
   {
    "duration": 3,
    "start_time": "2022-08-04T13:23:40.567Z"
   },
   {
    "duration": 8,
    "start_time": "2022-08-04T13:23:40.571Z"
   },
   {
    "duration": 29,
    "start_time": "2022-08-04T13:23:40.583Z"
   },
   {
    "duration": 20,
    "start_time": "2022-08-04T13:23:40.614Z"
   },
   {
    "duration": 12,
    "start_time": "2022-08-04T13:23:40.636Z"
   },
   {
    "duration": 4,
    "start_time": "2022-08-04T13:23:40.649Z"
   },
   {
    "duration": 13,
    "start_time": "2022-08-04T13:23:40.655Z"
   },
   {
    "duration": 7,
    "start_time": "2022-08-04T13:23:40.669Z"
   },
   {
    "duration": 5,
    "start_time": "2022-08-04T13:23:40.678Z"
   },
   {
    "duration": 26,
    "start_time": "2022-08-04T13:23:40.711Z"
   },
   {
    "duration": 7,
    "start_time": "2022-08-04T13:23:40.739Z"
   },
   {
    "duration": 5,
    "start_time": "2022-08-04T13:23:40.748Z"
   },
   {
    "duration": 12,
    "start_time": "2022-08-04T13:23:40.754Z"
   },
   {
    "duration": 5,
    "start_time": "2022-08-04T13:23:40.767Z"
   },
   {
    "duration": 70,
    "start_time": "2022-08-04T13:23:40.773Z"
   },
   {
    "duration": 12,
    "start_time": "2022-08-04T13:23:40.845Z"
   },
   {
    "duration": 4,
    "start_time": "2022-08-04T13:23:40.858Z"
   },
   {
    "duration": 6,
    "start_time": "2022-08-04T13:23:40.863Z"
   },
   {
    "duration": 351,
    "start_time": "2022-08-04T13:23:40.871Z"
   },
   {
    "duration": 5,
    "start_time": "2022-08-04T13:23:41.224Z"
   },
   {
    "duration": 21,
    "start_time": "2022-08-04T13:23:41.230Z"
   },
   {
    "duration": 810,
    "start_time": "2022-08-04T13:23:41.253Z"
   },
   {
    "duration": 914,
    "start_time": "2022-08-04T13:23:42.064Z"
   },
   {
    "duration": 5,
    "start_time": "2022-08-04T13:23:42.979Z"
   },
   {
    "duration": 12,
    "start_time": "2022-08-04T13:23:42.986Z"
   },
   {
    "duration": 334,
    "start_time": "2022-08-04T13:23:43.011Z"
   },
   {
    "duration": 107,
    "start_time": "2022-08-04T13:30:14.029Z"
   },
   {
    "duration": 11,
    "start_time": "2022-08-04T13:30:34.793Z"
   },
   {
    "duration": 10,
    "start_time": "2022-08-04T13:30:41.344Z"
   },
   {
    "duration": 7,
    "start_time": "2022-08-04T13:30:50.374Z"
   },
   {
    "duration": 8,
    "start_time": "2022-08-04T13:30:53.598Z"
   },
   {
    "duration": 24,
    "start_time": "2022-08-04T13:30:57.440Z"
   },
   {
    "duration": 13,
    "start_time": "2022-08-04T13:32:18.338Z"
   },
   {
    "duration": 22,
    "start_time": "2022-08-04T13:32:21.382Z"
   },
   {
    "duration": 1070,
    "start_time": "2022-08-04T13:32:56.057Z"
   },
   {
    "duration": 91,
    "start_time": "2022-08-04T13:32:57.129Z"
   },
   {
    "duration": 14,
    "start_time": "2022-08-04T13:32:57.221Z"
   },
   {
    "duration": 76,
    "start_time": "2022-08-04T13:32:57.236Z"
   },
   {
    "duration": 26,
    "start_time": "2022-08-04T13:32:57.313Z"
   },
   {
    "duration": 12,
    "start_time": "2022-08-04T13:32:57.341Z"
   },
   {
    "duration": 8,
    "start_time": "2022-08-04T13:32:57.354Z"
   },
   {
    "duration": 11,
    "start_time": "2022-08-04T13:32:57.364Z"
   },
   {
    "duration": 6,
    "start_time": "2022-08-04T13:32:57.376Z"
   },
   {
    "duration": 33,
    "start_time": "2022-08-04T13:32:57.384Z"
   },
   {
    "duration": 41,
    "start_time": "2022-08-04T13:32:57.418Z"
   },
   {
    "duration": 3,
    "start_time": "2022-08-04T13:32:57.461Z"
   },
   {
    "duration": 9,
    "start_time": "2022-08-04T13:32:57.466Z"
   },
   {
    "duration": 9,
    "start_time": "2022-08-04T13:32:57.477Z"
   },
   {
    "duration": 32,
    "start_time": "2022-08-04T13:32:57.488Z"
   },
   {
    "duration": 10,
    "start_time": "2022-08-04T13:32:57.521Z"
   },
   {
    "duration": 3,
    "start_time": "2022-08-04T13:32:57.533Z"
   },
   {
    "duration": 15,
    "start_time": "2022-08-04T13:32:57.538Z"
   },
   {
    "duration": 7,
    "start_time": "2022-08-04T13:32:57.554Z"
   },
   {
    "duration": 8,
    "start_time": "2022-08-04T13:32:57.562Z"
   },
   {
    "duration": 49,
    "start_time": "2022-08-04T13:32:57.571Z"
   },
   {
    "duration": 7,
    "start_time": "2022-08-04T13:32:57.622Z"
   },
   {
    "duration": 6,
    "start_time": "2022-08-04T13:32:57.630Z"
   },
   {
    "duration": 8,
    "start_time": "2022-08-04T13:32:57.637Z"
   },
   {
    "duration": 9,
    "start_time": "2022-08-04T13:32:57.647Z"
   },
   {
    "duration": 61,
    "start_time": "2022-08-04T13:32:57.657Z"
   },
   {
    "duration": 14,
    "start_time": "2022-08-04T13:32:57.719Z"
   },
   {
    "duration": 3,
    "start_time": "2022-08-04T13:32:57.736Z"
   },
   {
    "duration": 6,
    "start_time": "2022-08-04T13:32:57.740Z"
   },
   {
    "duration": 356,
    "start_time": "2022-08-04T13:32:57.748Z"
   },
   {
    "duration": 5,
    "start_time": "2022-08-04T13:32:58.106Z"
   },
   {
    "duration": 15,
    "start_time": "2022-08-04T13:32:58.113Z"
   },
   {
    "duration": 26,
    "start_time": "2022-08-04T13:32:58.129Z"
   },
   {
    "duration": 826,
    "start_time": "2022-08-04T13:32:58.157Z"
   },
   {
    "duration": 850,
    "start_time": "2022-08-04T13:32:58.985Z"
   },
   {
    "duration": 5,
    "start_time": "2022-08-04T13:32:59.837Z"
   },
   {
    "duration": 12,
    "start_time": "2022-08-04T13:32:59.844Z"
   },
   {
    "duration": 336,
    "start_time": "2022-08-04T13:32:59.858Z"
   },
   {
    "duration": 14,
    "start_time": "2022-08-04T13:33:26.677Z"
   },
   {
    "duration": 1094,
    "start_time": "2022-08-04T13:33:41.661Z"
   },
   {
    "duration": 102,
    "start_time": "2022-08-04T13:33:42.757Z"
   },
   {
    "duration": 14,
    "start_time": "2022-08-04T13:33:42.860Z"
   },
   {
    "duration": 71,
    "start_time": "2022-08-04T13:33:42.876Z"
   },
   {
    "duration": 21,
    "start_time": "2022-08-04T13:33:42.949Z"
   },
   {
    "duration": 8,
    "start_time": "2022-08-04T13:33:42.972Z"
   },
   {
    "duration": 6,
    "start_time": "2022-08-04T13:33:42.981Z"
   },
   {
    "duration": 29,
    "start_time": "2022-08-04T13:33:42.988Z"
   },
   {
    "duration": 6,
    "start_time": "2022-08-04T13:33:43.018Z"
   },
   {
    "duration": 13,
    "start_time": "2022-08-04T13:33:43.026Z"
   },
   {
    "duration": 39,
    "start_time": "2022-08-04T13:33:43.040Z"
   },
   {
    "duration": 3,
    "start_time": "2022-08-04T13:33:43.081Z"
   },
   {
    "duration": 10,
    "start_time": "2022-08-04T13:33:43.085Z"
   },
   {
    "duration": 16,
    "start_time": "2022-08-04T13:33:43.098Z"
   },
   {
    "duration": 11,
    "start_time": "2022-08-04T13:33:43.116Z"
   },
   {
    "duration": 13,
    "start_time": "2022-08-04T13:33:43.128Z"
   },
   {
    "duration": 4,
    "start_time": "2022-08-04T13:33:43.142Z"
   },
   {
    "duration": 13,
    "start_time": "2022-08-04T13:33:43.148Z"
   },
   {
    "duration": 12,
    "start_time": "2022-08-04T13:33:43.163Z"
   },
   {
    "duration": 21,
    "start_time": "2022-08-04T13:33:43.177Z"
   },
   {
    "duration": 37,
    "start_time": "2022-08-04T13:33:43.200Z"
   },
   {
    "duration": 9,
    "start_time": "2022-08-04T13:33:43.238Z"
   },
   {
    "duration": 19,
    "start_time": "2022-08-04T13:33:43.248Z"
   },
   {
    "duration": 39,
    "start_time": "2022-08-04T13:33:43.269Z"
   },
   {
    "duration": 14,
    "start_time": "2022-08-04T13:33:43.310Z"
   },
   {
    "duration": 66,
    "start_time": "2022-08-04T13:33:43.326Z"
   },
   {
    "duration": 14,
    "start_time": "2022-08-04T13:33:43.394Z"
   },
   {
    "duration": 27,
    "start_time": "2022-08-04T13:33:43.409Z"
   },
   {
    "duration": 17,
    "start_time": "2022-08-04T13:33:43.438Z"
   },
   {
    "duration": 363,
    "start_time": "2022-08-04T13:33:43.457Z"
   },
   {
    "duration": 4,
    "start_time": "2022-08-04T13:33:43.821Z"
   },
   {
    "duration": 32,
    "start_time": "2022-08-04T13:33:43.826Z"
   },
   {
    "duration": 25,
    "start_time": "2022-08-04T13:33:43.859Z"
   },
   {
    "duration": 794,
    "start_time": "2022-08-04T13:33:43.886Z"
   },
   {
    "duration": 893,
    "start_time": "2022-08-04T13:33:44.682Z"
   },
   {
    "duration": 6,
    "start_time": "2022-08-04T13:33:45.576Z"
   },
   {
    "duration": 13,
    "start_time": "2022-08-04T13:33:45.583Z"
   },
   {
    "duration": 332,
    "start_time": "2022-08-04T13:33:45.597Z"
   },
   {
    "duration": 8,
    "start_time": "2022-08-04T13:35:13.504Z"
   },
   {
    "duration": 53,
    "start_time": "2022-08-04T13:41:55.582Z"
   },
   {
    "duration": 897,
    "start_time": "2022-08-04T13:42:10.069Z"
   },
   {
    "duration": 716,
    "start_time": "2022-08-04T13:42:26.464Z"
   },
   {
    "duration": 840,
    "start_time": "2022-08-04T13:42:39.313Z"
   },
   {
    "duration": 791,
    "start_time": "2022-08-04T13:43:08.744Z"
   },
   {
    "duration": 795,
    "start_time": "2022-08-04T13:44:06.182Z"
   },
   {
    "duration": 976,
    "start_time": "2022-08-04T13:44:24.321Z"
   },
   {
    "duration": 796,
    "start_time": "2022-08-04T13:48:29.127Z"
   },
   {
    "duration": 863,
    "start_time": "2022-08-04T13:51:55.819Z"
   },
   {
    "duration": 784,
    "start_time": "2022-08-04T13:52:08.795Z"
   },
   {
    "duration": 115,
    "start_time": "2022-08-04T13:58:48.471Z"
   },
   {
    "duration": 30,
    "start_time": "2022-08-04T13:58:56.867Z"
   },
   {
    "duration": 624,
    "start_time": "2022-08-04T14:00:52.334Z"
   },
   {
    "duration": 9,
    "start_time": "2022-08-04T14:01:20.387Z"
   },
   {
    "duration": 14,
    "start_time": "2022-08-04T14:01:25.127Z"
   },
   {
    "duration": 9,
    "start_time": "2022-08-04T14:07:59.822Z"
   },
   {
    "duration": 15,
    "start_time": "2022-08-04T14:08:06.987Z"
   },
   {
    "duration": 13,
    "start_time": "2022-08-04T14:08:31.661Z"
   },
   {
    "duration": 14,
    "start_time": "2022-08-04T14:08:59.418Z"
   },
   {
    "duration": 13,
    "start_time": "2022-08-04T14:09:53.317Z"
   },
   {
    "duration": 11,
    "start_time": "2022-08-04T14:10:06.522Z"
   },
   {
    "duration": 6,
    "start_time": "2022-08-04T14:10:11.487Z"
   },
   {
    "duration": 12,
    "start_time": "2022-08-04T14:10:24.772Z"
   },
   {
    "duration": 40,
    "start_time": "2022-08-04T19:11:34.992Z"
   },
   {
    "duration": 1267,
    "start_time": "2022-08-04T19:11:40.103Z"
   },
   {
    "duration": 139,
    "start_time": "2022-08-04T19:11:41.372Z"
   },
   {
    "duration": 15,
    "start_time": "2022-08-04T19:11:41.512Z"
   },
   {
    "duration": 69,
    "start_time": "2022-08-04T19:11:41.528Z"
   },
   {
    "duration": 20,
    "start_time": "2022-08-04T19:11:41.607Z"
   },
   {
    "duration": 8,
    "start_time": "2022-08-04T19:11:41.628Z"
   },
   {
    "duration": 3,
    "start_time": "2022-08-04T19:11:41.637Z"
   },
   {
    "duration": 11,
    "start_time": "2022-08-04T19:11:41.641Z"
   },
   {
    "duration": 4,
    "start_time": "2022-08-04T19:11:41.653Z"
   },
   {
    "duration": 7,
    "start_time": "2022-08-04T19:11:41.660Z"
   },
   {
    "duration": 63,
    "start_time": "2022-08-04T19:11:41.669Z"
   },
   {
    "duration": 3,
    "start_time": "2022-08-04T19:11:41.733Z"
   },
   {
    "duration": 6,
    "start_time": "2022-08-04T19:11:41.738Z"
   },
   {
    "duration": 7,
    "start_time": "2022-08-04T19:11:41.746Z"
   },
   {
    "duration": 12,
    "start_time": "2022-08-04T19:11:41.755Z"
   },
   {
    "duration": 10,
    "start_time": "2022-08-04T19:11:41.768Z"
   },
   {
    "duration": 3,
    "start_time": "2022-08-04T19:11:41.779Z"
   },
   {
    "duration": 11,
    "start_time": "2022-08-04T19:11:41.808Z"
   },
   {
    "duration": 12,
    "start_time": "2022-08-04T19:11:41.820Z"
   },
   {
    "duration": 3,
    "start_time": "2022-08-04T19:11:41.833Z"
   },
   {
    "duration": 28,
    "start_time": "2022-08-04T19:11:41.837Z"
   },
   {
    "duration": 7,
    "start_time": "2022-08-04T19:11:41.866Z"
   },
   {
    "duration": 5,
    "start_time": "2022-08-04T19:11:41.874Z"
   },
   {
    "duration": 28,
    "start_time": "2022-08-04T19:11:41.880Z"
   },
   {
    "duration": 4,
    "start_time": "2022-08-04T19:11:41.910Z"
   },
   {
    "duration": 44,
    "start_time": "2022-08-04T19:11:41.916Z"
   },
   {
    "duration": 13,
    "start_time": "2022-08-04T19:11:41.962Z"
   },
   {
    "duration": 4,
    "start_time": "2022-08-04T19:11:41.978Z"
   },
   {
    "duration": 3,
    "start_time": "2022-08-04T19:11:42.006Z"
   },
   {
    "duration": 325,
    "start_time": "2022-08-04T19:11:42.010Z"
   },
   {
    "duration": 4,
    "start_time": "2022-08-04T19:11:42.336Z"
   },
   {
    "duration": 14,
    "start_time": "2022-08-04T19:11:42.342Z"
   },
   {
    "duration": 22,
    "start_time": "2022-08-04T19:11:42.357Z"
   },
   {
    "duration": 851,
    "start_time": "2022-08-04T19:11:42.381Z"
   },
   {
    "duration": 758,
    "start_time": "2022-08-04T19:11:43.234Z"
   },
   {
    "duration": 17,
    "start_time": "2022-08-04T19:11:43.994Z"
   },
   {
    "duration": 335,
    "start_time": "2022-08-04T19:11:44.012Z"
   },
   {
    "duration": 32,
    "start_time": "2022-08-04T19:11:44.348Z"
   },
   {
    "duration": 611,
    "start_time": "2022-08-04T19:11:44.382Z"
   },
   {
    "duration": 12,
    "start_time": "2022-08-04T19:11:44.995Z"
   },
   {
    "duration": 747,
    "start_time": "2022-08-04T19:12:10.434Z"
   },
   {
    "duration": 839,
    "start_time": "2022-08-04T19:18:38.119Z"
   },
   {
    "duration": 33,
    "start_time": "2022-08-04T19:19:28.423Z"
   },
   {
    "duration": 755,
    "start_time": "2022-08-04T19:24:15.884Z"
   },
   {
    "duration": 106,
    "start_time": "2022-08-04T19:25:06.177Z"
   },
   {
    "duration": 13,
    "start_time": "2022-08-04T19:25:18.020Z"
   },
   {
    "duration": 395,
    "start_time": "2022-08-04T19:26:25.749Z"
   },
   {
    "duration": 11,
    "start_time": "2022-08-04T19:26:54.148Z"
   },
   {
    "duration": 1085,
    "start_time": "2022-08-04T19:26:57.779Z"
   },
   {
    "duration": 85,
    "start_time": "2022-08-04T19:26:58.866Z"
   },
   {
    "duration": 14,
    "start_time": "2022-08-04T19:26:58.954Z"
   },
   {
    "duration": 78,
    "start_time": "2022-08-04T19:26:58.969Z"
   },
   {
    "duration": 21,
    "start_time": "2022-08-04T19:26:59.048Z"
   },
   {
    "duration": 8,
    "start_time": "2022-08-04T19:26:59.070Z"
   },
   {
    "duration": 3,
    "start_time": "2022-08-04T19:26:59.079Z"
   },
   {
    "duration": 25,
    "start_time": "2022-08-04T19:26:59.084Z"
   },
   {
    "duration": 5,
    "start_time": "2022-08-04T19:26:59.111Z"
   },
   {
    "duration": 7,
    "start_time": "2022-08-04T19:26:59.117Z"
   },
   {
    "duration": 37,
    "start_time": "2022-08-04T19:26:59.125Z"
   },
   {
    "duration": 3,
    "start_time": "2022-08-04T19:26:59.164Z"
   },
   {
    "duration": 6,
    "start_time": "2022-08-04T19:26:59.168Z"
   },
   {
    "duration": 32,
    "start_time": "2022-08-04T19:26:59.175Z"
   },
   {
    "duration": 10,
    "start_time": "2022-08-04T19:26:59.209Z"
   },
   {
    "duration": 11,
    "start_time": "2022-08-04T19:26:59.221Z"
   },
   {
    "duration": 3,
    "start_time": "2022-08-04T19:26:59.233Z"
   },
   {
    "duration": 11,
    "start_time": "2022-08-04T19:26:59.237Z"
   },
   {
    "duration": 8,
    "start_time": "2022-08-04T19:26:59.250Z"
   },
   {
    "duration": 3,
    "start_time": "2022-08-04T19:26:59.259Z"
   },
   {
    "duration": 55,
    "start_time": "2022-08-04T19:26:59.263Z"
   },
   {
    "duration": 7,
    "start_time": "2022-08-04T19:26:59.321Z"
   },
   {
    "duration": 10,
    "start_time": "2022-08-04T19:26:59.330Z"
   },
   {
    "duration": 8,
    "start_time": "2022-08-04T19:26:59.341Z"
   },
   {
    "duration": 4,
    "start_time": "2022-08-04T19:26:59.350Z"
   },
   {
    "duration": 56,
    "start_time": "2022-08-04T19:26:59.356Z"
   },
   {
    "duration": 12,
    "start_time": "2022-08-04T19:26:59.414Z"
   },
   {
    "duration": 3,
    "start_time": "2022-08-04T19:26:59.427Z"
   },
   {
    "duration": 5,
    "start_time": "2022-08-04T19:26:59.432Z"
   },
   {
    "duration": 325,
    "start_time": "2022-08-04T19:26:59.438Z"
   },
   {
    "duration": 6,
    "start_time": "2022-08-04T19:26:59.764Z"
   },
   {
    "duration": 14,
    "start_time": "2022-08-04T19:26:59.771Z"
   },
   {
    "duration": 37,
    "start_time": "2022-08-04T19:26:59.786Z"
   },
   {
    "duration": 827,
    "start_time": "2022-08-04T19:26:59.824Z"
   },
   {
    "duration": 9,
    "start_time": "2022-08-04T19:27:00.653Z"
   },
   {
    "duration": 793,
    "start_time": "2022-08-04T19:27:00.664Z"
   },
   {
    "duration": 34,
    "start_time": "2022-08-04T19:27:01.458Z"
   },
   {
    "duration": 619,
    "start_time": "2022-08-04T19:27:01.493Z"
   },
   {
    "duration": 10,
    "start_time": "2022-08-04T19:27:02.114Z"
   },
   {
    "duration": 471,
    "start_time": "2022-08-04T19:27:02.126Z"
   },
   {
    "duration": 1021,
    "start_time": "2022-08-04T19:29:47.261Z"
   },
   {
    "duration": 89,
    "start_time": "2022-08-04T19:29:48.284Z"
   },
   {
    "duration": 15,
    "start_time": "2022-08-04T19:29:48.376Z"
   },
   {
    "duration": 81,
    "start_time": "2022-08-04T19:29:48.393Z"
   },
   {
    "duration": 32,
    "start_time": "2022-08-04T19:29:48.476Z"
   },
   {
    "duration": 9,
    "start_time": "2022-08-04T19:29:48.510Z"
   },
   {
    "duration": 3,
    "start_time": "2022-08-04T19:29:48.520Z"
   },
   {
    "duration": 11,
    "start_time": "2022-08-04T19:29:48.525Z"
   },
   {
    "duration": 5,
    "start_time": "2022-08-04T19:29:48.537Z"
   },
   {
    "duration": 6,
    "start_time": "2022-08-04T19:29:48.544Z"
   },
   {
    "duration": 65,
    "start_time": "2022-08-04T19:29:48.552Z"
   },
   {
    "duration": 3,
    "start_time": "2022-08-04T19:29:48.618Z"
   },
   {
    "duration": 5,
    "start_time": "2022-08-04T19:29:48.624Z"
   },
   {
    "duration": 9,
    "start_time": "2022-08-04T19:29:48.630Z"
   },
   {
    "duration": 10,
    "start_time": "2022-08-04T19:29:48.641Z"
   },
   {
    "duration": 9,
    "start_time": "2022-08-04T19:29:48.653Z"
   },
   {
    "duration": 3,
    "start_time": "2022-08-04T19:29:48.663Z"
   },
   {
    "duration": 39,
    "start_time": "2022-08-04T19:29:48.667Z"
   },
   {
    "duration": 7,
    "start_time": "2022-08-04T19:29:48.708Z"
   },
   {
    "duration": 3,
    "start_time": "2022-08-04T19:29:48.716Z"
   },
   {
    "duration": 27,
    "start_time": "2022-08-04T19:29:48.720Z"
   },
   {
    "duration": 7,
    "start_time": "2022-08-04T19:29:48.749Z"
   },
   {
    "duration": 4,
    "start_time": "2022-08-04T19:29:48.758Z"
   },
   {
    "duration": 8,
    "start_time": "2022-08-04T19:29:48.764Z"
   },
   {
    "duration": 35,
    "start_time": "2022-08-04T19:29:48.773Z"
   },
   {
    "duration": 49,
    "start_time": "2022-08-04T19:29:48.809Z"
   },
   {
    "duration": 13,
    "start_time": "2022-08-04T19:29:48.860Z"
   },
   {
    "duration": 4,
    "start_time": "2022-08-04T19:29:48.874Z"
   },
   {
    "duration": 7,
    "start_time": "2022-08-04T19:29:48.879Z"
   },
   {
    "duration": 321,
    "start_time": "2022-08-04T19:29:48.905Z"
   },
   {
    "duration": 5,
    "start_time": "2022-08-04T19:29:49.228Z"
   },
   {
    "duration": 13,
    "start_time": "2022-08-04T19:29:49.234Z"
   },
   {
    "duration": 24,
    "start_time": "2022-08-04T19:29:49.248Z"
   },
   {
    "duration": 909,
    "start_time": "2022-08-04T19:29:49.274Z"
   },
   {
    "duration": 9,
    "start_time": "2022-08-04T19:29:50.184Z"
   },
   {
    "duration": 812,
    "start_time": "2022-08-04T19:29:50.206Z"
   },
   {
    "duration": 33,
    "start_time": "2022-08-04T19:29:51.020Z"
   },
   {
    "duration": 644,
    "start_time": "2022-08-04T19:29:51.054Z"
   },
   {
    "duration": 17,
    "start_time": "2022-08-04T19:29:51.699Z"
   },
   {
    "duration": 547,
    "start_time": "2022-08-04T19:29:51.720Z"
   },
   {
    "duration": 77,
    "start_time": "2022-08-04T19:37:44.649Z"
   },
   {
    "duration": 100,
    "start_time": "2022-08-04T19:37:51.973Z"
   },
   {
    "duration": 169,
    "start_time": "2022-08-04T19:38:22.537Z"
   },
   {
    "duration": 90,
    "start_time": "2022-08-04T19:39:29.835Z"
   },
   {
    "duration": 2,
    "start_time": "2022-08-04T19:39:37.481Z"
   },
   {
    "duration": 9,
    "start_time": "2022-08-04T19:42:03.927Z"
   },
   {
    "duration": 22,
    "start_time": "2022-08-04T19:42:34.987Z"
   },
   {
    "duration": 29,
    "start_time": "2022-08-04T19:43:37.422Z"
   },
   {
    "duration": 31,
    "start_time": "2022-08-04T19:52:44.022Z"
   },
   {
    "duration": 19,
    "start_time": "2022-08-04T19:52:56.901Z"
   },
   {
    "duration": 22,
    "start_time": "2022-08-04T19:53:15.154Z"
   },
   {
    "duration": 1130,
    "start_time": "2022-08-04T19:54:20.788Z"
   },
   {
    "duration": 26,
    "start_time": "2022-08-04T19:54:33.578Z"
   },
   {
    "duration": 25,
    "start_time": "2022-08-04T19:55:10.490Z"
   },
   {
    "duration": 14,
    "start_time": "2022-08-04T19:57:10.018Z"
   },
   {
    "duration": 14,
    "start_time": "2022-08-04T19:57:19.028Z"
   },
   {
    "duration": 17,
    "start_time": "2022-08-04T19:57:43.067Z"
   },
   {
    "duration": 22,
    "start_time": "2022-08-04T19:57:49.338Z"
   },
   {
    "duration": 1136,
    "start_time": "2022-08-04T19:58:09.478Z"
   },
   {
    "duration": 1356,
    "start_time": "2022-08-04T19:58:18.945Z"
   },
   {
    "duration": 19,
    "start_time": "2022-08-04T19:58:38.072Z"
   },
   {
    "duration": 20,
    "start_time": "2022-08-04T19:58:54.540Z"
   },
   {
    "duration": 26,
    "start_time": "2022-08-04T19:59:15.894Z"
   },
   {
    "duration": 24,
    "start_time": "2022-08-04T19:59:25.521Z"
   },
   {
    "duration": 1110,
    "start_time": "2022-08-04T19:59:53.725Z"
   },
   {
    "duration": 1205,
    "start_time": "2022-08-04T20:00:40.490Z"
   },
   {
    "duration": 23,
    "start_time": "2022-08-04T20:01:07.761Z"
   },
   {
    "duration": 1113,
    "start_time": "2022-08-04T20:01:27.389Z"
   },
   {
    "duration": 91,
    "start_time": "2022-08-04T20:01:28.504Z"
   },
   {
    "duration": 15,
    "start_time": "2022-08-04T20:01:28.597Z"
   },
   {
    "duration": 75,
    "start_time": "2022-08-04T20:01:28.614Z"
   },
   {
    "duration": 27,
    "start_time": "2022-08-04T20:01:28.690Z"
   },
   {
    "duration": 8,
    "start_time": "2022-08-04T20:01:28.719Z"
   },
   {
    "duration": 3,
    "start_time": "2022-08-04T20:01:28.729Z"
   },
   {
    "duration": 21,
    "start_time": "2022-08-04T20:01:28.733Z"
   },
   {
    "duration": 4,
    "start_time": "2022-08-04T20:01:28.756Z"
   },
   {
    "duration": 7,
    "start_time": "2022-08-04T20:01:28.763Z"
   },
   {
    "duration": 55,
    "start_time": "2022-08-04T20:01:28.772Z"
   },
   {
    "duration": 3,
    "start_time": "2022-08-04T20:01:28.828Z"
   },
   {
    "duration": 9,
    "start_time": "2022-08-04T20:01:28.832Z"
   },
   {
    "duration": 14,
    "start_time": "2022-08-04T20:01:28.842Z"
   },
   {
    "duration": 12,
    "start_time": "2022-08-04T20:01:28.857Z"
   },
   {
    "duration": 8,
    "start_time": "2022-08-04T20:01:28.871Z"
   },
   {
    "duration": 3,
    "start_time": "2022-08-04T20:01:28.881Z"
   },
   {
    "duration": 25,
    "start_time": "2022-08-04T20:01:28.885Z"
   },
   {
    "duration": 10,
    "start_time": "2022-08-04T20:01:28.911Z"
   },
   {
    "duration": 4,
    "start_time": "2022-08-04T20:01:28.922Z"
   },
   {
    "duration": 31,
    "start_time": "2022-08-04T20:01:28.928Z"
   },
   {
    "duration": 7,
    "start_time": "2022-08-04T20:01:28.960Z"
   },
   {
    "duration": 5,
    "start_time": "2022-08-04T20:01:28.969Z"
   },
   {
    "duration": 36,
    "start_time": "2022-08-04T20:01:28.975Z"
   },
   {
    "duration": 4,
    "start_time": "2022-08-04T20:01:29.013Z"
   },
   {
    "duration": 49,
    "start_time": "2022-08-04T20:01:29.019Z"
   },
   {
    "duration": 13,
    "start_time": "2022-08-04T20:01:29.070Z"
   },
   {
    "duration": 4,
    "start_time": "2022-08-04T20:01:29.106Z"
   },
   {
    "duration": 4,
    "start_time": "2022-08-04T20:01:29.112Z"
   },
   {
    "duration": 323,
    "start_time": "2022-08-04T20:01:29.117Z"
   },
   {
    "duration": 6,
    "start_time": "2022-08-04T20:01:29.442Z"
   },
   {
    "duration": 13,
    "start_time": "2022-08-04T20:01:29.449Z"
   },
   {
    "duration": 23,
    "start_time": "2022-08-04T20:01:29.464Z"
   },
   {
    "duration": 788,
    "start_time": "2022-08-04T20:01:29.488Z"
   },
   {
    "duration": 8,
    "start_time": "2022-08-04T20:01:30.277Z"
   },
   {
    "duration": 803,
    "start_time": "2022-08-04T20:01:30.286Z"
   },
   {
    "duration": 38,
    "start_time": "2022-08-04T20:01:31.091Z"
   },
   {
    "duration": 598,
    "start_time": "2022-08-04T20:01:31.130Z"
   },
   {
    "duration": 11,
    "start_time": "2022-08-04T20:01:31.729Z"
   },
   {
    "duration": 541,
    "start_time": "2022-08-04T20:01:31.741Z"
   },
   {
    "duration": 182,
    "start_time": "2022-08-04T20:01:32.283Z"
   },
   {
    "duration": 19,
    "start_time": "2022-08-04T20:01:32.467Z"
   },
   {
    "duration": 189,
    "start_time": "2022-08-04T20:06:47.260Z"
   },
   {
    "duration": 163,
    "start_time": "2022-08-04T20:07:27.386Z"
   },
   {
    "duration": 102,
    "start_time": "2022-08-04T20:09:57.332Z"
   },
   {
    "duration": 25,
    "start_time": "2022-08-04T20:10:11.571Z"
   },
   {
    "duration": 26,
    "start_time": "2022-08-04T20:10:40.536Z"
   },
   {
    "duration": 22,
    "start_time": "2022-08-04T20:11:01.237Z"
   },
   {
    "duration": 23,
    "start_time": "2022-08-04T20:11:10.890Z"
   },
   {
    "duration": 19,
    "start_time": "2022-08-04T20:11:37.540Z"
   },
   {
    "duration": 1053,
    "start_time": "2022-08-04T20:12:11.318Z"
   },
   {
    "duration": 86,
    "start_time": "2022-08-04T20:12:12.372Z"
   },
   {
    "duration": 14,
    "start_time": "2022-08-04T20:12:12.459Z"
   },
   {
    "duration": 77,
    "start_time": "2022-08-04T20:12:12.474Z"
   },
   {
    "duration": 20,
    "start_time": "2022-08-04T20:12:12.553Z"
   },
   {
    "duration": 8,
    "start_time": "2022-08-04T20:12:12.574Z"
   },
   {
    "duration": 7,
    "start_time": "2022-08-04T20:12:12.583Z"
   },
   {
    "duration": 9,
    "start_time": "2022-08-04T20:12:12.605Z"
   },
   {
    "duration": 4,
    "start_time": "2022-08-04T20:12:12.616Z"
   },
   {
    "duration": 7,
    "start_time": "2022-08-04T20:12:12.621Z"
   },
   {
    "duration": 34,
    "start_time": "2022-08-04T20:12:12.629Z"
   },
   {
    "duration": 2,
    "start_time": "2022-08-04T20:12:12.665Z"
   },
   {
    "duration": 6,
    "start_time": "2022-08-04T20:12:12.669Z"
   },
   {
    "duration": 29,
    "start_time": "2022-08-04T20:12:12.678Z"
   },
   {
    "duration": 16,
    "start_time": "2022-08-04T20:12:12.708Z"
   },
   {
    "duration": 9,
    "start_time": "2022-08-04T20:12:12.726Z"
   },
   {
    "duration": 3,
    "start_time": "2022-08-04T20:12:12.736Z"
   },
   {
    "duration": 13,
    "start_time": "2022-08-04T20:12:12.740Z"
   },
   {
    "duration": 6,
    "start_time": "2022-08-04T20:12:12.754Z"
   },
   {
    "duration": 3,
    "start_time": "2022-08-04T20:12:12.761Z"
   },
   {
    "duration": 44,
    "start_time": "2022-08-04T20:12:12.765Z"
   },
   {
    "duration": 8,
    "start_time": "2022-08-04T20:12:12.810Z"
   },
   {
    "duration": 5,
    "start_time": "2022-08-04T20:12:12.819Z"
   },
   {
    "duration": 10,
    "start_time": "2022-08-04T20:12:12.825Z"
   },
   {
    "duration": 4,
    "start_time": "2022-08-04T20:12:12.836Z"
   },
   {
    "duration": 65,
    "start_time": "2022-08-04T20:12:12.842Z"
   },
   {
    "duration": 12,
    "start_time": "2022-08-04T20:12:12.908Z"
   },
   {
    "duration": 4,
    "start_time": "2022-08-04T20:12:12.921Z"
   },
   {
    "duration": 7,
    "start_time": "2022-08-04T20:12:12.926Z"
   },
   {
    "duration": 311,
    "start_time": "2022-08-04T20:12:12.934Z"
   },
   {
    "duration": 5,
    "start_time": "2022-08-04T20:12:13.247Z"
   },
   {
    "duration": 13,
    "start_time": "2022-08-04T20:12:13.253Z"
   },
   {
    "duration": 22,
    "start_time": "2022-08-04T20:12:13.268Z"
   },
   {
    "duration": 790,
    "start_time": "2022-08-04T20:12:13.306Z"
   },
   {
    "duration": 14,
    "start_time": "2022-08-04T20:12:14.098Z"
   },
   {
    "duration": 798,
    "start_time": "2022-08-04T20:12:14.114Z"
   },
   {
    "duration": 32,
    "start_time": "2022-08-04T20:12:14.913Z"
   },
   {
    "duration": 608,
    "start_time": "2022-08-04T20:12:14.947Z"
   },
   {
    "duration": 11,
    "start_time": "2022-08-04T20:12:15.557Z"
   },
   {
    "duration": 571,
    "start_time": "2022-08-04T20:12:15.570Z"
   },
   {
    "duration": 173,
    "start_time": "2022-08-04T20:12:16.144Z"
   },
   {
    "duration": 117,
    "start_time": "2022-08-04T20:12:16.319Z"
   },
   {
    "duration": 0,
    "start_time": "2022-08-04T20:12:16.438Z"
   },
   {
    "duration": 38,
    "start_time": "2022-08-04T20:12:38.745Z"
   },
   {
    "duration": 38,
    "start_time": "2022-08-04T20:12:44.522Z"
   },
   {
    "duration": 36,
    "start_time": "2022-08-04T20:13:44.116Z"
   },
   {
    "duration": 35,
    "start_time": "2022-08-04T20:14:31.953Z"
   },
   {
    "duration": 1036,
    "start_time": "2022-08-04T20:15:19.024Z"
   },
   {
    "duration": 86,
    "start_time": "2022-08-04T20:15:20.062Z"
   },
   {
    "duration": 13,
    "start_time": "2022-08-04T20:15:20.150Z"
   },
   {
    "duration": 72,
    "start_time": "2022-08-04T20:15:20.165Z"
   },
   {
    "duration": 20,
    "start_time": "2022-08-04T20:15:20.239Z"
   },
   {
    "duration": 8,
    "start_time": "2022-08-04T20:15:20.260Z"
   },
   {
    "duration": 3,
    "start_time": "2022-08-04T20:15:20.269Z"
   },
   {
    "duration": 33,
    "start_time": "2022-08-04T20:15:20.273Z"
   },
   {
    "duration": 5,
    "start_time": "2022-08-04T20:15:20.307Z"
   },
   {
    "duration": 8,
    "start_time": "2022-08-04T20:15:20.313Z"
   },
   {
    "duration": 45,
    "start_time": "2022-08-04T20:15:20.322Z"
   },
   {
    "duration": 4,
    "start_time": "2022-08-04T20:15:20.368Z"
   },
   {
    "duration": 5,
    "start_time": "2022-08-04T20:15:20.374Z"
   },
   {
    "duration": 7,
    "start_time": "2022-08-04T20:15:20.382Z"
   },
   {
    "duration": 11,
    "start_time": "2022-08-04T20:15:20.405Z"
   },
   {
    "duration": 14,
    "start_time": "2022-08-04T20:15:20.418Z"
   },
   {
    "duration": 7,
    "start_time": "2022-08-04T20:15:20.434Z"
   },
   {
    "duration": 13,
    "start_time": "2022-08-04T20:15:20.442Z"
   },
   {
    "duration": 7,
    "start_time": "2022-08-04T20:15:20.456Z"
   },
   {
    "duration": 4,
    "start_time": "2022-08-04T20:15:20.464Z"
   },
   {
    "duration": 37,
    "start_time": "2022-08-04T20:15:20.469Z"
   },
   {
    "duration": 7,
    "start_time": "2022-08-04T20:15:20.508Z"
   },
   {
    "duration": 4,
    "start_time": "2022-08-04T20:15:20.516Z"
   },
   {
    "duration": 6,
    "start_time": "2022-08-04T20:15:20.522Z"
   },
   {
    "duration": 3,
    "start_time": "2022-08-04T20:15:20.529Z"
   },
   {
    "duration": 47,
    "start_time": "2022-08-04T20:15:20.534Z"
   },
   {
    "duration": 35,
    "start_time": "2022-08-04T20:15:20.583Z"
   },
   {
    "duration": 5,
    "start_time": "2022-08-04T20:15:20.619Z"
   },
   {
    "duration": 4,
    "start_time": "2022-08-04T20:15:20.626Z"
   },
   {
    "duration": 320,
    "start_time": "2022-08-04T20:15:20.632Z"
   },
   {
    "duration": 5,
    "start_time": "2022-08-04T20:15:20.954Z"
   },
   {
    "duration": 11,
    "start_time": "2022-08-04T20:15:20.960Z"
   },
   {
    "duration": 37,
    "start_time": "2022-08-04T20:15:20.973Z"
   },
   {
    "duration": 844,
    "start_time": "2022-08-04T20:15:21.012Z"
   },
   {
    "duration": 8,
    "start_time": "2022-08-04T20:15:21.858Z"
   },
   {
    "duration": 795,
    "start_time": "2022-08-04T20:15:21.867Z"
   },
   {
    "duration": 44,
    "start_time": "2022-08-04T20:15:22.663Z"
   },
   {
    "duration": 590,
    "start_time": "2022-08-04T20:15:22.708Z"
   },
   {
    "duration": 14,
    "start_time": "2022-08-04T20:15:23.299Z"
   },
   {
    "duration": 524,
    "start_time": "2022-08-04T20:15:23.315Z"
   },
   {
    "duration": 175,
    "start_time": "2022-08-04T20:15:23.842Z"
   },
   {
    "duration": 124,
    "start_time": "2022-08-04T20:15:24.018Z"
   },
   {
    "duration": 0,
    "start_time": "2022-08-04T20:15:24.144Z"
   },
   {
    "duration": 31,
    "start_time": "2022-08-04T20:17:42.045Z"
   },
   {
    "duration": 26,
    "start_time": "2022-08-04T20:18:55.028Z"
   },
   {
    "duration": 17,
    "start_time": "2022-08-04T20:22:59.523Z"
   },
   {
    "duration": 30,
    "start_time": "2022-08-04T20:23:09.217Z"
   },
   {
    "duration": 77,
    "start_time": "2022-08-04T20:24:04.822Z"
   },
   {
    "duration": 59,
    "start_time": "2022-08-04T20:24:12.972Z"
   },
   {
    "duration": 6,
    "start_time": "2022-08-04T20:24:24.846Z"
   },
   {
    "duration": 1008,
    "start_time": "2022-08-04T20:24:38.458Z"
   },
   {
    "duration": 86,
    "start_time": "2022-08-04T20:24:39.468Z"
   },
   {
    "duration": 13,
    "start_time": "2022-08-04T20:24:39.556Z"
   },
   {
    "duration": 81,
    "start_time": "2022-08-04T20:24:39.571Z"
   },
   {
    "duration": 20,
    "start_time": "2022-08-04T20:24:39.653Z"
   },
   {
    "duration": 12,
    "start_time": "2022-08-04T20:24:39.674Z"
   },
   {
    "duration": 17,
    "start_time": "2022-08-04T20:24:39.689Z"
   },
   {
    "duration": 38,
    "start_time": "2022-08-04T20:24:39.708Z"
   },
   {
    "duration": 25,
    "start_time": "2022-08-04T20:24:39.748Z"
   },
   {
    "duration": 16,
    "start_time": "2022-08-04T20:24:39.776Z"
   },
   {
    "duration": 61,
    "start_time": "2022-08-04T20:24:39.793Z"
   },
   {
    "duration": 3,
    "start_time": "2022-08-04T20:24:39.856Z"
   },
   {
    "duration": 19,
    "start_time": "2022-08-04T20:24:39.860Z"
   },
   {
    "duration": 11,
    "start_time": "2022-08-04T20:24:39.880Z"
   },
   {
    "duration": 25,
    "start_time": "2022-08-04T20:24:39.892Z"
   },
   {
    "duration": 8,
    "start_time": "2022-08-04T20:24:39.918Z"
   },
   {
    "duration": 15,
    "start_time": "2022-08-04T20:24:39.927Z"
   },
   {
    "duration": 32,
    "start_time": "2022-08-04T20:24:39.943Z"
   },
   {
    "duration": 26,
    "start_time": "2022-08-04T20:24:39.977Z"
   },
   {
    "duration": 8,
    "start_time": "2022-08-04T20:24:40.004Z"
   },
   {
    "duration": 50,
    "start_time": "2022-08-04T20:24:40.014Z"
   },
   {
    "duration": 10,
    "start_time": "2022-08-04T20:24:40.066Z"
   },
   {
    "duration": 22,
    "start_time": "2022-08-04T20:24:40.078Z"
   },
   {
    "duration": 30,
    "start_time": "2022-08-04T20:24:40.102Z"
   },
   {
    "duration": 4,
    "start_time": "2022-08-04T20:24:40.133Z"
   },
   {
    "duration": 60,
    "start_time": "2022-08-04T20:24:40.139Z"
   },
   {
    "duration": 12,
    "start_time": "2022-08-04T20:24:40.201Z"
   },
   {
    "duration": 5,
    "start_time": "2022-08-04T20:24:40.217Z"
   },
   {
    "duration": 24,
    "start_time": "2022-08-04T20:24:40.223Z"
   },
   {
    "duration": 334,
    "start_time": "2022-08-04T20:24:40.249Z"
   },
   {
    "duration": 4,
    "start_time": "2022-08-04T20:24:40.585Z"
   },
   {
    "duration": 20,
    "start_time": "2022-08-04T20:24:40.590Z"
   },
   {
    "duration": 22,
    "start_time": "2022-08-04T20:24:40.612Z"
   },
   {
    "duration": 908,
    "start_time": "2022-08-04T20:24:40.636Z"
   },
   {
    "duration": 10,
    "start_time": "2022-08-04T20:24:41.546Z"
   },
   {
    "duration": 1011,
    "start_time": "2022-08-04T20:24:41.557Z"
   },
   {
    "duration": 38,
    "start_time": "2022-08-04T20:24:42.570Z"
   },
   {
    "duration": 598,
    "start_time": "2022-08-04T20:24:42.609Z"
   },
   {
    "duration": 11,
    "start_time": "2022-08-04T20:24:43.209Z"
   },
   {
    "duration": 571,
    "start_time": "2022-08-04T20:24:43.221Z"
   },
   {
    "duration": 179,
    "start_time": "2022-08-04T20:24:43.793Z"
   },
   {
    "duration": 67,
    "start_time": "2022-08-04T20:24:43.974Z"
   },
   {
    "duration": 99,
    "start_time": "2022-08-04T20:24:44.043Z"
   },
   {
    "duration": 0,
    "start_time": "2022-08-04T20:24:44.144Z"
   },
   {
    "duration": 313,
    "start_time": "2022-08-04T20:25:08.932Z"
   },
   {
    "duration": 72,
    "start_time": "2022-08-04T20:25:37.475Z"
   },
   {
    "duration": 71,
    "start_time": "2022-08-04T20:25:46.391Z"
   },
   {
    "duration": 11,
    "start_time": "2022-08-04T20:26:20.825Z"
   },
   {
    "duration": 14,
    "start_time": "2022-08-04T20:27:15.993Z"
   },
   {
    "duration": 23,
    "start_time": "2022-08-04T20:27:30.240Z"
   },
   {
    "duration": 11,
    "start_time": "2022-08-04T20:27:51.226Z"
   },
   {
    "duration": 11,
    "start_time": "2022-08-04T20:27:57.830Z"
   },
   {
    "duration": 853,
    "start_time": "2022-08-04T20:30:06.627Z"
   },
   {
    "duration": 1093,
    "start_time": "2022-08-04T20:30:26.767Z"
   },
   {
    "duration": 95,
    "start_time": "2022-08-04T20:30:27.862Z"
   },
   {
    "duration": 15,
    "start_time": "2022-08-04T20:30:27.959Z"
   },
   {
    "duration": 87,
    "start_time": "2022-08-04T20:30:27.976Z"
   },
   {
    "duration": 24,
    "start_time": "2022-08-04T20:30:28.065Z"
   },
   {
    "duration": 19,
    "start_time": "2022-08-04T20:30:28.090Z"
   },
   {
    "duration": 3,
    "start_time": "2022-08-04T20:30:28.111Z"
   },
   {
    "duration": 12,
    "start_time": "2022-08-04T20:30:28.115Z"
   },
   {
    "duration": 5,
    "start_time": "2022-08-04T20:30:28.129Z"
   },
   {
    "duration": 7,
    "start_time": "2022-08-04T20:30:28.138Z"
   },
   {
    "duration": 65,
    "start_time": "2022-08-04T20:30:28.147Z"
   },
   {
    "duration": 4,
    "start_time": "2022-08-04T20:30:28.214Z"
   },
   {
    "duration": 6,
    "start_time": "2022-08-04T20:30:28.220Z"
   },
   {
    "duration": 8,
    "start_time": "2022-08-04T20:30:28.228Z"
   },
   {
    "duration": 13,
    "start_time": "2022-08-04T20:30:28.238Z"
   },
   {
    "duration": 11,
    "start_time": "2022-08-04T20:30:28.253Z"
   },
   {
    "duration": 3,
    "start_time": "2022-08-04T20:30:28.266Z"
   },
   {
    "duration": 48,
    "start_time": "2022-08-04T20:30:28.270Z"
   },
   {
    "duration": 10,
    "start_time": "2022-08-04T20:30:28.319Z"
   },
   {
    "duration": 4,
    "start_time": "2022-08-04T20:30:28.330Z"
   },
   {
    "duration": 28,
    "start_time": "2022-08-04T20:30:28.336Z"
   },
   {
    "duration": 8,
    "start_time": "2022-08-04T20:30:28.366Z"
   },
   {
    "duration": 32,
    "start_time": "2022-08-04T20:30:28.375Z"
   },
   {
    "duration": 8,
    "start_time": "2022-08-04T20:30:28.408Z"
   },
   {
    "duration": 3,
    "start_time": "2022-08-04T20:30:28.418Z"
   },
   {
    "duration": 45,
    "start_time": "2022-08-04T20:30:28.423Z"
   },
   {
    "duration": 13,
    "start_time": "2022-08-04T20:30:28.470Z"
   },
   {
    "duration": 4,
    "start_time": "2022-08-04T20:30:28.507Z"
   },
   {
    "duration": 5,
    "start_time": "2022-08-04T20:30:28.512Z"
   },
   {
    "duration": 349,
    "start_time": "2022-08-04T20:30:28.518Z"
   },
   {
    "duration": 5,
    "start_time": "2022-08-04T20:30:28.869Z"
   },
   {
    "duration": 13,
    "start_time": "2022-08-04T20:30:28.876Z"
   },
   {
    "duration": 34,
    "start_time": "2022-08-04T20:30:28.890Z"
   },
   {
    "duration": 892,
    "start_time": "2022-08-04T20:30:28.926Z"
   },
   {
    "duration": 9,
    "start_time": "2022-08-04T20:30:29.820Z"
   },
   {
    "duration": 896,
    "start_time": "2022-08-04T20:30:29.832Z"
   },
   {
    "duration": 35,
    "start_time": "2022-08-04T20:30:30.729Z"
   },
   {
    "duration": 679,
    "start_time": "2022-08-04T20:30:30.766Z"
   },
   {
    "duration": 11,
    "start_time": "2022-08-04T20:30:31.446Z"
   },
   {
    "duration": 600,
    "start_time": "2022-08-04T20:30:31.459Z"
   },
   {
    "duration": 209,
    "start_time": "2022-08-04T20:30:32.060Z"
   },
   {
    "duration": 1032,
    "start_time": "2022-08-04T20:30:32.270Z"
   },
   {
    "duration": 0,
    "start_time": "2022-08-04T20:30:33.304Z"
   },
   {
    "duration": 0,
    "start_time": "2022-08-04T20:30:33.305Z"
   },
   {
    "duration": 948,
    "start_time": "2022-08-04T20:31:33.354Z"
   },
   {
    "duration": 939,
    "start_time": "2022-08-04T20:31:49.769Z"
   },
   {
    "duration": 863,
    "start_time": "2022-08-04T20:32:33.166Z"
   },
   {
    "duration": 830,
    "start_time": "2022-08-04T20:33:11.858Z"
   },
   {
    "duration": 1142,
    "start_time": "2022-08-04T20:36:21.595Z"
   },
   {
    "duration": 1067,
    "start_time": "2022-08-04T20:37:30.101Z"
   },
   {
    "duration": 85,
    "start_time": "2022-08-04T20:37:31.169Z"
   },
   {
    "duration": 13,
    "start_time": "2022-08-04T20:37:31.258Z"
   },
   {
    "duration": 77,
    "start_time": "2022-08-04T20:37:31.272Z"
   },
   {
    "duration": 20,
    "start_time": "2022-08-04T20:37:31.351Z"
   },
   {
    "duration": 8,
    "start_time": "2022-08-04T20:37:31.372Z"
   },
   {
    "duration": 6,
    "start_time": "2022-08-04T20:37:31.381Z"
   },
   {
    "duration": 22,
    "start_time": "2022-08-04T20:37:31.388Z"
   },
   {
    "duration": 4,
    "start_time": "2022-08-04T20:37:31.413Z"
   },
   {
    "duration": 11,
    "start_time": "2022-08-04T20:37:31.418Z"
   },
   {
    "duration": 44,
    "start_time": "2022-08-04T20:37:31.430Z"
   },
   {
    "duration": 3,
    "start_time": "2022-08-04T20:37:31.475Z"
   },
   {
    "duration": 8,
    "start_time": "2022-08-04T20:37:31.479Z"
   },
   {
    "duration": 18,
    "start_time": "2022-08-04T20:37:31.488Z"
   },
   {
    "duration": 10,
    "start_time": "2022-08-04T20:37:31.508Z"
   },
   {
    "duration": 12,
    "start_time": "2022-08-04T20:37:31.519Z"
   },
   {
    "duration": 3,
    "start_time": "2022-08-04T20:37:31.532Z"
   },
   {
    "duration": 17,
    "start_time": "2022-08-04T20:37:31.536Z"
   },
   {
    "duration": 13,
    "start_time": "2022-08-04T20:37:31.554Z"
   },
   {
    "duration": 5,
    "start_time": "2022-08-04T20:37:31.568Z"
   },
   {
    "duration": 38,
    "start_time": "2022-08-04T20:37:31.574Z"
   },
   {
    "duration": 7,
    "start_time": "2022-08-04T20:37:31.614Z"
   },
   {
    "duration": 5,
    "start_time": "2022-08-04T20:37:31.622Z"
   },
   {
    "duration": 10,
    "start_time": "2022-08-04T20:37:31.628Z"
   },
   {
    "duration": 4,
    "start_time": "2022-08-04T20:37:31.639Z"
   },
   {
    "duration": 65,
    "start_time": "2022-08-04T20:37:31.644Z"
   },
   {
    "duration": 12,
    "start_time": "2022-08-04T20:37:31.712Z"
   },
   {
    "duration": 3,
    "start_time": "2022-08-04T20:37:31.725Z"
   },
   {
    "duration": 4,
    "start_time": "2022-08-04T20:37:31.730Z"
   },
   {
    "duration": 327,
    "start_time": "2022-08-04T20:37:31.735Z"
   },
   {
    "duration": 4,
    "start_time": "2022-08-04T20:37:32.064Z"
   },
   {
    "duration": 12,
    "start_time": "2022-08-04T20:37:32.070Z"
   },
   {
    "duration": 33,
    "start_time": "2022-08-04T20:37:32.083Z"
   },
   {
    "duration": 813,
    "start_time": "2022-08-04T20:37:32.117Z"
   },
   {
    "duration": 9,
    "start_time": "2022-08-04T20:37:32.931Z"
   },
   {
    "duration": 770,
    "start_time": "2022-08-04T20:37:32.942Z"
   },
   {
    "duration": 33,
    "start_time": "2022-08-04T20:37:33.714Z"
   },
   {
    "duration": 625,
    "start_time": "2022-08-04T20:37:33.749Z"
   },
   {
    "duration": 12,
    "start_time": "2022-08-04T20:37:34.376Z"
   },
   {
    "duration": 531,
    "start_time": "2022-08-04T20:37:34.390Z"
   },
   {
    "duration": 174,
    "start_time": "2022-08-04T20:37:34.922Z"
   },
   {
    "duration": 94,
    "start_time": "2022-08-04T20:37:35.097Z"
   },
   {
    "duration": 0,
    "start_time": "2022-08-04T20:37:35.192Z"
   },
   {
    "duration": 0,
    "start_time": "2022-08-04T20:37:35.193Z"
   },
   {
    "duration": 0,
    "start_time": "2022-08-04T20:37:35.194Z"
   },
   {
    "duration": 150,
    "start_time": "2022-08-04T20:38:23.524Z"
   },
   {
    "duration": 171,
    "start_time": "2022-08-04T20:38:50.305Z"
   },
   {
    "duration": 171,
    "start_time": "2022-08-04T20:38:54.442Z"
   },
   {
    "duration": 1081,
    "start_time": "2022-08-04T20:38:59.500Z"
   },
   {
    "duration": 88,
    "start_time": "2022-08-04T20:39:00.583Z"
   },
   {
    "duration": 14,
    "start_time": "2022-08-04T20:39:00.673Z"
   },
   {
    "duration": 93,
    "start_time": "2022-08-04T20:39:00.689Z"
   },
   {
    "duration": 22,
    "start_time": "2022-08-04T20:39:00.784Z"
   },
   {
    "duration": 19,
    "start_time": "2022-08-04T20:39:00.807Z"
   },
   {
    "duration": 29,
    "start_time": "2022-08-04T20:39:00.828Z"
   },
   {
    "duration": 60,
    "start_time": "2022-08-04T20:39:00.859Z"
   },
   {
    "duration": 26,
    "start_time": "2022-08-04T20:39:00.920Z"
   },
   {
    "duration": 30,
    "start_time": "2022-08-04T20:39:00.948Z"
   },
   {
    "duration": 61,
    "start_time": "2022-08-04T20:39:00.980Z"
   },
   {
    "duration": 5,
    "start_time": "2022-08-04T20:39:01.043Z"
   },
   {
    "duration": 47,
    "start_time": "2022-08-04T20:39:01.049Z"
   },
   {
    "duration": 44,
    "start_time": "2022-08-04T20:39:01.097Z"
   },
   {
    "duration": 38,
    "start_time": "2022-08-04T20:39:01.142Z"
   },
   {
    "duration": 43,
    "start_time": "2022-08-04T20:39:01.181Z"
   },
   {
    "duration": 45,
    "start_time": "2022-08-04T20:39:01.226Z"
   },
   {
    "duration": 45,
    "start_time": "2022-08-04T20:39:01.272Z"
   },
   {
    "duration": 43,
    "start_time": "2022-08-04T20:39:01.319Z"
   },
   {
    "duration": 32,
    "start_time": "2022-08-04T20:39:01.364Z"
   },
   {
    "duration": 61,
    "start_time": "2022-08-04T20:39:01.397Z"
   },
   {
    "duration": 7,
    "start_time": "2022-08-04T20:39:01.460Z"
   },
   {
    "duration": 30,
    "start_time": "2022-08-04T20:39:01.468Z"
   },
   {
    "duration": 32,
    "start_time": "2022-08-04T20:39:01.500Z"
   },
   {
    "duration": 45,
    "start_time": "2022-08-04T20:39:01.533Z"
   },
   {
    "duration": 71,
    "start_time": "2022-08-04T20:39:01.579Z"
   },
   {
    "duration": 13,
    "start_time": "2022-08-04T20:39:01.651Z"
   },
   {
    "duration": 9,
    "start_time": "2022-08-04T20:39:01.666Z"
   },
   {
    "duration": 36,
    "start_time": "2022-08-04T20:39:01.677Z"
   },
   {
    "duration": 318,
    "start_time": "2022-08-04T20:39:01.715Z"
   },
   {
    "duration": 5,
    "start_time": "2022-08-04T20:39:02.035Z"
   },
   {
    "duration": 49,
    "start_time": "2022-08-04T20:39:02.042Z"
   },
   {
    "duration": 44,
    "start_time": "2022-08-04T20:39:02.093Z"
   },
   {
    "duration": 802,
    "start_time": "2022-08-04T20:39:02.138Z"
   },
   {
    "duration": 8,
    "start_time": "2022-08-04T20:39:02.941Z"
   },
   {
    "duration": 801,
    "start_time": "2022-08-04T20:39:02.950Z"
   },
   {
    "duration": 33,
    "start_time": "2022-08-04T20:39:03.752Z"
   },
   {
    "duration": 517,
    "start_time": "2022-08-04T20:39:03.786Z"
   },
   {
    "duration": 11,
    "start_time": "2022-08-04T20:39:04.306Z"
   },
   {
    "duration": 614,
    "start_time": "2022-08-04T20:39:04.318Z"
   },
   {
    "duration": 177,
    "start_time": "2022-08-04T20:39:04.934Z"
   },
   {
    "duration": 153,
    "start_time": "2022-08-04T20:39:05.113Z"
   },
   {
    "duration": 18,
    "start_time": "2022-08-04T20:39:05.267Z"
   },
   {
    "duration": 23,
    "start_time": "2022-08-04T20:39:05.286Z"
   },
   {
    "duration": 178,
    "start_time": "2022-08-04T20:39:05.310Z"
   },
   {
    "duration": 4,
    "start_time": "2022-08-04T20:41:19.853Z"
   },
   {
    "duration": 1135,
    "start_time": "2022-08-04T20:41:29.480Z"
   },
   {
    "duration": 87,
    "start_time": "2022-08-04T20:41:30.617Z"
   },
   {
    "duration": 14,
    "start_time": "2022-08-04T20:41:30.706Z"
   },
   {
    "duration": 78,
    "start_time": "2022-08-04T20:41:30.722Z"
   },
   {
    "duration": 25,
    "start_time": "2022-08-04T20:41:30.801Z"
   },
   {
    "duration": 7,
    "start_time": "2022-08-04T20:41:30.828Z"
   },
   {
    "duration": 9,
    "start_time": "2022-08-04T20:41:30.837Z"
   },
   {
    "duration": 15,
    "start_time": "2022-08-04T20:41:30.847Z"
   },
   {
    "duration": 9,
    "start_time": "2022-08-04T20:41:30.863Z"
   },
   {
    "duration": 18,
    "start_time": "2022-08-04T20:41:30.874Z"
   },
   {
    "duration": 48,
    "start_time": "2022-08-04T20:41:30.893Z"
   },
   {
    "duration": 3,
    "start_time": "2022-08-04T20:41:30.943Z"
   },
   {
    "duration": 9,
    "start_time": "2022-08-04T20:41:30.947Z"
   },
   {
    "duration": 12,
    "start_time": "2022-08-04T20:41:30.958Z"
   },
   {
    "duration": 12,
    "start_time": "2022-08-04T20:41:30.971Z"
   },
   {
    "duration": 21,
    "start_time": "2022-08-04T20:41:30.985Z"
   },
   {
    "duration": 3,
    "start_time": "2022-08-04T20:41:31.007Z"
   },
   {
    "duration": 22,
    "start_time": "2022-08-04T20:41:31.011Z"
   },
   {
    "duration": 6,
    "start_time": "2022-08-04T20:41:31.035Z"
   },
   {
    "duration": 20,
    "start_time": "2022-08-04T20:41:31.043Z"
   },
   {
    "duration": 40,
    "start_time": "2022-08-04T20:41:31.064Z"
   },
   {
    "duration": 7,
    "start_time": "2022-08-04T20:41:31.105Z"
   },
   {
    "duration": 6,
    "start_time": "2022-08-04T20:41:31.114Z"
   },
   {
    "duration": 12,
    "start_time": "2022-08-04T20:41:31.121Z"
   },
   {
    "duration": 4,
    "start_time": "2022-08-04T20:41:31.134Z"
   },
   {
    "duration": 59,
    "start_time": "2022-08-04T20:41:31.139Z"
   },
   {
    "duration": 15,
    "start_time": "2022-08-04T20:41:31.200Z"
   },
   {
    "duration": 6,
    "start_time": "2022-08-04T20:41:31.218Z"
   },
   {
    "duration": 16,
    "start_time": "2022-08-04T20:41:31.225Z"
   },
   {
    "duration": 324,
    "start_time": "2022-08-04T20:41:31.243Z"
   },
   {
    "duration": 4,
    "start_time": "2022-08-04T20:41:31.569Z"
   },
   {
    "duration": 16,
    "start_time": "2022-08-04T20:41:31.574Z"
   },
   {
    "duration": 33,
    "start_time": "2022-08-04T20:41:31.591Z"
   },
   {
    "duration": 852,
    "start_time": "2022-08-04T20:41:31.625Z"
   },
   {
    "duration": 10,
    "start_time": "2022-08-04T20:41:32.479Z"
   },
   {
    "duration": 825,
    "start_time": "2022-08-04T20:41:32.490Z"
   },
   {
    "duration": 31,
    "start_time": "2022-08-04T20:41:33.316Z"
   },
   {
    "duration": 575,
    "start_time": "2022-08-04T20:41:33.349Z"
   },
   {
    "duration": 10,
    "start_time": "2022-08-04T20:41:33.925Z"
   },
   {
    "duration": 508,
    "start_time": "2022-08-04T20:41:33.937Z"
   },
   {
    "duration": 165,
    "start_time": "2022-08-04T20:41:34.446Z"
   },
   {
    "duration": 143,
    "start_time": "2022-08-04T20:41:34.613Z"
   },
   {
    "duration": 17,
    "start_time": "2022-08-04T20:41:34.758Z"
   },
   {
    "duration": 12,
    "start_time": "2022-08-04T20:41:34.776Z"
   },
   {
    "duration": 176,
    "start_time": "2022-08-04T20:41:34.789Z"
   },
   {
    "duration": 136,
    "start_time": "2022-08-04T20:42:22.062Z"
   },
   {
    "duration": 8,
    "start_time": "2022-08-04T20:44:41.595Z"
   },
   {
    "duration": 529,
    "start_time": "2022-08-04T20:59:36.967Z"
   },
   {
    "duration": 1196,
    "start_time": "2022-08-04T21:56:36.337Z"
   },
   {
    "duration": 101,
    "start_time": "2022-08-04T21:56:37.536Z"
   },
   {
    "duration": 19,
    "start_time": "2022-08-04T21:56:37.639Z"
   },
   {
    "duration": 96,
    "start_time": "2022-08-04T21:56:37.661Z"
   },
   {
    "duration": 26,
    "start_time": "2022-08-04T21:56:37.759Z"
   },
   {
    "duration": 24,
    "start_time": "2022-08-04T21:56:37.787Z"
   },
   {
    "duration": 4,
    "start_time": "2022-08-04T21:56:37.813Z"
   },
   {
    "duration": 15,
    "start_time": "2022-08-04T21:56:37.819Z"
   },
   {
    "duration": 7,
    "start_time": "2022-08-04T21:56:37.836Z"
   },
   {
    "duration": 13,
    "start_time": "2022-08-04T21:56:37.846Z"
   },
   {
    "duration": 67,
    "start_time": "2022-08-04T21:56:37.861Z"
   },
   {
    "duration": 4,
    "start_time": "2022-08-04T21:56:37.930Z"
   },
   {
    "duration": 10,
    "start_time": "2022-08-04T21:56:37.936Z"
   },
   {
    "duration": 14,
    "start_time": "2022-08-04T21:56:37.948Z"
   },
   {
    "duration": 13,
    "start_time": "2022-08-04T21:56:37.964Z"
   },
   {
    "duration": 35,
    "start_time": "2022-08-04T21:56:37.979Z"
   },
   {
    "duration": 6,
    "start_time": "2022-08-04T21:56:38.016Z"
   },
   {
    "duration": 19,
    "start_time": "2022-08-04T21:56:38.024Z"
   },
   {
    "duration": 12,
    "start_time": "2022-08-04T21:56:38.045Z"
   },
   {
    "duration": 3,
    "start_time": "2022-08-04T21:56:38.059Z"
   },
   {
    "duration": 57,
    "start_time": "2022-08-04T21:56:38.064Z"
   },
   {
    "duration": 11,
    "start_time": "2022-08-04T21:56:38.122Z"
   },
   {
    "duration": 10,
    "start_time": "2022-08-04T21:56:38.135Z"
   },
   {
    "duration": 13,
    "start_time": "2022-08-04T21:56:38.147Z"
   },
   {
    "duration": 5,
    "start_time": "2022-08-04T21:56:38.162Z"
   },
   {
    "duration": 90,
    "start_time": "2022-08-04T21:56:38.169Z"
   },
   {
    "duration": 16,
    "start_time": "2022-08-04T21:56:38.261Z"
   },
   {
    "duration": 23,
    "start_time": "2022-08-04T21:56:38.280Z"
   },
   {
    "duration": 10,
    "start_time": "2022-08-04T21:56:38.306Z"
   },
   {
    "duration": 807,
    "start_time": "2022-08-04T21:56:38.318Z"
   },
   {
    "duration": 6,
    "start_time": "2022-08-04T21:56:39.127Z"
   },
   {
    "duration": 70,
    "start_time": "2022-08-04T21:56:39.135Z"
   },
   {
    "duration": 30,
    "start_time": "2022-08-04T21:56:39.207Z"
   },
   {
    "duration": 1611,
    "start_time": "2022-08-04T21:56:39.239Z"
   },
   {
    "duration": 10,
    "start_time": "2022-08-04T21:56:40.852Z"
   },
   {
    "duration": 1032,
    "start_time": "2022-08-04T21:56:40.864Z"
   },
   {
    "duration": 49,
    "start_time": "2022-08-04T21:56:41.903Z"
   },
   {
    "duration": 783,
    "start_time": "2022-08-04T21:56:41.954Z"
   },
   {
    "duration": 16,
    "start_time": "2022-08-04T21:56:42.739Z"
   },
   {
    "duration": 694,
    "start_time": "2022-08-04T21:56:42.757Z"
   },
   {
    "duration": 209,
    "start_time": "2022-08-04T21:56:43.453Z"
   },
   {
    "duration": 195,
    "start_time": "2022-08-04T21:56:43.664Z"
   },
   {
    "duration": 50,
    "start_time": "2022-08-04T22:29:15.647Z"
   },
   {
    "duration": 1180,
    "start_time": "2022-08-04T22:29:22.932Z"
   },
   {
    "duration": 143,
    "start_time": "2022-08-04T22:29:26.208Z"
   },
   {
    "duration": 14,
    "start_time": "2022-08-04T22:29:28.778Z"
   },
   {
    "duration": 67,
    "start_time": "2022-08-04T22:29:31.485Z"
   },
   {
    "duration": 22,
    "start_time": "2022-08-04T22:29:34.180Z"
   },
   {
    "duration": 1885,
    "start_time": "2022-08-04T22:29:36.432Z"
   },
   {
    "duration": 73,
    "start_time": "2022-08-04T22:29:44.589Z"
   },
   {
    "duration": 43,
    "start_time": "2022-08-05T15:37:09.619Z"
   },
   {
    "duration": 1257,
    "start_time": "2022-08-05T15:37:15.242Z"
   },
   {
    "duration": 140,
    "start_time": "2022-08-05T15:37:16.501Z"
   },
   {
    "duration": 3,
    "start_time": "2022-08-05T15:37:16.642Z"
   },
   {
    "duration": 20,
    "start_time": "2022-08-05T15:37:16.647Z"
   },
   {
    "duration": 76,
    "start_time": "2022-08-05T15:37:16.668Z"
   },
   {
    "duration": 24,
    "start_time": "2022-08-05T15:37:16.756Z"
   },
   {
    "duration": 1844,
    "start_time": "2022-08-05T15:37:16.781Z"
   },
   {
    "duration": 8,
    "start_time": "2022-08-05T15:37:18.626Z"
   },
   {
    "duration": 3,
    "start_time": "2022-08-05T15:37:18.635Z"
   },
   {
    "duration": 13,
    "start_time": "2022-08-05T15:37:18.640Z"
   },
   {
    "duration": 5,
    "start_time": "2022-08-05T15:37:18.654Z"
   },
   {
    "duration": 7,
    "start_time": "2022-08-05T15:37:18.660Z"
   },
   {
    "duration": 35,
    "start_time": "2022-08-05T15:37:18.669Z"
   },
   {
    "duration": 3,
    "start_time": "2022-08-05T15:37:18.705Z"
   },
   {
    "duration": 7,
    "start_time": "2022-08-05T15:37:18.709Z"
   },
   {
    "duration": 10,
    "start_time": "2022-08-05T15:37:18.717Z"
   },
   {
    "duration": 27,
    "start_time": "2022-08-05T15:37:18.728Z"
   },
   {
    "duration": 8,
    "start_time": "2022-08-05T15:37:18.756Z"
   },
   {
    "duration": 3,
    "start_time": "2022-08-05T15:37:18.765Z"
   },
   {
    "duration": 12,
    "start_time": "2022-08-05T15:37:18.770Z"
   },
   {
    "duration": 10,
    "start_time": "2022-08-05T15:37:18.783Z"
   },
   {
    "duration": 2,
    "start_time": "2022-08-05T15:37:18.794Z"
   },
   {
    "duration": 25,
    "start_time": "2022-08-05T15:37:18.798Z"
   },
   {
    "duration": 6,
    "start_time": "2022-08-05T15:37:18.824Z"
   },
   {
    "duration": 5,
    "start_time": "2022-08-05T15:37:18.855Z"
   },
   {
    "duration": 9,
    "start_time": "2022-08-05T15:37:18.861Z"
   },
   {
    "duration": 3,
    "start_time": "2022-08-05T15:37:18.872Z"
   },
   {
    "duration": 39,
    "start_time": "2022-08-05T15:37:18.878Z"
   },
   {
    "duration": 12,
    "start_time": "2022-08-05T15:37:18.918Z"
   },
   {
    "duration": 4,
    "start_time": "2022-08-05T15:37:18.954Z"
   },
   {
    "duration": 7,
    "start_time": "2022-08-05T15:37:18.960Z"
   },
   {
    "duration": 316,
    "start_time": "2022-08-05T15:37:18.968Z"
   },
   {
    "duration": 5,
    "start_time": "2022-08-05T15:37:19.285Z"
   },
   {
    "duration": 13,
    "start_time": "2022-08-05T15:37:19.292Z"
   },
   {
    "duration": 23,
    "start_time": "2022-08-05T15:37:19.306Z"
   },
   {
    "duration": 753,
    "start_time": "2022-08-05T15:37:19.330Z"
   },
   {
    "duration": 9,
    "start_time": "2022-08-05T15:37:20.085Z"
   },
   {
    "duration": 884,
    "start_time": "2022-08-05T15:37:20.096Z"
   },
   {
    "duration": 33,
    "start_time": "2022-08-05T15:37:20.982Z"
   },
   {
    "duration": 557,
    "start_time": "2022-08-05T15:37:21.016Z"
   },
   {
    "duration": 11,
    "start_time": "2022-08-05T15:37:21.574Z"
   },
   {
    "duration": 542,
    "start_time": "2022-08-05T15:37:21.587Z"
   },
   {
    "duration": 294,
    "start_time": "2022-08-05T15:37:22.131Z"
   },
   {
    "duration": 143,
    "start_time": "2022-08-05T15:37:22.426Z"
   },
   {
    "duration": 532,
    "start_time": "2022-08-05T15:41:58.724Z"
   },
   {
    "duration": 576,
    "start_time": "2022-08-05T15:42:06.856Z"
   },
   {
    "duration": 543,
    "start_time": "2022-08-05T15:42:14.553Z"
   },
   {
    "duration": 555,
    "start_time": "2022-08-05T15:42:26.479Z"
   },
   {
    "duration": 86,
    "start_time": "2022-08-05T17:04:15.499Z"
   },
   {
    "duration": 8,
    "start_time": "2022-08-05T17:04:26.648Z"
   },
   {
    "duration": 787,
    "start_time": "2022-08-05T17:47:58.358Z"
   },
   {
    "duration": 687,
    "start_time": "2022-08-05T17:50:28.731Z"
   },
   {
    "duration": 144,
    "start_time": "2022-08-05T17:51:00.948Z"
   },
   {
    "duration": 836,
    "start_time": "2022-08-05T17:51:07.056Z"
   },
   {
    "duration": 32,
    "start_time": "2022-08-05T17:51:18.557Z"
   },
   {
    "duration": 844,
    "start_time": "2022-08-05T17:51:21.180Z"
   },
   {
    "duration": 74,
    "start_time": "2022-08-05T17:52:49.102Z"
   },
   {
    "duration": 758,
    "start_time": "2022-08-05T17:52:56.483Z"
   },
   {
    "duration": 802,
    "start_time": "2022-08-05T17:53:21.601Z"
   },
   {
    "duration": 29,
    "start_time": "2022-08-05T17:53:56.020Z"
   },
   {
    "duration": 696,
    "start_time": "2022-08-05T17:53:58.772Z"
   },
   {
    "duration": 850,
    "start_time": "2022-08-05T17:54:03.520Z"
   },
   {
    "duration": 767,
    "start_time": "2022-08-05T17:54:13.640Z"
   },
   {
    "duration": 1090,
    "start_time": "2022-08-05T17:54:37.643Z"
   },
   {
    "duration": 89,
    "start_time": "2022-08-05T17:54:38.734Z"
   },
   {
    "duration": 2,
    "start_time": "2022-08-05T17:54:38.825Z"
   },
   {
    "duration": 16,
    "start_time": "2022-08-05T17:54:38.829Z"
   },
   {
    "duration": 71,
    "start_time": "2022-08-05T17:54:38.847Z"
   },
   {
    "duration": 21,
    "start_time": "2022-08-05T17:54:38.919Z"
   },
   {
    "duration": 1812,
    "start_time": "2022-08-05T17:54:38.941Z"
   },
   {
    "duration": 9,
    "start_time": "2022-08-05T17:54:40.754Z"
   },
   {
    "duration": 4,
    "start_time": "2022-08-05T17:54:40.764Z"
   },
   {
    "duration": 13,
    "start_time": "2022-08-05T17:54:40.770Z"
   },
   {
    "duration": 11,
    "start_time": "2022-08-05T17:54:40.785Z"
   },
   {
    "duration": 42,
    "start_time": "2022-08-05T17:54:40.798Z"
   },
   {
    "duration": 15,
    "start_time": "2022-08-05T17:54:40.842Z"
   },
   {
    "duration": 6,
    "start_time": "2022-08-05T17:54:40.859Z"
   },
   {
    "duration": 14,
    "start_time": "2022-08-05T17:54:40.867Z"
   },
   {
    "duration": 12,
    "start_time": "2022-08-05T17:54:40.883Z"
   },
   {
    "duration": 14,
    "start_time": "2022-08-05T17:54:40.897Z"
   },
   {
    "duration": 11,
    "start_time": "2022-08-05T17:54:40.912Z"
   },
   {
    "duration": 3,
    "start_time": "2022-08-05T17:54:40.925Z"
   },
   {
    "duration": 28,
    "start_time": "2022-08-05T17:54:40.930Z"
   },
   {
    "duration": 7,
    "start_time": "2022-08-05T17:54:40.959Z"
   },
   {
    "duration": 4,
    "start_time": "2022-08-05T17:54:40.968Z"
   },
   {
    "duration": 31,
    "start_time": "2022-08-05T17:54:40.974Z"
   },
   {
    "duration": 9,
    "start_time": "2022-08-05T17:54:41.007Z"
   },
   {
    "duration": 10,
    "start_time": "2022-08-05T17:54:41.017Z"
   },
   {
    "duration": 27,
    "start_time": "2022-08-05T17:54:41.028Z"
   },
   {
    "duration": 8,
    "start_time": "2022-08-05T17:54:41.056Z"
   },
   {
    "duration": 8,
    "start_time": "2022-08-05T17:54:41.067Z"
   },
   {
    "duration": 43,
    "start_time": "2022-08-05T17:54:41.077Z"
   },
   {
    "duration": 4,
    "start_time": "2022-08-05T17:54:41.122Z"
   },
   {
    "duration": 5,
    "start_time": "2022-08-05T17:54:41.127Z"
   },
   {
    "duration": 315,
    "start_time": "2022-08-05T17:54:41.134Z"
   },
   {
    "duration": 7,
    "start_time": "2022-08-05T17:54:41.450Z"
   },
   {
    "duration": 13,
    "start_time": "2022-08-05T17:54:41.458Z"
   },
   {
    "duration": 23,
    "start_time": "2022-08-05T17:54:41.473Z"
   },
   {
    "duration": 721,
    "start_time": "2022-08-05T17:54:41.497Z"
   },
   {
    "duration": 9,
    "start_time": "2022-08-05T17:54:42.219Z"
   },
   {
    "duration": 881,
    "start_time": "2022-08-05T17:54:42.229Z"
   },
   {
    "duration": 32,
    "start_time": "2022-08-05T17:54:43.111Z"
   },
   {
    "duration": 812,
    "start_time": "2022-08-05T17:54:43.144Z"
   },
   {
    "duration": 527,
    "start_time": "2022-08-05T17:54:43.957Z"
   },
   {
    "duration": 10,
    "start_time": "2022-08-05T17:54:44.486Z"
   },
   {
    "duration": 550,
    "start_time": "2022-08-05T17:54:44.498Z"
   },
   {
    "duration": 186,
    "start_time": "2022-08-05T17:54:45.054Z"
   },
   {
    "duration": 144,
    "start_time": "2022-08-05T17:54:45.241Z"
   },
   {
    "duration": 4,
    "start_time": "2022-08-05T17:58:11.385Z"
   },
   {
    "duration": 833,
    "start_time": "2022-08-05T17:58:30.301Z"
   },
   {
    "duration": 765,
    "start_time": "2022-08-05T17:59:26.816Z"
   },
   {
    "duration": 892,
    "start_time": "2022-08-05T17:59:34.686Z"
   },
   {
    "duration": 704,
    "start_time": "2022-08-05T17:59:44.686Z"
   },
   {
    "duration": 803,
    "start_time": "2022-08-05T18:00:08.084Z"
   },
   {
    "duration": 92,
    "start_time": "2022-08-05T18:00:54.334Z"
   },
   {
    "duration": 16,
    "start_time": "2022-08-05T18:01:44.413Z"
   },
   {
    "duration": 999,
    "start_time": "2022-08-05T18:01:55.109Z"
   },
   {
    "duration": 96,
    "start_time": "2022-08-05T18:01:56.110Z"
   },
   {
    "duration": 2,
    "start_time": "2022-08-05T18:01:56.208Z"
   },
   {
    "duration": 15,
    "start_time": "2022-08-05T18:01:56.213Z"
   },
   {
    "duration": 81,
    "start_time": "2022-08-05T18:01:56.229Z"
   },
   {
    "duration": 21,
    "start_time": "2022-08-05T18:01:56.311Z"
   },
   {
    "duration": 1868,
    "start_time": "2022-08-05T18:01:56.333Z"
   },
   {
    "duration": 9,
    "start_time": "2022-08-05T18:01:58.203Z"
   },
   {
    "duration": 9,
    "start_time": "2022-08-05T18:01:58.213Z"
   },
   {
    "duration": 13,
    "start_time": "2022-08-05T18:01:58.225Z"
   },
   {
    "duration": 11,
    "start_time": "2022-08-05T18:01:58.240Z"
   },
   {
    "duration": 12,
    "start_time": "2022-08-05T18:01:58.253Z"
   },
   {
    "duration": 36,
    "start_time": "2022-08-05T18:01:58.266Z"
   },
   {
    "duration": 4,
    "start_time": "2022-08-05T18:01:58.304Z"
   },
   {
    "duration": 12,
    "start_time": "2022-08-05T18:01:58.310Z"
   },
   {
    "duration": 12,
    "start_time": "2022-08-05T18:01:58.324Z"
   },
   {
    "duration": 14,
    "start_time": "2022-08-05T18:01:58.338Z"
   },
   {
    "duration": 15,
    "start_time": "2022-08-05T18:01:58.353Z"
   },
   {
    "duration": 13,
    "start_time": "2022-08-05T18:01:58.369Z"
   },
   {
    "duration": 3,
    "start_time": "2022-08-05T18:01:58.384Z"
   },
   {
    "duration": 33,
    "start_time": "2022-08-05T18:01:58.389Z"
   },
   {
    "duration": 9,
    "start_time": "2022-08-05T18:01:58.424Z"
   },
   {
    "duration": 5,
    "start_time": "2022-08-05T18:01:58.435Z"
   },
   {
    "duration": 29,
    "start_time": "2022-08-05T18:01:58.441Z"
   },
   {
    "duration": 7,
    "start_time": "2022-08-05T18:01:58.472Z"
   },
   {
    "duration": 7,
    "start_time": "2022-08-05T18:01:58.480Z"
   },
   {
    "duration": 7,
    "start_time": "2022-08-05T18:01:58.488Z"
   },
   {
    "duration": 7,
    "start_time": "2022-08-05T18:01:58.498Z"
   },
   {
    "duration": 15,
    "start_time": "2022-08-05T18:01:58.506Z"
   },
   {
    "duration": 65,
    "start_time": "2022-08-05T18:01:58.522Z"
   },
   {
    "duration": 3,
    "start_time": "2022-08-05T18:01:58.588Z"
   },
   {
    "duration": 6,
    "start_time": "2022-08-05T18:01:58.593Z"
   },
   {
    "duration": 311,
    "start_time": "2022-08-05T18:01:58.601Z"
   },
   {
    "duration": 5,
    "start_time": "2022-08-05T18:01:58.914Z"
   },
   {
    "duration": 13,
    "start_time": "2022-08-05T18:01:58.921Z"
   },
   {
    "duration": 29,
    "start_time": "2022-08-05T18:01:58.935Z"
   },
   {
    "duration": 696,
    "start_time": "2022-08-05T18:01:58.965Z"
   },
   {
    "duration": 9,
    "start_time": "2022-08-05T18:01:59.662Z"
   },
   {
    "duration": 921,
    "start_time": "2022-08-05T18:01:59.672Z"
   },
   {
    "duration": 22,
    "start_time": "2022-08-05T18:02:00.595Z"
   },
   {
    "duration": 792,
    "start_time": "2022-08-05T18:02:00.619Z"
   },
   {
    "duration": 356,
    "start_time": "2022-08-05T18:02:01.413Z"
   },
   {
    "duration": 10,
    "start_time": "2022-08-05T18:02:01.771Z"
   },
   {
    "duration": 548,
    "start_time": "2022-08-05T18:02:01.782Z"
   },
   {
    "duration": 108,
    "start_time": "2022-08-05T18:02:02.332Z"
   },
   {
    "duration": 0,
    "start_time": "2022-08-05T18:02:02.441Z"
   },
   {
    "duration": 39,
    "start_time": "2022-08-05T18:03:11.135Z"
   },
   {
    "duration": 49,
    "start_time": "2022-08-05T18:03:21.059Z"
   },
   {
    "duration": 44,
    "start_time": "2022-08-05T18:03:46.444Z"
   },
   {
    "duration": 803,
    "start_time": "2022-08-05T18:05:11.153Z"
   },
   {
    "duration": 778,
    "start_time": "2022-08-05T18:05:26.862Z"
   },
   {
    "duration": 18,
    "start_time": "2022-08-05T18:05:42.499Z"
   },
   {
    "duration": 792,
    "start_time": "2022-08-05T18:06:08.785Z"
   },
   {
    "duration": 18,
    "start_time": "2022-08-05T18:06:21.199Z"
   },
   {
    "duration": 24,
    "start_time": "2022-08-05T18:06:44.906Z"
   },
   {
    "duration": 29,
    "start_time": "2022-08-05T18:07:00.629Z"
   },
   {
    "duration": 715,
    "start_time": "2022-08-05T18:07:03.763Z"
   },
   {
    "duration": 700,
    "start_time": "2022-08-05T18:08:07.226Z"
   },
   {
    "duration": 743,
    "start_time": "2022-08-05T18:08:25.989Z"
   },
   {
    "duration": 626,
    "start_time": "2022-08-05T18:08:33.588Z"
   },
   {
    "duration": 14,
    "start_time": "2022-08-05T18:08:44.080Z"
   },
   {
    "duration": 177,
    "start_time": "2022-08-05T18:10:23.692Z"
   },
   {
    "duration": 29,
    "start_time": "2022-08-05T18:14:34.812Z"
   },
   {
    "duration": 768,
    "start_time": "2022-08-05T18:14:37.729Z"
   },
   {
    "duration": 823,
    "start_time": "2022-08-05T18:14:49.249Z"
   },
   {
    "duration": 30,
    "start_time": "2022-08-05T18:15:07.834Z"
   },
   {
    "duration": 799,
    "start_time": "2022-08-05T18:15:13.286Z"
   },
   {
    "duration": 11,
    "start_time": "2022-08-05T18:15:28.478Z"
   }
  ],
  "kernelspec": {
   "display_name": "Python 3",
   "language": "python",
   "name": "python3"
  },
  "language_info": {
   "codemirror_mode": {
    "name": "ipython",
    "version": 3
   },
   "file_extension": ".py",
   "mimetype": "text/x-python",
   "name": "python",
   "nbconvert_exporter": "python",
   "pygments_lexer": "ipython3",
   "version": "3.8.5"
  },
  "toc": {
   "base_numbering": 1,
   "nav_menu": {},
   "number_sections": true,
   "sideBar": true,
   "skip_h1_title": true,
   "title_cell": "Table of Contents",
   "title_sidebar": "Contents",
   "toc_cell": false,
   "toc_position": {
    "height": "calc(100% - 180px)",
    "left": "10px",
    "top": "150px",
    "width": "266.792px"
   },
   "toc_section_display": true,
   "toc_window_display": true
  }
 },
 "nbformat": 4,
 "nbformat_minor": 2
}
