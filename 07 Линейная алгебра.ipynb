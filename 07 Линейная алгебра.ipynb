{
 "cells": [
  {
   "cell_type": "markdown",
   "metadata": {},
   "source": [
    "# Защита персональных данных клиентов"
   ]
  },
  {
   "cell_type": "markdown",
   "metadata": {},
   "source": [
    "Вам нужно защитить данные клиентов страховой компании «Хоть потоп». Разработайте такой метод преобразования данных, чтобы по ним было сложно восстановить персональную информацию. Обоснуйте корректность его работы.\n",
    "\n",
    "Нужно защитить данные, чтобы при преобразовании качество моделей машинного обучения не ухудшилось. Подбирать наилучшую модель не требуется."
   ]
  },
  {
   "cell_type": "markdown",
   "metadata": {
    "toc": true
   },
   "source": [
    "<h1>Содержание<span class=\"tocSkip\"></span></h1>\n",
    "<div class=\"toc\"><ul class=\"toc-item\"><li><span><a href=\"#Загрузка-данных\" data-toc-modified-id=\"Загрузка-данных-1\"><span class=\"toc-item-num\">1&nbsp;&nbsp;</span>Загрузка данных</a></span></li><li><span><a href=\"#Умножение-матриц\" data-toc-modified-id=\"Умножение-матриц-2\"><span class=\"toc-item-num\">2&nbsp;&nbsp;</span>Умножение матриц</a></span></li><li><span><a href=\"#Алгоритм-преобразования\" data-toc-modified-id=\"Алгоритм-преобразования-3\"><span class=\"toc-item-num\">3&nbsp;&nbsp;</span>Алгоритм преобразования</a></span></li><li><span><a href=\"#Проверка-алгоритма\" data-toc-modified-id=\"Проверка-алгоритма-4\"><span class=\"toc-item-num\">4&nbsp;&nbsp;</span>Проверка алгоритма</a></span></li><li><span><a href=\"#Чек-лист-проверки\" data-toc-modified-id=\"Чек-лист-проверки-5\"><span class=\"toc-item-num\">5&nbsp;&nbsp;</span>Чек-лист проверки</a></span></li></ul></div>"
   ]
  },
  {
   "cell_type": "markdown",
   "metadata": {},
   "source": [
    "## Загрузка данных"
   ]
  },
  {
   "cell_type": "code",
   "execution_count": 1,
   "metadata": {},
   "outputs": [],
   "source": [
    "import pandas as pd\n",
    "import numpy as np\n",
    "from sklearn.model_selection import train_test_split\n",
    "from sklearn.linear_model import LinearRegression\n",
    "from sklearn.metrics import r2_score"
   ]
  },
  {
   "cell_type": "code",
   "execution_count": 2,
   "metadata": {},
   "outputs": [],
   "source": [
    "df = pd.read_csv('/datasets/insurance.csv')"
   ]
  },
  {
   "cell_type": "code",
   "execution_count": 3,
   "metadata": {},
   "outputs": [
    {
     "data": {
      "text/html": [
       "<div>\n",
       "<style scoped>\n",
       "    .dataframe tbody tr th:only-of-type {\n",
       "        vertical-align: middle;\n",
       "    }\n",
       "\n",
       "    .dataframe tbody tr th {\n",
       "        vertical-align: top;\n",
       "    }\n",
       "\n",
       "    .dataframe thead th {\n",
       "        text-align: right;\n",
       "    }\n",
       "</style>\n",
       "<table border=\"1\" class=\"dataframe\">\n",
       "  <thead>\n",
       "    <tr style=\"text-align: right;\">\n",
       "      <th></th>\n",
       "      <th>Пол</th>\n",
       "      <th>Возраст</th>\n",
       "      <th>Зарплата</th>\n",
       "      <th>Члены семьи</th>\n",
       "      <th>Страховые выплаты</th>\n",
       "    </tr>\n",
       "  </thead>\n",
       "  <tbody>\n",
       "    <tr>\n",
       "      <th>count</th>\n",
       "      <td>5000.000000</td>\n",
       "      <td>5000.000000</td>\n",
       "      <td>5000.000000</td>\n",
       "      <td>5000.000000</td>\n",
       "      <td>5000.000000</td>\n",
       "    </tr>\n",
       "    <tr>\n",
       "      <th>mean</th>\n",
       "      <td>0.499000</td>\n",
       "      <td>30.952800</td>\n",
       "      <td>39916.360000</td>\n",
       "      <td>1.194200</td>\n",
       "      <td>0.148000</td>\n",
       "    </tr>\n",
       "    <tr>\n",
       "      <th>std</th>\n",
       "      <td>0.500049</td>\n",
       "      <td>8.440807</td>\n",
       "      <td>9900.083569</td>\n",
       "      <td>1.091387</td>\n",
       "      <td>0.463183</td>\n",
       "    </tr>\n",
       "    <tr>\n",
       "      <th>min</th>\n",
       "      <td>0.000000</td>\n",
       "      <td>18.000000</td>\n",
       "      <td>5300.000000</td>\n",
       "      <td>0.000000</td>\n",
       "      <td>0.000000</td>\n",
       "    </tr>\n",
       "    <tr>\n",
       "      <th>25%</th>\n",
       "      <td>0.000000</td>\n",
       "      <td>24.000000</td>\n",
       "      <td>33300.000000</td>\n",
       "      <td>0.000000</td>\n",
       "      <td>0.000000</td>\n",
       "    </tr>\n",
       "    <tr>\n",
       "      <th>50%</th>\n",
       "      <td>0.000000</td>\n",
       "      <td>30.000000</td>\n",
       "      <td>40200.000000</td>\n",
       "      <td>1.000000</td>\n",
       "      <td>0.000000</td>\n",
       "    </tr>\n",
       "    <tr>\n",
       "      <th>75%</th>\n",
       "      <td>1.000000</td>\n",
       "      <td>37.000000</td>\n",
       "      <td>46600.000000</td>\n",
       "      <td>2.000000</td>\n",
       "      <td>0.000000</td>\n",
       "    </tr>\n",
       "    <tr>\n",
       "      <th>max</th>\n",
       "      <td>1.000000</td>\n",
       "      <td>65.000000</td>\n",
       "      <td>79000.000000</td>\n",
       "      <td>6.000000</td>\n",
       "      <td>5.000000</td>\n",
       "    </tr>\n",
       "  </tbody>\n",
       "</table>\n",
       "</div>"
      ],
      "text/plain": [
       "               Пол      Возраст      Зарплата  Члены семьи  Страховые выплаты\n",
       "count  5000.000000  5000.000000   5000.000000  5000.000000        5000.000000\n",
       "mean      0.499000    30.952800  39916.360000     1.194200           0.148000\n",
       "std       0.500049     8.440807   9900.083569     1.091387           0.463183\n",
       "min       0.000000    18.000000   5300.000000     0.000000           0.000000\n",
       "25%       0.000000    24.000000  33300.000000     0.000000           0.000000\n",
       "50%       0.000000    30.000000  40200.000000     1.000000           0.000000\n",
       "75%       1.000000    37.000000  46600.000000     2.000000           0.000000\n",
       "max       1.000000    65.000000  79000.000000     6.000000           5.000000"
      ]
     },
     "execution_count": 3,
     "metadata": {},
     "output_type": "execute_result"
    }
   ],
   "source": [
    "df.describe()"
   ]
  },
  {
   "cell_type": "code",
   "execution_count": 4,
   "metadata": {},
   "outputs": [
    {
     "name": "stdout",
     "output_type": "stream",
     "text": [
      "<class 'pandas.core.frame.DataFrame'>\n",
      "RangeIndex: 5000 entries, 0 to 4999\n",
      "Data columns (total 5 columns):\n",
      " #   Column             Non-Null Count  Dtype  \n",
      "---  ------             --------------  -----  \n",
      " 0   Пол                5000 non-null   int64  \n",
      " 1   Возраст            5000 non-null   float64\n",
      " 2   Зарплата           5000 non-null   float64\n",
      " 3   Члены семьи        5000 non-null   int64  \n",
      " 4   Страховые выплаты  5000 non-null   int64  \n",
      "dtypes: float64(2), int64(3)\n",
      "memory usage: 195.4 KB\n"
     ]
    }
   ],
   "source": [
    "df.info()"
   ]
  },
  {
   "cell_type": "code",
   "execution_count": 5,
   "metadata": {},
   "outputs": [
    {
     "data": {
      "text/plain": [
       "Пол                  int64\n",
       "Возраст              int64\n",
       "Зарплата             int64\n",
       "Члены семьи          int64\n",
       "Страховые выплаты    int64\n",
       "dtype: object"
      ]
     },
     "execution_count": 5,
     "metadata": {},
     "output_type": "execute_result"
    }
   ],
   "source": [
    "#приведем возраст и зарплату к int типу данных\n",
    "df['Возраст'] = df['Возраст'].astype(int)\n",
    "df['Зарплата'] = df['Зарплата'].astype(int)\n",
    "df.dtypes"
   ]
  },
  {
   "cell_type": "code",
   "execution_count": 6,
   "metadata": {},
   "outputs": [
    {
     "data": {
      "text/plain": [
       "153"
      ]
     },
     "execution_count": 6,
     "metadata": {},
     "output_type": "execute_result"
    }
   ],
   "source": [
    "#Посмотрим на количество дубликатов в таблице\n",
    "df.duplicated().sum()"
   ]
  },
  {
   "cell_type": "code",
   "execution_count": 17,
   "metadata": {},
   "outputs": [
    {
     "data": {
      "text/html": [
       "<div>\n",
       "<style scoped>\n",
       "    .dataframe tbody tr th:only-of-type {\n",
       "        vertical-align: middle;\n",
       "    }\n",
       "\n",
       "    .dataframe tbody tr th {\n",
       "        vertical-align: top;\n",
       "    }\n",
       "\n",
       "    .dataframe thead th {\n",
       "        text-align: right;\n",
       "    }\n",
       "</style>\n",
       "<table border=\"1\" class=\"dataframe\">\n",
       "  <thead>\n",
       "    <tr style=\"text-align: right;\">\n",
       "      <th></th>\n",
       "      <th>Пол</th>\n",
       "      <th>Возраст</th>\n",
       "      <th>Зарплата</th>\n",
       "      <th>Члены семьи</th>\n",
       "      <th>Страховые выплаты</th>\n",
       "    </tr>\n",
       "  </thead>\n",
       "  <tbody>\n",
       "    <tr>\n",
       "      <th>Пол</th>\n",
       "      <td>1.000000</td>\n",
       "      <td>0.002074</td>\n",
       "      <td>0.014910</td>\n",
       "      <td>-0.008991</td>\n",
       "      <td>0.010140</td>\n",
       "    </tr>\n",
       "    <tr>\n",
       "      <th>Возраст</th>\n",
       "      <td>0.002074</td>\n",
       "      <td>1.000000</td>\n",
       "      <td>-0.019093</td>\n",
       "      <td>-0.006692</td>\n",
       "      <td>0.651030</td>\n",
       "    </tr>\n",
       "    <tr>\n",
       "      <th>Зарплата</th>\n",
       "      <td>0.014910</td>\n",
       "      <td>-0.019093</td>\n",
       "      <td>1.000000</td>\n",
       "      <td>-0.030296</td>\n",
       "      <td>-0.014963</td>\n",
       "    </tr>\n",
       "    <tr>\n",
       "      <th>Члены семьи</th>\n",
       "      <td>-0.008991</td>\n",
       "      <td>-0.006692</td>\n",
       "      <td>-0.030296</td>\n",
       "      <td>1.000000</td>\n",
       "      <td>-0.036290</td>\n",
       "    </tr>\n",
       "    <tr>\n",
       "      <th>Страховые выплаты</th>\n",
       "      <td>0.010140</td>\n",
       "      <td>0.651030</td>\n",
       "      <td>-0.014963</td>\n",
       "      <td>-0.036290</td>\n",
       "      <td>1.000000</td>\n",
       "    </tr>\n",
       "  </tbody>\n",
       "</table>\n",
       "</div>"
      ],
      "text/plain": [
       "                        Пол   Возраст  Зарплата  Члены семьи  \\\n",
       "Пол                1.000000  0.002074  0.014910    -0.008991   \n",
       "Возраст            0.002074  1.000000 -0.019093    -0.006692   \n",
       "Зарплата           0.014910 -0.019093  1.000000    -0.030296   \n",
       "Члены семьи       -0.008991 -0.006692 -0.030296     1.000000   \n",
       "Страховые выплаты  0.010140  0.651030 -0.014963    -0.036290   \n",
       "\n",
       "                   Страховые выплаты  \n",
       "Пол                         0.010140  \n",
       "Возраст                     0.651030  \n",
       "Зарплата                   -0.014963  \n",
       "Члены семьи                -0.036290  \n",
       "Страховые выплаты           1.000000  "
      ]
     },
     "execution_count": 17,
     "metadata": {},
     "output_type": "execute_result"
    }
   ],
   "source": [
    "df.corr()"
   ]
  },
  {
   "cell_type": "markdown",
   "metadata": {},
   "source": [
    "В представленном датафрейме 5 столбцов и 5000 строк. Дубликаты не удалила, т.к. целевой признак (страховые выплаты) не уникален и возможны естественные дубликаты."
   ]
  },
  {
   "cell_type": "markdown",
   "metadata": {},
   "source": [
    "## Умножение матриц"
   ]
  },
  {
   "cell_type": "markdown",
   "metadata": {},
   "source": [
    "В этом задании вы можете записывать формулы в *Jupyter Notebook.*\n",
    "\n",
    "Чтобы записать формулу внутри текста, окружите её символами доллара \\\\$; если снаружи —  двойными символами \\\\$\\\\$. Эти формулы записываются на языке вёрстки *LaTeX.* \n",
    "\n",
    "Для примера мы записали формулы линейной регрессии. Можете их скопировать и отредактировать, чтобы решить задачу.\n",
    "\n",
    "Работать в *LaTeX* необязательно."
   ]
  },
  {
   "cell_type": "markdown",
   "metadata": {},
   "source": [
    "Обозначения:\n",
    "\n",
    "- $X$ — матрица признаков (нулевой столбец состоит из единиц)\n",
    "\n",
    "- $y$ — вектор целевого признака\n",
    "\n",
    "- $P$ — матрица, на которую умножаются признаки\n",
    "\n",
    "- $w$ — вектор весов линейной регрессии (нулевой элемент равен сдвигу)"
   ]
  },
  {
   "cell_type": "markdown",
   "metadata": {},
   "source": [
    "Предсказания:\n",
    "\n",
    "$$\n",
    "a = Xw\n",
    "$$\n",
    "\n",
    "Задача обучения:\n",
    "\n",
    "$$\n",
    "w = \\arg\\min_w MSE(Xw, y)\n",
    "$$\n",
    "\n",
    "Формула обучения:\n",
    "\n",
    "$$\n",
    "w = (X^T X)^{-1} X^T y\n",
    "$$"
   ]
  },
  {
   "cell_type": "markdown",
   "metadata": {},
   "source": [
    "**Вопрос:** Признаки умножают на обратимую матрицу. Изменится ли качество линейной регрессии?"
   ]
  },
  {
   "cell_type": "markdown",
   "metadata": {},
   "source": [
    "**Ответ:**  Качество линейной регрессии **не изменится** при умножении признаков на обратимую матрицу\n",
    "\n",
    "**Обоснование:** \n",
    "Пусть качество линейной регрессии не меняется при умножении признаков (X) на обратимую матрицу (P), таком случае, подставим в формулы XP вместо X\n",
    "\n",
    "1. Запишем предсказания в зашифрованной матрице [1]:  \n",
    "$ a_1 = XP w $   \n",
    "\n",
    "2. Выпишем уравнение для получения параметров линейной регрессии [2] исходя из $w = (X^T X)^{-1}X^Ty$:  \n",
    "$ w = ((XP )^T XP )^{-1} (X P )^T y$\n",
    "\n",
    "3. Подставим уравнение [2] в [1]:  \n",
    "$ a_1 = XP ((XP )^T XP )^{-1} (XP )^T y $\n",
    "\n",
    "4. Применим свойство: $ (AB)^T = B^TA^T $:  \n",
    "$ a_1 = XP ( P ^T X^T XP )^{-1} P ^T X^T y $\n",
    "\n",
    "5. Учитывая, что $X^T X$ - квадратная матрица, и $ (ABC)^{-1} = C^{-1}B^{-1}A^{-1} $   \n",
    "$ a_1 = XP  P ^{-1}(X^T X)^{-1}( P ^T)^{-1} P ^T X^T y $\n",
    "\n",
    "6. Сокращение: исходим из свойства $AE = A$:    \n",
    "$ a_1 = X E (X^T X)^{-1} E X^T y $   \n",
    " \n",
    "\n",
    "\n",
    "7. Получаем исходную формулу:  \n",
    "$ a_1 = X (X^T X)^{-1} X^T y  = Xw $\n",
    "\n",
    "Следовательно:\n",
    "\n",
    "$ Xw = XPw $\n",
    "\n",
    "т.е. если умножить признаки на обратимую матрицу, качество линейной регрессии не изменится"
   ]
  },
  {
   "cell_type": "markdown",
   "metadata": {},
   "source": [
    "## Алгоритм преобразования"
   ]
  },
  {
   "cell_type": "markdown",
   "metadata": {},
   "source": [
    "**Алгоритм**\n",
    "\n",
    "Чтобы защитить данные и не потерять качество модели машинного обучения, нужно умножить признаки на обратимую матрицу P. Для этого алгоритм преобразования данных должен содержать процесс создания подобной матрицы P и ее умножения на матрицу признаков."
   ]
  },
  {
   "cell_type": "markdown",
   "metadata": {},
   "source": [
    "**Обоснование**\n"
   ]
  },
  {
   "cell_type": "code",
   "execution_count": 7,
   "metadata": {},
   "outputs": [],
   "source": [
    "# фиксируем генератор случайных чисел для воспроизводимости резульататов\n",
    "np.random.seed(19191)\n",
    "\n",
    "# матрица признаков\n",
    "X = np.array([\n",
    "    [1, 11, 12, 13],\n",
    "    [1, 13, 22, 23],\n",
    "    [1, 15, 32, 33],\n",
    "    [1, 17, 42, 43],\n",
    "    [1, 19, 52, 73],\n",
    "    [1,21, 62, 83],\n",
    "])\n",
    "\n",
    "\n",
    "n = X.shape[1]\n",
    "\n",
    "# генерируем ключ для шифрования\n",
    "K_enc = np.random.normal(loc=0., scale=0.25, size=(n,n))\n",
    "\n",
    "# генерируем ключ для дешифрования\n",
    "K_dec = np.linalg.inv(K_enc)"
   ]
  },
  {
   "cell_type": "code",
   "execution_count": 8,
   "metadata": {},
   "outputs": [
    {
     "data": {
      "text/plain": [
       "array([[  0.79352324,  -6.92589821,  -0.93489649,  -9.04451785],\n",
       "       [ -0.72123868, -10.20402163,  -0.93170813, -17.730097  ],\n",
       "       [ -2.2360006 , -13.48214505,  -0.92851978, -26.41567614],\n",
       "       [ -3.75076251, -16.76026847,  -0.92533142, -35.10125529],\n",
       "       [-11.17790599, -18.38696056,  -0.10118061, -49.29444641],\n",
       "       [-12.69266791, -21.66508398,  -0.09799225, -57.98002555]])"
      ]
     },
     "execution_count": 8,
     "metadata": {},
     "output_type": "execute_result"
    }
   ],
   "source": [
    "X_enc = X @ K_enc\n",
    "\n",
    "X_enc"
   ]
  },
  {
   "cell_type": "code",
   "execution_count": 9,
   "metadata": {},
   "outputs": [
    {
     "data": {
      "text/plain": [
       "array([[ 1, 11, 12, 13],\n",
       "       [ 1, 13, 22, 23],\n",
       "       [ 1, 15, 32, 33],\n",
       "       [ 1, 17, 42, 43],\n",
       "       [ 1, 19, 52, 73],\n",
       "       [ 1, 21, 62, 83]])"
      ]
     },
     "execution_count": 9,
     "metadata": {},
     "output_type": "execute_result"
    }
   ],
   "source": [
    "#Дешифровка данных\n",
    "X_dec = X_enc @ K_dec\n",
    "X_dec = np.round(X_dec).astype(int)\n",
    "X_dec"
   ]
  },
  {
   "cell_type": "markdown",
   "metadata": {},
   "source": [
    "Таким образом, после дешифровки, мы получили исходную матрицу, следовательно, алгоритм работает"
   ]
  },
  {
   "cell_type": "markdown",
   "metadata": {},
   "source": [
    "## Проверка алгоритма"
   ]
  },
  {
   "cell_type": "code",
   "execution_count": 10,
   "metadata": {},
   "outputs": [],
   "source": [
    "features = df.drop('Страховые выплаты',axis=1)\n",
    "target = df['Страховые выплаты']"
   ]
  },
  {
   "cell_type": "code",
   "execution_count": 11,
   "metadata": {},
   "outputs": [],
   "source": [
    "features_train, features_test, target_train, target_test = train_test_split(\n",
    "    features, target, test_size=0.25, random_state=19191)"
   ]
  },
  {
   "cell_type": "code",
   "execution_count": 12,
   "metadata": {},
   "outputs": [
    {
     "name": "stdout",
     "output_type": "stream",
     "text": [
      "R2 = 0.420128836005348\n"
     ]
    }
   ],
   "source": [
    "model = LinearRegression()\n",
    "model.fit(features_train, target_train)\n",
    "R2_origin_data = r2_score(target_test, model.predict(features_test))\n",
    "print(\"R2 =\", R2_origin_data)"
   ]
  },
  {
   "cell_type": "markdown",
   "metadata": {},
   "source": [
    "Преобразуем матрицу признаков"
   ]
  },
  {
   "cell_type": "code",
   "execution_count": 13,
   "metadata": {},
   "outputs": [
    {
     "data": {
      "text/plain": [
       "array([[ 0.57734914,  0.05230066, -0.479714  ,  0.17963807],\n",
       "       [ 0.27087296, -0.36360725, -0.05814612,  0.17138601],\n",
       "       [ 0.08996829, -0.33766246, -0.02910006, -0.62745452],\n",
       "       [-0.29561908,  0.08257157,  0.04104812, -0.2753806 ]])"
      ]
     },
     "execution_count": 13,
     "metadata": {},
     "output_type": "execute_result"
    }
   ],
   "source": [
    "n = features.shape[1]\n",
    "np.random.seed(19191)\n",
    "enc_matrix = np.random.normal(loc=0., scale=0.25, size=(n,n))\n",
    "dec_matrix = np.linalg.inv(K_enc)\n",
    "enc_features = features @ enc_matrix\n",
    "enc_matrix"
   ]
  },
  {
   "cell_type": "code",
   "execution_count": 14,
   "metadata": {},
   "outputs": [],
   "source": [
    "enc_features_train, enc_features_test = train_test_split(enc_features, test_size=0.25, random_state=19191)"
   ]
  },
  {
   "cell_type": "code",
   "execution_count": 15,
   "metadata": {},
   "outputs": [
    {
     "name": "stdout",
     "output_type": "stream",
     "text": [
      "R2 = 0.42012883600542084\n"
     ]
    }
   ],
   "source": [
    "model = LinearRegression()\n",
    "model.fit(enc_features_train, target_train)\n",
    "R2_encoded_data = r2_score(target_test, model.predict(enc_features_test))\n",
    "print(\"R2 =\", R2_encoded_data)"
   ]
  },
  {
   "cell_type": "markdown",
   "metadata": {},
   "source": [
    "На примере показателя R2 мы видим, что качество линейной регрессии не отличается до и после преобразования"
   ]
  },
  {
   "cell_type": "markdown",
   "metadata": {},
   "source": [
    "## Вывод:\n",
    "\n",
    "Для защиты данных клиентов страховой компании «Хоть потоп» мы разработали метод преобразования данных.\n",
    "1. В качестве исходных данных были использованы данные клиентов с целевым признаком: количество страховых выплат клиенту за последние 5 лет. Данные были приведены к типу int. Мультиколлинеарность в данных не выявлена.\n",
    "2. Было доказано: при умножении признаков на обратимую матрицу, качество линейной регрессии не изменится.\n",
    "2. Для преобразования данных был написан алгоритм, содержащий процесс создания обратимой матрицы (np.random.normal) и ее умножения на матрицу признаков. \n",
    "3. При этом, с преобразованием данных, качество моделей машинного обучения не ухудшилось: для линейной регрессии показатель R2 остался прежним: 0.4201288.\n"
   ]
  },
  {
   "cell_type": "code",
   "execution_count": null,
   "metadata": {},
   "outputs": [],
   "source": []
  }
 ],
 "metadata": {
  "ExecuteTimeLog": [
   {
    "duration": 415,
    "start_time": "2022-11-18T15:49:46.961Z"
   },
   {
    "duration": 83,
    "start_time": "2022-11-18T15:50:09.640Z"
   },
   {
    "duration": 22,
    "start_time": "2022-11-18T15:50:16.321Z"
   },
   {
    "duration": 11,
    "start_time": "2022-11-18T15:50:24.636Z"
   },
   {
    "duration": 19,
    "start_time": "2022-11-18T15:53:11.517Z"
   },
   {
    "duration": 12,
    "start_time": "2022-11-18T15:53:18.301Z"
   },
   {
    "duration": 6,
    "start_time": "2022-11-18T15:53:25.773Z"
   },
   {
    "duration": 5,
    "start_time": "2022-11-18T15:54:02.047Z"
   },
   {
    "duration": 5,
    "start_time": "2022-11-18T15:54:09.435Z"
   },
   {
    "duration": 10,
    "start_time": "2022-11-20T14:29:56.649Z"
   },
   {
    "duration": 419,
    "start_time": "2022-11-20T15:17:46.898Z"
   },
   {
    "duration": 62,
    "start_time": "2022-11-20T15:29:56.890Z"
   },
   {
    "duration": 7,
    "start_time": "2022-11-20T15:37:22.532Z"
   },
   {
    "duration": 425,
    "start_time": "2022-11-20T15:37:37.988Z"
   },
   {
    "duration": 87,
    "start_time": "2022-11-20T15:37:38.415Z"
   },
   {
    "duration": 32,
    "start_time": "2022-11-20T15:37:38.503Z"
   },
   {
    "duration": 13,
    "start_time": "2022-11-20T15:37:38.537Z"
   },
   {
    "duration": 11,
    "start_time": "2022-11-20T15:37:38.552Z"
   },
   {
    "duration": 7,
    "start_time": "2022-11-20T15:37:38.565Z"
   },
   {
    "duration": 34,
    "start_time": "2022-11-20T15:37:38.574Z"
   },
   {
    "duration": 63,
    "start_time": "2022-11-20T15:38:23.096Z"
   },
   {
    "duration": 694,
    "start_time": "2022-11-20T15:40:15.420Z"
   },
   {
    "duration": 5,
    "start_time": "2022-11-20T15:40:21.556Z"
   },
   {
    "duration": 49,
    "start_time": "2022-11-20T15:40:58.689Z"
   },
   {
    "duration": 21,
    "start_time": "2022-11-20T15:41:16.025Z"
   },
   {
    "duration": 13,
    "start_time": "2022-11-20T15:41:21.625Z"
   },
   {
    "duration": 4,
    "start_time": "2022-11-20T15:41:49.147Z"
   },
   {
    "duration": 9,
    "start_time": "2022-11-20T15:41:53.149Z"
   },
   {
    "duration": 9,
    "start_time": "2022-11-20T15:49:11.988Z"
   },
   {
    "duration": 4,
    "start_time": "2022-11-20T15:49:36.342Z"
   },
   {
    "duration": 12,
    "start_time": "2022-11-20T15:49:40.392Z"
   },
   {
    "duration": 9,
    "start_time": "2022-11-20T15:50:12.617Z"
   },
   {
    "duration": 9,
    "start_time": "2022-11-20T15:51:21.823Z"
   },
   {
    "duration": 10,
    "start_time": "2022-11-20T15:51:34.757Z"
   },
   {
    "duration": 8,
    "start_time": "2022-11-20T15:51:35.730Z"
   },
   {
    "duration": 8,
    "start_time": "2022-11-20T15:52:25.728Z"
   },
   {
    "duration": 12,
    "start_time": "2022-11-20T15:52:26.511Z"
   },
   {
    "duration": 48,
    "start_time": "2022-11-21T08:19:06.909Z"
   },
   {
    "duration": 1049,
    "start_time": "2022-11-21T08:19:11.566Z"
   },
   {
    "duration": 78,
    "start_time": "2022-11-21T08:19:12.617Z"
   },
   {
    "duration": 28,
    "start_time": "2022-11-21T08:19:12.696Z"
   },
   {
    "duration": 10,
    "start_time": "2022-11-21T08:19:12.727Z"
   },
   {
    "duration": 9,
    "start_time": "2022-11-21T08:19:12.738Z"
   },
   {
    "duration": 8,
    "start_time": "2022-11-21T08:19:12.748Z"
   },
   {
    "duration": 15,
    "start_time": "2022-11-21T08:19:12.757Z"
   },
   {
    "duration": 49,
    "start_time": "2022-11-21T08:19:12.774Z"
   },
   {
    "duration": 15,
    "start_time": "2022-11-21T08:19:12.825Z"
   },
   {
    "duration": 9,
    "start_time": "2022-11-21T08:19:12.915Z"
   },
   {
    "duration": 127,
    "start_time": "2022-11-21T08:19:12.926Z"
   },
   {
    "duration": 7,
    "start_time": "2022-11-21T08:19:39.223Z"
   },
   {
    "duration": 4,
    "start_time": "2022-11-21T08:26:28.208Z"
   },
   {
    "duration": 4,
    "start_time": "2022-11-21T08:30:24.366Z"
   },
   {
    "duration": 8,
    "start_time": "2022-11-21T08:31:27.189Z"
   },
   {
    "duration": 7,
    "start_time": "2022-11-21T08:32:21.622Z"
   },
   {
    "duration": 9,
    "start_time": "2022-11-21T08:32:30.326Z"
   },
   {
    "duration": 8,
    "start_time": "2022-11-21T08:33:03.075Z"
   },
   {
    "duration": 5,
    "start_time": "2022-11-21T08:33:17.260Z"
   },
   {
    "duration": 8,
    "start_time": "2022-11-21T09:02:59.802Z"
   },
   {
    "duration": 5,
    "start_time": "2022-11-21T09:03:02.867Z"
   },
   {
    "duration": 15,
    "start_time": "2022-11-21T09:03:04.446Z"
   },
   {
    "duration": 4,
    "start_time": "2022-11-21T09:03:16.628Z"
   },
   {
    "duration": 12,
    "start_time": "2022-11-21T09:03:19.363Z"
   },
   {
    "duration": 1111,
    "start_time": "2022-11-21T09:04:07.397Z"
   },
   {
    "duration": 29,
    "start_time": "2022-11-21T09:04:08.510Z"
   },
   {
    "duration": 48,
    "start_time": "2022-11-21T09:04:08.541Z"
   },
   {
    "duration": 12,
    "start_time": "2022-11-21T09:04:08.591Z"
   },
   {
    "duration": 28,
    "start_time": "2022-11-21T09:04:08.605Z"
   },
   {
    "duration": 37,
    "start_time": "2022-11-21T09:04:08.635Z"
   },
   {
    "duration": 13,
    "start_time": "2022-11-21T09:04:08.674Z"
   },
   {
    "duration": 39,
    "start_time": "2022-11-21T09:04:08.689Z"
   },
   {
    "duration": 87,
    "start_time": "2022-11-21T09:04:08.731Z"
   },
   {
    "duration": 28,
    "start_time": "2022-11-21T09:04:08.820Z"
   },
   {
    "duration": 34,
    "start_time": "2022-11-21T09:04:08.850Z"
   },
   {
    "duration": 18,
    "start_time": "2022-11-21T09:04:08.885Z"
   },
   {
    "duration": 31,
    "start_time": "2022-11-21T09:04:08.905Z"
   },
   {
    "duration": 160,
    "start_time": "2022-11-21T09:04:08.939Z"
   },
   {
    "duration": 5,
    "start_time": "2022-11-21T09:07:03.344Z"
   },
   {
    "duration": 3,
    "start_time": "2022-11-21T09:07:09.084Z"
   },
   {
    "duration": 13,
    "start_time": "2022-11-21T09:07:19.428Z"
   },
   {
    "duration": 3,
    "start_time": "2022-11-21T09:08:05.391Z"
   },
   {
    "duration": 9,
    "start_time": "2022-11-21T09:08:07.540Z"
   },
   {
    "duration": 5,
    "start_time": "2022-11-21T09:08:14.838Z"
   },
   {
    "duration": 16,
    "start_time": "2022-11-21T09:09:12.254Z"
   },
   {
    "duration": 61,
    "start_time": "2022-11-21T10:45:09.822Z"
   },
   {
    "duration": 1195,
    "start_time": "2022-11-21T10:45:18.193Z"
   },
   {
    "duration": 93,
    "start_time": "2022-11-21T10:45:19.390Z"
   },
   {
    "duration": 29,
    "start_time": "2022-11-21T10:45:19.485Z"
   },
   {
    "duration": 11,
    "start_time": "2022-11-21T10:45:19.515Z"
   },
   {
    "duration": 9,
    "start_time": "2022-11-21T10:45:19.528Z"
   },
   {
    "duration": 29,
    "start_time": "2022-11-21T10:45:19.540Z"
   },
   {
    "duration": 9,
    "start_time": "2022-11-21T10:45:19.570Z"
   },
   {
    "duration": 59,
    "start_time": "2022-11-21T10:45:19.581Z"
   },
   {
    "duration": 107,
    "start_time": "2022-11-21T10:45:19.642Z"
   },
   {
    "duration": 15,
    "start_time": "2022-11-21T10:45:19.754Z"
   },
   {
    "duration": 12,
    "start_time": "2022-11-21T10:45:19.771Z"
   },
   {
    "duration": 15,
    "start_time": "2022-11-21T10:45:19.785Z"
   },
   {
    "duration": 6,
    "start_time": "2022-11-21T10:45:19.802Z"
   },
   {
    "duration": 127,
    "start_time": "2022-11-21T10:45:19.811Z"
   },
   {
    "duration": 0,
    "start_time": "2022-11-21T10:45:19.941Z"
   },
   {
    "duration": 4,
    "start_time": "2022-11-21T10:47:51.283Z"
   },
   {
    "duration": 3,
    "start_time": "2022-11-21T10:49:01.610Z"
   },
   {
    "duration": 21,
    "start_time": "2022-11-21T10:49:03.233Z"
   },
   {
    "duration": 5,
    "start_time": "2022-11-21T10:49:09.048Z"
   },
   {
    "duration": 4,
    "start_time": "2022-11-21T10:49:10.704Z"
   },
   {
    "duration": 6,
    "start_time": "2022-11-21T10:49:19.805Z"
   },
   {
    "duration": 9,
    "start_time": "2022-11-21T10:50:08.203Z"
   },
   {
    "duration": 5,
    "start_time": "2022-11-21T10:56:52.302Z"
   },
   {
    "duration": 4,
    "start_time": "2022-11-21T10:56:58.225Z"
   },
   {
    "duration": 10,
    "start_time": "2022-11-21T10:57:02.877Z"
   },
   {
    "duration": 1109,
    "start_time": "2022-11-21T11:04:18.710Z"
   },
   {
    "duration": 32,
    "start_time": "2022-11-21T11:04:19.821Z"
   },
   {
    "duration": 30,
    "start_time": "2022-11-21T11:04:19.855Z"
   },
   {
    "duration": 11,
    "start_time": "2022-11-21T11:04:19.887Z"
   },
   {
    "duration": 11,
    "start_time": "2022-11-21T11:04:19.900Z"
   },
   {
    "duration": 12,
    "start_time": "2022-11-21T11:04:19.912Z"
   },
   {
    "duration": 26,
    "start_time": "2022-11-21T11:04:19.926Z"
   },
   {
    "duration": 86,
    "start_time": "2022-11-21T11:04:19.955Z"
   },
   {
    "duration": 31,
    "start_time": "2022-11-21T11:04:20.043Z"
   },
   {
    "duration": 12,
    "start_time": "2022-11-21T11:04:20.076Z"
   },
   {
    "duration": 11,
    "start_time": "2022-11-21T11:04:20.089Z"
   },
   {
    "duration": 39,
    "start_time": "2022-11-21T11:04:20.101Z"
   },
   {
    "duration": 47,
    "start_time": "2022-11-21T11:04:20.142Z"
   },
   {
    "duration": 9,
    "start_time": "2022-11-21T11:04:20.191Z"
   },
   {
    "duration": 11,
    "start_time": "2022-11-21T11:04:20.203Z"
   },
   {
    "duration": 14,
    "start_time": "2022-11-21T11:13:19.034Z"
   },
   {
    "duration": 4,
    "start_time": "2022-11-21T11:13:21.373Z"
   },
   {
    "duration": 7,
    "start_time": "2022-11-21T11:13:23.341Z"
   },
   {
    "duration": 5,
    "start_time": "2022-11-21T11:19:57.705Z"
   },
   {
    "duration": 1037,
    "start_time": "2022-11-21T11:20:02.677Z"
   },
   {
    "duration": 36,
    "start_time": "2022-11-21T11:20:03.716Z"
   },
   {
    "duration": 27,
    "start_time": "2022-11-21T11:20:03.754Z"
   },
   {
    "duration": 11,
    "start_time": "2022-11-21T11:20:03.783Z"
   },
   {
    "duration": 17,
    "start_time": "2022-11-21T11:20:03.795Z"
   },
   {
    "duration": 13,
    "start_time": "2022-11-21T11:20:03.814Z"
   },
   {
    "duration": 27,
    "start_time": "2022-11-21T11:20:03.829Z"
   },
   {
    "duration": 13,
    "start_time": "2022-11-21T11:20:03.859Z"
   },
   {
    "duration": 67,
    "start_time": "2022-11-21T11:20:03.874Z"
   },
   {
    "duration": 89,
    "start_time": "2022-11-21T11:20:03.948Z"
   },
   {
    "duration": 20,
    "start_time": "2022-11-21T11:20:04.039Z"
   },
   {
    "duration": 26,
    "start_time": "2022-11-21T11:20:04.061Z"
   },
   {
    "duration": 7,
    "start_time": "2022-11-21T11:20:04.089Z"
   },
   {
    "duration": 65,
    "start_time": "2022-11-21T11:20:04.098Z"
   },
   {
    "duration": 11,
    "start_time": "2022-11-21T11:20:04.234Z"
   },
   {
    "duration": 1093,
    "start_time": "2022-11-21T11:22:33.821Z"
   },
   {
    "duration": 32,
    "start_time": "2022-11-21T11:22:34.916Z"
   },
   {
    "duration": 33,
    "start_time": "2022-11-21T11:22:34.950Z"
   },
   {
    "duration": 10,
    "start_time": "2022-11-21T11:22:34.986Z"
   },
   {
    "duration": 11,
    "start_time": "2022-11-21T11:22:34.997Z"
   },
   {
    "duration": 12,
    "start_time": "2022-11-21T11:22:35.009Z"
   },
   {
    "duration": 19,
    "start_time": "2022-11-21T11:22:35.023Z"
   },
   {
    "duration": 100,
    "start_time": "2022-11-21T11:22:35.044Z"
   },
   {
    "duration": 27,
    "start_time": "2022-11-21T11:22:35.146Z"
   },
   {
    "duration": 5,
    "start_time": "2022-11-21T11:22:35.176Z"
   },
   {
    "duration": 61,
    "start_time": "2022-11-21T11:22:35.182Z"
   },
   {
    "duration": 18,
    "start_time": "2022-11-21T11:22:35.245Z"
   },
   {
    "duration": 8,
    "start_time": "2022-11-21T11:22:35.264Z"
   },
   {
    "duration": 69,
    "start_time": "2022-11-21T11:22:35.274Z"
   },
   {
    "duration": 94,
    "start_time": "2022-11-21T11:22:35.348Z"
   },
   {
    "duration": 1052,
    "start_time": "2022-11-21T11:23:10.116Z"
   },
   {
    "duration": 30,
    "start_time": "2022-11-21T11:23:11.170Z"
   },
   {
    "duration": 27,
    "start_time": "2022-11-21T11:23:11.202Z"
   },
   {
    "duration": 14,
    "start_time": "2022-11-21T11:23:11.232Z"
   },
   {
    "duration": 45,
    "start_time": "2022-11-21T11:23:11.249Z"
   },
   {
    "duration": 27,
    "start_time": "2022-11-21T11:23:11.296Z"
   },
   {
    "duration": 24,
    "start_time": "2022-11-21T11:23:11.325Z"
   },
   {
    "duration": 89,
    "start_time": "2022-11-21T11:23:11.353Z"
   },
   {
    "duration": 9,
    "start_time": "2022-11-21T11:23:11.443Z"
   },
   {
    "duration": 113,
    "start_time": "2022-11-21T11:23:11.458Z"
   },
   {
    "duration": 30,
    "start_time": "2022-11-21T11:23:11.573Z"
   },
   {
    "duration": 59,
    "start_time": "2022-11-21T11:23:11.605Z"
   },
   {
    "duration": 51,
    "start_time": "2022-11-21T11:23:11.666Z"
   },
   {
    "duration": 19,
    "start_time": "2022-11-21T11:23:11.718Z"
   },
   {
    "duration": 13,
    "start_time": "2022-11-21T11:23:11.740Z"
   },
   {
    "duration": 1632,
    "start_time": "2022-11-21T11:39:26.882Z"
   },
   {
    "duration": 83,
    "start_time": "2022-11-21T11:39:28.516Z"
   },
   {
    "duration": 30,
    "start_time": "2022-11-21T11:39:28.600Z"
   },
   {
    "duration": 10,
    "start_time": "2022-11-21T11:39:28.632Z"
   },
   {
    "duration": 5,
    "start_time": "2022-11-21T11:39:28.644Z"
   },
   {
    "duration": 16,
    "start_time": "2022-11-21T11:39:28.651Z"
   },
   {
    "duration": 8,
    "start_time": "2022-11-21T11:39:28.669Z"
   },
   {
    "duration": 38,
    "start_time": "2022-11-21T11:39:28.680Z"
   },
   {
    "duration": 97,
    "start_time": "2022-11-21T11:39:28.720Z"
   },
   {
    "duration": 8,
    "start_time": "2022-11-21T11:39:28.820Z"
   },
   {
    "duration": 14,
    "start_time": "2022-11-21T11:39:28.830Z"
   },
   {
    "duration": 11,
    "start_time": "2022-11-21T11:39:28.846Z"
   },
   {
    "duration": 7,
    "start_time": "2022-11-21T11:39:28.859Z"
   },
   {
    "duration": 60,
    "start_time": "2022-11-21T11:39:28.868Z"
   },
   {
    "duration": 90,
    "start_time": "2022-11-21T11:39:28.930Z"
   },
   {
    "duration": 463,
    "start_time": "2022-11-21T11:46:01.687Z"
   },
   {
    "duration": 9,
    "start_time": "2022-11-21T11:46:49.986Z"
   }
  ],
  "kernelspec": {
   "display_name": "Python 3",
   "language": "python",
   "name": "python3"
  },
  "language_info": {
   "codemirror_mode": {
    "name": "ipython",
    "version": 3
   },
   "file_extension": ".py",
   "mimetype": "text/x-python",
   "name": "python",
   "nbconvert_exporter": "python",
   "pygments_lexer": "ipython3",
   "version": "3.8.5"
  },
  "toc": {
   "base_numbering": 1,
   "nav_menu": {},
   "number_sections": true,
   "sideBar": true,
   "skip_h1_title": true,
   "title_cell": "Содержание",
   "title_sidebar": "Contents",
   "toc_cell": true,
   "toc_position": {
    "height": "calc(100% - 180px)",
    "left": "10px",
    "top": "150px",
    "width": "351.797px"
   },
   "toc_section_display": true,
   "toc_window_display": false
  }
 },
 "nbformat": 4,
 "nbformat_minor": 2
}
