{
 "cells": [
  {
   "cell_type": "markdown",
   "metadata": {},
   "source": [
    "#  Прогнозирование заказов такси"
   ]
  },
  {
   "cell_type": "markdown",
   "metadata": {},
   "source": [
    "Компания «Чётенькое такси» собрала исторические данные о заказах такси в аэропортах. Чтобы привлекать больше водителей в период пиковой нагрузки, нужно спрогнозировать количество заказов такси на следующий час. Постройте модель для такого предсказания.\n",
    "\n",
    "Значение метрики *RMSE* на тестовой выборке должно быть не больше 48."
   ]
  },
  {
   "cell_type": "markdown",
   "metadata": {
    "toc": true
   },
   "source": [
    "<h1>Содержание<span class=\"tocSkip\"></span></h1>\n",
    "<div class=\"toc\"><ul class=\"toc-item\"><li><span><a href=\"#Подготовка\" data-toc-modified-id=\"Подготовка-1\"><span class=\"toc-item-num\">1&nbsp;&nbsp;</span>Подготовка данных</a></span></li><li><span><a href=\"#Анализ\" data-toc-modified-id=\"Анализ-2\"><span class=\"toc-item-num\">2&nbsp;&nbsp;</span>Анализ данных</a></span></li><li><span><a href=\"#Обучение\" data-toc-modified-id=\"Обучение-3\"><span class=\"toc-item-num\">3&nbsp;&nbsp;</span>Обучение моделей</a></span></li><li><span><a href=\"#Тестирование\" data-toc-modified-id=\"Тестирование-4\"><span class=\"toc-item-num\">4&nbsp;&nbsp;</span>Тестирование</a></span></li></ul></div>"
   ]
  },
  {
   "cell_type": "markdown",
   "metadata": {},
   "source": [
    "## Подготовка"
   ]
  },
  {
   "cell_type": "code",
   "execution_count": 1,
   "metadata": {},
   "outputs": [],
   "source": [
    "import pandas as pd\n",
    "import datetime as dt\n",
    "from statsmodels.tsa.seasonal import seasonal_decompose\n",
    "import matplotlib.pyplot as plt\n",
    "import seaborn as sns\n",
    "from sklearn.model_selection import train_test_split\n",
    "from sklearn.linear_model import LinearRegression\n",
    "from sklearn.ensemble import RandomForestRegressor\n",
    "from sklearn.metrics import mean_squared_error\n",
    "from catboost import CatBoostRegressor\n",
    "from sklearn.pipeline import Pipeline"
   ]
  },
  {
   "cell_type": "code",
   "execution_count": 2,
   "metadata": {},
   "outputs": [],
   "source": [
    "data = pd.read_csv('/datasets/taxi.csv', index_col=[0], parse_dates=[0])"
   ]
  },
  {
   "cell_type": "code",
   "execution_count": 3,
   "metadata": {},
   "outputs": [
    {
     "data": {
      "text/html": [
       "<div>\n",
       "<style scoped>\n",
       "    .dataframe tbody tr th:only-of-type {\n",
       "        vertical-align: middle;\n",
       "    }\n",
       "\n",
       "    .dataframe tbody tr th {\n",
       "        vertical-align: top;\n",
       "    }\n",
       "\n",
       "    .dataframe thead th {\n",
       "        text-align: right;\n",
       "    }\n",
       "</style>\n",
       "<table border=\"1\" class=\"dataframe\">\n",
       "  <thead>\n",
       "    <tr style=\"text-align: right;\">\n",
       "      <th></th>\n",
       "      <th>num_orders</th>\n",
       "    </tr>\n",
       "    <tr>\n",
       "      <th>datetime</th>\n",
       "      <th></th>\n",
       "    </tr>\n",
       "  </thead>\n",
       "  <tbody>\n",
       "    <tr>\n",
       "      <th>2018-03-01 00:00:00</th>\n",
       "      <td>9</td>\n",
       "    </tr>\n",
       "    <tr>\n",
       "      <th>2018-03-01 00:10:00</th>\n",
       "      <td>14</td>\n",
       "    </tr>\n",
       "    <tr>\n",
       "      <th>2018-03-01 00:20:00</th>\n",
       "      <td>28</td>\n",
       "    </tr>\n",
       "    <tr>\n",
       "      <th>2018-03-01 00:30:00</th>\n",
       "      <td>20</td>\n",
       "    </tr>\n",
       "    <tr>\n",
       "      <th>2018-03-01 00:40:00</th>\n",
       "      <td>32</td>\n",
       "    </tr>\n",
       "  </tbody>\n",
       "</table>\n",
       "</div>"
      ],
      "text/plain": [
       "                     num_orders\n",
       "datetime                       \n",
       "2018-03-01 00:00:00           9\n",
       "2018-03-01 00:10:00          14\n",
       "2018-03-01 00:20:00          28\n",
       "2018-03-01 00:30:00          20\n",
       "2018-03-01 00:40:00          32"
      ]
     },
     "execution_count": 3,
     "metadata": {},
     "output_type": "execute_result"
    }
   ],
   "source": [
    "data.head()"
   ]
  },
  {
   "cell_type": "code",
   "execution_count": 4,
   "metadata": {},
   "outputs": [
    {
     "data": {
      "text/plain": [
       "True"
      ]
     },
     "execution_count": 4,
     "metadata": {},
     "output_type": "execute_result"
    }
   ],
   "source": [
    "# Визульано вижу,что временной ряд расположен в хронологическом порядке, но на всякий случай проверим\n",
    "data.index.is_monotonic"
   ]
  },
  {
   "cell_type": "code",
   "execution_count": 5,
   "metadata": {},
   "outputs": [
    {
     "data": {
      "text/plain": [
       "(Timestamp('2018-03-01 00:00:00'), Timestamp('2018-08-31 23:50:00'))"
      ]
     },
     "execution_count": 5,
     "metadata": {},
     "output_type": "execute_result"
    }
   ],
   "source": [
    "data.index.min(), data.index.max()"
   ]
  },
  {
   "cell_type": "markdown",
   "metadata": {},
   "source": [
    "Данные представлены как упорядоченный временной ряд с 1 марта 2018 года по 31 августа 2018 года. Количество заказов такси распределено за каждые 10 минут"
   ]
  },
  {
   "cell_type": "markdown",
   "metadata": {},
   "source": [
    "## Анализ"
   ]
  },
  {
   "cell_type": "code",
   "execution_count": 6,
   "metadata": {},
   "outputs": [],
   "source": [
    "#Ресемплируем данные по одному часу, неделе и месяцу\n",
    "hourly_stat = data.resample('1H').sum()\n",
    "monthly_stat= data.resample('1M').sum()\n",
    "weekly_stat = data.resample('1W').sum()"
   ]
  },
  {
   "cell_type": "code",
   "execution_count": 7,
   "metadata": {},
   "outputs": [
    {
     "data": {
      "text/plain": [
       "Text(0.5, 1.0, 'Количество заказов в месяц')"
      ]
     },
     "execution_count": 7,
     "metadata": {},
     "output_type": "execute_result"
    },
    {
     "data": {
      "image/png": "[encoded data removed]",
      "text/plain": [
       "<Figure size 432x288 with 1 Axes>"
      ]
     },
     "metadata": {
      "needs_background": "light"
     },
     "output_type": "display_data"
    }
   ],
   "source": [
    "#Посмотрим на статистику заказов в разбивке по месяцам\n",
    "sns.lineplot(x=monthly_stat.index,y=monthly_stat['num_orders']).set_title('Количество заказов в месяц')"
   ]
  },
  {
   "cell_type": "code",
   "execution_count": 8,
   "metadata": {},
   "outputs": [
    {
     "data": {
      "text/plain": [
       "Text(0.5, 1.0, 'Количество заказов в неделю')"
      ]
     },
     "execution_count": 8,
     "metadata": {},
     "output_type": "execute_result"
    },
    {
     "data": {
      "image/png": "[encoded data removed]",
      "text/plain": [
       "<Figure size 432x288 with 1 Axes>"
      ]
     },
     "metadata": {
      "needs_background": "light"
     },
     "output_type": "display_data"
    }
   ],
   "source": [
    "#Посмотрим на статистику заказов в разбивке по неделям\n",
    "sns.lineplot(x=weekly_stat.index,y=weekly_stat['num_orders']).set_title('Количество заказов в неделю')"
   ]
  },
  {
   "cell_type": "code",
   "execution_count": 9,
   "metadata": {},
   "outputs": [
    {
     "data": {
      "image/png": "[encoded data removed]",
      "text/plain": [
       "<Figure size 432x288 with 1 Axes>"
      ]
     },
     "metadata": {
      "needs_background": "light"
     },
     "output_type": "display_data"
    }
   ],
   "source": [
    "#Посмотрим на скользящее среднее и скользящее стандартное отклонение по часам\n",
    "hourly_stat['mean'] = hourly_stat['num_orders'].rolling(25).mean()\n",
    "hourly_stat['std'] = hourly_stat['num_orders'].rolling(25).std()\n",
    "hourly_stat.plot();"
   ]
  },
  {
   "cell_type": "code",
   "execution_count": 10,
   "metadata": {},
   "outputs": [
    {
     "data": {
      "image/png": "[encoded data removed]",
      "text/plain": [
       "<Figure size 936x720 with 3 Axes>"
      ]
     },
     "metadata": {
      "needs_background": "light"
     },
     "output_type": "display_data"
    }
   ],
   "source": [
    "#Построим график сезонной составляющей\n",
    "decomposed = seasonal_decompose(data.resample('1H').sum()) \n",
    "\n",
    "plt.figure(figsize=(13, 10))\n",
    "plt.subplot(311)\n",
    "\n",
    "decomposed.trend.plot(ax=plt.gca())\n",
    "plt.title('Trend')\n",
    "plt.subplot(312)\n",
    "decomposed.seasonal.tail(24*7).plot(ax=plt.gca())\n",
    "plt.title('Seasonality')\n",
    "plt.subplot(313)\n",
    "decomposed.seasonal['2018-05-19':'2018-05-19'].plot(ax=plt.gca()) \n",
    "plt.title('Residuals')\n",
    "plt.tight_layout()"
   ]
  },
  {
   "cell_type": "code",
   "execution_count": 11,
   "metadata": {},
   "outputs": [
    {
     "data": {
      "image/png": "[encoded data removed]",
      "text/plain": [
       "<Figure size 1080x576 with 1 Axes>"
      ]
     },
     "metadata": {
      "needs_background": "light"
     },
     "output_type": "display_data"
    }
   ],
   "source": [
    "#Разности временного ряда\n",
    "data = data.resample('1H').sum()\n",
    "data_shift = data - data.shift()\n",
    "data_shift['mean'] = data_shift['num_orders'].rolling(24).mean()\n",
    "data_shift['std'] = data_shift['num_orders'].rolling(24).std()\n",
    "data_shift.plot(figsize=(15,8));"
   ]
  },
  {
   "cell_type": "markdown",
   "metadata": {},
   "source": [
    "Проанализировав данные, можно сделать вывод, что количество заказов непрерывно увеличивалось, это наблюдается как в ежемесячном, так и в еженедельном графиках. Общий тренд на количество заказов растет. Повторяемость данных четко видна в спросе по часам. Чаще заказывают такси  в ночное время (около 12 ночи), перед началом рабочего дня (8-11 утра), по окончании рабочего дня (16-17 ч.)"
   ]
  },
  {
   "cell_type": "markdown",
   "metadata": {},
   "source": [
    "## Обучение"
   ]
  },
  {
   "cell_type": "code",
   "execution_count": 12,
   "metadata": {},
   "outputs": [],
   "source": [
    "#Функция создания признаков для модели\n",
    "def make_features(data, max_lag, rolling_mean_size):\n",
    "    data['month'] = data.index.month\n",
    "    data['day'] = data.index.day\n",
    "    data['hour'] = data.index.hour\n",
    "    \n",
    "    for lag in range(1, max_lag + 1):\n",
    "        data['lag_{}'.format(lag)] = data['num_orders'].shift(lag)\n",
    "\n",
    "    data['rolling_mean'] = data['num_orders'].shift().rolling(rolling_mean_size).mean()"
   ]
  },
  {
   "cell_type": "code",
   "execution_count": 13,
   "metadata": {},
   "outputs": [],
   "source": [
    "make_features(data, 1, 1)\n",
    "data = data.dropna().reset_index(drop=True)"
   ]
  },
  {
   "cell_type": "code",
   "execution_count": 14,
   "metadata": {
    "scrolled": true
   },
   "outputs": [
    {
     "name": "stdout",
     "output_type": "stream",
     "text": [
      "<class 'pandas.core.frame.DataFrame'>\n",
      "RangeIndex: 4415 entries, 0 to 4414\n",
      "Data columns (total 6 columns):\n",
      " #   Column        Non-Null Count  Dtype  \n",
      "---  ------        --------------  -----  \n",
      " 0   num_orders    4415 non-null   int64  \n",
      " 1   month         4415 non-null   int64  \n",
      " 2   day           4415 non-null   int64  \n",
      " 3   hour          4415 non-null   int64  \n",
      " 4   lag_1         4415 non-null   float64\n",
      " 5   rolling_mean  4415 non-null   float64\n",
      "dtypes: float64(2), int64(4)\n",
      "memory usage: 207.1 KB\n"
     ]
    }
   ],
   "source": [
    "data.info()"
   ]
  },
  {
   "cell_type": "code",
   "execution_count": 15,
   "metadata": {},
   "outputs": [],
   "source": [
    "train, test = train_test_split(data, shuffle=False, test_size=0.1)"
   ]
  },
  {
   "cell_type": "code",
   "execution_count": 16,
   "metadata": {},
   "outputs": [
    {
     "name": "stdout",
     "output_type": "stream",
     "text": [
      "(3973, 5) (442, 5)\n",
      "(3973, 1) (442, 1)\n"
     ]
    }
   ],
   "source": [
    "#Определим признаки и целевой признак у обучающей и тестовой выборк\n",
    "features_train  = train.drop('num_orders', axis=1)\n",
    "target_train = train[['num_orders']]\n",
    "features_test = test.drop('num_orders', axis=1)\n",
    "target_test = test[['num_orders']]\n",
    "print(features_train.shape, features_test.shape)\n",
    "print(target_train.shape, target_test.shape)"
   ]
  },
  {
   "cell_type": "code",
   "execution_count": 17,
   "metadata": {},
   "outputs": [
    {
     "name": "stdout",
     "output_type": "stream",
     "text": [
      "RMSE LinearRegression: 30.698869206537353\n"
     ]
    }
   ],
   "source": [
    "#Построим модель линейной регрессии\n",
    "model = LinearRegression()\n",
    "\n",
    "model_lr = model.fit(features_train, target_train) \n",
    "predictions_train = model_lr.predict(features_train) # получим предсказания модели\n",
    "rmse_lr_train = mean_squared_error(target_train, predictions_train,  squared=False)\n",
    "\n",
    "\n",
    "print(\"RMSE LinearRegression:\", rmse_lr_train)"
   ]
  },
  {
   "cell_type": "code",
   "execution_count": 18,
   "metadata": {},
   "outputs": [
    {
     "name": "stdout",
     "output_type": "stream",
     "text": [
      "CatBoostRegressor\n",
      "Model params: {'iterations': 225, 'learning_rate': 0.05, 'loss_function': 'RMSE', 'verbose': False, 'random_state': 19191}\n",
      "RMSE = 21.230510508749855\n"
     ]
    }
   ],
   "source": [
    "best_model_cbr = None\n",
    "best_rmse_cbr = 48\n",
    "learning_rate_range = [0.01, 0.05]\n",
    "\n",
    "for iteration in range(150, 250, 25):\n",
    "    for learning_rate in learning_rate_range:\n",
    "        model_cbr =CatBoostRegressor(random_state = 19191,\n",
    "                                     loss_function=\"RMSE\", \n",
    "                                     iterations=iteration, \n",
    "                                     learning_rate=learning_rate, \n",
    "                                     verbose=False) \n",
    "\n",
    "        model_cbr.fit(features_train, \n",
    "                      target_train)\n",
    "\n",
    "        predicted_train = model_cbr.predict(features_train)\n",
    "        rmse_cbr = mean_squared_error(target_train, predicted_train, squared=False)\n",
    "    if rmse_cbr < best_rmse_cbr:\n",
    "        best_model_cbr = model_cbr\n",
    "        best_rmse_cbr = rmse_cbr\n",
    "\n",
    "\n",
    "print(\"CatBoostRegressor\")\n",
    "print(f\"Model params: {best_model_cbr.get_params()}\")\n",
    "print(\"RMSE =\", best_rmse_cbr)"
   ]
  },
  {
   "cell_type": "code",
   "execution_count": 19,
   "metadata": {},
   "outputs": [
    {
     "name": "stdout",
     "output_type": "stream",
     "text": [
      "RMSE наилучшей модели RandomForest: 25.926776591930974 Количество деревьев: 80 Глубина: 4\n"
     ]
    }
   ],
   "source": [
    "best_model_RFC = None\n",
    "best_rmse_RFC = 48\n",
    "best_est_RFC = 0\n",
    "best_depth_RFC = 0\n",
    "for est in range(70, 100, 10):\n",
    "    for depth in range(1, 5):\n",
    "        model_RFC = RandomForestRegressor(random_state=19191, n_estimators=est, max_depth=depth)\n",
    "        model_RFC.fit(features_train, target_train.values.ravel())\n",
    "\n",
    "        predicted_train = model_RFC.predict(features_train)\n",
    "        rmse_RFC = mean_squared_error(target_train, predicted_train, squared=False)\n",
    "    if rmse_RFC < best_rmse_RFC:\n",
    "        best_model_RFC = model_RFC\n",
    "        best_rmse_RFC = rmse_RFC\n",
    "        best_est_RFC = est\n",
    "        best_depth_RFC = depth\n",
    "print(\"RMSE наилучшей модели RandomForest:\", best_rmse_RFC, \"Количество деревьев:\", best_est_RFC, 'Глубина:', best_depth_RFC)"
   ]
  },
  {
   "cell_type": "markdown",
   "metadata": {},
   "source": [
    "Я сравнила Линейную регрессию, CatBoost и RandomForestRegressor. RMSE модели CatBoostRegressor ниже показателей линейной регрессии и RandomForest. \n",
    "Проверим CatBoostRegressor на тестовой выборке"
   ]
  },
  {
   "cell_type": "markdown",
   "metadata": {},
   "source": [
    "## Тестирование"
   ]
  },
  {
   "cell_type": "code",
   "execution_count": 20,
   "metadata": {},
   "outputs": [
    {
     "name": "stdout",
     "output_type": "stream",
     "text": [
      "RMSE тестовой выборки CatBoostRegressor:  46.480947937820424\n"
     ]
    }
   ],
   "source": [
    "predictions_test_cbr = best_model_cbr.predict(features_test) # получим предсказания модели\n",
    "rmse_cbr_test = mean_squared_error (target_test, predictions_test_cbr,  squared=False)\n",
    "print(\"RMSE тестовой выборки CatBoostRegressor: \", rmse_cbr_test)"
   ]
  },
  {
   "cell_type": "markdown",
   "metadata": {},
   "source": [
    "**Итоговый вывод:**\n",
    "\n",
    "Компания «Чётенькое такси» собрала исторические данные о заказах такси в аэропортах. Данные представлены как упорядоченный временной ряд с 1 марта 2018 года по 31 августа 2018 года. Количество заказов такси распределено за каждые 10 минут.\n",
    "\n",
    "Проанализировав данные, можно сделать вывод, что в течение всего времени количество заказов непрерывно увеличивалось, это наблюдается как в ежемесячном, так и в еженедельном графиках. Общий тренд на количество заказов растет. Повторяемость данных четко видна в спросе по часам. Чаще заказывают такси  в ночное время (около 12 ночи), перед началом рабочего дня (8-11 утра), по окончании рабочего дня (16-17 ч.)\n",
    "\n",
    "Для того, чтобы привлекать больше водителей в период пиковой нагрузки, было спрогнозировано количество заказов такси на следующий час. Линейная регрессия показала RMSE хуже CatBoost. RMSE тестовой выборки CatBoostRegressor:  46.8, что соотвествует целевому значения заказчика (<48)."
   ]
  }
 ],
 "metadata": {
  "ExecuteTimeLog": [
   {
    "duration": 379,
    "start_time": "2022-11-26T11:05:07.531Z"
   },
   {
    "duration": 109,
    "start_time": "2022-11-26T11:05:21.263Z"
   },
   {
    "duration": 13,
    "start_time": "2022-11-26T11:05:36.206Z"
   },
   {
    "duration": 64,
    "start_time": "2022-11-26T11:06:34.632Z"
   },
   {
    "duration": 7,
    "start_time": "2022-11-26T11:06:36.462Z"
   },
   {
    "duration": 7,
    "start_time": "2022-11-26T11:07:14.551Z"
   },
   {
    "duration": 7,
    "start_time": "2022-11-26T11:07:54.271Z"
   },
   {
    "duration": 62,
    "start_time": "2022-11-26T11:07:56.927Z"
   },
   {
    "duration": 4,
    "start_time": "2022-11-26T11:08:02.069Z"
   },
   {
    "duration": 1078,
    "start_time": "2022-11-26T11:10:26.630Z"
   },
   {
    "duration": 11,
    "start_time": "2022-11-26T11:11:27.059Z"
   },
   {
    "duration": 8,
    "start_time": "2022-11-26T11:11:34.348Z"
   },
   {
    "duration": 7,
    "start_time": "2022-11-26T11:21:16.802Z"
   },
   {
    "duration": 262,
    "start_time": "2022-11-26T11:23:06.344Z"
   },
   {
    "duration": 520,
    "start_time": "2022-11-26T11:24:11.651Z"
   },
   {
    "duration": 62,
    "start_time": "2022-11-26T11:24:12.174Z"
   },
   {
    "duration": 14,
    "start_time": "2022-11-26T11:24:12.238Z"
   },
   {
    "duration": 5,
    "start_time": "2022-11-26T11:24:12.254Z"
   },
   {
    "duration": 11,
    "start_time": "2022-11-26T11:24:12.261Z"
   },
   {
    "duration": 26,
    "start_time": "2022-11-26T11:24:12.274Z"
   },
   {
    "duration": 9,
    "start_time": "2022-11-26T11:24:12.302Z"
   },
   {
    "duration": 576,
    "start_time": "2022-11-26T11:24:12.314Z"
   },
   {
    "duration": 80,
    "start_time": "2022-11-26T11:24:12.891Z"
   },
   {
    "duration": 605,
    "start_time": "2022-11-26T11:24:27.360Z"
   },
   {
    "duration": 69,
    "start_time": "2022-11-26T11:24:30.643Z"
   },
   {
    "duration": 8,
    "start_time": "2022-11-26T11:24:56.066Z"
   },
   {
    "duration": 325,
    "start_time": "2022-11-26T11:25:06.184Z"
   },
   {
    "duration": 7,
    "start_time": "2022-11-26T11:25:08.295Z"
   },
   {
    "duration": 281,
    "start_time": "2022-11-26T11:25:13.535Z"
   },
   {
    "duration": 8,
    "start_time": "2022-11-26T11:25:15.935Z"
   },
   {
    "duration": 11,
    "start_time": "2022-11-26T11:25:19.488Z"
   },
   {
    "duration": 301,
    "start_time": "2022-11-26T11:25:29.463Z"
   },
   {
    "duration": 7,
    "start_time": "2022-11-26T11:25:31.394Z"
   },
   {
    "duration": 49,
    "start_time": "2022-11-26T16:05:36.597Z"
   },
   {
    "duration": 1291,
    "start_time": "2022-11-26T16:05:41.298Z"
   },
   {
    "duration": 118,
    "start_time": "2022-11-26T16:05:42.591Z"
   },
   {
    "duration": 10,
    "start_time": "2022-11-26T16:05:42.711Z"
   },
   {
    "duration": 13,
    "start_time": "2022-11-26T16:05:42.723Z"
   },
   {
    "duration": 19,
    "start_time": "2022-11-26T16:05:42.739Z"
   },
   {
    "duration": 12,
    "start_time": "2022-11-26T16:05:42.760Z"
   },
   {
    "duration": 28,
    "start_time": "2022-11-26T16:05:42.773Z"
   },
   {
    "duration": 19,
    "start_time": "2022-11-26T16:05:42.803Z"
   },
   {
    "duration": 282,
    "start_time": "2022-11-26T16:05:42.823Z"
   },
   {
    "duration": 6,
    "start_time": "2022-11-26T16:05:43.107Z"
   },
   {
    "duration": 117,
    "start_time": "2022-11-26T16:05:43.115Z"
   },
   {
    "duration": 9,
    "start_time": "2022-11-26T16:13:49.569Z"
   },
   {
    "duration": 11,
    "start_time": "2022-11-26T16:14:04.349Z"
   },
   {
    "duration": 67,
    "start_time": "2022-11-26T16:19:33.427Z"
   },
   {
    "duration": 226,
    "start_time": "2022-11-26T16:21:13.320Z"
   },
   {
    "duration": 150,
    "start_time": "2022-11-26T16:23:26.314Z"
   },
   {
    "duration": 160,
    "start_time": "2022-11-26T16:23:40.718Z"
   },
   {
    "duration": 408,
    "start_time": "2022-11-26T16:25:56.034Z"
   },
   {
    "duration": 1230,
    "start_time": "2022-11-26T16:26:10.977Z"
   },
   {
    "duration": 49,
    "start_time": "2022-11-26T16:26:12.209Z"
   },
   {
    "duration": 11,
    "start_time": "2022-11-26T16:26:12.260Z"
   },
   {
    "duration": 13,
    "start_time": "2022-11-26T16:26:12.273Z"
   },
   {
    "duration": 16,
    "start_time": "2022-11-26T16:26:12.288Z"
   },
   {
    "duration": 14,
    "start_time": "2022-11-26T16:26:12.305Z"
   },
   {
    "duration": 17,
    "start_time": "2022-11-26T16:26:12.321Z"
   },
   {
    "duration": 259,
    "start_time": "2022-11-26T16:26:12.339Z"
   },
   {
    "duration": 209,
    "start_time": "2022-11-26T16:26:12.599Z"
   },
   {
    "duration": 296,
    "start_time": "2022-11-26T16:26:12.810Z"
   },
   {
    "duration": 6,
    "start_time": "2022-11-26T16:26:13.108Z"
   },
   {
    "duration": 123,
    "start_time": "2022-11-26T16:26:13.116Z"
   },
   {
    "duration": 287,
    "start_time": "2022-11-26T16:26:50.321Z"
   },
   {
    "duration": 11,
    "start_time": "2022-11-26T17:42:37.158Z"
   },
   {
    "duration": 8,
    "start_time": "2022-11-26T17:42:38.856Z"
   },
   {
    "duration": 17,
    "start_time": "2022-11-26T17:42:47.314Z"
   },
   {
    "duration": 6,
    "start_time": "2022-11-26T17:42:49.240Z"
   },
   {
    "duration": 39,
    "start_time": "2022-11-26T17:43:03.006Z"
   },
   {
    "duration": 23,
    "start_time": "2022-11-26T17:43:29.594Z"
   },
   {
    "duration": 399,
    "start_time": "2022-11-26T17:43:56.457Z"
   },
   {
    "duration": 208,
    "start_time": "2022-11-26T17:46:50.319Z"
   },
   {
    "duration": 275,
    "start_time": "2022-11-26T17:47:03.872Z"
   },
   {
    "duration": 13,
    "start_time": "2022-11-26T17:59:25.776Z"
   },
   {
    "duration": 13,
    "start_time": "2022-11-26T18:00:20.113Z"
   },
   {
    "duration": 1195,
    "start_time": "2022-11-26T18:00:43.088Z"
   },
   {
    "duration": 47,
    "start_time": "2022-11-26T18:00:44.285Z"
   },
   {
    "duration": 10,
    "start_time": "2022-11-26T18:00:44.334Z"
   },
   {
    "duration": 35,
    "start_time": "2022-11-26T18:00:44.346Z"
   },
   {
    "duration": 26,
    "start_time": "2022-11-26T18:00:44.383Z"
   },
   {
    "duration": 32,
    "start_time": "2022-11-26T18:00:44.410Z"
   },
   {
    "duration": 41,
    "start_time": "2022-11-26T18:00:44.444Z"
   },
   {
    "duration": 242,
    "start_time": "2022-11-26T18:00:44.487Z"
   },
   {
    "duration": 202,
    "start_time": "2022-11-26T18:00:44.730Z"
   },
   {
    "duration": 315,
    "start_time": "2022-11-26T18:00:44.935Z"
   },
   {
    "duration": 123,
    "start_time": "2022-11-26T18:00:45.251Z"
   },
   {
    "duration": 0,
    "start_time": "2022-11-26T18:00:45.376Z"
   },
   {
    "duration": 0,
    "start_time": "2022-11-26T18:00:45.377Z"
   },
   {
    "duration": 12,
    "start_time": "2022-11-26T18:02:47.264Z"
   },
   {
    "duration": 415,
    "start_time": "2022-11-26T18:03:22.898Z"
   },
   {
    "duration": 635,
    "start_time": "2022-11-26T18:05:10.658Z"
   },
   {
    "duration": 546,
    "start_time": "2022-11-26T18:05:28.378Z"
   },
   {
    "duration": 664,
    "start_time": "2022-11-26T18:06:01.317Z"
   },
   {
    "duration": 602,
    "start_time": "2022-11-26T18:06:10.245Z"
   },
   {
    "duration": 676,
    "start_time": "2022-11-26T18:06:24.585Z"
   },
   {
    "duration": 722,
    "start_time": "2022-11-26T18:06:32.704Z"
   },
   {
    "duration": 657,
    "start_time": "2022-11-26T18:07:02.242Z"
   },
   {
    "duration": 646,
    "start_time": "2022-11-26T18:07:24.386Z"
   },
   {
    "duration": 601,
    "start_time": "2022-11-26T18:07:57.911Z"
   },
   {
    "duration": 746,
    "start_time": "2022-11-26T18:08:25.255Z"
   },
   {
    "duration": 689,
    "start_time": "2022-11-26T18:08:37.538Z"
   },
   {
    "duration": 667,
    "start_time": "2022-11-26T18:08:54.058Z"
   },
   {
    "duration": 7,
    "start_time": "2022-11-26T18:11:08.863Z"
   },
   {
    "duration": 672,
    "start_time": "2022-11-26T18:11:26.564Z"
   },
   {
    "duration": 10,
    "start_time": "2022-11-26T18:11:51.381Z"
   },
   {
    "duration": 45,
    "start_time": "2022-11-26T18:12:09.286Z"
   },
   {
    "duration": 398,
    "start_time": "2022-11-26T18:12:16.339Z"
   },
   {
    "duration": 339,
    "start_time": "2022-11-26T18:12:34.972Z"
   },
   {
    "duration": 336,
    "start_time": "2022-11-26T18:12:44.806Z"
   },
   {
    "duration": 347,
    "start_time": "2022-11-26T18:12:49.498Z"
   },
   {
    "duration": 10,
    "start_time": "2022-11-26T18:16:05.915Z"
   },
   {
    "duration": 303,
    "start_time": "2022-11-26T18:16:16.345Z"
   },
   {
    "duration": 5,
    "start_time": "2022-11-26T18:16:24.649Z"
   },
   {
    "duration": 7,
    "start_time": "2022-11-26T18:20:54.766Z"
   },
   {
    "duration": 1327,
    "start_time": "2022-11-26T18:22:14.050Z"
   },
   {
    "duration": 49,
    "start_time": "2022-11-26T18:22:15.379Z"
   },
   {
    "duration": 10,
    "start_time": "2022-11-26T18:22:15.430Z"
   },
   {
    "duration": 13,
    "start_time": "2022-11-26T18:22:15.442Z"
   },
   {
    "duration": 11,
    "start_time": "2022-11-26T18:22:15.457Z"
   },
   {
    "duration": 8,
    "start_time": "2022-11-26T18:22:15.470Z"
   },
   {
    "duration": 19,
    "start_time": "2022-11-26T18:22:15.480Z"
   },
   {
    "duration": 242,
    "start_time": "2022-11-26T18:22:15.500Z"
   },
   {
    "duration": 192,
    "start_time": "2022-11-26T18:22:15.743Z"
   },
   {
    "duration": 373,
    "start_time": "2022-11-26T18:22:15.937Z"
   },
   {
    "duration": 774,
    "start_time": "2022-11-26T18:22:16.311Z"
   },
   {
    "duration": 330,
    "start_time": "2022-11-26T18:22:17.087Z"
   },
   {
    "duration": 6,
    "start_time": "2022-11-26T18:22:17.419Z"
   },
   {
    "duration": 136,
    "start_time": "2022-11-26T18:22:17.428Z"
   },
   {
    "duration": 0,
    "start_time": "2022-11-26T18:22:17.566Z"
   },
   {
    "duration": 0,
    "start_time": "2022-11-26T18:22:17.567Z"
   },
   {
    "duration": 10,
    "start_time": "2022-11-26T18:23:01.974Z"
   },
   {
    "duration": 11,
    "start_time": "2022-11-26T18:26:41.235Z"
   },
   {
    "duration": 336,
    "start_time": "2022-11-26T18:26:51.285Z"
   },
   {
    "duration": 13,
    "start_time": "2022-11-26T18:26:56.130Z"
   },
   {
    "duration": 5,
    "start_time": "2022-11-26T18:26:58.411Z"
   },
   {
    "duration": 14,
    "start_time": "2022-11-26T18:27:00.868Z"
   },
   {
    "duration": 1418,
    "start_time": "2022-11-26T18:27:49.797Z"
   },
   {
    "duration": 45,
    "start_time": "2022-11-26T18:27:51.217Z"
   },
   {
    "duration": 9,
    "start_time": "2022-11-26T18:27:51.264Z"
   },
   {
    "duration": 11,
    "start_time": "2022-11-26T18:27:51.275Z"
   },
   {
    "duration": 4,
    "start_time": "2022-11-26T18:27:51.288Z"
   },
   {
    "duration": 23,
    "start_time": "2022-11-26T18:27:51.293Z"
   },
   {
    "duration": 118,
    "start_time": "2022-11-26T18:27:51.318Z"
   },
   {
    "duration": 0,
    "start_time": "2022-11-26T18:27:51.438Z"
   },
   {
    "duration": 0,
    "start_time": "2022-11-26T18:27:51.439Z"
   },
   {
    "duration": 0,
    "start_time": "2022-11-26T18:27:51.440Z"
   },
   {
    "duration": 0,
    "start_time": "2022-11-26T18:27:51.442Z"
   },
   {
    "duration": 0,
    "start_time": "2022-11-26T18:27:51.443Z"
   },
   {
    "duration": 0,
    "start_time": "2022-11-26T18:27:51.443Z"
   },
   {
    "duration": 0,
    "start_time": "2022-11-26T18:27:51.445Z"
   },
   {
    "duration": 0,
    "start_time": "2022-11-26T18:27:51.446Z"
   },
   {
    "duration": 0,
    "start_time": "2022-11-26T18:27:51.447Z"
   },
   {
    "duration": 0,
    "start_time": "2022-11-26T18:27:51.448Z"
   },
   {
    "duration": 1372,
    "start_time": "2022-11-26T18:28:07.880Z"
   },
   {
    "duration": 47,
    "start_time": "2022-11-26T18:28:09.254Z"
   },
   {
    "duration": 11,
    "start_time": "2022-11-26T18:28:09.302Z"
   },
   {
    "duration": 4,
    "start_time": "2022-11-26T18:28:09.315Z"
   },
   {
    "duration": 19,
    "start_time": "2022-11-26T18:28:09.321Z"
   },
   {
    "duration": 19,
    "start_time": "2022-11-26T18:28:09.341Z"
   },
   {
    "duration": 257,
    "start_time": "2022-11-26T18:28:09.362Z"
   },
   {
    "duration": 189,
    "start_time": "2022-11-26T18:28:09.621Z"
   },
   {
    "duration": 305,
    "start_time": "2022-11-26T18:28:09.812Z"
   },
   {
    "duration": 821,
    "start_time": "2022-11-26T18:28:10.120Z"
   },
   {
    "duration": 371,
    "start_time": "2022-11-26T18:28:10.943Z"
   },
   {
    "duration": 12,
    "start_time": "2022-11-26T18:28:11.316Z"
   },
   {
    "duration": 29,
    "start_time": "2022-11-26T18:28:11.330Z"
   },
   {
    "duration": 128,
    "start_time": "2022-11-26T18:28:11.360Z"
   },
   {
    "duration": 0,
    "start_time": "2022-11-26T18:28:11.489Z"
   },
   {
    "duration": 0,
    "start_time": "2022-11-26T18:28:11.490Z"
   },
   {
    "duration": 4,
    "start_time": "2022-11-26T18:29:28.696Z"
   },
   {
    "duration": 11,
    "start_time": "2022-11-26T18:29:32.000Z"
   },
   {
    "duration": 26,
    "start_time": "2022-11-26T18:29:46.216Z"
   },
   {
    "duration": 68,
    "start_time": "2022-11-26T18:29:51.609Z"
   },
   {
    "duration": 6,
    "start_time": "2022-11-26T18:32:14.690Z"
   },
   {
    "duration": 75,
    "start_time": "2022-11-26T18:32:22.148Z"
   },
   {
    "duration": 11,
    "start_time": "2022-11-26T18:33:22.779Z"
   },
   {
    "duration": 11,
    "start_time": "2022-11-26T18:33:52.237Z"
   },
   {
    "duration": 9,
    "start_time": "2022-11-26T18:34:07.826Z"
   },
   {
    "duration": 5,
    "start_time": "2022-11-26T18:34:14.095Z"
   },
   {
    "duration": 7,
    "start_time": "2022-11-26T18:34:17.337Z"
   },
   {
    "duration": 7,
    "start_time": "2022-11-26T18:35:11.225Z"
   },
   {
    "duration": 8,
    "start_time": "2022-11-26T18:35:13.168Z"
   },
   {
    "duration": 6,
    "start_time": "2022-11-26T18:35:23.615Z"
   },
   {
    "duration": 96,
    "start_time": "2022-11-26T18:35:25.949Z"
   },
   {
    "duration": 1416,
    "start_time": "2022-11-26T18:38:08.387Z"
   },
   {
    "duration": 51,
    "start_time": "2022-11-26T18:38:09.806Z"
   },
   {
    "duration": 11,
    "start_time": "2022-11-26T18:38:09.862Z"
   },
   {
    "duration": 28,
    "start_time": "2022-11-26T18:38:09.874Z"
   },
   {
    "duration": 17,
    "start_time": "2022-11-26T18:38:09.904Z"
   },
   {
    "duration": 20,
    "start_time": "2022-11-26T18:38:09.923Z"
   },
   {
    "duration": 276,
    "start_time": "2022-11-26T18:38:09.945Z"
   },
   {
    "duration": 198,
    "start_time": "2022-11-26T18:38:10.222Z"
   },
   {
    "duration": 276,
    "start_time": "2022-11-26T18:38:10.423Z"
   },
   {
    "duration": 745,
    "start_time": "2022-11-26T18:38:10.701Z"
   },
   {
    "duration": 331,
    "start_time": "2022-11-26T18:38:11.449Z"
   },
   {
    "duration": 17,
    "start_time": "2022-11-26T18:38:11.782Z"
   },
   {
    "duration": 6,
    "start_time": "2022-11-26T18:38:11.801Z"
   },
   {
    "duration": 13,
    "start_time": "2022-11-26T18:38:11.808Z"
   },
   {
    "duration": 5,
    "start_time": "2022-11-26T18:38:11.823Z"
   },
   {
    "duration": 6,
    "start_time": "2022-11-26T18:38:11.830Z"
   },
   {
    "duration": 141,
    "start_time": "2022-11-26T18:38:11.837Z"
   },
   {
    "duration": 0,
    "start_time": "2022-11-26T18:38:11.980Z"
   },
   {
    "duration": 1342,
    "start_time": "2022-11-26T18:39:13.536Z"
   },
   {
    "duration": 48,
    "start_time": "2022-11-26T18:39:14.880Z"
   },
   {
    "duration": 11,
    "start_time": "2022-11-26T18:39:14.930Z"
   },
   {
    "duration": 5,
    "start_time": "2022-11-26T18:39:14.943Z"
   },
   {
    "duration": 11,
    "start_time": "2022-11-26T18:39:14.950Z"
   },
   {
    "duration": 18,
    "start_time": "2022-11-26T18:39:14.963Z"
   },
   {
    "duration": 259,
    "start_time": "2022-11-26T18:39:14.983Z"
   },
   {
    "duration": 189,
    "start_time": "2022-11-26T18:39:15.244Z"
   },
   {
    "duration": 271,
    "start_time": "2022-11-26T18:39:15.435Z"
   },
   {
    "duration": 773,
    "start_time": "2022-11-26T18:39:15.709Z"
   },
   {
    "duration": 328,
    "start_time": "2022-11-26T18:39:16.483Z"
   },
   {
    "duration": 11,
    "start_time": "2022-11-26T18:39:16.813Z"
   },
   {
    "duration": 7,
    "start_time": "2022-11-26T18:39:16.826Z"
   },
   {
    "duration": 16,
    "start_time": "2022-11-26T18:39:16.835Z"
   },
   {
    "duration": 6,
    "start_time": "2022-11-26T18:39:16.853Z"
   },
   {
    "duration": 7,
    "start_time": "2022-11-26T18:39:16.860Z"
   },
   {
    "duration": 36,
    "start_time": "2022-11-26T18:39:16.869Z"
   },
   {
    "duration": 90,
    "start_time": "2022-11-26T18:39:16.907Z"
   },
   {
    "duration": 1422,
    "start_time": "2022-11-26T18:39:57.370Z"
   },
   {
    "duration": 46,
    "start_time": "2022-11-26T18:39:58.795Z"
   },
   {
    "duration": 11,
    "start_time": "2022-11-26T18:39:58.846Z"
   },
   {
    "duration": 4,
    "start_time": "2022-11-26T18:39:58.860Z"
   },
   {
    "duration": 9,
    "start_time": "2022-11-26T18:39:58.865Z"
   },
   {
    "duration": 16,
    "start_time": "2022-11-26T18:39:58.875Z"
   },
   {
    "duration": 240,
    "start_time": "2022-11-26T18:39:58.896Z"
   },
   {
    "duration": 184,
    "start_time": "2022-11-26T18:39:59.138Z"
   },
   {
    "duration": 272,
    "start_time": "2022-11-26T18:39:59.324Z"
   },
   {
    "duration": 746,
    "start_time": "2022-11-26T18:39:59.599Z"
   },
   {
    "duration": 349,
    "start_time": "2022-11-26T18:40:00.347Z"
   },
   {
    "duration": 11,
    "start_time": "2022-11-26T18:40:00.698Z"
   },
   {
    "duration": 15,
    "start_time": "2022-11-26T18:40:00.711Z"
   },
   {
    "duration": 25,
    "start_time": "2022-11-26T18:40:00.728Z"
   },
   {
    "duration": 12,
    "start_time": "2022-11-26T18:40:00.755Z"
   },
   {
    "duration": 11,
    "start_time": "2022-11-26T18:40:00.769Z"
   },
   {
    "duration": 30,
    "start_time": "2022-11-26T18:40:00.782Z"
   },
   {
    "duration": 22,
    "start_time": "2022-11-26T18:40:00.814Z"
   },
   {
    "duration": 1486,
    "start_time": "2022-11-26T18:41:02.569Z"
   },
   {
    "duration": 65,
    "start_time": "2022-11-26T18:41:04.057Z"
   },
   {
    "duration": 15,
    "start_time": "2022-11-26T18:41:04.125Z"
   },
   {
    "duration": 72,
    "start_time": "2022-11-26T18:41:04.142Z"
   },
   {
    "duration": 16,
    "start_time": "2022-11-26T18:41:04.217Z"
   },
   {
    "duration": 62,
    "start_time": "2022-11-26T18:41:04.235Z"
   },
   {
    "duration": 613,
    "start_time": "2022-11-26T18:41:04.302Z"
   },
   {
    "duration": 490,
    "start_time": "2022-11-26T18:41:04.916Z"
   },
   {
    "duration": 895,
    "start_time": "2022-11-26T18:41:05.408Z"
   },
   {
    "duration": 968,
    "start_time": "2022-11-26T18:41:06.306Z"
   },
   {
    "duration": 415,
    "start_time": "2022-11-26T18:41:07.276Z"
   },
   {
    "duration": 12,
    "start_time": "2022-11-26T18:41:07.697Z"
   },
   {
    "duration": 395,
    "start_time": "2022-11-26T18:41:07.711Z"
   },
   {
    "duration": 17,
    "start_time": "2022-11-26T18:41:08.110Z"
   },
   {
    "duration": 7,
    "start_time": "2022-11-26T18:41:08.129Z"
   },
   {
    "duration": 26,
    "start_time": "2022-11-26T18:41:08.138Z"
   },
   {
    "duration": 25,
    "start_time": "2022-11-26T18:41:08.166Z"
   },
   {
    "duration": 104,
    "start_time": "2022-11-26T18:41:08.193Z"
   },
   {
    "duration": 1352,
    "start_time": "2022-11-26T18:43:52.553Z"
   },
   {
    "duration": 51,
    "start_time": "2022-11-26T18:43:53.907Z"
   },
   {
    "duration": 11,
    "start_time": "2022-11-26T18:43:53.960Z"
   },
   {
    "duration": 24,
    "start_time": "2022-11-26T18:43:53.972Z"
   },
   {
    "duration": 9,
    "start_time": "2022-11-26T18:43:53.998Z"
   },
   {
    "duration": 17,
    "start_time": "2022-11-26T18:43:54.009Z"
   },
   {
    "duration": 245,
    "start_time": "2022-11-26T18:43:54.028Z"
   },
   {
    "duration": 191,
    "start_time": "2022-11-26T18:43:54.275Z"
   },
   {
    "duration": 288,
    "start_time": "2022-11-26T18:43:54.467Z"
   },
   {
    "duration": 797,
    "start_time": "2022-11-26T18:43:54.756Z"
   },
   {
    "duration": 346,
    "start_time": "2022-11-26T18:43:55.555Z"
   },
   {
    "duration": 13,
    "start_time": "2022-11-26T18:43:55.903Z"
   },
   {
    "duration": 10,
    "start_time": "2022-11-26T18:43:55.918Z"
   },
   {
    "duration": 17,
    "start_time": "2022-11-26T18:43:55.931Z"
   },
   {
    "duration": 5,
    "start_time": "2022-11-26T18:43:55.950Z"
   },
   {
    "duration": 11,
    "start_time": "2022-11-26T18:43:55.957Z"
   },
   {
    "duration": 35,
    "start_time": "2022-11-26T18:43:55.969Z"
   },
   {
    "duration": 91,
    "start_time": "2022-11-26T18:43:56.006Z"
   },
   {
    "duration": 1404,
    "start_time": "2022-11-26T18:47:58.083Z"
   },
   {
    "duration": 49,
    "start_time": "2022-11-26T18:47:59.489Z"
   },
   {
    "duration": 10,
    "start_time": "2022-11-26T18:47:59.540Z"
   },
   {
    "duration": 3,
    "start_time": "2022-11-26T18:47:59.552Z"
   },
   {
    "duration": 7,
    "start_time": "2022-11-26T18:47:59.557Z"
   },
   {
    "duration": 17,
    "start_time": "2022-11-26T18:47:59.565Z"
   },
   {
    "duration": 245,
    "start_time": "2022-11-26T18:47:59.583Z"
   },
   {
    "duration": 186,
    "start_time": "2022-11-26T18:47:59.830Z"
   },
   {
    "duration": 285,
    "start_time": "2022-11-26T18:48:00.018Z"
   },
   {
    "duration": 755,
    "start_time": "2022-11-26T18:48:00.306Z"
   },
   {
    "duration": 338,
    "start_time": "2022-11-26T18:48:01.063Z"
   },
   {
    "duration": 10,
    "start_time": "2022-11-26T18:48:01.403Z"
   },
   {
    "duration": 8,
    "start_time": "2022-11-26T18:48:01.415Z"
   },
   {
    "duration": 23,
    "start_time": "2022-11-26T18:48:01.425Z"
   },
   {
    "duration": 25,
    "start_time": "2022-11-26T18:48:01.450Z"
   },
   {
    "duration": 23,
    "start_time": "2022-11-26T18:48:01.477Z"
   },
   {
    "duration": 21,
    "start_time": "2022-11-26T18:48:01.501Z"
   },
   {
    "duration": 195,
    "start_time": "2022-11-26T18:48:01.524Z"
   },
   {
    "duration": 9,
    "start_time": "2022-11-26T18:48:56.246Z"
   },
   {
    "duration": 308,
    "start_time": "2022-11-26T18:53:53.186Z"
   },
   {
    "duration": 4,
    "start_time": "2022-11-26T19:00:12.987Z"
   },
   {
    "duration": 8,
    "start_time": "2022-11-26T19:00:15.014Z"
   },
   {
    "duration": 7,
    "start_time": "2022-11-26T19:00:16.837Z"
   },
   {
    "duration": 13,
    "start_time": "2022-11-26T19:00:18.672Z"
   },
   {
    "duration": 9,
    "start_time": "2022-11-26T19:00:21.109Z"
   },
   {
    "duration": 10,
    "start_time": "2022-11-26T19:00:35.301Z"
   },
   {
    "duration": 48,
    "start_time": "2022-11-26T19:02:04.806Z"
   },
   {
    "duration": 3,
    "start_time": "2022-11-26T19:02:14.087Z"
   },
   {
    "duration": 4,
    "start_time": "2022-11-26T19:02:26.621Z"
   },
   {
    "duration": 6,
    "start_time": "2022-11-26T19:02:28.810Z"
   },
   {
    "duration": 10,
    "start_time": "2022-11-26T19:02:31.030Z"
   },
   {
    "duration": 3,
    "start_time": "2022-11-26T19:05:53.707Z"
   },
   {
    "duration": 6,
    "start_time": "2022-11-26T19:05:55.628Z"
   },
   {
    "duration": 10,
    "start_time": "2022-11-26T19:05:57.706Z"
   },
   {
    "duration": 4,
    "start_time": "2022-11-26T19:06:23.307Z"
   },
   {
    "duration": 116,
    "start_time": "2022-11-26T19:07:04.731Z"
   },
   {
    "duration": 1358,
    "start_time": "2022-11-26T19:07:30.642Z"
   },
   {
    "duration": 49,
    "start_time": "2022-11-26T19:07:32.002Z"
   },
   {
    "duration": 9,
    "start_time": "2022-11-26T19:07:32.053Z"
   },
   {
    "duration": 12,
    "start_time": "2022-11-26T19:07:32.064Z"
   },
   {
    "duration": 9,
    "start_time": "2022-11-26T19:07:32.079Z"
   },
   {
    "duration": 18,
    "start_time": "2022-11-26T19:07:32.089Z"
   },
   {
    "duration": 254,
    "start_time": "2022-11-26T19:07:32.109Z"
   },
   {
    "duration": 183,
    "start_time": "2022-11-26T19:07:32.365Z"
   },
   {
    "duration": 283,
    "start_time": "2022-11-26T19:07:32.550Z"
   },
   {
    "duration": 762,
    "start_time": "2022-11-26T19:07:32.835Z"
   },
   {
    "duration": 360,
    "start_time": "2022-11-26T19:07:33.599Z"
   },
   {
    "duration": 4,
    "start_time": "2022-11-26T19:07:33.961Z"
   },
   {
    "duration": 14,
    "start_time": "2022-11-26T19:07:33.967Z"
   },
   {
    "duration": 14,
    "start_time": "2022-11-26T19:07:33.984Z"
   },
   {
    "duration": 9,
    "start_time": "2022-11-26T19:07:33.999Z"
   },
   {
    "duration": 137,
    "start_time": "2022-11-26T19:07:34.009Z"
   },
   {
    "duration": 0,
    "start_time": "2022-11-26T19:07:34.148Z"
   },
   {
    "duration": 7,
    "start_time": "2022-11-26T19:08:13.448Z"
   },
   {
    "duration": 6,
    "start_time": "2022-11-26T19:08:15.555Z"
   },
   {
    "duration": 11,
    "start_time": "2022-11-26T19:08:23.999Z"
   },
   {
    "duration": 7,
    "start_time": "2022-11-26T19:08:32.765Z"
   },
   {
    "duration": 18,
    "start_time": "2022-11-26T19:08:35.987Z"
   },
   {
    "duration": 10,
    "start_time": "2022-11-26T19:08:38.831Z"
   },
   {
    "duration": 1323,
    "start_time": "2022-11-26T19:09:16.329Z"
   },
   {
    "duration": 50,
    "start_time": "2022-11-26T19:09:17.654Z"
   },
   {
    "duration": 9,
    "start_time": "2022-11-26T19:09:17.706Z"
   },
   {
    "duration": 7,
    "start_time": "2022-11-26T19:09:17.717Z"
   },
   {
    "duration": 6,
    "start_time": "2022-11-26T19:09:17.725Z"
   },
   {
    "duration": 19,
    "start_time": "2022-11-26T19:09:17.732Z"
   },
   {
    "duration": 255,
    "start_time": "2022-11-26T19:09:17.752Z"
   },
   {
    "duration": 204,
    "start_time": "2022-11-26T19:09:18.009Z"
   },
   {
    "duration": 265,
    "start_time": "2022-11-26T19:09:18.214Z"
   },
   {
    "duration": 755,
    "start_time": "2022-11-26T19:09:18.482Z"
   },
   {
    "duration": 331,
    "start_time": "2022-11-26T19:09:19.239Z"
   },
   {
    "duration": 3,
    "start_time": "2022-11-26T19:09:19.572Z"
   },
   {
    "duration": 24,
    "start_time": "2022-11-26T19:09:19.577Z"
   },
   {
    "duration": 6,
    "start_time": "2022-11-26T19:09:19.603Z"
   },
   {
    "duration": 13,
    "start_time": "2022-11-26T19:09:19.611Z"
   },
   {
    "duration": 15,
    "start_time": "2022-11-26T19:09:19.625Z"
   },
   {
    "duration": 155,
    "start_time": "2022-11-26T19:09:19.642Z"
   },
   {
    "duration": 1390,
    "start_time": "2022-11-26T19:09:29.909Z"
   },
   {
    "duration": 48,
    "start_time": "2022-11-26T19:09:31.301Z"
   },
   {
    "duration": 10,
    "start_time": "2022-11-26T19:09:31.350Z"
   },
   {
    "duration": 21,
    "start_time": "2022-11-26T19:09:31.362Z"
   },
   {
    "duration": 26,
    "start_time": "2022-11-26T19:09:31.385Z"
   },
   {
    "duration": 29,
    "start_time": "2022-11-26T19:09:31.413Z"
   },
   {
    "duration": 244,
    "start_time": "2022-11-26T19:09:31.443Z"
   },
   {
    "duration": 192,
    "start_time": "2022-11-26T19:09:31.689Z"
   },
   {
    "duration": 288,
    "start_time": "2022-11-26T19:09:31.883Z"
   },
   {
    "duration": 760,
    "start_time": "2022-11-26T19:09:32.173Z"
   },
   {
    "duration": 338,
    "start_time": "2022-11-26T19:09:32.935Z"
   },
   {
    "duration": 4,
    "start_time": "2022-11-26T19:09:33.275Z"
   },
   {
    "duration": 22,
    "start_time": "2022-11-26T19:09:33.280Z"
   },
   {
    "duration": 6,
    "start_time": "2022-11-26T19:09:33.303Z"
   },
   {
    "duration": 7,
    "start_time": "2022-11-26T19:09:33.310Z"
   },
   {
    "duration": 15,
    "start_time": "2022-11-26T19:09:33.318Z"
   },
   {
    "duration": 162,
    "start_time": "2022-11-26T19:09:33.335Z"
   },
   {
    "duration": 3,
    "start_time": "2022-11-26T19:10:41.474Z"
   },
   {
    "duration": 1455,
    "start_time": "2022-11-26T19:10:44.905Z"
   },
   {
    "duration": 48,
    "start_time": "2022-11-26T19:10:46.362Z"
   },
   {
    "duration": 10,
    "start_time": "2022-11-26T19:10:46.412Z"
   },
   {
    "duration": 4,
    "start_time": "2022-11-26T19:10:46.424Z"
   },
   {
    "duration": 6,
    "start_time": "2022-11-26T19:10:46.430Z"
   },
   {
    "duration": 15,
    "start_time": "2022-11-26T19:10:46.437Z"
   },
   {
    "duration": 263,
    "start_time": "2022-11-26T19:10:46.454Z"
   },
   {
    "duration": 186,
    "start_time": "2022-11-26T19:10:46.718Z"
   },
   {
    "duration": 281,
    "start_time": "2022-11-26T19:10:46.906Z"
   },
   {
    "duration": 732,
    "start_time": "2022-11-26T19:10:47.189Z"
   },
   {
    "duration": 339,
    "start_time": "2022-11-26T19:10:47.923Z"
   },
   {
    "duration": 4,
    "start_time": "2022-11-26T19:10:48.264Z"
   },
   {
    "duration": 28,
    "start_time": "2022-11-26T19:10:48.269Z"
   },
   {
    "duration": 6,
    "start_time": "2022-11-26T19:10:48.299Z"
   },
   {
    "duration": 9,
    "start_time": "2022-11-26T19:10:48.306Z"
   },
   {
    "duration": 80,
    "start_time": "2022-11-26T19:10:48.317Z"
   },
   {
    "duration": 99,
    "start_time": "2022-11-26T19:10:48.398Z"
   },
   {
    "duration": 1400,
    "start_time": "2022-11-26T19:11:24.315Z"
   },
   {
    "duration": 47,
    "start_time": "2022-11-26T19:11:25.717Z"
   },
   {
    "duration": 10,
    "start_time": "2022-11-26T19:11:25.765Z"
   },
   {
    "duration": 3,
    "start_time": "2022-11-26T19:11:25.777Z"
   },
   {
    "duration": 5,
    "start_time": "2022-11-26T19:11:25.782Z"
   },
   {
    "duration": 17,
    "start_time": "2022-11-26T19:11:25.789Z"
   },
   {
    "duration": 259,
    "start_time": "2022-11-26T19:11:25.808Z"
   },
   {
    "duration": 245,
    "start_time": "2022-11-26T19:11:26.070Z"
   },
   {
    "duration": 277,
    "start_time": "2022-11-26T19:11:26.317Z"
   },
   {
    "duration": 740,
    "start_time": "2022-11-26T19:11:26.597Z"
   },
   {
    "duration": 334,
    "start_time": "2022-11-26T19:11:27.339Z"
   },
   {
    "duration": 4,
    "start_time": "2022-11-26T19:11:27.674Z"
   },
   {
    "duration": 24,
    "start_time": "2022-11-26T19:11:27.680Z"
   },
   {
    "duration": 5,
    "start_time": "2022-11-26T19:11:27.706Z"
   },
   {
    "duration": 8,
    "start_time": "2022-11-26T19:11:27.713Z"
   },
   {
    "duration": 76,
    "start_time": "2022-11-26T19:11:27.722Z"
   },
   {
    "duration": 98,
    "start_time": "2022-11-26T19:11:27.800Z"
   },
   {
    "duration": 1435,
    "start_time": "2022-11-26T19:12:26.470Z"
   },
   {
    "duration": 47,
    "start_time": "2022-11-26T19:12:27.907Z"
   },
   {
    "duration": 11,
    "start_time": "2022-11-26T19:12:27.956Z"
   },
   {
    "duration": 9,
    "start_time": "2022-11-26T19:12:27.969Z"
   },
   {
    "duration": 4,
    "start_time": "2022-11-26T19:12:27.981Z"
   },
   {
    "duration": 16,
    "start_time": "2022-11-26T19:12:27.986Z"
   },
   {
    "duration": 238,
    "start_time": "2022-11-26T19:12:28.003Z"
   },
   {
    "duration": 184,
    "start_time": "2022-11-26T19:12:28.243Z"
   },
   {
    "duration": 289,
    "start_time": "2022-11-26T19:12:28.429Z"
   },
   {
    "duration": 733,
    "start_time": "2022-11-26T19:12:28.720Z"
   },
   {
    "duration": 321,
    "start_time": "2022-11-26T19:12:29.455Z"
   },
   {
    "duration": 4,
    "start_time": "2022-11-26T19:12:29.778Z"
   },
   {
    "duration": 22,
    "start_time": "2022-11-26T19:12:29.784Z"
   },
   {
    "duration": 6,
    "start_time": "2022-11-26T19:12:29.809Z"
   },
   {
    "duration": 6,
    "start_time": "2022-11-26T19:12:29.817Z"
   },
   {
    "duration": 70,
    "start_time": "2022-11-26T19:12:29.825Z"
   },
   {
    "duration": 109,
    "start_time": "2022-11-26T19:12:29.897Z"
   },
   {
    "duration": 4,
    "start_time": "2022-11-26T19:13:02.074Z"
   },
   {
    "duration": 1404,
    "start_time": "2022-11-26T19:13:33.576Z"
   },
   {
    "duration": 48,
    "start_time": "2022-11-26T19:13:34.982Z"
   },
   {
    "duration": 10,
    "start_time": "2022-11-26T19:13:35.031Z"
   },
   {
    "duration": 8,
    "start_time": "2022-11-26T19:13:35.043Z"
   },
   {
    "duration": 7,
    "start_time": "2022-11-26T19:13:35.054Z"
   },
   {
    "duration": 19,
    "start_time": "2022-11-26T19:13:35.062Z"
   },
   {
    "duration": 261,
    "start_time": "2022-11-26T19:13:35.082Z"
   },
   {
    "duration": 182,
    "start_time": "2022-11-26T19:13:35.345Z"
   },
   {
    "duration": 273,
    "start_time": "2022-11-26T19:13:35.529Z"
   },
   {
    "duration": 801,
    "start_time": "2022-11-26T19:13:35.804Z"
   },
   {
    "duration": 330,
    "start_time": "2022-11-26T19:13:36.607Z"
   },
   {
    "duration": 4,
    "start_time": "2022-11-26T19:13:36.938Z"
   },
   {
    "duration": 16,
    "start_time": "2022-11-26T19:13:36.944Z"
   },
   {
    "duration": 6,
    "start_time": "2022-11-26T19:13:36.963Z"
   },
   {
    "duration": 27,
    "start_time": "2022-11-26T19:13:36.970Z"
   },
   {
    "duration": 15,
    "start_time": "2022-11-26T19:13:36.999Z"
   },
   {
    "duration": 181,
    "start_time": "2022-11-26T19:13:37.016Z"
   },
   {
    "duration": 1387,
    "start_time": "2022-11-26T19:16:49.927Z"
   },
   {
    "duration": 47,
    "start_time": "2022-11-26T19:16:51.316Z"
   },
   {
    "duration": 10,
    "start_time": "2022-11-26T19:16:51.364Z"
   },
   {
    "duration": 3,
    "start_time": "2022-11-26T19:16:51.376Z"
   },
   {
    "duration": 6,
    "start_time": "2022-11-26T19:16:51.381Z"
   },
   {
    "duration": 17,
    "start_time": "2022-11-26T19:16:51.388Z"
   },
   {
    "duration": 248,
    "start_time": "2022-11-26T19:16:51.407Z"
   },
   {
    "duration": 189,
    "start_time": "2022-11-26T19:16:51.657Z"
   },
   {
    "duration": 283,
    "start_time": "2022-11-26T19:16:51.847Z"
   },
   {
    "duration": 733,
    "start_time": "2022-11-26T19:16:52.132Z"
   },
   {
    "duration": 329,
    "start_time": "2022-11-26T19:16:52.867Z"
   },
   {
    "duration": 4,
    "start_time": "2022-11-26T19:16:53.198Z"
   },
   {
    "duration": 19,
    "start_time": "2022-11-26T19:16:53.203Z"
   },
   {
    "duration": 5,
    "start_time": "2022-11-26T19:16:53.225Z"
   },
   {
    "duration": 19,
    "start_time": "2022-11-26T19:16:53.231Z"
   },
   {
    "duration": 46,
    "start_time": "2022-11-26T19:16:53.252Z"
   },
   {
    "duration": 205,
    "start_time": "2022-11-26T19:16:53.300Z"
   },
   {
    "duration": 8,
    "start_time": "2022-11-26T19:17:21.769Z"
   },
   {
    "duration": 24,
    "start_time": "2022-11-26T19:18:03.985Z"
   },
   {
    "duration": 23,
    "start_time": "2022-11-26T19:18:18.536Z"
   },
   {
    "duration": 1454,
    "start_time": "2022-11-26T19:18:46.575Z"
   },
   {
    "duration": 49,
    "start_time": "2022-11-26T19:18:48.030Z"
   },
   {
    "duration": 11,
    "start_time": "2022-11-26T19:18:48.080Z"
   },
   {
    "duration": 5,
    "start_time": "2022-11-26T19:18:48.093Z"
   },
   {
    "duration": 11,
    "start_time": "2022-11-26T19:18:48.100Z"
   },
   {
    "duration": 18,
    "start_time": "2022-11-26T19:18:48.112Z"
   },
   {
    "duration": 245,
    "start_time": "2022-11-26T19:18:48.132Z"
   },
   {
    "duration": 192,
    "start_time": "2022-11-26T19:18:48.379Z"
   },
   {
    "duration": 287,
    "start_time": "2022-11-26T19:18:48.573Z"
   },
   {
    "duration": 767,
    "start_time": "2022-11-26T19:18:48.862Z"
   },
   {
    "duration": 342,
    "start_time": "2022-11-26T19:18:49.631Z"
   },
   {
    "duration": 4,
    "start_time": "2022-11-26T19:18:49.976Z"
   },
   {
    "duration": 26,
    "start_time": "2022-11-26T19:18:49.982Z"
   },
   {
    "duration": 7,
    "start_time": "2022-11-26T19:18:50.011Z"
   },
   {
    "duration": 10,
    "start_time": "2022-11-26T19:18:50.019Z"
   },
   {
    "duration": 67,
    "start_time": "2022-11-26T19:18:50.030Z"
   },
   {
    "duration": 105,
    "start_time": "2022-11-26T19:18:50.100Z"
   },
   {
    "duration": 1513,
    "start_time": "2022-11-26T19:18:58.973Z"
   },
   {
    "duration": 49,
    "start_time": "2022-11-26T19:19:00.488Z"
   },
   {
    "duration": 16,
    "start_time": "2022-11-26T19:19:00.540Z"
   },
   {
    "duration": 39,
    "start_time": "2022-11-26T19:19:00.558Z"
   },
   {
    "duration": 58,
    "start_time": "2022-11-26T19:19:00.601Z"
   },
   {
    "duration": 31,
    "start_time": "2022-11-26T19:19:00.661Z"
   },
   {
    "duration": 259,
    "start_time": "2022-11-26T19:19:00.694Z"
   },
   {
    "duration": 202,
    "start_time": "2022-11-26T19:19:00.955Z"
   },
   {
    "duration": 298,
    "start_time": "2022-11-26T19:19:01.159Z"
   },
   {
    "duration": 798,
    "start_time": "2022-11-26T19:19:01.459Z"
   },
   {
    "duration": 351,
    "start_time": "2022-11-26T19:19:02.259Z"
   },
   {
    "duration": 4,
    "start_time": "2022-11-26T19:19:02.612Z"
   },
   {
    "duration": 21,
    "start_time": "2022-11-26T19:19:02.618Z"
   },
   {
    "duration": 6,
    "start_time": "2022-11-26T19:19:02.641Z"
   },
   {
    "duration": 10,
    "start_time": "2022-11-26T19:19:02.649Z"
   },
   {
    "duration": 46,
    "start_time": "2022-11-26T19:19:02.661Z"
   },
   {
    "duration": 188,
    "start_time": "2022-11-26T19:19:02.709Z"
   },
   {
    "duration": 1403,
    "start_time": "2022-11-26T19:19:12.679Z"
   },
   {
    "duration": 49,
    "start_time": "2022-11-26T19:19:14.084Z"
   },
   {
    "duration": 10,
    "start_time": "2022-11-26T19:19:14.135Z"
   },
   {
    "duration": 10,
    "start_time": "2022-11-26T19:19:14.146Z"
   },
   {
    "duration": 8,
    "start_time": "2022-11-26T19:19:14.159Z"
   },
   {
    "duration": 24,
    "start_time": "2022-11-26T19:19:14.169Z"
   },
   {
    "duration": 249,
    "start_time": "2022-11-26T19:19:14.195Z"
   },
   {
    "duration": 206,
    "start_time": "2022-11-26T19:19:14.446Z"
   },
   {
    "duration": 297,
    "start_time": "2022-11-26T19:19:14.654Z"
   },
   {
    "duration": 785,
    "start_time": "2022-11-26T19:19:14.953Z"
   },
   {
    "duration": 368,
    "start_time": "2022-11-26T19:19:15.740Z"
   },
   {
    "duration": 4,
    "start_time": "2022-11-26T19:19:16.110Z"
   },
   {
    "duration": 28,
    "start_time": "2022-11-26T19:19:16.116Z"
   },
   {
    "duration": 9,
    "start_time": "2022-11-26T19:19:16.147Z"
   },
   {
    "duration": 20,
    "start_time": "2022-11-26T19:19:16.159Z"
   },
   {
    "duration": 38,
    "start_time": "2022-11-26T19:19:16.181Z"
   },
   {
    "duration": 189,
    "start_time": "2022-11-26T19:19:16.221Z"
   },
   {
    "duration": 5,
    "start_time": "2022-11-26T19:43:48.432Z"
   },
   {
    "duration": 20,
    "start_time": "2022-11-26T19:44:47.301Z"
   },
   {
    "duration": 122,
    "start_time": "2022-11-26T19:44:59.968Z"
   },
   {
    "duration": 17,
    "start_time": "2022-11-26T19:45:10.653Z"
   },
   {
    "duration": 10,
    "start_time": "2022-11-26T19:46:08.598Z"
   },
   {
    "duration": 11,
    "start_time": "2022-11-26T19:46:27.999Z"
   },
   {
    "duration": 2766,
    "start_time": "2022-11-26T19:46:38.133Z"
   },
   {
    "duration": 11,
    "start_time": "2022-11-26T19:47:13.470Z"
   },
   {
    "duration": 6,
    "start_time": "2022-11-26T19:49:15.326Z"
   },
   {
    "duration": 2205,
    "start_time": "2022-11-26T19:49:24.084Z"
   },
   {
    "duration": 2271,
    "start_time": "2022-11-26T19:50:53.986Z"
   },
   {
    "duration": 2191,
    "start_time": "2022-11-26T19:51:27.799Z"
   },
   {
    "duration": 10,
    "start_time": "2022-11-26T19:52:03.978Z"
   },
   {
    "duration": 6,
    "start_time": "2022-11-26T19:52:18.477Z"
   },
   {
    "duration": 2141,
    "start_time": "2022-11-26T19:52:41.983Z"
   },
   {
    "duration": 6,
    "start_time": "2022-11-26T19:52:45.686Z"
   },
   {
    "duration": 8517,
    "start_time": "2022-11-26T19:53:21.536Z"
   },
   {
    "duration": 7,
    "start_time": "2022-11-26T19:53:34.752Z"
   },
   {
    "duration": 6,
    "start_time": "2022-11-26T19:53:37.023Z"
   },
   {
    "duration": 1364,
    "start_time": "2022-11-26T19:53:41.549Z"
   },
   {
    "duration": 50,
    "start_time": "2022-11-26T19:53:42.916Z"
   },
   {
    "duration": 11,
    "start_time": "2022-11-26T19:53:42.968Z"
   },
   {
    "duration": 6,
    "start_time": "2022-11-26T19:53:42.980Z"
   },
   {
    "duration": 8,
    "start_time": "2022-11-26T19:53:42.988Z"
   },
   {
    "duration": 17,
    "start_time": "2022-11-26T19:53:42.997Z"
   },
   {
    "duration": 266,
    "start_time": "2022-11-26T19:53:43.015Z"
   },
   {
    "duration": 219,
    "start_time": "2022-11-26T19:53:43.283Z"
   },
   {
    "duration": 371,
    "start_time": "2022-11-26T19:53:43.504Z"
   },
   {
    "duration": 707,
    "start_time": "2022-11-26T19:53:43.878Z"
   },
   {
    "duration": 360,
    "start_time": "2022-11-26T19:53:44.587Z"
   },
   {
    "duration": 4,
    "start_time": "2022-11-26T19:53:44.948Z"
   },
   {
    "duration": 26,
    "start_time": "2022-11-26T19:53:44.954Z"
   },
   {
    "duration": 21,
    "start_time": "2022-11-26T19:53:44.982Z"
   },
   {
    "duration": 134,
    "start_time": "2022-11-26T19:53:45.005Z"
   },
   {
    "duration": 0,
    "start_time": "2022-11-26T19:53:45.141Z"
   },
   {
    "duration": 0,
    "start_time": "2022-11-26T19:53:45.142Z"
   },
   {
    "duration": 0,
    "start_time": "2022-11-26T19:53:45.143Z"
   },
   {
    "duration": 0,
    "start_time": "2022-11-26T19:53:45.144Z"
   },
   {
    "duration": 1457,
    "start_time": "2022-11-26T19:54:09.109Z"
   },
   {
    "duration": 51,
    "start_time": "2022-11-26T19:54:10.568Z"
   },
   {
    "duration": 10,
    "start_time": "2022-11-26T19:54:10.621Z"
   },
   {
    "duration": 4,
    "start_time": "2022-11-26T19:54:10.633Z"
   },
   {
    "duration": 7,
    "start_time": "2022-11-26T19:54:10.638Z"
   },
   {
    "duration": 16,
    "start_time": "2022-11-26T19:54:10.646Z"
   },
   {
    "duration": 277,
    "start_time": "2022-11-26T19:54:10.663Z"
   },
   {
    "duration": 196,
    "start_time": "2022-11-26T19:54:10.942Z"
   },
   {
    "duration": 371,
    "start_time": "2022-11-26T19:54:11.140Z"
   },
   {
    "duration": 712,
    "start_time": "2022-11-26T19:54:11.513Z"
   },
   {
    "duration": 342,
    "start_time": "2022-11-26T19:54:12.227Z"
   },
   {
    "duration": 4,
    "start_time": "2022-11-26T19:54:12.571Z"
   },
   {
    "duration": 33,
    "start_time": "2022-11-26T19:54:12.576Z"
   },
   {
    "duration": 12,
    "start_time": "2022-11-26T19:54:12.612Z"
   },
   {
    "duration": 5,
    "start_time": "2022-11-26T19:54:12.625Z"
   },
   {
    "duration": 9,
    "start_time": "2022-11-26T19:54:12.631Z"
   },
   {
    "duration": 62,
    "start_time": "2022-11-26T19:54:12.641Z"
   },
   {
    "duration": 9008,
    "start_time": "2022-11-26T19:54:12.705Z"
   },
   {
    "duration": 6,
    "start_time": "2022-11-26T19:54:21.715Z"
   },
   {
    "duration": 1384,
    "start_time": "2022-11-26T19:54:57.893Z"
   },
   {
    "duration": 47,
    "start_time": "2022-11-26T19:54:59.279Z"
   },
   {
    "duration": 9,
    "start_time": "2022-11-26T19:54:59.328Z"
   },
   {
    "duration": 4,
    "start_time": "2022-11-26T19:54:59.339Z"
   },
   {
    "duration": 6,
    "start_time": "2022-11-26T19:54:59.345Z"
   },
   {
    "duration": 16,
    "start_time": "2022-11-26T19:54:59.353Z"
   },
   {
    "duration": 267,
    "start_time": "2022-11-26T19:54:59.370Z"
   },
   {
    "duration": 198,
    "start_time": "2022-11-26T19:54:59.639Z"
   },
   {
    "duration": 366,
    "start_time": "2022-11-26T19:54:59.839Z"
   },
   {
    "duration": 725,
    "start_time": "2022-11-26T19:55:00.207Z"
   },
   {
    "duration": 356,
    "start_time": "2022-11-26T19:55:00.934Z"
   },
   {
    "duration": 5,
    "start_time": "2022-11-26T19:55:01.292Z"
   },
   {
    "duration": 22,
    "start_time": "2022-11-26T19:55:01.299Z"
   },
   {
    "duration": 20,
    "start_time": "2022-11-26T19:55:01.323Z"
   },
   {
    "duration": 5,
    "start_time": "2022-11-26T19:55:01.345Z"
   },
   {
    "duration": 11,
    "start_time": "2022-11-26T19:55:01.351Z"
   },
   {
    "duration": 36,
    "start_time": "2022-11-26T19:55:01.364Z"
   },
   {
    "duration": 10291,
    "start_time": "2022-11-26T19:55:01.401Z"
   },
   {
    "duration": 8,
    "start_time": "2022-11-26T19:55:11.694Z"
   },
   {
    "duration": 1533,
    "start_time": "2022-11-26T19:55:31.480Z"
   },
   {
    "duration": 49,
    "start_time": "2022-11-26T19:55:33.016Z"
   },
   {
    "duration": 10,
    "start_time": "2022-11-26T19:55:33.067Z"
   },
   {
    "duration": 7,
    "start_time": "2022-11-26T19:55:33.080Z"
   },
   {
    "duration": 22,
    "start_time": "2022-11-26T19:55:33.089Z"
   },
   {
    "duration": 21,
    "start_time": "2022-11-26T19:55:33.113Z"
   },
   {
    "duration": 245,
    "start_time": "2022-11-26T19:55:33.136Z"
   },
   {
    "duration": 202,
    "start_time": "2022-11-26T19:55:33.383Z"
   },
   {
    "duration": 389,
    "start_time": "2022-11-26T19:55:33.587Z"
   },
   {
    "duration": 783,
    "start_time": "2022-11-26T19:55:33.979Z"
   },
   {
    "duration": 350,
    "start_time": "2022-11-26T19:55:34.764Z"
   },
   {
    "duration": 4,
    "start_time": "2022-11-26T19:55:35.116Z"
   },
   {
    "duration": 34,
    "start_time": "2022-11-26T19:55:35.122Z"
   },
   {
    "duration": 17,
    "start_time": "2022-11-26T19:55:35.158Z"
   },
   {
    "duration": 21,
    "start_time": "2022-11-26T19:55:35.177Z"
   },
   {
    "duration": 19,
    "start_time": "2022-11-26T19:55:35.200Z"
   },
   {
    "duration": 76,
    "start_time": "2022-11-26T19:55:35.221Z"
   },
   {
    "duration": 8196,
    "start_time": "2022-11-26T19:55:35.299Z"
   },
   {
    "duration": 7,
    "start_time": "2022-11-26T19:55:43.497Z"
   },
   {
    "duration": 1408,
    "start_time": "2022-11-26T19:56:09.217Z"
   },
   {
    "duration": 46,
    "start_time": "2022-11-26T19:56:10.627Z"
   },
   {
    "duration": 11,
    "start_time": "2022-11-26T19:56:10.675Z"
   },
   {
    "duration": 4,
    "start_time": "2022-11-26T19:56:10.688Z"
   },
   {
    "duration": 6,
    "start_time": "2022-11-26T19:56:10.695Z"
   },
   {
    "duration": 18,
    "start_time": "2022-11-26T19:56:10.702Z"
   },
   {
    "duration": 245,
    "start_time": "2022-11-26T19:56:10.722Z"
   },
   {
    "duration": 181,
    "start_time": "2022-11-26T19:56:10.968Z"
   },
   {
    "duration": 347,
    "start_time": "2022-11-26T19:56:11.151Z"
   },
   {
    "duration": 653,
    "start_time": "2022-11-26T19:56:11.500Z"
   },
   {
    "duration": 319,
    "start_time": "2022-11-26T19:56:12.155Z"
   },
   {
    "duration": 4,
    "start_time": "2022-11-26T19:56:12.475Z"
   },
   {
    "duration": 25,
    "start_time": "2022-11-26T19:56:12.480Z"
   },
   {
    "duration": 10,
    "start_time": "2022-11-26T19:56:12.508Z"
   },
   {
    "duration": 4,
    "start_time": "2022-11-26T19:56:12.520Z"
   },
   {
    "duration": 11,
    "start_time": "2022-11-26T19:56:12.525Z"
   },
   {
    "duration": 72,
    "start_time": "2022-11-26T19:56:12.537Z"
   },
   {
    "duration": 11104,
    "start_time": "2022-11-26T19:56:12.697Z"
   },
   {
    "duration": 6,
    "start_time": "2022-11-26T19:56:23.803Z"
   },
   {
    "duration": 1900,
    "start_time": "2022-11-26T19:56:35.452Z"
   },
   {
    "duration": 47,
    "start_time": "2022-11-26T19:56:37.353Z"
   },
   {
    "duration": 10,
    "start_time": "2022-11-26T19:56:37.401Z"
   },
   {
    "duration": 20,
    "start_time": "2022-11-26T19:56:37.413Z"
   },
   {
    "duration": 16,
    "start_time": "2022-11-26T19:56:37.435Z"
   },
   {
    "duration": 28,
    "start_time": "2022-11-26T19:56:37.453Z"
   },
   {
    "duration": 234,
    "start_time": "2022-11-26T19:56:37.483Z"
   },
   {
    "duration": 190,
    "start_time": "2022-11-26T19:56:37.719Z"
   },
   {
    "duration": 349,
    "start_time": "2022-11-26T19:56:37.910Z"
   },
   {
    "duration": 676,
    "start_time": "2022-11-26T19:56:38.261Z"
   },
   {
    "duration": 335,
    "start_time": "2022-11-26T19:56:38.939Z"
   },
   {
    "duration": 4,
    "start_time": "2022-11-26T19:56:39.276Z"
   },
   {
    "duration": 24,
    "start_time": "2022-11-26T19:56:39.282Z"
   },
   {
    "duration": 11,
    "start_time": "2022-11-26T19:56:39.308Z"
   },
   {
    "duration": 5,
    "start_time": "2022-11-26T19:56:39.321Z"
   },
   {
    "duration": 11,
    "start_time": "2022-11-26T19:56:39.327Z"
   },
   {
    "duration": 62,
    "start_time": "2022-11-26T19:56:39.339Z"
   },
   {
    "duration": 2547,
    "start_time": "2022-11-26T19:56:39.402Z"
   },
   {
    "duration": 7,
    "start_time": "2022-11-26T19:56:41.951Z"
   },
   {
    "duration": 1393,
    "start_time": "2022-11-26T19:57:06.373Z"
   },
   {
    "duration": 46,
    "start_time": "2022-11-26T19:57:07.769Z"
   },
   {
    "duration": 10,
    "start_time": "2022-11-26T19:57:07.819Z"
   },
   {
    "duration": 5,
    "start_time": "2022-11-26T19:57:07.831Z"
   },
   {
    "duration": 6,
    "start_time": "2022-11-26T19:57:07.838Z"
   },
   {
    "duration": 20,
    "start_time": "2022-11-26T19:57:07.845Z"
   },
   {
    "duration": 280,
    "start_time": "2022-11-26T19:57:07.866Z"
   },
   {
    "duration": 183,
    "start_time": "2022-11-26T19:57:08.148Z"
   },
   {
    "duration": 370,
    "start_time": "2022-11-26T19:57:08.334Z"
   },
   {
    "duration": 651,
    "start_time": "2022-11-26T19:57:08.706Z"
   },
   {
    "duration": 340,
    "start_time": "2022-11-26T19:57:09.359Z"
   },
   {
    "duration": 5,
    "start_time": "2022-11-26T19:57:09.701Z"
   },
   {
    "duration": 32,
    "start_time": "2022-11-26T19:57:09.707Z"
   },
   {
    "duration": 15,
    "start_time": "2022-11-26T19:57:09.742Z"
   },
   {
    "duration": 7,
    "start_time": "2022-11-26T19:57:09.759Z"
   },
   {
    "duration": 18,
    "start_time": "2022-11-26T19:57:09.769Z"
   },
   {
    "duration": 44,
    "start_time": "2022-11-26T19:57:09.789Z"
   },
   {
    "duration": 6303,
    "start_time": "2022-11-26T19:57:09.835Z"
   },
   {
    "duration": 9,
    "start_time": "2022-11-26T19:57:16.140Z"
   },
   {
    "duration": 22,
    "start_time": "2022-11-26T19:58:40.332Z"
   },
   {
    "duration": 12,
    "start_time": "2022-11-26T19:58:44.599Z"
   },
   {
    "duration": 6,
    "start_time": "2022-11-26T19:59:01.184Z"
   },
   {
    "duration": 55,
    "start_time": "2022-11-26T20:01:13.032Z"
   },
   {
    "duration": 1409,
    "start_time": "2022-11-26T20:07:49.143Z"
   },
   {
    "duration": 47,
    "start_time": "2022-11-26T20:07:50.554Z"
   },
   {
    "duration": 11,
    "start_time": "2022-11-26T20:07:50.603Z"
   },
   {
    "duration": 6,
    "start_time": "2022-11-26T20:07:50.616Z"
   },
   {
    "duration": 7,
    "start_time": "2022-11-26T20:07:50.623Z"
   },
   {
    "duration": 17,
    "start_time": "2022-11-26T20:07:50.632Z"
   },
   {
    "duration": 274,
    "start_time": "2022-11-26T20:07:50.651Z"
   },
   {
    "duration": 198,
    "start_time": "2022-11-26T20:07:50.926Z"
   },
   {
    "duration": 355,
    "start_time": "2022-11-26T20:07:51.126Z"
   },
   {
    "duration": 662,
    "start_time": "2022-11-26T20:07:51.483Z"
   },
   {
    "duration": 340,
    "start_time": "2022-11-26T20:07:52.147Z"
   },
   {
    "duration": 8,
    "start_time": "2022-11-26T20:07:52.488Z"
   },
   {
    "duration": 11,
    "start_time": "2022-11-26T20:07:52.499Z"
   },
   {
    "duration": 11,
    "start_time": "2022-11-26T20:07:52.512Z"
   },
   {
    "duration": 8,
    "start_time": "2022-11-26T20:07:52.524Z"
   },
   {
    "duration": 12,
    "start_time": "2022-11-26T20:07:52.534Z"
   },
   {
    "duration": 58,
    "start_time": "2022-11-26T20:07:52.548Z"
   },
   {
    "duration": 4923,
    "start_time": "2022-11-26T20:07:52.696Z"
   },
   {
    "duration": 6,
    "start_time": "2022-11-26T20:07:57.621Z"
   },
   {
    "duration": 1535,
    "start_time": "2022-11-27T02:53:16.507Z"
   },
   {
    "duration": 114,
    "start_time": "2022-11-27T02:53:18.044Z"
   },
   {
    "duration": 10,
    "start_time": "2022-11-27T02:53:18.159Z"
   },
   {
    "duration": 3,
    "start_time": "2022-11-27T02:53:18.171Z"
   },
   {
    "duration": 7,
    "start_time": "2022-11-27T02:53:18.175Z"
   },
   {
    "duration": 15,
    "start_time": "2022-11-27T02:53:18.183Z"
   },
   {
    "duration": 211,
    "start_time": "2022-11-27T02:53:18.199Z"
   },
   {
    "duration": 226,
    "start_time": "2022-11-27T02:53:18.412Z"
   },
   {
    "duration": 242,
    "start_time": "2022-11-27T02:53:18.639Z"
   },
   {
    "duration": 651,
    "start_time": "2022-11-27T02:53:18.884Z"
   },
   {
    "duration": 303,
    "start_time": "2022-11-27T02:53:19.537Z"
   },
   {
    "duration": 3,
    "start_time": "2022-11-27T02:53:19.842Z"
   },
   {
    "duration": 14,
    "start_time": "2022-11-27T02:53:19.847Z"
   },
   {
    "duration": 9,
    "start_time": "2022-11-27T02:53:19.862Z"
   },
   {
    "duration": 5,
    "start_time": "2022-11-27T02:53:19.873Z"
   },
   {
    "duration": 7,
    "start_time": "2022-11-27T02:53:19.879Z"
   },
   {
    "duration": 37,
    "start_time": "2022-11-27T02:53:19.888Z"
   },
   {
    "duration": 4953,
    "start_time": "2022-11-27T02:53:19.927Z"
   },
   {
    "duration": 107,
    "start_time": "2022-11-27T02:53:24.881Z"
   },
   {
    "duration": 0,
    "start_time": "2022-11-27T02:53:24.989Z"
   },
   {
    "duration": 1282,
    "start_time": "2022-11-27T02:53:37.878Z"
   },
   {
    "duration": 26593,
    "start_time": "2022-11-27T02:54:25.268Z"
   },
   {
    "duration": 25926,
    "start_time": "2022-11-27T02:56:14.982Z"
   },
   {
    "duration": 7,
    "start_time": "2022-11-27T02:58:07.340Z"
   },
   {
    "duration": 8,
    "start_time": "2022-11-27T02:59:05.135Z"
   },
   {
    "duration": 12,
    "start_time": "2022-11-27T02:59:33.168Z"
   },
   {
    "duration": 12123,
    "start_time": "2022-11-27T03:01:58.930Z"
   },
   {
    "duration": 20,
    "start_time": "2022-11-27T03:03:12.339Z"
   },
   {
    "duration": 4802,
    "start_time": "2022-11-27T03:04:26.221Z"
   },
   {
    "duration": 14,
    "start_time": "2022-11-27T03:04:46.177Z"
   },
   {
    "duration": 1301,
    "start_time": "2022-11-27T03:04:54.881Z"
   },
   {
    "duration": 47,
    "start_time": "2022-11-27T03:04:56.184Z"
   },
   {
    "duration": 9,
    "start_time": "2022-11-27T03:04:56.232Z"
   },
   {
    "duration": 10,
    "start_time": "2022-11-27T03:04:56.243Z"
   },
   {
    "duration": 5,
    "start_time": "2022-11-27T03:04:56.254Z"
   },
   {
    "duration": 20,
    "start_time": "2022-11-27T03:04:56.260Z"
   },
   {
    "duration": 209,
    "start_time": "2022-11-27T03:04:56.282Z"
   },
   {
    "duration": 163,
    "start_time": "2022-11-27T03:04:56.493Z"
   },
   {
    "duration": 308,
    "start_time": "2022-11-27T03:04:56.657Z"
   },
   {
    "duration": 609,
    "start_time": "2022-11-27T03:04:56.968Z"
   },
   {
    "duration": 296,
    "start_time": "2022-11-27T03:04:57.579Z"
   },
   {
    "duration": 4,
    "start_time": "2022-11-27T03:04:57.877Z"
   },
   {
    "duration": 16,
    "start_time": "2022-11-27T03:04:57.883Z"
   },
   {
    "duration": 20,
    "start_time": "2022-11-27T03:04:57.901Z"
   },
   {
    "duration": 4,
    "start_time": "2022-11-27T03:04:57.922Z"
   },
   {
    "duration": 10,
    "start_time": "2022-11-27T03:04:57.928Z"
   },
   {
    "duration": 19,
    "start_time": "2022-11-27T03:04:57.939Z"
   },
   {
    "duration": 5672,
    "start_time": "2022-11-27T03:04:57.960Z"
   },
   {
    "duration": 4931,
    "start_time": "2022-11-27T03:05:03.634Z"
   },
   {
    "duration": 114,
    "start_time": "2022-11-27T03:05:08.567Z"
   },
   {
    "duration": 0,
    "start_time": "2022-11-27T03:05:08.683Z"
   },
   {
    "duration": 6,
    "start_time": "2022-11-27T03:05:21.992Z"
   },
   {
    "duration": 16,
    "start_time": "2022-11-27T03:05:24.188Z"
   },
   {
    "duration": 2121,
    "start_time": "2022-11-27T03:05:43.746Z"
   },
   {
    "duration": 13,
    "start_time": "2022-11-27T03:05:59.106Z"
   },
   {
    "duration": 1306,
    "start_time": "2022-11-27T03:08:10.161Z"
   },
   {
    "duration": 48,
    "start_time": "2022-11-27T03:08:11.469Z"
   },
   {
    "duration": 10,
    "start_time": "2022-11-27T03:08:11.519Z"
   },
   {
    "duration": 9,
    "start_time": "2022-11-27T03:08:11.531Z"
   },
   {
    "duration": 11,
    "start_time": "2022-11-27T03:08:11.542Z"
   },
   {
    "duration": 20,
    "start_time": "2022-11-27T03:08:11.555Z"
   },
   {
    "duration": 234,
    "start_time": "2022-11-27T03:08:11.577Z"
   },
   {
    "duration": 180,
    "start_time": "2022-11-27T03:08:11.812Z"
   },
   {
    "duration": 360,
    "start_time": "2022-11-27T03:08:11.993Z"
   },
   {
    "duration": 657,
    "start_time": "2022-11-27T03:08:12.355Z"
   },
   {
    "duration": 302,
    "start_time": "2022-11-27T03:08:13.014Z"
   },
   {
    "duration": 4,
    "start_time": "2022-11-27T03:08:13.317Z"
   },
   {
    "duration": 15,
    "start_time": "2022-11-27T03:08:13.323Z"
   },
   {
    "duration": 10,
    "start_time": "2022-11-27T03:08:13.339Z"
   },
   {
    "duration": 3,
    "start_time": "2022-11-27T03:08:13.351Z"
   },
   {
    "duration": 14,
    "start_time": "2022-11-27T03:08:13.356Z"
   },
   {
    "duration": 52,
    "start_time": "2022-11-27T03:08:13.372Z"
   },
   {
    "duration": 4739,
    "start_time": "2022-11-27T03:08:13.425Z"
   },
   {
    "duration": 2040,
    "start_time": "2022-11-27T03:08:18.165Z"
   },
   {
    "duration": 17,
    "start_time": "2022-11-27T03:08:20.206Z"
   },
   {
    "duration": 14,
    "start_time": "2022-11-27T03:08:20.224Z"
   },
   {
    "duration": 109,
    "start_time": "2022-11-27T03:10:18.019Z"
   },
   {
    "duration": 17,
    "start_time": "2022-11-27T03:10:47.162Z"
   },
   {
    "duration": 1334,
    "start_time": "2022-11-27T03:12:09.527Z"
   },
   {
    "duration": 45,
    "start_time": "2022-11-27T03:12:10.863Z"
   },
   {
    "duration": 8,
    "start_time": "2022-11-27T03:12:10.909Z"
   },
   {
    "duration": 8,
    "start_time": "2022-11-27T03:12:10.919Z"
   },
   {
    "duration": 10,
    "start_time": "2022-11-27T03:12:10.928Z"
   },
   {
    "duration": 14,
    "start_time": "2022-11-27T03:12:10.939Z"
   },
   {
    "duration": 214,
    "start_time": "2022-11-27T03:12:10.954Z"
   },
   {
    "duration": 160,
    "start_time": "2022-11-27T03:12:11.169Z"
   },
   {
    "duration": 327,
    "start_time": "2022-11-27T03:12:11.330Z"
   },
   {
    "duration": 588,
    "start_time": "2022-11-27T03:12:11.659Z"
   },
   {
    "duration": 297,
    "start_time": "2022-11-27T03:12:12.249Z"
   },
   {
    "duration": 3,
    "start_time": "2022-11-27T03:12:12.548Z"
   },
   {
    "duration": 12,
    "start_time": "2022-11-27T03:12:12.553Z"
   },
   {
    "duration": 55,
    "start_time": "2022-11-27T03:12:12.566Z"
   },
   {
    "duration": 5,
    "start_time": "2022-11-27T03:12:12.623Z"
   },
   {
    "duration": 10,
    "start_time": "2022-11-27T03:12:12.630Z"
   },
   {
    "duration": 12,
    "start_time": "2022-11-27T03:12:12.642Z"
   },
   {
    "duration": 4810,
    "start_time": "2022-11-27T03:12:12.723Z"
   },
   {
    "duration": 2039,
    "start_time": "2022-11-27T03:12:17.535Z"
   },
   {
    "duration": 7,
    "start_time": "2022-11-27T03:12:19.575Z"
   },
   {
    "duration": 15,
    "start_time": "2022-11-27T03:12:19.583Z"
   }
  ],
  "kernelspec": {
   "display_name": "Python 3",
   "language": "python",
   "name": "python3"
  },
  "language_info": {
   "codemirror_mode": {
    "name": "ipython",
    "version": 3
   },
   "file_extension": ".py",
   "mimetype": "text/x-python",
   "name": "python",
   "nbconvert_exporter": "python",
   "pygments_lexer": "ipython3",
   "version": "3.8.5"
  },
  "toc": {
   "base_numbering": 1,
   "nav_menu": {},
   "number_sections": true,
   "sideBar": true,
   "skip_h1_title": true,
   "title_cell": "Содержание",
   "title_sidebar": "Contents",
   "toc_cell": true,
   "toc_position": {
    "height": "calc(100% - 180px)",
    "left": "10px",
    "top": "150px",
    "width": "165px"
   },
   "toc_section_display": true,
   "toc_window_display": true
  }
 },
 "nbformat": 4,
 "nbformat_minor": 2
}
